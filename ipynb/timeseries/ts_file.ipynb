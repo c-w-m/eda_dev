{
 "cells": [
  {
   "cell_type": "markdown",
   "id": "b09aca1c-0cac-4e92-898d-34c80787be73",
   "metadata": {},
   "source": [
    "# [All you Should Know About Datetime Variables in Python and Pandas](https://www.analyticsvidhya.com/blog/2020/05/datetime-variables-python-pandas/)\n",
    "\n",
    "\n",
    "There are some Pandas DataFrame manipulations that I keep looking up how to do. I am recording these here to save myself time. These may help you too.\n",
    "\n",
    "## Time series data\n",
    "Convert column to datetime with given format"
   ]
  },
  {
   "cell_type": "code",
   "execution_count": 8,
   "id": "1f87245e-69fb-4f38-aa9c-43ab7576ea87",
   "metadata": {},
   "outputs": [
    {
     "data": {
      "text/plain": [
       "DatetimeIndex(['2021-10-21 09:33:30.612346', '2021-10-21 09:34:30.612346',\n",
       "               '2021-10-21 09:35:30.612346', '2021-10-21 09:36:30.612346',\n",
       "               '2021-10-21 09:37:30.612346'],\n",
       "              dtype='datetime64[ns]', freq='T')"
      ]
     },
     "execution_count": 8,
     "metadata": {},
     "output_type": "execute_result"
    }
   ],
   "source": [
    "import pandas as pd\n",
    "from datetime import datetime\n",
    "start_date = datetime.today()\n",
    "dates_start = pd.date_range(start=start_date, periods=10, freq='T')\n",
    "dates_start[:5]"
   ]
  },
  {
   "cell_type": "code",
   "execution_count": null,
   "id": "87a5ab19-3a18-4c05-9456-686c5f708388",
   "metadata": {},
   "outputs": [],
   "source": []
  }
 ],
 "metadata": {
  "kernelspec": {
   "display_name": "ibaio_dev38",
   "language": "python",
   "name": "ibaio_dev38"
  },
  "language_info": {
   "codemirror_mode": {
    "name": "ipython",
    "version": 3
   },
   "file_extension": ".py",
   "mimetype": "text/x-python",
   "name": "python",
   "nbconvert_exporter": "python",
   "pygments_lexer": "ipython3",
   "version": "3.8.9"
  }
 },
 "nbformat": 4,
 "nbformat_minor": 5
}
