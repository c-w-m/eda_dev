{
 "cells": [
  {
   "cell_type": "markdown",
   "id": "7614ff51-00c0-4f77-bb6d-ef03dee7550f",
   "metadata": {},
   "source": [
    "# Reshaping and pivot tables\n",
    "## Reshaping by pivoting DataFrame objects\n",
    "\n",
    "![reshaping_pivot](img/reshaping_pivot.png)\n",
    "\n",
    "Data is often stored in so-called “stacked” or “record” format:"
   ]
  },
  {
   "cell_type": "code",
   "execution_count": null,
   "id": "fe24d23c-f481-45ec-b348-5721308c0fb2",
   "metadata": {},
   "outputs": [],
   "source": [
    "df"
   ]
  },
  {
   "cell_type": "markdown",
   "id": "79d5e25f-393b-44f6-b771-b6aaee181ce1",
   "metadata": {},
   "source": [
    "For the curious here is how the above DataFrame was created:"
   ]
  },
  {
   "cell_type": "code",
   "execution_count": null,
   "id": "dc44c31d-b38e-4f3e-989d-e167b4429d6c",
   "metadata": {},
   "outputs": [],
   "source": [
    "import pandas._testing as tm\n",
    "\n",
    "\n",
    "def unpivot(frame):\n",
    "    N, K = frame.shape\n",
    "    data = {\n",
    "        \"value\": frame.to_numpy().ravel(\"F\"),\n",
    "        \"variable\": np.asarray(frame.columns).repeat(N),\n",
    "        \"date\": np.tile(np.asarray(frame.index), K),\n",
    "    }\n",
    "    return pd.DataFrame(data, columns=[\"date\", \"variable\", \"value\"])\n",
    "\n",
    "\n",
    "df = unpivot(tm.makeTimeDataFrame(3))"
   ]
  },
  {
   "cell_type": "markdown",
   "id": "8f8ed61d-2af6-48b8-b104-8a470d88c10c",
   "metadata": {},
   "source": [
    "To select out everything for variable A we could do:"
   ]
  },
  {
   "cell_type": "code",
   "execution_count": null,
   "id": "a44c5015-05be-490f-98a2-946a76a1be5c",
   "metadata": {},
   "outputs": [],
   "source": [
    "df[df[\"variable\"] == \"A\"]"
   ]
  },
  {
   "cell_type": "markdown",
   "id": "f615c063-4993-4ebd-9284-6664701b4ce8",
   "metadata": {},
   "source": [
    "But suppose we wish to do time series operations with the variables. A better representation would be where the columns are the unique variables and an index of dates identifies individual observations. To reshape the data into this form, we use the DataFrame.pivot() method (also implemented as a top level function pivot()):"
   ]
  },
  {
   "cell_type": "code",
   "execution_count": null,
   "id": "ad2f461f-0db6-4c5e-8339-e2f1e16a40b5",
   "metadata": {},
   "outputs": [],
   "source": [
    "df.pivot(index=\"date\", columns=\"variable\", values=\"value\")"
   ]
  },
  {
   "cell_type": "markdown",
   "id": "010d5b93-5fd3-42ec-bcdd-19927cab55e1",
   "metadata": {},
   "source": [
    "If the values argument is omitted, and the input DataFrame has more than one column of values which are not used as column or index inputs to pivot, then the resulting “pivoted” DataFrame will have hierarchical columns whose topmost level indicates the respective value column:"
   ]
  },
  {
   "cell_type": "code",
   "execution_count": null,
   "id": "ab707a26-a1da-4e9c-8075-5030f0864643",
   "metadata": {},
   "outputs": [],
   "source": [
    "df[\"value2\"] = df[\"value\"] * 2\n",
    "\n",
    "In [5]: pivoted = df.pivot(index=\"date\", columns=\"variable\")\n",
    "\n",
    "In [6]: pivoted"
   ]
  },
  {
   "cell_type": "markdown",
   "id": "01a78e4e-f0da-4527-af7f-fcb3cba359a5",
   "metadata": {},
   "source": [
    "You can then select subsets from the pivoted DataFrame:"
   ]
  },
  {
   "cell_type": "code",
   "execution_count": null,
   "id": "95dd44b7-8b8a-42d4-a574-65dd7adc32ea",
   "metadata": {},
   "outputs": [],
   "source": [
    "pivoted[\"value2\"]"
   ]
  },
  {
   "cell_type": "markdown",
   "id": "30fc74de-cc8c-4445-bbdf-801f4dbf9c15",
   "metadata": {},
   "source": [
    "Note that this returns a view on the underlying data in the case where the data are homogeneously-typed.\n",
    "\n",
    ">Note\n",
    ">\n",
    ">pivot() will error with a ValueError: Index contains duplicate entries, cannot reshape if the index/column pair is not unique. In this case, consider using pivot_table() which is a generalization of pivot that can handle duplicate values for one index/column pair.\n",
    "\n",
    "## Reshaping by stacking and unstacking\n",
    "\n",
    "![reshaping_stack](img/reshaping_stack.png)\n",
    "\n",
    "Closely related to the pivot() method are the related stack() and unstack() methods available on Series and DataFrame. These methods are designed to work together with MultiIndex objects (see the section on hierarchical indexing). Here are essentially what these methods do:\n",
    "\n",
    "stack: “pivot” a level of the (possibly hierarchical) column labels, returning a DataFrame with an index with a new inner-most level of row labels.\n",
    "\n",
    "unstack: (inverse operation of stack) “pivot” a level of the (possibly hierarchical) row index to the column axis, producing a reshaped DataFrame with a new inner-most level of column labels.\n",
    "\n",
    "![reshaping_unstack](img/reshaping_unstack.png)\n",
    "\n",
    "The clearest way to explain is by example. Let’s take a prior example data set from the hierarchical indexing section:"
   ]
  },
  {
   "cell_type": "code",
   "execution_count": null,
   "id": "11381d75-ee1b-4f1f-a7d8-509a3eb85187",
   "metadata": {},
   "outputs": [],
   "source": [
    "tuples = list(\n",
    "   ...:     zip(\n",
    "   ...:         *[\n",
    "   ...:             [\"bar\", \"bar\", \"baz\", \"baz\", \"foo\", \"foo\", \"qux\", \"qux\"],\n",
    "   ...:             [\"one\", \"two\", \"one\", \"two\", \"one\", \"two\", \"one\", \"two\"],\n",
    "   ...:         ]\n",
    "   ...:     )\n",
    "   ...: )\n",
    "   ...: \n",
    "\n",
    "In [9]: index = pd.MultiIndex.from_tuples(tuples, names=[\"first\", \"second\"])\n",
    "\n",
    "In [10]: df = pd.DataFrame(np.random.randn(8, 2), index=index, columns=[\"A\", \"B\"])\n",
    "\n",
    "In [11]: df2 = df[:4]\n",
    "\n",
    "In [12]: df2"
   ]
  },
  {
   "cell_type": "markdown",
   "id": "5bf1ca76-455c-4197-8e4d-8fe07aa67d97",
   "metadata": {},
   "source": [
    "The stack function “compresses” a level in the DataFrame’s columns to produce either:\n",
    "\n",
    "* A Series, in the case of a simple column Index.\n",
    "\n",
    "* A DataFrame, in the case of a MultiIndex in the columns.\n",
    "\n",
    "If the columns have a MultiIndex, you can choose which level to stack. The stacked level becomes the new lowest level in a MultiIndex on the columns:"
   ]
  },
  {
   "cell_type": "code",
   "execution_count": null,
   "id": "504a5772-29fa-47c8-b3cc-5c0bf1cf89df",
   "metadata": {},
   "outputs": [],
   "source": [
    "stacked = df2.stack()\n",
    "\n",
    "In [14]: stacked"
   ]
  },
  {
   "cell_type": "markdown",
   "id": "07f6a7e9-656f-462d-8bbc-7345274ebc67",
   "metadata": {},
   "source": [
    "With a “stacked” DataFrame or Series (having a MultiIndex as the index), the inverse operation of stack is unstack, which by default unstacks the last level:"
   ]
  },
  {
   "cell_type": "code",
   "execution_count": null,
   "id": "2a0e5249-a6f6-499f-83ca-d59e276678f8",
   "metadata": {},
   "outputs": [],
   "source": [
    "stacked.unstack()"
   ]
  },
  {
   "cell_type": "code",
   "execution_count": null,
   "id": "cb2bf337-f7a4-4c35-a748-4a9d40b9e6c3",
   "metadata": {},
   "outputs": [],
   "source": [
    "stacked.unstack(1)"
   ]
  },
  {
   "cell_type": "code",
   "execution_count": null,
   "id": "f9374f27-93dd-4f0c-96f9-29a50287700b",
   "metadata": {},
   "outputs": [],
   "source": [
    "stacked.unstack(0)"
   ]
  },
  {
   "cell_type": "code",
   "execution_count": null,
   "id": "54b2a9f6-a9b8-4d62-8bcf-ffcf38f79e67",
   "metadata": {},
   "outputs": [],
   "source": [
    "![reshaping_unstack_1](img/reshaping_unstack_1.png)\n",
    "\n",
    "If the indexes have names, you can use the level names instead of specifying the level numbers:"
   ]
  },
  {
   "cell_type": "code",
   "execution_count": null,
   "id": "a6dbe028-8ae9-4705-bcf9-84fb99fee6ec",
   "metadata": {},
   "outputs": [],
   "source": [
    "stacked.unstack(\"second\")"
   ]
  },
  {
   "cell_type": "markdown",
   "id": "02876f88-6cf4-4940-9c17-24fe83cee285",
   "metadata": {},
   "source": [
    "![reshaping_unstack_0](img/reshaping_unstack_0.png)\n",
    "\n",
    "Notice that the stack and unstack methods implicitly sort the index levels involved. Hence a call to stack and then unstack, or vice versa, will result in a sorted copy of the original DataFrame or Series:"
   ]
  },
  {
   "cell_type": "code",
   "execution_count": null,
   "id": "93e79abd-85c4-422f-80cb-95e627835601",
   "metadata": {},
   "outputs": [],
   "source": [
    "index = pd.MultiIndex.from_product([[2, 1], [\"a\", \"b\"]])\n",
    "\n",
    "In [20]: df = pd.DataFrame(np.random.randn(4), index=index, columns=[\"A\"])\n",
    "\n",
    "In [21]: df"
   ]
  },
  {
   "cell_type": "code",
   "execution_count": null,
   "id": "f4917953-5b8b-475f-b64e-2eedfa231ccf",
   "metadata": {},
   "outputs": [],
   "source": [
    "all(df.unstack().stack() == df.sort_index())"
   ]
  },
  {
   "cell_type": "markdown",
   "id": "ad0f8f89-f060-4d95-b91d-8583b15e5221",
   "metadata": {},
   "source": [
    "The above code will raise a TypeError if the call to sort_index is removed.\n",
    "\n",
    "### Multiple levels\n",
    "You may also stack or unstack more than one level at a time by passing a list of levels, in which case the end result is as if each level in the list were processed individually."
   ]
  },
  {
   "cell_type": "code",
   "execution_count": null,
   "id": "b081c6da-f556-413d-9ff1-449487c6c766",
   "metadata": {},
   "outputs": [],
   "source": [
    "columns = pd.MultiIndex.from_tuples(\n",
    "   ....:     [\n",
    "   ....:         (\"A\", \"cat\", \"long\"),\n",
    "   ....:         (\"B\", \"cat\", \"long\"),\n",
    "   ....:         (\"A\", \"dog\", \"short\"),\n",
    "   ....:         (\"B\", \"dog\", \"short\"),\n",
    "   ....:     ],\n",
    "   ....:     names=[\"exp\", \"animal\", \"hair_length\"],\n",
    "   ....: )\n",
    "   ....: \n",
    "\n",
    "In [24]: df = pd.DataFrame(np.random.randn(4, 4), columns=columns)\n",
    "\n",
    "In [25]: df"
   ]
  },
  {
   "cell_type": "code",
   "execution_count": null,
   "id": "0ed30931-00df-4d24-8776-4380bb756449",
   "metadata": {},
   "outputs": [],
   "source": [
    "df.stack(level=[\"animal\", \"hair_length\"])"
   ]
  },
  {
   "cell_type": "markdown",
   "id": "78be8950-70ef-465e-a7d4-455ca2571325",
   "metadata": {},
   "source": [
    "The list of levels can contain either level names or level numbers (but not a mixture of the two)."
   ]
  },
  {
   "cell_type": "code",
   "execution_count": null,
   "id": "1c06c921-d64a-4c1d-9ea5-f350697064a9",
   "metadata": {},
   "outputs": [],
   "source": [
    "# df.stack(level=['animal', 'hair_length'])\n",
    "# from above is equivalent to:\n",
    "In [27]: df.stack(level=[1, 2])"
   ]
  },
  {
   "cell_type": "markdown",
   "id": "15f06e26-b6c6-4131-9dde-bab69fbc629a",
   "metadata": {},
   "source": [
    "### Missing data\n",
    "These functions are intelligent about handling missing data and do not expect each subgroup within the hierarchical index to have the same set of labels. They also can handle the index being unsorted (but you can make it sorted by calling sort_index, of course). Here is a more complex example:\n",
    "\n"
   ]
  },
  {
   "cell_type": "code",
   "execution_count": null,
   "id": "ce3b4ae1-5832-4e9d-8576-6671327ed6ce",
   "metadata": {},
   "outputs": [],
   "source": [
    "columns = pd.MultiIndex.from_tuples(\n",
    "   ....:     [\n",
    "   ....:         (\"A\", \"cat\"),\n",
    "   ....:         (\"B\", \"dog\"),\n",
    "   ....:         (\"B\", \"cat\"),\n",
    "   ....:         (\"A\", \"dog\"),\n",
    "   ....:     ],\n",
    "   ....:     names=[\"exp\", \"animal\"],\n",
    "   ....: )\n",
    "   ....: \n",
    "\n",
    "In [29]: index = pd.MultiIndex.from_product(\n",
    "   ....:     [(\"bar\", \"baz\", \"foo\", \"qux\"), (\"one\", \"two\")], names=[\"first\", \"second\"]\n",
    "   ....: )\n",
    "   ....: \n",
    "\n",
    "In [30]: df = pd.DataFrame(np.random.randn(8, 4), index=index, columns=columns)\n",
    "\n",
    "In [31]: df2 = df.iloc[[0, 1, 2, 4, 5, 7]]\n",
    "\n",
    "In [32]: df2"
   ]
  },
  {
   "cell_type": "markdown",
   "id": "f2ba10f5-c754-4e0a-9b72-e2edcb61fb5a",
   "metadata": {},
   "source": [
    "As mentioned above, stack can be called with a level argument to select which level in the columns to stack:"
   ]
  },
  {
   "cell_type": "code",
   "execution_count": null,
   "id": "7eeda00c-e37c-4415-b255-4a3b9fee2177",
   "metadata": {},
   "outputs": [],
   "source": [
    "df2.stack(\"exp\")"
   ]
  },
  {
   "cell_type": "code",
   "execution_count": null,
   "id": "5326d521-3d00-4065-9953-3474f9ca3666",
   "metadata": {},
   "outputs": [],
   "source": [
    "df2.stack(\"animal\")"
   ]
  },
  {
   "cell_type": "markdown",
   "id": "b4d833cd-b5a6-464a-8038-8d0a1ccdbae1",
   "metadata": {},
   "source": [
    "Unstacking can result in missing values if subgroups do not have the same set of labels. By default, missing values will be replaced with the default fill value for that data type, NaN for float, NaT for datetimelike, etc. For integer types, by default data will converted to float and missing values will be set to NaN."
   ]
  },
  {
   "cell_type": "code",
   "execution_count": null,
   "id": "9010dd48-5450-4d4b-a00a-b7866b7361a0",
   "metadata": {},
   "outputs": [],
   "source": [
    "df3 = df.iloc[[0, 1, 4, 7], [1, 2]]\n",
    "\n",
    "In [36]: df3"
   ]
  },
  {
   "cell_type": "code",
   "execution_count": null,
   "id": "b9257256-0f28-49f0-b2da-134d0698cc97",
   "metadata": {},
   "outputs": [],
   "source": [
    "df3.unstack()"
   ]
  },
  {
   "cell_type": "markdown",
   "id": "523f6a4f-77bb-4304-a3ac-a3ede89c1cb0",
   "metadata": {},
   "source": [
    "Alternatively, unstack takes an optional fill_value argument, for specifying the value of missing data."
   ]
  },
  {
   "cell_type": "code",
   "execution_count": null,
   "id": "049f76cf-5fac-45e6-9197-831dcf48b104",
   "metadata": {},
   "outputs": [],
   "source": [
    "df3.unstack(fill_value=-1e9)"
   ]
  },
  {
   "cell_type": "markdown",
   "id": "de01d198-e18b-4b05-9bc9-2e6b71ea5ef3",
   "metadata": {},
   "source": [
    "### With a MultiIndex\n",
    "Unstacking when the columns are a MultiIndex is also careful about doing the right thing:"
   ]
  },
  {
   "cell_type": "code",
   "execution_count": null,
   "id": "b904a504-df71-459d-8ea1-239a6fe9e36d",
   "metadata": {},
   "outputs": [],
   "source": [
    "df[:3].unstack(0)"
   ]
  },
  {
   "cell_type": "code",
   "execution_count": null,
   "id": "5036c173-7d71-4147-b617-29571b5b2862",
   "metadata": {},
   "outputs": [],
   "source": [
    "df2.unstack(1)"
   ]
  },
  {
   "cell_type": "markdown",
   "id": "445a8655-3edb-4013-a4a7-e0825769c868",
   "metadata": {},
   "source": [
    "## Reshaping by melt\n",
    "\n",
    "![reshaping_melt](img/reshaping_melt.png\n",
    "\n",
    "The top-level melt() function and the corresponding DataFrame.melt() are useful to massage a DataFrame into a format where one or more columns are identifier variables, while all other columns, considered measured variables, are “unpivoted” to the row axis, leaving just two non-identifier columns, “variable” and “value”. The names of those columns can be customized by supplying the var_name and value_name parameters.\n",
    "\n",
    "For instance,"
   ]
  },
  {
   "cell_type": "code",
   "execution_count": null,
   "id": "ce644317-e57c-44de-b463-9249aa988beb",
   "metadata": {},
   "outputs": [],
   "source": [
    "cheese = pd.DataFrame(\n",
    "   ....:     {\n",
    "   ....:         \"first\": [\"John\", \"Mary\"],\n",
    "   ....:         \"last\": [\"Doe\", \"Bo\"],\n",
    "   ....:         \"height\": [5.5, 6.0],\n",
    "   ....:         \"weight\": [130, 150],\n",
    "   ....:     }\n",
    "   ....: )\n",
    "   ....: \n",
    "\n",
    "In [42]: cheese"
   ]
  },
  {
   "cell_type": "code",
   "execution_count": null,
   "id": "867d8f90-4d5d-420f-9187-36b3637e3a33",
   "metadata": {},
   "outputs": [],
   "source": [
    "cheese.melt(id_vars=[\"first\", \"last\"])"
   ]
  },
  {
   "cell_type": "code",
   "execution_count": null,
   "id": "9a271131-f20b-46ff-8158-3851102f2bfd",
   "metadata": {},
   "outputs": [],
   "source": [
    "cheese.melt(id_vars=[\"first\", \"last\"], var_name=\"quantity\")"
   ]
  },
  {
   "cell_type": "markdown",
   "id": "0f261718-8a54-40be-a8d1-8bf615231f2b",
   "metadata": {},
   "source": [
    "When transforming a DataFrame using melt(), the index will be ignored. The original index values can be kept around by setting the ignore_index parameter to False (default is True). This will however duplicate them.\n",
    "\n",
    "New in version 1.1.0."
   ]
  },
  {
   "cell_type": "code",
   "execution_count": null,
   "id": "53ac6f09-095a-424c-9cdf-a711159f15b5",
   "metadata": {},
   "outputs": [],
   "source": [
    "index = pd.MultiIndex.from_tuples([(\"person\", \"A\"), (\"person\", \"B\")])\n",
    "\n",
    "In [46]: cheese = pd.DataFrame(\n",
    "   ....:     {\n",
    "   ....:         \"first\": [\"John\", \"Mary\"],\n",
    "   ....:         \"last\": [\"Doe\", \"Bo\"],\n",
    "   ....:         \"height\": [5.5, 6.0],\n",
    "   ....:         \"weight\": [130, 150],\n",
    "   ....:     },\n",
    "   ....:     index=index,\n",
    "   ....: )\n",
    "   ....: \n",
    "\n",
    "In [47]: cheese"
   ]
  },
  {
   "cell_type": "code",
   "execution_count": null,
   "id": "a51ce542-b8b9-4cfe-85e3-f41376fbac56",
   "metadata": {},
   "outputs": [],
   "source": [
    "cheese.melt(id_vars=[\"first\", \"last\"])"
   ]
  },
  {
   "cell_type": "code",
   "execution_count": null,
   "id": "0b5a881a-e8c5-40ba-b060-750f78941c9d",
   "metadata": {},
   "outputs": [],
   "source": [
    "cheese.melt(id_vars=[\"first\", \"last\"], ignore_index=False)"
   ]
  },
  {
   "cell_type": "markdown",
   "id": "8dc97e27-0929-4617-a5f2-eaf13dc1e519",
   "metadata": {},
   "source": [
    "Another way to transform is to use the wide_to_long() panel data convenience function. It is less flexible than melt(), but more user-friendly."
   ]
  },
  {
   "cell_type": "code",
   "execution_count": null,
   "id": "4d25e78b-9daf-4ae4-94ee-fefc19beeb08",
   "metadata": {},
   "outputs": [],
   "source": [
    "dft = pd.DataFrame(\n",
    "   ....:     {\n",
    "   ....:         \"A1970\": {0: \"a\", 1: \"b\", 2: \"c\"},\n",
    "   ....:         \"A1980\": {0: \"d\", 1: \"e\", 2: \"f\"},\n",
    "   ....:         \"B1970\": {0: 2.5, 1: 1.2, 2: 0.7},\n",
    "   ....:         \"B1980\": {0: 3.2, 1: 1.3, 2: 0.1},\n",
    "   ....:         \"X\": dict(zip(range(3), np.random.randn(3))),\n",
    "   ....:     }\n",
    "   ....: )\n",
    "   ....: \n",
    "\n",
    "In [51]: dft[\"id\"] = dft.index\n",
    "\n",
    "In [52]: dft"
   ]
  },
  {
   "cell_type": "code",
   "execution_count": null,
   "id": "45c669e0-c91a-47ee-a3d1-4d7a856597a8",
   "metadata": {},
   "outputs": [],
   "source": [
    "pd.wide_to_long(dft, [\"A\", \"B\"], i=\"id\", j=\"year\")"
   ]
  },
  {
   "cell_type": "markdown",
   "id": "e31a02f3-2643-4ae4-8002-8ff4c6672263",
   "metadata": {},
   "source": [
    "## Combining with stats and GroupBy\n",
    "It should be no shock that combining pivot / stack / unstack with GroupBy and the basic Series and DataFrame statistical functions can produce some very expressive and fast data manipulations."
   ]
  },
  {
   "cell_type": "code",
   "execution_count": null,
   "id": "ed071c1c-4329-4de3-822b-d01b9c8c6041",
   "metadata": {},
   "outputs": [],
   "source": [
    "df"
   ]
  },
  {
   "cell_type": "code",
   "execution_count": null,
   "id": "3048baaf-fe3f-4dde-a0e0-98052071201b",
   "metadata": {},
   "outputs": [],
   "source": [
    "df.stack().mean(1).unstack()"
   ]
  },
  {
   "cell_type": "code",
   "execution_count": null,
   "id": "839bd8cc-a2de-4a78-8671-8ae1dc65b35e",
   "metadata": {},
   "outputs": [],
   "source": [
    "# same result, another way\n",
    "In [56]: df.groupby(level=1, axis=1).mean()"
   ]
  },
  {
   "cell_type": "code",
   "execution_count": null,
   "id": "75fefa44-83c9-414e-8682-6e1b833157af",
   "metadata": {},
   "outputs": [],
   "source": [
    "df.stack().groupby(level=1).mean()"
   ]
  },
  {
   "cell_type": "code",
   "execution_count": null,
   "id": "7419cd26-0f8b-4239-9beb-caa8544b4893",
   "metadata": {},
   "outputs": [],
   "source": [
    "df.mean().unstack(0)"
   ]
  },
  {
   "cell_type": "markdown",
   "id": "9bd0c328-86fa-4a50-b73d-a2f4bc2dee43",
   "metadata": {},
   "source": [
    "## Pivot tables\n",
    "While pivot() provides general purpose pivoting with various data types (strings, numerics, etc.), pandas also provides pivot_table() for pivoting with aggregation of numeric data.\n",
    "\n",
    "The function pivot_table() can be used to create spreadsheet-style pivot tables. See the cookbook for some advanced strategies.\n",
    "\n",
    "It takes a number of arguments:\n",
    "\n",
    "* data: a DataFrame object.\n",
    "\n",
    "* values: a column or a list of columns to aggregate.\n",
    "\n",
    "* index: a column, Grouper, array which has the same length as data, or list of them. Keys to group by on the pivot table index. If an array is passed, it is being used as the same manner as column values.\n",
    "\n",
    "* columns: a column, Grouper, array which has the same length as data, or list of them. Keys to group by on the pivot table column. If an array is passed, it is being used as the same manner as column values.\n",
    "\n",
    "* aggfunc: function to use for aggregation, defaulting to numpy.mean.\n",
    "\n",
    "Consider a data set like this:\n",
    "\n"
   ]
  },
  {
   "cell_type": "code",
   "execution_count": null,
   "id": "3047ed48-b7d7-460c-b1af-4c025c49aded",
   "metadata": {},
   "outputs": [],
   "source": [
    "import datetime\n",
    "\n",
    "In [60]: df = pd.DataFrame(\n",
    "   ....:     {\n",
    "   ....:         \"A\": [\"one\", \"one\", \"two\", \"three\"] * 6,\n",
    "   ....:         \"B\": [\"A\", \"B\", \"C\"] * 8,\n",
    "   ....:         \"C\": [\"foo\", \"foo\", \"foo\", \"bar\", \"bar\", \"bar\"] * 4,\n",
    "   ....:         \"D\": np.random.randn(24),\n",
    "   ....:         \"E\": np.random.randn(24),\n",
    "   ....:         \"F\": [datetime.datetime(2013, i, 1) for i in range(1, 13)]\n",
    "   ....:         + [datetime.datetime(2013, i, 15) for i in range(1, 13)],\n",
    "   ....:     }\n",
    "   ....: )\n",
    "   ....: \n",
    "\n",
    "In [61]: df"
   ]
  },
  {
   "cell_type": "markdown",
   "id": "7377df88-438d-4c62-af24-b488dbc70c51",
   "metadata": {},
   "source": [
    "We can produce pivot tables from this data very easily:"
   ]
  },
  {
   "cell_type": "code",
   "execution_count": null,
   "id": "703d48ab-1ce5-4761-ae53-764c7011429a",
   "metadata": {},
   "outputs": [],
   "source": [
    " pd.pivot_table(df, values=\"D\", index=[\"A\", \"B\"], columns=[\"C\"])"
   ]
  },
  {
   "cell_type": "code",
   "execution_count": null,
   "id": "423a0c25-0f33-4a2f-b79b-42af65eb3545",
   "metadata": {},
   "outputs": [],
   "source": [
    "pd.pivot_table(df, values=\"D\", index=[\"B\"], columns=[\"A\", \"C\"], aggfunc=np.sum)"
   ]
  },
  {
   "cell_type": "code",
   "execution_count": null,
   "id": "389b20fb-1291-4d0e-a404-4398436b541a",
   "metadata": {},
   "outputs": [],
   "source": [
    "pd.pivot_table(\n",
    "   ....:     df, values=[\"D\", \"E\"],\n",
    "   ....:     index=[\"B\"],\n",
    "   ....:     columns=[\"A\", \"C\"],\n",
    "   ....:     aggfunc=np.sum,\n",
    "   ....: )"
   ]
  },
  {
   "cell_type": "markdown",
   "id": "4f0ebd8f-0faa-49dc-983a-45596fd7772e",
   "metadata": {},
   "source": [
    "The result object is a DataFrame having potentially hierarchical indexes on the rows and columns. If the values column name is not given, the pivot table will include all of the data that can be aggregated in an additional level of hierarchy in the columns:"
   ]
  },
  {
   "cell_type": "code",
   "execution_count": null,
   "id": "c3e6fe60-aa48-4c43-9824-503af393d874",
   "metadata": {},
   "outputs": [],
   "source": [
    "pd.pivot_table(df, index=[\"A\", \"B\"], columns=[\"C\"])"
   ]
  },
  {
   "cell_type": "markdown",
   "id": "a4cec495-dfb8-4da1-92ea-e2e417c3c2ba",
   "metadata": {},
   "source": [
    "Also, you can use Grouper for index and columns keywords. For detail of Grouper, see Grouping with a Grouper specification.\n",
    "\n"
   ]
  },
  {
   "cell_type": "code",
   "execution_count": null,
   "id": "d8ebc0dc-667a-42a0-bc4e-d7cf4494909d",
   "metadata": {},
   "outputs": [],
   "source": [
    "pd.pivot_table(df, values=\"D\", index=pd.Grouper(freq=\"M\", key=\"F\"), columns=\"C\")"
   ]
  },
  {
   "cell_type": "markdown",
   "id": "53ba531f-303f-4b8f-915b-0499fc314313",
   "metadata": {},
   "source": [
    "You can render a nice output of the table omitting the missing values by calling to_string if you wish:"
   ]
  },
  {
   "cell_type": "code",
   "execution_count": null,
   "id": "7d7fbef5-1f8c-4902-a4ea-33a09a2e6872",
   "metadata": {},
   "outputs": [],
   "source": [
    "table = pd.pivot_table(df, index=[\"A\", \"B\"], columns=[\"C\"])\n",
    "\n",
    "In [68]: print(table.to_string(na_rep=\"\"))"
   ]
  },
  {
   "cell_type": "markdown",
   "id": "c3665063-1a61-41c1-b475-85a6d1e79f9a",
   "metadata": {},
   "source": [
    "Note that pivot_table is also available as an instance method on DataFrame,\n",
    "i.e. DataFrame.pivot_table().\n",
    "\n",
    "### dding margins\n",
    "If you pass margins=True to pivot_table, special All columns and rows will be added with partial group aggregates across the categories on the rows and columns:"
   ]
  },
  {
   "cell_type": "code",
   "execution_count": null,
   "id": "9bf7a63a-ec37-448b-8e8d-13bfee55e7db",
   "metadata": {},
   "outputs": [],
   "source": [
    "df.pivot_table(index=[\"A\", \"B\"], columns=\"C\", margins=True, aggfunc=np.std)"
   ]
  },
  {
   "cell_type": "markdown",
   "id": "b2c25bb8-db98-46dd-bdef-7c3819d21518",
   "metadata": {},
   "source": [
    "## Cross tabulations\n",
    "Use crosstab() to compute a cross-tabulation of two (or more) factors. By default crosstab computes a frequency table of the factors unless an array of values and an aggregation function are passed.\n",
    "\n",
    "It takes a number of arguments\n",
    "\n",
    "* index: array-like, values to group by in the rows.\n",
    "\n",
    "* columns: array-like, values to group by in the columns.\n",
    "\n",
    "* values: array-like, optional, array of values to aggregate according to the factors.\n",
    "\n",
    "* aggfunc: function, optional, If no values array is passed, computes a frequency table.\n",
    "\n",
    "* rownames: sequence, default None, must match number of row arrays passed.\n",
    "\n",
    "* colnames: sequence, default None, if passed, must match number of column arrays passed.\n",
    "\n",
    "* margins: boolean, default False, Add row/column margins (subtotals)\n",
    "\n",
    "* normalize: boolean, {‘all’, ‘index’, ‘columns’}, or {0,1}, default False. Normalize by dividing all values by the sum of values.\n",
    "\n",
    "Any Series passed will have their name attributes used unless row or column names for the cross-tabulation are specified\n",
    "\n",
    "For example:"
   ]
  },
  {
   "cell_type": "code",
   "execution_count": null,
   "id": "76bd6120-57ed-4eb8-8942-d0afbc5445a5",
   "metadata": {},
   "outputs": [],
   "source": [
    "foo, bar, dull, shiny, one, two = \"foo\", \"bar\", \"dull\", \"shiny\", \"one\", \"two\"\n",
    "\n",
    "In [71]: a = np.array([foo, foo, bar, bar, foo, foo], dtype=object)\n",
    "\n",
    "In [72]: b = np.array([one, one, two, one, two, one], dtype=object)\n",
    "\n",
    "In [73]: c = np.array([dull, dull, shiny, dull, dull, shiny], dtype=object)\n",
    "\n",
    "In [74]: pd.crosstab(a, [b, c], rownames=[\"a\"], colnames=[\"b\", \"c\"])"
   ]
  },
  {
   "cell_type": "markdown",
   "id": "b007149d-bf88-4984-8f09-3544d9eaa4e9",
   "metadata": {},
   "source": [
    "If crosstab receives only two Series, it will provide a frequency table."
   ]
  },
  {
   "cell_type": "code",
   "execution_count": null,
   "id": "4fc1fbf4-58d4-45b1-8591-9ac3204d6e86",
   "metadata": {},
   "outputs": [],
   "source": [
    "df = pd.DataFrame(\n",
    "   ....:     {\"A\": [1, 2, 2, 2, 2], \"B\": [3, 3, 4, 4, 4], \"C\": [1, 1, np.nan, 1, 1]}\n",
    "   ....: )\n",
    "   ....: \n",
    "\n",
    "In [76]: df"
   ]
  },
  {
   "cell_type": "code",
   "execution_count": null,
   "id": "2aa11288-92eb-487c-b0af-4b90a6041a83",
   "metadata": {},
   "outputs": [],
   "source": [
    "pd.crosstab(df[\"A\"], df[\"B\"])"
   ]
  },
  {
   "cell_type": "markdown",
   "id": "eb1e892e-adb2-47a0-a17a-b9c6f56fb40f",
   "metadata": {},
   "source": [
    "crosstab can also be implemented to Categorical data."
   ]
  },
  {
   "cell_type": "code",
   "execution_count": null,
   "id": "fcfa98e3-39ed-41f2-899e-475634c1d376",
   "metadata": {},
   "outputs": [],
   "source": [
    "foo = pd.Categorical([\"a\", \"b\"], categories=[\"a\", \"b\", \"c\"])\n",
    "\n",
    "In [79]: bar = pd.Categorical([\"d\", \"e\"], categories=[\"d\", \"e\", \"f\"])\n",
    "\n",
    "In [80]: pd.crosstab(foo, bar)"
   ]
  },
  {
   "cell_type": "markdown",
   "id": "5772c490-6f0b-470e-8b5b-6f1c982659eb",
   "metadata": {},
   "source": [
    "If you want to include all of data categories even if the actual data does not contain any instances of a particular category, you should set dropna=False.\n",
    "\n",
    "For example:"
   ]
  },
  {
   "cell_type": "code",
   "execution_count": null,
   "id": "98675e0c-fcbe-47a0-86c8-00a7bb52f25b",
   "metadata": {},
   "outputs": [],
   "source": [
    "pd.crosstab(foo, bar, dropna=False)"
   ]
  },
  {
   "cell_type": "markdown",
   "id": "05aa8980-934d-4779-ae89-048df49bab9b",
   "metadata": {},
   "source": [
    "### Normalization\n",
    "Frequency tables can also be normalized to show percentages rather than counts using the normalize argument:"
   ]
  },
  {
   "cell_type": "code",
   "execution_count": null,
   "id": "0f368581-2e7f-45c6-a3e2-a99892847bc2",
   "metadata": {},
   "outputs": [],
   "source": [
    "pd.crosstab(df[\"A\"], df[\"B\"], normalize=True)"
   ]
  },
  {
   "cell_type": "markdown",
   "id": "19d17d6a-efb6-4509-83ae-268e92d45f9c",
   "metadata": {},
   "source": [
    "normalize can also normalize values within each row or within each column:"
   ]
  },
  {
   "cell_type": "code",
   "execution_count": null,
   "id": "3ee1e785-159b-4993-8fcc-ecc8d2bcece8",
   "metadata": {},
   "outputs": [],
   "source": [
    "pd.crosstab(df[\"A\"], df[\"B\"], normalize=\"columns\")"
   ]
  },
  {
   "cell_type": "markdown",
   "id": "c260a381-ef0b-45b5-bad0-4727e5759d64",
   "metadata": {},
   "source": [
    "crosstab can also be passed a third Series and an aggregation function (aggfunc) that will be applied to the values of the third Series within each group defined by the first two Series:"
   ]
  },
  {
   "cell_type": "code",
   "execution_count": null,
   "id": "a642d486-d3f5-44af-b8a1-015880990cd6",
   "metadata": {},
   "outputs": [],
   "source": [
    "pd.crosstab(df[\"A\"], df[\"B\"], values=df[\"C\"], aggfunc=np.sum)"
   ]
  },
  {
   "cell_type": "markdown",
   "id": "0b90bd5f-90ad-42a8-b140-4c1fcc9bf7a3",
   "metadata": {},
   "source": [
    "### Adding margins\n",
    "Finally, one can also add margins or normalize this output."
   ]
  },
  {
   "cell_type": "code",
   "execution_count": null,
   "id": "6fe21eaf-1f56-4a60-b97d-92a39fadb09e",
   "metadata": {},
   "outputs": [],
   "source": [
    "pd.crosstab(\n",
    "   ....:     df[\"A\"], df[\"B\"], values=df[\"C\"], aggfunc=np.sum, normalize=True, margins=True\n",
    "   ....: )"
   ]
  },
  {
   "cell_type": "markdown",
   "id": "769e7cb6-2602-43bc-9371-9bf6b28ff3e8",
   "metadata": {},
   "source": [
    "## Tiling\n",
    "The cut() function computes groupings for the values of the input array and is often used to transform continuous variables to discrete or categorical variables:"
   ]
  },
  {
   "cell_type": "code",
   "execution_count": null,
   "id": "7376634f-6680-4489-9a04-595184d4672f",
   "metadata": {},
   "outputs": [],
   "source": [
    "ages = np.array([10, 15, 13, 12, 23, 25, 28, 59, 60])\n",
    "\n",
    "In [87]: pd.cut(ages, bins=3)"
   ]
  },
  {
   "cell_type": "markdown",
   "id": "3d77e98e-9c7d-4d8f-86ae-d9a52912a274",
   "metadata": {},
   "source": [
    "If the bins keyword is an integer, then equal-width bins are formed. Alternatively we can specify custom bin-edges:"
   ]
  },
  {
   "cell_type": "code",
   "execution_count": null,
   "id": "7969389a-167b-498f-99bf-96acc2d68329",
   "metadata": {},
   "outputs": [],
   "source": [
    "c = pd.cut(ages, bins=[0, 18, 35, 70])\n",
    "\n",
    "In [89]: c"
   ]
  },
  {
   "cell_type": "markdown",
   "id": "d3bc8d48-af1b-4ab3-a6f9-ffd041d72f44",
   "metadata": {},
   "source": [
    "If the bins keyword is an IntervalIndex, then these will be used to bin the passed data.:\n",
    "\n",
    "```python\n",
    "pd.cut([25, 20, 50], bins=c.categories)\n",
    "```\n",
    "\n",
    "## Computing indicator / dummy variables\n",
    "To convert a categorical variable into a “dummy” or “indicator” DataFrame, for example a column in a DataFrame (a Series) which has k distinct values, can derive a DataFrame containing k columns of 1s and 0s using get_dummies():"
   ]
  },
  {
   "cell_type": "code",
   "execution_count": null,
   "id": "6230fabf-eca4-45ec-82c2-2cd8864929d4",
   "metadata": {},
   "outputs": [],
   "source": [
    "df = pd.DataFrame({\"key\": list(\"bbacab\"), \"data1\": range(6)})\n",
    "\n",
    "In [91]: pd.get_dummies(df[\"key\"])"
   ]
  },
  {
   "cell_type": "markdown",
   "id": "6cc32399-0ea8-4129-882e-75771f9ecba8",
   "metadata": {},
   "source": [
    "Sometimes it’s useful to prefix the column names, for example when merging the result with the original DataFrame:"
   ]
  },
  {
   "cell_type": "code",
   "execution_count": null,
   "id": "f9fe9869-5790-492c-bd9e-be4c185125f0",
   "metadata": {},
   "outputs": [],
   "source": [
    "dummies = pd.get_dummies(df[\"key\"], prefix=\"key\")\n",
    "\n",
    "In [93]: dummies"
   ]
  },
  {
   "cell_type": "code",
   "execution_count": null,
   "id": "54f3e7af-1937-4ceb-ac83-443888433418",
   "metadata": {},
   "outputs": [],
   "source": [
    "df[[\"data1\"]].join(dummies)"
   ]
  },
  {
   "cell_type": "markdown",
   "id": "254367e6-3a55-4a9d-a2e8-4d0932169f7a",
   "metadata": {},
   "source": [
    "This function is often used along with discretization functions like cut:"
   ]
  },
  {
   "cell_type": "code",
   "execution_count": null,
   "id": "50ccd7d0-d9af-46f7-9034-7d901a104ea9",
   "metadata": {},
   "outputs": [],
   "source": [
    "In [95]: values = np.random.randn(10)\n",
    "\n",
    "In [96]: values"
   ]
  },
  {
   "cell_type": "code",
   "execution_count": null,
   "id": "295b0c7f-1d20-442a-83a2-f533b4484fc2",
   "metadata": {},
   "outputs": [],
   "source": [
    "bins = [0, 0.2, 0.4, 0.6, 0.8, 1]\n",
    "\n",
    "In [98]: pd.get_dummies(pd.cut(values, bins))"
   ]
  },
  {
   "cell_type": "markdown",
   "id": "7e507d4f-49c9-4a8f-a6c0-7fb6c5279bf7",
   "metadata": {},
   "source": [
    "See also Series.str.get_dummies.\n",
    "\n",
    "get_dummies() also accepts a DataFrame. By default all categorical variables (categorical in the statistical sense, those with object or categorical dtype) are encoded as dummy variables."
   ]
  },
  {
   "cell_type": "code",
   "execution_count": null,
   "id": "4f0a0ba4-8100-4c25-ad58-5a509f95c4f2",
   "metadata": {},
   "outputs": [],
   "source": [
    "df = pd.DataFrame({\"A\": [\"a\", \"b\", \"a\"], \"B\": [\"c\", \"c\", \"b\"], \"C\": [1, 2, 3]})\n",
    "\n",
    "In [100]: pd.get_dummies(df)"
   ]
  },
  {
   "cell_type": "markdown",
   "id": "ac6eab28-2fc0-47b5-a49b-6c7de30c37b1",
   "metadata": {},
   "source": [
    "All non-object columns are included untouched in the output. You can control the columns that are encoded with the columns keyword."
   ]
  },
  {
   "cell_type": "code",
   "execution_count": null,
   "id": "65b5abfc-afed-427f-abe8-729b7566875a",
   "metadata": {},
   "outputs": [],
   "source": [
    "pd.get_dummies(df, columns=[\"A\"])"
   ]
  },
  {
   "cell_type": "markdown",
   "id": "a3a5ed3e-15b2-404d-a7a2-7c7afc3d1364",
   "metadata": {},
   "source": [
    "Notice that the B column is still included in the output, it just hasn’t been encoded. You can drop B before calling get_dummies if you don’t want to include it in the output.\n",
    "\n",
    "As with the Series version, you can pass values for the prefix and prefix_sep. By default the column name is used as the prefix, and ‘_’ as the prefix separator. You can specify prefix and prefix_sep in 3 ways:\n",
    "\n",
    "* string: Use the same value for prefix or prefix_sep for each column to be encoded.\n",
    "\n",
    "* list: Must be the same length as the number of columns being encoded.\n",
    "\n",
    "* dict: Mapping column name to prefix."
   ]
  },
  {
   "cell_type": "code",
   "execution_count": null,
   "id": "568cdbf8-cf11-4e67-8904-162dc45a7345",
   "metadata": {},
   "outputs": [],
   "source": [
    "simple = pd.get_dummies(df, prefix=\"new_prefix\")\n",
    "\n",
    "In [103]: simple"
   ]
  },
  {
   "cell_type": "code",
   "execution_count": null,
   "id": "20988c4b-b892-4aa7-8de6-934753cab60a",
   "metadata": {},
   "outputs": [],
   "source": [
    "from_list = pd.get_dummies(df, prefix=[\"from_A\", \"from_B\"])\n",
    "\n",
    "In [105]: from_list"
   ]
  },
  {
   "cell_type": "code",
   "execution_count": null,
   "id": "9088c318-82f8-4f82-ad05-7e0bf30b8a77",
   "metadata": {},
   "outputs": [],
   "source": [
    "from_dict = pd.get_dummies(df, prefix={\"B\": \"from_B\", \"A\": \"from_A\"})\n",
    "\n",
    "In [107]: from_dict"
   ]
  },
  {
   "cell_type": "markdown",
   "id": "fa931aef-789a-4338-9d51-0f5dfa9ad347",
   "metadata": {},
   "source": [
    "Sometimes it will be useful to only keep k-1 levels of a categorical variable to avoid collinearity when feeding the result to statistical models. You can switch to this mode by turn on drop_first.\n",
    "\n"
   ]
  },
  {
   "cell_type": "code",
   "execution_count": null,
   "id": "419f91ff-5834-4d1c-b0a3-434b76ddaa30",
   "metadata": {},
   "outputs": [],
   "source": [
    "s = pd.Series(list(\"abcaa\"))\n",
    "\n",
    "In [109]: pd.get_dummies(s)"
   ]
  },
  {
   "cell_type": "code",
   "execution_count": null,
   "id": "d15d160d-6d11-45b0-a67e-52c7b585bbb2",
   "metadata": {},
   "outputs": [],
   "source": [
    "pd.get_dummies(s, drop_first=True)"
   ]
  },
  {
   "cell_type": "markdown",
   "id": "28f396e8-d94e-41bb-bf4b-618c9aef9c2a",
   "metadata": {},
   "source": [
    "When a column contains only one level, it will be omitted in the result."
   ]
  },
  {
   "cell_type": "code",
   "execution_count": null,
   "id": "502e7b07-6426-463b-8fc8-f07153939059",
   "metadata": {},
   "outputs": [],
   "source": [
    "df = pd.DataFrame({\"A\": list(\"aaaaa\"), \"B\": list(\"ababc\")})\n",
    "\n",
    "In [112]: pd.get_dummies(df)"
   ]
  },
  {
   "cell_type": "code",
   "execution_count": null,
   "id": "43ce6531-e626-4444-a251-6c836b63f9a3",
   "metadata": {},
   "outputs": [],
   "source": [
    "pd.get_dummies(df, drop_first=True)"
   ]
  },
  {
   "cell_type": "markdown",
   "id": "a7dad804-e7f6-4abe-883e-449d2fc51ade",
   "metadata": {},
   "source": [
    "By default new columns will have np.uint8 dtype. To choose another dtype, use the dtype argument:"
   ]
  },
  {
   "cell_type": "code",
   "execution_count": null,
   "id": "25625fa5-7d70-4643-bf50-a6fbfcf05097",
   "metadata": {},
   "outputs": [],
   "source": [
    "df = pd.DataFrame({\"A\": list(\"abc\"), \"B\": [1.1, 2.2, 3.3]})\n",
    "\n",
    "In [115]: pd.get_dummies(df, dtype=bool).dtypes"
   ]
  },
  {
   "cell_type": "markdown",
   "id": "d8b12013-ad12-4784-9eb0-310ec79dbbff",
   "metadata": {},
   "source": [
    "## Factorizing values\n",
    "To encode 1-d values as an enumerated type use factorize():"
   ]
  },
  {
   "cell_type": "code",
   "execution_count": null,
   "id": "f5d5b9fc-06d0-4d5c-a60e-900cb354af76",
   "metadata": {},
   "outputs": [],
   "source": [
    "x = pd.Series([\"A\", \"A\", np.nan, \"B\", 3.14, np.inf])\n",
    "\n",
    "In [117]: x"
   ]
  },
  {
   "cell_type": "code",
   "execution_count": null,
   "id": "9efb8a40-e791-4187-914b-551f85eb53b9",
   "metadata": {},
   "outputs": [],
   "source": [
    "labels, uniques = pd.factorize(x)\n",
    "\n",
    "In [119]: labels"
   ]
  },
  {
   "cell_type": "code",
   "execution_count": null,
   "id": "5d4ea2f0-e10a-44f6-9e5f-8be4fd943b18",
   "metadata": {},
   "outputs": [],
   "source": [
    "uniques"
   ]
  },
  {
   "cell_type": "markdown",
   "id": "6948ddab-5ded-4fc3-b419-b98859cdc8a9",
   "metadata": {},
   "source": [
    "Note that factorize is similar to numpy.unique, but differs in its handling of NaN:\n",
    "\n",
    ">ote\n",
    ">\n",
    ">The following numpy.unique will fail under Python 3 with a TypeError because of an ordering bug. See also here."
   ]
  },
  {
   "cell_type": "code",
   "execution_count": null,
   "id": "3f1d49f6-157a-464e-9d01-d93d4890789f",
   "metadata": {},
   "outputs": [],
   "source": [
    "x = pd.Series(['A', 'A', np.nan, 'B', 3.14, np.inf])\n",
    "In [2]: pd.factorize(x, sort=True)"
   ]
  },
  {
   "cell_type": "code",
   "execution_count": null,
   "id": "c378b51b-ecc2-449c-8d7d-6859b11f22f1",
   "metadata": {},
   "outputs": [],
   "source": [
    "np.unique(x, return_inverse=True)[::-1]"
   ]
  },
  {
   "cell_type": "markdown",
   "id": "43b5e5ba-1e61-4489-8c68-91862cf07646",
   "metadata": {},
   "source": [
    ">Note\n",
    ">\n",
    ">If you just want to handle one column as a categorical variable (like R’s factor), you can use df[\"cat_col\"] = pd.Categorical(df[\"col\"]) or df[\"cat_col\"] = df[\"col\"].astype(\"category\"). For full docs on Categorical, see the Categorical introduction and the API documentation.\n",
    "\n",
    "## Examples\n",
    "In this section, we will review frequently asked questions and examples. The column names and relevant column values are named to correspond with how this DataFrame will be pivoted in the answers below."
   ]
  },
  {
   "cell_type": "code",
   "execution_count": null,
   "id": "3c23454a-717b-40dd-8a57-ad56b8249321",
   "metadata": {},
   "outputs": [],
   "source": [
    "np.random.seed([3, 1415])\n",
    "\n",
    "In [122]: n = 20\n",
    "\n",
    "In [123]: cols = np.array([\"key\", \"row\", \"item\", \"col\"])\n",
    "\n",
    "In [124]: df = cols + pd.DataFrame(\n",
    "   .....:     (np.random.randint(5, size=(n, 4)) // [2, 1, 2, 1]).astype(str)\n",
    "   .....: )"
   ]
  },
  {
   "cell_type": "code",
   "execution_count": null,
   "id": "a0f7a4d3-2e66-40bc-8e10-1ca0cf466d72",
   "metadata": {},
   "outputs": [],
   "source": [
    "df.columns = cols\n",
    "\n",
    "In [126]: df = df.join(pd.DataFrame(np.random.rand(n, 2).round(2)).add_prefix(\"val\"))\n",
    "\n",
    "In [127]: df"
   ]
  },
  {
   "cell_type": "markdown",
   "id": "92be873a-c488-4cb6-a3c3-0b495a9ea7d0",
   "metadata": {},
   "source": [
    "### Pivoting with single aggregations\n",
    "Suppose we wanted to pivot df such that the col values are columns, row values are the index, and the mean of val0 are the values? In particular, the resulting DataFrame should look like:\n",
    "\n",
    "```\n",
    "col   col0   col1   col2   col3  col4\n",
    "row\n",
    "row0  0.77  0.605    NaN  0.860  0.65\n",
    "row2  0.13    NaN  0.395  0.500  0.25\n",
    "row3   NaN  0.310    NaN  0.545   NaN\n",
    "row4   NaN  0.100  0.395  0.760  0.24\n",
    "```\n",
    "\n",
    "This solution uses pivot_table(). Also note that aggfunc='mean' is the default. It is included here to be explicit."
   ]
  },
  {
   "cell_type": "code",
   "execution_count": null,
   "id": "6c2489b7-5aba-402d-8402-d81a5b37e318",
   "metadata": {},
   "outputs": [],
   "source": [
    "df.pivot_table(values=\"val0\", index=\"row\", columns=\"col\", aggfunc=\"mean\")"
   ]
  },
  {
   "cell_type": "markdown",
   "id": "b635ebe4-b7ea-47c0-8a03-6d539f42f3e4",
   "metadata": {},
   "source": [
    "Note that we can also replace the missing values by using the fill_value parameter."
   ]
  },
  {
   "cell_type": "code",
   "execution_count": null,
   "id": "42dd16ec-afcd-45d4-979a-a4056dcfe46d",
   "metadata": {},
   "outputs": [],
   "source": [
    "df.pivot_table(\n",
    "   .....:     values=\"val0\",\n",
    "   .....:     index=\"row\",\n",
    "   .....:     columns=\"col\",\n",
    "   .....:     aggfunc=\"mean\",\n",
    "   .....:     fill_value=0,\n",
    "   .....: )"
   ]
  },
  {
   "cell_type": "markdown",
   "id": "ab9a56f9-8ca7-4cc9-bb7f-28a401fb39d1",
   "metadata": {},
   "source": [
    "Also note that we can pass in other aggregation functions as well. For example, we can also pass in sum."
   ]
  },
  {
   "cell_type": "code",
   "execution_count": null,
   "id": "bc1875c4-3a6c-4d7e-8adf-95730e8a08f3",
   "metadata": {},
   "outputs": [],
   "source": [
    "df.pivot_table(\n",
    "   .....:     values=\"val0\",\n",
    "   .....:     index=\"row\",\n",
    "   .....:     columns=\"col\",\n",
    "   .....:     aggfunc=\"sum\",\n",
    "   .....:     fill_value=0,\n",
    "   .....: )"
   ]
  },
  {
   "cell_type": "markdown",
   "id": "27091ba9-b1ce-48a6-9a7d-84ae96bf7f42",
   "metadata": {},
   "source": [
    "Another aggregation we can do is calculate the frequency in which the columns and rows occur together a.k.a. “cross tabulation”. To do this, we can pass size to the aggfunc parameter."
   ]
  },
  {
   "cell_type": "code",
   "execution_count": null,
   "id": "3a30cbda-bc52-41f7-9490-4d298d5bd05f",
   "metadata": {},
   "outputs": [],
   "source": [
    "df.pivot_table(index=\"row\", columns=\"col\", fill_value=0, aggfunc=\"size\")"
   ]
  },
  {
   "cell_type": "markdown",
   "id": "e5f2790d-357d-4d0a-b9a9-423b23461454",
   "metadata": {},
   "source": [
    "### Pivoting with multiple aggregations\n",
    "We can also perform multiple aggregations. For example, to perform both a sum and mean, we can pass in a list to the aggfunc argument."
   ]
  },
  {
   "cell_type": "code",
   "execution_count": null,
   "id": "70590590-e26f-4345-a615-42c81bd2bef6",
   "metadata": {},
   "outputs": [],
   "source": [
    "df.pivot_table(\n",
    "   .....:     values=\"val0\",\n",
    "   .....:     index=\"row\",\n",
    "   .....:     columns=\"col\",\n",
    "   .....:     a"
   ]
  },
  {
   "cell_type": "markdown",
   "id": "5d0c2543-24f5-43da-8158-303d201b35bc",
   "metadata": {},
   "source": [
    "Note to aggregate over multiple value columns, we can pass in a list to the values parameter."
   ]
  },
  {
   "cell_type": "code",
   "execution_count": null,
   "id": "b2018b06-1511-45b6-92f5-d14de51f11ec",
   "metadata": {},
   "outputs": [],
   "source": [
    "df.pivot_table(\n",
    "   .....:     values=[\"val0\", \"val1\"],\n",
    "   .....:     index=\"row\",\n",
    "   .....:     columns=\"col\",\n",
    "   .....:     aggfunc=[\"mean\"],\n",
    "   .....: )"
   ]
  },
  {
   "cell_type": "markdown",
   "id": "7c7e529b-4983-4463-b6dd-06375fb5dc22",
   "metadata": {},
   "source": [
    "Note to subdivide over multiple columns we can pass in a list to the columns parameter."
   ]
  },
  {
   "cell_type": "code",
   "execution_count": null,
   "id": "1b1ab8fb-b18c-4c91-9390-790b96aa0b2e",
   "metadata": {},
   "outputs": [],
   "source": [
    "df.pivot_table(\n",
    "   .....:     values=[\"val0\"],\n",
    "   .....:     index=\"row\",\n",
    "   .....:     columns=[\"item\", \"col\"],\n",
    "   .....:     aggfunc=[\"mean\"],\n",
    "   .....: )"
   ]
  },
  {
   "cell_type": "markdown",
   "id": "a29dabf1-fc3c-40e2-9288-a89cbc163053",
   "metadata": {},
   "source": [
    "## Exploding a list-like column\n",
    "New in version 0.25.0.\n",
    "\n",
    "Sometimes the values in a column are list-like."
   ]
  },
  {
   "cell_type": "code",
   "execution_count": null,
   "id": "6a12aac8-bee9-4ae3-b4e2-4fb969bdec53",
   "metadata": {},
   "outputs": [],
   "source": [
    "keys = [\"panda1\", \"panda2\", \"panda3\"]\n",
    "\n",
    "In [136]: values = [[\"eats\", \"shoots\"], [\"shoots\", \"leaves\"], [\"eats\", \"leaves\"]]\n",
    "\n",
    "In [137]: df = pd.DataFrame({\"keys\": keys, \"values\": values})\n",
    "\n",
    "In [138]: df"
   ]
  },
  {
   "cell_type": "markdown",
   "id": "8705fb67-b8b5-4189-9dac-9f3b49058024",
   "metadata": {},
   "source": [
    "We can ‘explode’ the values column, transforming each list-like to a separate row, by using explode(). This will replicate the index values from the original row:"
   ]
  },
  {
   "cell_type": "code",
   "execution_count": null,
   "id": "614cf52d-3fa8-4a6d-b226-a313015af0e5",
   "metadata": {},
   "outputs": [],
   "source": [
    "df[\"values\"].explode()"
   ]
  },
  {
   "cell_type": "markdown",
   "id": "69132888-5e94-4c17-9a25-a3707209ee27",
   "metadata": {},
   "source": [
    "You can also explode the column in the DataFrame."
   ]
  },
  {
   "cell_type": "code",
   "execution_count": null,
   "id": "cf8b2181-e760-440b-9637-c11a4f85d36d",
   "metadata": {},
   "outputs": [],
   "source": [
    "df.explode(\"values\")"
   ]
  },
  {
   "cell_type": "markdown",
   "id": "0107d2e8-4997-4edd-aab4-0e95d2bccca4",
   "metadata": {},
   "source": [
    "Series.explode() will replace empty lists with np.nan and preserve scalar entries. The dtype of the resulting Series is always object."
   ]
  },
  {
   "cell_type": "code",
   "execution_count": null,
   "id": "5c0f6aba-0968-4bc4-aada-3c2bcc6f64d1",
   "metadata": {},
   "outputs": [],
   "source": [
    "s = pd.Series([[1, 2, 3], \"foo\", [], [\"a\", \"b\"]])\n",
    "\n",
    "In [142]: s"
   ]
  },
  {
   "cell_type": "code",
   "execution_count": null,
   "id": "72f7036c-a178-4a02-a591-cc4a3a82a67a",
   "metadata": {},
   "outputs": [],
   "source": [
    "s.explode()"
   ]
  },
  {
   "cell_type": "markdown",
   "id": "6c59be96-894d-499f-96a1-b5133fb93b84",
   "metadata": {},
   "source": [
    "Here is a typical usecase. You have comma separated strings in a column and want to expand this."
   ]
  },
  {
   "cell_type": "code",
   "execution_count": null,
   "id": "d2015f53-ea14-403a-b23f-cf1568b13c18",
   "metadata": {},
   "outputs": [],
   "source": [
    "df = pd.DataFrame([{\"var1\": \"a,b,c\", \"var2\": 1}, {\"var1\": \"d,e,f\", \"var2\": 2}])\n",
    "\n",
    "In [145]: df"
   ]
  },
  {
   "cell_type": "markdown",
   "id": "1e0c318b-783b-4dd4-8f69-3862fe7a9d98",
   "metadata": {},
   "source": [
    "Creating a long form DataFrame is now straightforward using explode and chained operations"
   ]
  },
  {
   "cell_type": "code",
   "execution_count": null,
   "id": "1c67e273-dd0f-4124-af28-21ad9bca75e0",
   "metadata": {},
   "outputs": [],
   "source": [
    "df.assign(var1=df.var1.str.split(\",\")).explode(\"var1\")"
   ]
  }
 ],
 "metadata": {
  "kernelspec": {
   "display_name": "eda_dev39",
   "language": "python",
   "name": "eda_dev39"
  },
  "language_info": {
   "codemirror_mode": {
    "name": "ipython",
    "version": 3
   },
   "file_extension": ".py",
   "mimetype": "text/x-python",
   "name": "python",
   "nbconvert_exporter": "python",
   "pygments_lexer": "ipython3",
   "version": "3.9.4"
  }
 },
 "nbformat": 4,
 "nbformat_minor": 5
}
