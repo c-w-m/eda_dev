{
 "cells": [
  {
   "cell_type": "markdown",
   "id": "1a095033-68bc-49e3-a79b-f49409c43466",
   "metadata": {},
   "source": [
    "# Working with text data\n",
    "## Text data types\n",
    "*New in version 1.0.0.*\n",
    "\n",
    "There are two ways to store text data in pandas:\n",
    "\n",
    "1. `object` -dtype NumPy array.\n",
    "\n",
    "2. `StringDtype` extension type.\n",
    "\n",
    "We recommend using `StringDtype` to store text data.\n",
    "\n",
    "Prior to pandas 1.0, `object` dtype was the only option. This was unfortunate for many reasons:\n",
    "\n",
    "1. You can accidentally store a mixture of strings and non-strings in an `object` dtype array. It’s better to have a dedicated dtype.\n",
    "\n",
    "2. `object` dtype breaks dtype-specific operations like `DataFrame.select_dtypes()`. There isn’t a clear way to select just text while excluding non-text but still object-dtype columns.\n",
    "\n",
    "3. When reading code, the contents of an `object` dtype array is less clear than `'string'`.\n",
    "\n",
    "Currently, the performance of `object` dtype arrays of strings and `arrays.StringArray` are about the same. We expect future enhancements to significantly increase the performance and lower the memory overhead of `StringArray`.\n",
    "\n",
    ">Warning\n",
    ">\n",
    ">`StringArray` is currently considered experimental. The implementation and parts of the API may change without warning.\n",
    "\n",
    "For backwards-compatibility, `object` dtype remains the default type we infer a list of strings to"
   ]
  },
  {
   "cell_type": "code",
   "execution_count": 1,
   "id": "76e990ee-1c74-41ba-b3fe-bae27c078bd2",
   "metadata": {},
   "outputs": [],
   "source": [
    "import pandas as pd\n",
    "import numpy as np"
   ]
  },
  {
   "cell_type": "code",
   "execution_count": 2,
   "id": "4b43d294-f441-4f32-aea0-4af27841a4e4",
   "metadata": {},
   "outputs": [
    {
     "data": {
      "text/plain": [
       "0    a\n",
       "1    b\n",
       "2    c\n",
       "dtype: object"
      ]
     },
     "execution_count": 2,
     "metadata": {},
     "output_type": "execute_result"
    }
   ],
   "source": [
    "pd.Series([\"a\", \"b\", \"c\"])"
   ]
  },
  {
   "cell_type": "markdown",
   "id": "cb16d897-3196-4b8f-a7fb-99c2ea6eb376",
   "metadata": {},
   "source": [
    "To explicitly request string dtype, specify the dtype"
   ]
  },
  {
   "cell_type": "code",
   "execution_count": 3,
   "id": "c998fc5e-5bba-4844-9c1a-bf0a781ac6f3",
   "metadata": {},
   "outputs": [
    {
     "data": {
      "text/plain": [
       "0    a\n",
       "1    b\n",
       "2    c\n",
       "dtype: string"
      ]
     },
     "execution_count": 3,
     "metadata": {},
     "output_type": "execute_result"
    }
   ],
   "source": [
    "pd.Series([\"a\", \"b\", \"c\"], dtype=\"string\")"
   ]
  },
  {
   "cell_type": "code",
   "execution_count": 4,
   "id": "db2e1ffb-6e33-48a4-8e5e-0664c7bc1359",
   "metadata": {},
   "outputs": [
    {
     "data": {
      "text/plain": [
       "0    a\n",
       "1    b\n",
       "2    c\n",
       "dtype: string"
      ]
     },
     "execution_count": 4,
     "metadata": {},
     "output_type": "execute_result"
    }
   ],
   "source": [
    "pd.Series([\"a\", \"b\", \"c\"], dtype=pd.StringDtype())"
   ]
  },
  {
   "cell_type": "markdown",
   "id": "ce5078af-0ee9-41c9-898a-251030a13e5b",
   "metadata": {},
   "source": [
    "Or astype after the Series or DataFrame is created"
   ]
  },
  {
   "cell_type": "code",
   "execution_count": 5,
   "id": "8bae4278-1c8f-4417-9d67-7a639a4df1b3",
   "metadata": {},
   "outputs": [
    {
     "data": {
      "text/plain": [
       "0    a\n",
       "1    b\n",
       "2    c\n",
       "dtype: object"
      ]
     },
     "execution_count": 5,
     "metadata": {},
     "output_type": "execute_result"
    }
   ],
   "source": [
    "s = pd.Series([\"a\", \"b\", \"c\"])\n",
    "s"
   ]
  },
  {
   "cell_type": "code",
   "execution_count": 6,
   "id": "b3542741-886c-448f-a302-de4a43233dff",
   "metadata": {},
   "outputs": [
    {
     "data": {
      "text/plain": [
       "0    a\n",
       "1    b\n",
       "2    c\n",
       "dtype: string"
      ]
     },
     "execution_count": 6,
     "metadata": {},
     "output_type": "execute_result"
    }
   ],
   "source": [
    "s.astype(\"string\")"
   ]
  },
  {
   "cell_type": "markdown",
   "id": "d556d07e-c7ff-42d5-a8a6-4fbd444eda48",
   "metadata": {},
   "source": [
    "*Changed in version 1.1.0.*\n",
    "\n",
    "You can also use StringDtype/\"string\" as the dtype on non-string data and it will be converted to string dtype:"
   ]
  },
  {
   "cell_type": "code",
   "execution_count": 7,
   "id": "213ab5fc-66e4-4742-bef8-8ae57c512fb0",
   "metadata": {},
   "outputs": [
    {
     "data": {
      "text/plain": [
       "0       a\n",
       "1       2\n",
       "2    <NA>\n",
       "dtype: string"
      ]
     },
     "execution_count": 7,
     "metadata": {},
     "output_type": "execute_result"
    }
   ],
   "source": [
    "s = pd.Series([\"a\", 2, np.nan], dtype=\"string\")\n",
    "s"
   ]
  },
  {
   "cell_type": "code",
   "execution_count": 8,
   "id": "c8a05ede-1628-42f8-901f-76c61cfcbe59",
   "metadata": {},
   "outputs": [
    {
     "data": {
      "text/plain": [
       "str"
      ]
     },
     "execution_count": 8,
     "metadata": {},
     "output_type": "execute_result"
    }
   ],
   "source": [
    "type(s[1])"
   ]
  },
  {
   "cell_type": "markdown",
   "id": "57811a0b-ad76-412a-8f8b-024e863bb05a",
   "metadata": {},
   "source": [
    "or convert from existing pandas data:"
   ]
  },
  {
   "cell_type": "code",
   "execution_count": 9,
   "id": "3d62d0db-8c38-4cbd-991c-85f7925699ea",
   "metadata": {},
   "outputs": [
    {
     "data": {
      "text/plain": [
       "0       1\n",
       "1       2\n",
       "2    <NA>\n",
       "dtype: Int64"
      ]
     },
     "execution_count": 9,
     "metadata": {},
     "output_type": "execute_result"
    }
   ],
   "source": [
    "s1 = pd.Series([1, 2, np.nan], dtype=\"Int64\")\n",
    "s1"
   ]
  },
  {
   "cell_type": "code",
   "execution_count": 10,
   "id": "70e4c093-f447-4057-86b5-606274d4c6e7",
   "metadata": {},
   "outputs": [
    {
     "data": {
      "text/plain": [
       "0       1\n",
       "1       2\n",
       "2    <NA>\n",
       "dtype: string"
      ]
     },
     "execution_count": 10,
     "metadata": {},
     "output_type": "execute_result"
    }
   ],
   "source": [
    "s2 = s1.astype(\"string\")\n",
    "s2"
   ]
  },
  {
   "cell_type": "code",
   "execution_count": 11,
   "id": "49c51312-3958-4286-b318-4989978161f9",
   "metadata": {},
   "outputs": [
    {
     "data": {
      "text/plain": [
       "str"
      ]
     },
     "execution_count": 11,
     "metadata": {},
     "output_type": "execute_result"
    }
   ],
   "source": [
    "type(s2[0])"
   ]
  },
  {
   "cell_type": "markdown",
   "id": "5b39cf73-62dc-4ecc-abc2-6e03e2202735",
   "metadata": {},
   "source": [
    "## Behavior differences\n",
    "These are places where the behavior of `StringDtype` objects differ from `object` dtype\n",
    "\n",
    "1. For `StringDtype`, `string accessor methods` that return numeric output will always return a nullable integer dtype, rather than either int or float dtype, depending on the presence of NA values. Methods returning boolean output will return a nullable boolean dtype."
   ]
  },
  {
   "cell_type": "code",
   "execution_count": 12,
   "id": "6a1f4ada-a740-4ef9-95dc-6b2b0fb84958",
   "metadata": {},
   "outputs": [
    {
     "data": {
      "text/plain": [
       "0       a\n",
       "1    <NA>\n",
       "2       b\n",
       "dtype: string"
      ]
     },
     "execution_count": 12,
     "metadata": {},
     "output_type": "execute_result"
    }
   ],
   "source": [
    "s = pd.Series([\"a\", None, \"b\"], dtype=\"string\")\n",
    "s"
   ]
  },
  {
   "cell_type": "code",
   "execution_count": 13,
   "id": "ffb1b328-4ae5-4669-bf29-bef492996f45",
   "metadata": {},
   "outputs": [
    {
     "data": {
      "text/plain": [
       "0       1\n",
       "1    <NA>\n",
       "2       0\n",
       "dtype: Int64"
      ]
     },
     "execution_count": 13,
     "metadata": {},
     "output_type": "execute_result"
    }
   ],
   "source": [
    "s.str.count(\"a\")"
   ]
  },
  {
   "cell_type": "code",
   "execution_count": 14,
   "id": "6bfd409c-5a5e-44cd-87f9-95e633465504",
   "metadata": {},
   "outputs": [
    {
     "data": {
      "text/plain": [
       "0    1\n",
       "2    0\n",
       "dtype: Int64"
      ]
     },
     "execution_count": 14,
     "metadata": {},
     "output_type": "execute_result"
    }
   ],
   "source": [
    "s.dropna().str.count(\"a\")"
   ]
  },
  {
   "cell_type": "markdown",
   "id": "e61730fc-3d2c-4f36-a489-a444c4b02edd",
   "metadata": {},
   "source": [
    "Both outputs are Int64 dtype. Compare that with object-dtype"
   ]
  },
  {
   "cell_type": "code",
   "execution_count": 15,
   "id": "db1f19c3-2813-4862-9cc4-5a5d233f161f",
   "metadata": {},
   "outputs": [
    {
     "data": {
      "text/plain": [
       "0    1.0\n",
       "1    NaN\n",
       "2    0.0\n",
       "dtype: float64"
      ]
     },
     "execution_count": 15,
     "metadata": {},
     "output_type": "execute_result"
    }
   ],
   "source": [
    "s2 = pd.Series([\"a\", None, \"b\"], dtype=\"object\")\n",
    "s2.str.count(\"a\")"
   ]
  },
  {
   "cell_type": "code",
   "execution_count": 16,
   "id": "4f6996ac-ac7c-4c36-a991-f09b3234548f",
   "metadata": {},
   "outputs": [
    {
     "data": {
      "text/plain": [
       "0    1\n",
       "2    0\n",
       "dtype: int64"
      ]
     },
     "execution_count": 16,
     "metadata": {},
     "output_type": "execute_result"
    }
   ],
   "source": [
    "s2.dropna().str.count(\"a\")"
   ]
  },
  {
   "cell_type": "markdown",
   "id": "814572d8-0d9c-4077-8303-fc35ba14175c",
   "metadata": {},
   "source": [
    "When NA values are present, the output dtype is float64. Similarly for methods returning boolean values."
   ]
  },
  {
   "cell_type": "code",
   "execution_count": 17,
   "id": "7af31a59-fa0a-47eb-830f-a4d4b27e7bfd",
   "metadata": {},
   "outputs": [
    {
     "data": {
      "text/plain": [
       "0    False\n",
       "1     <NA>\n",
       "2    False\n",
       "dtype: boolean"
      ]
     },
     "execution_count": 17,
     "metadata": {},
     "output_type": "execute_result"
    }
   ],
   "source": [
    "s.str.isdigit()"
   ]
  },
  {
   "cell_type": "code",
   "execution_count": 18,
   "id": "7920e157-d696-458c-b35e-bf3e77a2aca9",
   "metadata": {},
   "outputs": [
    {
     "data": {
      "text/plain": [
       "0     True\n",
       "1     <NA>\n",
       "2    False\n",
       "dtype: boolean"
      ]
     },
     "execution_count": 18,
     "metadata": {},
     "output_type": "execute_result"
    }
   ],
   "source": [
    "s.str.match(\"a\")"
   ]
  },
  {
   "cell_type": "markdown",
   "id": "3d3680e9-a623-48bb-b7f1-9e811b1b6cb8",
   "metadata": {},
   "source": [
    "2. Some string methods, like `Series.str.decode()` are not available on `StringArray` because `StringArray` only holds strings, not bytes.\n",
    "\n",
    "3. In comparison operations, `arrays.StringArray` and `Series` backed by a `StringArray` will return an object with `BooleanDtype`, rather than a `bool` dtype object. Missing values in a `StringArray` will propagate in comparison operations, rather than always comparing unequal like `numpy.nan`.\n",
    "\n",
    "Everything else that follows in the rest of this document applies equally to string and object dtype.\n",
    "\n",
    "## String methods\n",
    "Series and Index are equipped with a set of string processing methods that make it easy to operate on each element of the array. Perhaps most importantly, these methods exclude missing/NA values automatically. These are accessed via the `str` attribute and generally have names matching the equivalent (scalar) built-in string methods:\n"
   ]
  },
  {
   "cell_type": "code",
   "execution_count": 19,
   "id": "e6969a4b-4beb-4670-92f6-314c1f7f1db9",
   "metadata": {},
   "outputs": [
    {
     "data": {
      "text/plain": [
       "0       a\n",
       "1       b\n",
       "2       c\n",
       "3    aaba\n",
       "4    baca\n",
       "5    <NA>\n",
       "6    caba\n",
       "7     dog\n",
       "8     cat\n",
       "dtype: string"
      ]
     },
     "execution_count": 19,
     "metadata": {},
     "output_type": "execute_result"
    }
   ],
   "source": [
    "s = pd.Series(\n",
    "    [\"A\", \"B\", \"C\", \"Aaba\", \"Baca\", np.nan, \"CABA\", \"dog\", \"cat\"], dtype=\"string\"\n",
    ")\n",
    "s.str.lower()"
   ]
  },
  {
   "cell_type": "code",
   "execution_count": 20,
   "id": "84f8c48d-8ee7-4599-9b63-0556f94031ab",
   "metadata": {},
   "outputs": [
    {
     "data": {
      "text/plain": [
       "0       A\n",
       "1       B\n",
       "2       C\n",
       "3    AABA\n",
       "4    BACA\n",
       "5    <NA>\n",
       "6    CABA\n",
       "7     DOG\n",
       "8     CAT\n",
       "dtype: string"
      ]
     },
     "execution_count": 20,
     "metadata": {},
     "output_type": "execute_result"
    }
   ],
   "source": [
    "s.str.upper()"
   ]
  },
  {
   "cell_type": "code",
   "execution_count": 21,
   "id": "df9e029f-89cd-4837-a4f0-2e2d2a2120ed",
   "metadata": {},
   "outputs": [
    {
     "data": {
      "text/plain": [
       "0       1\n",
       "1       1\n",
       "2       1\n",
       "3       4\n",
       "4       4\n",
       "5    <NA>\n",
       "6       4\n",
       "7       3\n",
       "8       3\n",
       "dtype: Int64"
      ]
     },
     "execution_count": 21,
     "metadata": {},
     "output_type": "execute_result"
    }
   ],
   "source": [
    "s.str.len()"
   ]
  },
  {
   "cell_type": "code",
   "execution_count": 22,
   "id": "747ffbef-8330-4b85-b294-8387e1a3ca6d",
   "metadata": {},
   "outputs": [
    {
     "data": {
      "text/plain": [
       "Index(['jack', 'jill', 'jesse', 'frank'], dtype='object')"
      ]
     },
     "execution_count": 22,
     "metadata": {},
     "output_type": "execute_result"
    }
   ],
   "source": [
    "In [28]: idx = pd.Index([\" jack\", \"jill \", \" jesse \", \"frank\"])\n",
    "idx.str.strip()"
   ]
  },
  {
   "cell_type": "code",
   "execution_count": 23,
   "id": "a964eab9-5f8e-47c3-8898-50cdff0082dd",
   "metadata": {},
   "outputs": [
    {
     "data": {
      "text/plain": [
       "Index(['jack', 'jill ', 'jesse ', 'frank'], dtype='object')"
      ]
     },
     "execution_count": 23,
     "metadata": {},
     "output_type": "execute_result"
    }
   ],
   "source": [
    "idx.str.lstrip()"
   ]
  },
  {
   "cell_type": "code",
   "execution_count": 24,
   "id": "db8fb220-9258-4672-ab67-c47db2c4e10c",
   "metadata": {},
   "outputs": [
    {
     "data": {
      "text/plain": [
       "Index([' jack', 'jill', ' jesse', 'frank'], dtype='object')"
      ]
     },
     "execution_count": 24,
     "metadata": {},
     "output_type": "execute_result"
    }
   ],
   "source": [
    "idx.str.rstrip()"
   ]
  },
  {
   "cell_type": "markdown",
   "id": "1988e585-6350-4ac9-9e4a-94c6600824fc",
   "metadata": {},
   "source": [
    "The string methods on Index are especially useful for cleaning up or transforming DataFrame columns. For instance, you may have columns with leading or trailing whitespace:"
   ]
  },
  {
   "cell_type": "code",
   "execution_count": 25,
   "id": "28c29f9c-f466-4d9f-8973-187130dcb2e2",
   "metadata": {},
   "outputs": [
    {
     "data": {
      "text/html": [
       "<div>\n",
       "<style scoped>\n",
       "    .dataframe tbody tr th:only-of-type {\n",
       "        vertical-align: middle;\n",
       "    }\n",
       "\n",
       "    .dataframe tbody tr th {\n",
       "        vertical-align: top;\n",
       "    }\n",
       "\n",
       "    .dataframe thead th {\n",
       "        text-align: right;\n",
       "    }\n",
       "</style>\n",
       "<table border=\"1\" class=\"dataframe\">\n",
       "  <thead>\n",
       "    <tr style=\"text-align: right;\">\n",
       "      <th></th>\n",
       "      <th>Column A</th>\n",
       "      <th>Column B</th>\n",
       "    </tr>\n",
       "  </thead>\n",
       "  <tbody>\n",
       "    <tr>\n",
       "      <th>0</th>\n",
       "      <td>-0.841305</td>\n",
       "      <td>-1.410180</td>\n",
       "    </tr>\n",
       "    <tr>\n",
       "      <th>1</th>\n",
       "      <td>-0.729006</td>\n",
       "      <td>1.025006</td>\n",
       "    </tr>\n",
       "    <tr>\n",
       "      <th>2</th>\n",
       "      <td>-0.013815</td>\n",
       "      <td>2.055580</td>\n",
       "    </tr>\n",
       "  </tbody>\n",
       "</table>\n",
       "</div>"
      ],
      "text/plain": [
       "    Column A    Column B \n",
       "0   -0.841305   -1.410180\n",
       "1   -0.729006    1.025006\n",
       "2   -0.013815    2.055580"
      ]
     },
     "execution_count": 25,
     "metadata": {},
     "output_type": "execute_result"
    }
   ],
   "source": [
    "df = pd.DataFrame(\n",
    "    np.random.randn(3, 2), columns=[\" Column A \", \" Column B \"], index=range(3)\n",
    ")\n",
    "df"
   ]
  },
  {
   "cell_type": "markdown",
   "id": "9058e0e2-2153-435b-aaa1-f3e4fd05fdbc",
   "metadata": {},
   "source": [
    "Since df.columns is an Index object, we can use the .str accessor"
   ]
  },
  {
   "cell_type": "code",
   "execution_count": 26,
   "id": "4fc6cd76-2187-4189-a96a-89a839849205",
   "metadata": {},
   "outputs": [
    {
     "data": {
      "text/plain": [
       "Index(['Column A', 'Column B'], dtype='object')"
      ]
     },
     "execution_count": 26,
     "metadata": {},
     "output_type": "execute_result"
    }
   ],
   "source": [
    "df.columns.str.strip()"
   ]
  },
  {
   "cell_type": "code",
   "execution_count": 27,
   "id": "cc21b93b-1b82-41db-9d6a-aa752f0127d3",
   "metadata": {},
   "outputs": [
    {
     "data": {
      "text/plain": [
       "Index([' column a ', ' column b '], dtype='object')"
      ]
     },
     "execution_count": 27,
     "metadata": {},
     "output_type": "execute_result"
    }
   ],
   "source": [
    "df.columns.str.lower()"
   ]
  },
  {
   "cell_type": "markdown",
   "id": "4f44f472-0f58-4901-b497-5756d3440389",
   "metadata": {},
   "source": [
    "These string methods can then be used to clean up the columns as needed. Here we are removing leading and trailing whitespaces, lower casing all names, and replacing any remaining whitespaces with underscores:"
   ]
  },
  {
   "cell_type": "code",
   "execution_count": 28,
   "id": "c4620d9c-7c7e-49e0-b1eb-3b514020d75e",
   "metadata": {},
   "outputs": [
    {
     "data": {
      "text/html": [
       "<div>\n",
       "<style scoped>\n",
       "    .dataframe tbody tr th:only-of-type {\n",
       "        vertical-align: middle;\n",
       "    }\n",
       "\n",
       "    .dataframe tbody tr th {\n",
       "        vertical-align: top;\n",
       "    }\n",
       "\n",
       "    .dataframe thead th {\n",
       "        text-align: right;\n",
       "    }\n",
       "</style>\n",
       "<table border=\"1\" class=\"dataframe\">\n",
       "  <thead>\n",
       "    <tr style=\"text-align: right;\">\n",
       "      <th></th>\n",
       "      <th>column_a</th>\n",
       "      <th>column_b</th>\n",
       "    </tr>\n",
       "  </thead>\n",
       "  <tbody>\n",
       "    <tr>\n",
       "      <th>0</th>\n",
       "      <td>-0.841305</td>\n",
       "      <td>-1.410180</td>\n",
       "    </tr>\n",
       "    <tr>\n",
       "      <th>1</th>\n",
       "      <td>-0.729006</td>\n",
       "      <td>1.025006</td>\n",
       "    </tr>\n",
       "    <tr>\n",
       "      <th>2</th>\n",
       "      <td>-0.013815</td>\n",
       "      <td>2.055580</td>\n",
       "    </tr>\n",
       "  </tbody>\n",
       "</table>\n",
       "</div>"
      ],
      "text/plain": [
       "   column_a  column_b\n",
       "0 -0.841305 -1.410180\n",
       "1 -0.729006  1.025006\n",
       "2 -0.013815  2.055580"
      ]
     },
     "execution_count": 28,
     "metadata": {},
     "output_type": "execute_result"
    }
   ],
   "source": [
    "df.columns = df.columns.str.strip().str.lower().str.replace(\" \", \"_\")\n",
    "df"
   ]
  },
  {
   "cell_type": "markdown",
   "id": "8582b42c-a92d-4f52-81a3-f65a380132c8",
   "metadata": {},
   "source": [
    ">Note\n",
    ">\n",
    ">If you have a `Series` where lots of elements are repeated (i.e. the number of unique elements in the `Series` is a lot smaller than the length of the `Series`), it can be faster to convert the original Series to one of type `category` and then use `.str.<method>` or `.dt.<property>` on that. The performance difference comes from the fact that, for `Series` of type `category`, the string operations are done on the `.categories` and not on each element of the `Series`.\n",
    ">\n",
    ">Please note that a `Series` of type `category` with string `.categories` has some limitations in comparison to `Series` of type string (e.g. you can’t add strings to each other: `s + \" \" + s` won’t work if `s` is a `Series` of type `category`). Also, `.str` methods which operate on elements of type `list` are not available on such a `Series`.\n",
    "\n",
    ">Warning\n",
    ">\n",
    ">Before v.0.25.0, the .str-accessor did only the most rudimentary type checks. Starting with v.0.25.0, the type of the Series is inferred and the allowed types (i.e. strings) are enforced more rigorously.\n",
    ">\n",
    ">Generally speaking, the .str accessor is intended to work only on strings. With very few exceptions, other uses are not supported, and may be disabled at a later point.\n",
    "\n",
    "## Splitting and replacing strings\n",
    "Methods like `split` return a Series of lists:"
   ]
  },
  {
   "cell_type": "code",
   "execution_count": 29,
   "id": "5bbace9e-e4d1-4d63-aea6-648fbdf173d6",
   "metadata": {},
   "outputs": [
    {
     "data": {
      "text/plain": [
       "0    [a, b, c]\n",
       "1    [c, d, e]\n",
       "2         <NA>\n",
       "3    [f, g, h]\n",
       "dtype: object"
      ]
     },
     "execution_count": 29,
     "metadata": {},
     "output_type": "execute_result"
    }
   ],
   "source": [
    "s2 = pd.Series([\"a_b_c\", \"c_d_e\", np.nan, \"f_g_h\"], dtype=\"string\")\n",
    "s2.str.split(\"_\")"
   ]
  },
  {
   "cell_type": "markdown",
   "id": "c5748e35-12cd-41bb-8447-a567004cb5b0",
   "metadata": {},
   "source": [
    "Elements in the split lists can be accessed using `get` or `[]` notation:"
   ]
  },
  {
   "cell_type": "code",
   "execution_count": 30,
   "id": "63152b6b-abfd-48ae-aad9-df13a46f8971",
   "metadata": {},
   "outputs": [
    {
     "data": {
      "text/plain": [
       "0       b\n",
       "1       d\n",
       "2    <NA>\n",
       "3       g\n",
       "dtype: object"
      ]
     },
     "execution_count": 30,
     "metadata": {},
     "output_type": "execute_result"
    }
   ],
   "source": [
    "s2.str.split(\"_\").str.get(1)"
   ]
  },
  {
   "cell_type": "code",
   "execution_count": 31,
   "id": "76d49182-7b19-4551-b201-94f57f125de3",
   "metadata": {},
   "outputs": [
    {
     "data": {
      "text/plain": [
       "0       b\n",
       "1       d\n",
       "2    <NA>\n",
       "3       g\n",
       "dtype: object"
      ]
     },
     "execution_count": 31,
     "metadata": {},
     "output_type": "execute_result"
    }
   ],
   "source": [
    "s2.str.split(\"_\").str[1]"
   ]
  },
  {
   "cell_type": "markdown",
   "id": "a55ebd0c-e58d-428d-8b9d-718f7f807fdf",
   "metadata": {},
   "source": [
    "It is easy to expand this to return a DataFrame using `expand`."
   ]
  },
  {
   "cell_type": "code",
   "execution_count": 32,
   "id": "b4c1290c-adb0-4ae8-affb-70b3f8bae680",
   "metadata": {},
   "outputs": [
    {
     "data": {
      "text/html": [
       "<div>\n",
       "<style scoped>\n",
       "    .dataframe tbody tr th:only-of-type {\n",
       "        vertical-align: middle;\n",
       "    }\n",
       "\n",
       "    .dataframe tbody tr th {\n",
       "        vertical-align: top;\n",
       "    }\n",
       "\n",
       "    .dataframe thead th {\n",
       "        text-align: right;\n",
       "    }\n",
       "</style>\n",
       "<table border=\"1\" class=\"dataframe\">\n",
       "  <thead>\n",
       "    <tr style=\"text-align: right;\">\n",
       "      <th></th>\n",
       "      <th>0</th>\n",
       "      <th>1</th>\n",
       "      <th>2</th>\n",
       "    </tr>\n",
       "  </thead>\n",
       "  <tbody>\n",
       "    <tr>\n",
       "      <th>0</th>\n",
       "      <td>a</td>\n",
       "      <td>b</td>\n",
       "      <td>c</td>\n",
       "    </tr>\n",
       "    <tr>\n",
       "      <th>1</th>\n",
       "      <td>c</td>\n",
       "      <td>d</td>\n",
       "      <td>e</td>\n",
       "    </tr>\n",
       "    <tr>\n",
       "      <th>2</th>\n",
       "      <td>&lt;NA&gt;</td>\n",
       "      <td>&lt;NA&gt;</td>\n",
       "      <td>&lt;NA&gt;</td>\n",
       "    </tr>\n",
       "    <tr>\n",
       "      <th>3</th>\n",
       "      <td>f</td>\n",
       "      <td>g</td>\n",
       "      <td>h</td>\n",
       "    </tr>\n",
       "  </tbody>\n",
       "</table>\n",
       "</div>"
      ],
      "text/plain": [
       "      0     1     2\n",
       "0     a     b     c\n",
       "1     c     d     e\n",
       "2  <NA>  <NA>  <NA>\n",
       "3     f     g     h"
      ]
     },
     "execution_count": 32,
     "metadata": {},
     "output_type": "execute_result"
    }
   ],
   "source": [
    "s2.str.split(\"_\", expand=True)"
   ]
  },
  {
   "cell_type": "markdown",
   "id": "66720d68-8887-49aa-bdf6-3d18d6554bd1",
   "metadata": {},
   "source": [
    "When original `Series` has `StringDtype`, the output columns will all be `StringDtype` as well.\n",
    "\n",
    "It is also possible to limit the number of splits:"
   ]
  },
  {
   "cell_type": "code",
   "execution_count": 33,
   "id": "f0c91151-cd55-4481-a813-1efcbf7bcd7e",
   "metadata": {},
   "outputs": [
    {
     "data": {
      "text/html": [
       "<div>\n",
       "<style scoped>\n",
       "    .dataframe tbody tr th:only-of-type {\n",
       "        vertical-align: middle;\n",
       "    }\n",
       "\n",
       "    .dataframe tbody tr th {\n",
       "        vertical-align: top;\n",
       "    }\n",
       "\n",
       "    .dataframe thead th {\n",
       "        text-align: right;\n",
       "    }\n",
       "</style>\n",
       "<table border=\"1\" class=\"dataframe\">\n",
       "  <thead>\n",
       "    <tr style=\"text-align: right;\">\n",
       "      <th></th>\n",
       "      <th>0</th>\n",
       "      <th>1</th>\n",
       "    </tr>\n",
       "  </thead>\n",
       "  <tbody>\n",
       "    <tr>\n",
       "      <th>0</th>\n",
       "      <td>a</td>\n",
       "      <td>b_c</td>\n",
       "    </tr>\n",
       "    <tr>\n",
       "      <th>1</th>\n",
       "      <td>c</td>\n",
       "      <td>d_e</td>\n",
       "    </tr>\n",
       "    <tr>\n",
       "      <th>2</th>\n",
       "      <td>&lt;NA&gt;</td>\n",
       "      <td>&lt;NA&gt;</td>\n",
       "    </tr>\n",
       "    <tr>\n",
       "      <th>3</th>\n",
       "      <td>f</td>\n",
       "      <td>g_h</td>\n",
       "    </tr>\n",
       "  </tbody>\n",
       "</table>\n",
       "</div>"
      ],
      "text/plain": [
       "      0     1\n",
       "0     a   b_c\n",
       "1     c   d_e\n",
       "2  <NA>  <NA>\n",
       "3     f   g_h"
      ]
     },
     "execution_count": 33,
     "metadata": {},
     "output_type": "execute_result"
    }
   ],
   "source": [
    "s2.str.split(\"_\", expand=True, n=1)"
   ]
  },
  {
   "cell_type": "markdown",
   "id": "095a4bdf-2758-456c-af28-5f8feb9b5686",
   "metadata": {},
   "source": [
    "`rsplit` is similar to `split` except it works in the reverse direction, i.e., from the end of the string to the beginning of the string:"
   ]
  },
  {
   "cell_type": "code",
   "execution_count": 34,
   "id": "910066df-9f04-445e-9aa8-288bc1f80fdc",
   "metadata": {},
   "outputs": [
    {
     "data": {
      "text/html": [
       "<div>\n",
       "<style scoped>\n",
       "    .dataframe tbody tr th:only-of-type {\n",
       "        vertical-align: middle;\n",
       "    }\n",
       "\n",
       "    .dataframe tbody tr th {\n",
       "        vertical-align: top;\n",
       "    }\n",
       "\n",
       "    .dataframe thead th {\n",
       "        text-align: right;\n",
       "    }\n",
       "</style>\n",
       "<table border=\"1\" class=\"dataframe\">\n",
       "  <thead>\n",
       "    <tr style=\"text-align: right;\">\n",
       "      <th></th>\n",
       "      <th>0</th>\n",
       "      <th>1</th>\n",
       "    </tr>\n",
       "  </thead>\n",
       "  <tbody>\n",
       "    <tr>\n",
       "      <th>0</th>\n",
       "      <td>a_b</td>\n",
       "      <td>c</td>\n",
       "    </tr>\n",
       "    <tr>\n",
       "      <th>1</th>\n",
       "      <td>c_d</td>\n",
       "      <td>e</td>\n",
       "    </tr>\n",
       "    <tr>\n",
       "      <th>2</th>\n",
       "      <td>&lt;NA&gt;</td>\n",
       "      <td>&lt;NA&gt;</td>\n",
       "    </tr>\n",
       "    <tr>\n",
       "      <th>3</th>\n",
       "      <td>f_g</td>\n",
       "      <td>h</td>\n",
       "    </tr>\n",
       "  </tbody>\n",
       "</table>\n",
       "</div>"
      ],
      "text/plain": [
       "      0     1\n",
       "0   a_b     c\n",
       "1   c_d     e\n",
       "2  <NA>  <NA>\n",
       "3   f_g     h"
      ]
     },
     "execution_count": 34,
     "metadata": {},
     "output_type": "execute_result"
    }
   ],
   "source": [
    "s2.str.rsplit(\"_\", expand=True, n=1)"
   ]
  },
  {
   "cell_type": "markdown",
   "id": "9774e6ed-4910-44ce-ab91-8e994fd013fe",
   "metadata": {},
   "source": [
    "`replace` optionally uses `regular expressions`:"
   ]
  },
  {
   "cell_type": "code",
   "execution_count": 35,
   "id": "1ee7fc58-8105-4fd7-a458-479938562ef5",
   "metadata": {},
   "outputs": [
    {
     "data": {
      "text/plain": [
       "0       A\n",
       "1       B\n",
       "2       C\n",
       "3    Aaba\n",
       "4    Baca\n",
       "5        \n",
       "6    <NA>\n",
       "7    CABA\n",
       "8     dog\n",
       "9     cat\n",
       "dtype: string"
      ]
     },
     "execution_count": 35,
     "metadata": {},
     "output_type": "execute_result"
    }
   ],
   "source": [
    "s3 = pd.Series(\n",
    "    [\"A\", \"B\", \"C\", \"Aaba\", \"Baca\", \"\", np.nan, \"CABA\", \"dog\", \"cat\"],\n",
    "    dtype=\"string\",\n",
    ")\n",
    "s3"
   ]
  },
  {
   "cell_type": "code",
   "execution_count": 36,
   "id": "f1d5c1f8-1ab1-4364-9e6a-ee93663ca548",
   "metadata": {},
   "outputs": [
    {
     "data": {
      "text/plain": [
       "0           A\n",
       "1           B\n",
       "2           C\n",
       "3    XX-XX ba\n",
       "4    XX-XX ca\n",
       "5            \n",
       "6        <NA>\n",
       "7    XX-XX BA\n",
       "8      XX-XX \n",
       "9     XX-XX t\n",
       "dtype: string"
      ]
     },
     "execution_count": 36,
     "metadata": {},
     "output_type": "execute_result"
    }
   ],
   "source": [
    "s3.str.replace(\"^.a|dog\", \"XX-XX \", case=False, regex=True)"
   ]
  },
  {
   "cell_type": "markdown",
   "id": "f609c538-68bb-4852-bf48-605727b8e545",
   "metadata": {},
   "source": [
    ">Warning\n",
    ">\n",
    ">Some caution must be taken when dealing with regular expressions! The current behavior is to treat single character patterns as literal strings, even when regex is set to True. This behavior is deprecated and will be removed in a future version so that the regex keyword is always respected.\n",
    "\n",
    "*Changed in version 1.2.0.*\n",
    "\n",
    "If you want literal replacement of a string (equivalent to `str.replace()`), you can set the optional `regex` parameter to `False`, rather than escaping each character. In this case both `pat` and `repl` must be strings:"
   ]
  },
  {
   "cell_type": "code",
   "execution_count": 37,
   "id": "81dc7715-8a56-4ffb-b868-87c05dbd4146",
   "metadata": {},
   "outputs": [],
   "source": [
    "dollars = pd.Series([\"12\", \"-$10\", \"$10,000\"], dtype=\"string\")"
   ]
  },
  {
   "cell_type": "code",
   "execution_count": 38,
   "id": "71ca9b06-d1a2-40ba-9106-082a5f2715b0",
   "metadata": {},
   "outputs": [
    {
     "data": {
      "text/plain": [
       "0         12\n",
       "1        -10\n",
       "2    $10,000\n",
       "dtype: string"
      ]
     },
     "execution_count": 38,
     "metadata": {},
     "output_type": "execute_result"
    }
   ],
   "source": [
    "# These lines are equivalent\n",
    "dollars.str.replace(r\"-\\$\", \"-\", regex=True)"
   ]
  },
  {
   "cell_type": "code",
   "execution_count": 39,
   "id": "dc7aec85-30f7-4f16-8ce2-256e8d444a18",
   "metadata": {},
   "outputs": [
    {
     "data": {
      "text/plain": [
       "0         12\n",
       "1        -10\n",
       "2    $10,000\n",
       "dtype: string"
      ]
     },
     "execution_count": 39,
     "metadata": {},
     "output_type": "execute_result"
    }
   ],
   "source": [
    "dollars.str.replace(\"-$\", \"-\", regex=False)"
   ]
  },
  {
   "cell_type": "markdown",
   "id": "297ad5e3-b84a-4318-a491-64f0d57486b6",
   "metadata": {},
   "source": [
    "The `replace` method can also take a callable as replacement. It is called on every `pat` using `re.sub()`. The callable should expect one positional argument (a regex object) and return a string."
   ]
  },
  {
   "cell_type": "code",
   "execution_count": 40,
   "id": "c6306548-40ee-47f3-b792-72f3f141bc31",
   "metadata": {},
   "outputs": [
    {
     "data": {
      "text/plain": [
       "0    oof 123\n",
       "1    rab zab\n",
       "2       <NA>\n",
       "dtype: string"
      ]
     },
     "execution_count": 40,
     "metadata": {},
     "output_type": "execute_result"
    }
   ],
   "source": [
    "# Reverse every lowercase alphabetic word\n",
    "pat = r\"[a-z]+\"\n",
    "\n",
    "def repl(m):\n",
    "    return m.group(0)[::-1]\n",
    "\n",
    "pd.Series([\"foo 123\", \"bar baz\", np.nan], dtype=\"string\").str.replace(\n",
    "    pat, repl, regex=True\n",
    ")"
   ]
  },
  {
   "cell_type": "code",
   "execution_count": 41,
   "id": "e275eb90-7f7f-4eee-a288-1fe887f34911",
   "metadata": {},
   "outputs": [
    {
     "data": {
      "text/plain": [
       "0     bAR\n",
       "1    <NA>\n",
       "dtype: string"
      ]
     },
     "execution_count": 41,
     "metadata": {},
     "output_type": "execute_result"
    }
   ],
   "source": [
    "# Using regex groups\n",
    "pat = r\"(?P<one>\\w+) (?P<two>\\w+) (?P<three>\\w+)\"\n",
    "\n",
    "def repl(m):\n",
    "    return m.group(\"two\").swapcase()\n",
    "\n",
    "pd.Series([\"Foo Bar Baz\", np.nan], dtype=\"string\").str.replace(\n",
    "    pat, repl, regex=True\n",
    ")"
   ]
  },
  {
   "cell_type": "markdown",
   "id": "11bd854e-6d6a-4db3-be5a-099b578554f3",
   "metadata": {},
   "source": [
    "The `replace` method also accepts a compiled regular expression object from `re.compile()` as a pattern. All flags should be included in the compiled regular expression object."
   ]
  },
  {
   "cell_type": "code",
   "execution_count": 42,
   "id": "a28fd20d-939c-45d9-83f8-d7799562a0c0",
   "metadata": {},
   "outputs": [
    {
     "data": {
      "text/plain": [
       "0           A\n",
       "1           B\n",
       "2           C\n",
       "3    XX-XX ba\n",
       "4    XX-XX ca\n",
       "5            \n",
       "6        <NA>\n",
       "7    XX-XX BA\n",
       "8      XX-XX \n",
       "9     XX-XX t\n",
       "dtype: string"
      ]
     },
     "execution_count": 42,
     "metadata": {},
     "output_type": "execute_result"
    }
   ],
   "source": [
    "import re\n",
    "\n",
    "regex_pat = re.compile(r\"^.a|dog\", flags=re.IGNORECASE)\n",
    "\n",
    "s3.str.replace(regex_pat, \"XX-XX \", regex=True)"
   ]
  },
  {
   "cell_type": "markdown",
   "id": "891c14fe-6d7a-4ddd-a5f2-933c02b228b5",
   "metadata": {},
   "source": [
    "Including a flags argument when calling replace with a compiled regular expression object will raise a ValueError."
   ]
  },
  {
   "cell_type": "code",
   "execution_count": 43,
   "id": "0d0416d3-5d30-48f3-91fb-68a147de0058",
   "metadata": {},
   "outputs": [
    {
     "name": "stdout",
     "output_type": "stream",
     "text": [
      "---------------------------------------------------------------------\n",
      "ValueError: case and flags cannot be set when pat is a compiled regex\n"
     ]
    }
   ],
   "source": [
    "try:\n",
    "    s3.str.replace(regex_pat, 'XX-XX ', flags=re.IGNORECASE)\n",
    "except:\n",
    "    print('---------------------------------------------------------------------')\n",
    "    print('ValueError: case and flags cannot be set when pat is a compiled regex')"
   ]
  },
  {
   "cell_type": "markdown",
   "id": "d1e0da38-f03f-4e29-a155-d1727ae2483c",
   "metadata": {},
   "source": [
    "## Concatenation\n",
    "There are several ways to concatenate a `Series` or `Index`, either with itself or others, all based on `cat()`, resp. `Index.str.cat`.\n",
    "\n",
    "### Concatenating a single Series into a string\n",
    "The content of a `Series` (or `Index`) can be concatenated:"
   ]
  },
  {
   "cell_type": "code",
   "execution_count": 44,
   "id": "c7db262c-2c75-4927-bc7a-e743813efd53",
   "metadata": {},
   "outputs": [
    {
     "data": {
      "text/plain": [
       "'a,b,c,d'"
      ]
     },
     "execution_count": 44,
     "metadata": {},
     "output_type": "execute_result"
    }
   ],
   "source": [
    "s = pd.Series([\"a\", \"b\", \"c\", \"d\"], dtype=\"string\")\n",
    "s.str.cat(sep=\",\")"
   ]
  },
  {
   "cell_type": "markdown",
   "id": "c6a00002-e483-4074-9566-5b90f97e26cb",
   "metadata": {},
   "source": [
    "If not specified, the keyword `sep` for the separator defaults to the empty string, `sep=''`:"
   ]
  },
  {
   "cell_type": "code",
   "execution_count": 45,
   "id": "c04c1d86-e9f3-441b-b363-7dd86c261f7b",
   "metadata": {},
   "outputs": [
    {
     "data": {
      "text/plain": [
       "'abcd'"
      ]
     },
     "execution_count": 45,
     "metadata": {},
     "output_type": "execute_result"
    }
   ],
   "source": [
    "s.str.cat()"
   ]
  },
  {
   "cell_type": "markdown",
   "id": "4fbe9e0c-c2ce-4cc5-9193-a9fa491d0827",
   "metadata": {},
   "source": [
    "By default, missing values are ignored. Using `na_rep`, they can be given a representation:"
   ]
  },
  {
   "cell_type": "code",
   "execution_count": 46,
   "id": "0e55caf4-76ed-4930-a2ec-f739251e1188",
   "metadata": {},
   "outputs": [
    {
     "data": {
      "text/plain": [
       "'a,b,d'"
      ]
     },
     "execution_count": 46,
     "metadata": {},
     "output_type": "execute_result"
    }
   ],
   "source": [
    "t = pd.Series([\"a\", \"b\", np.nan, \"d\"], dtype=\"string\")\n",
    "t.str.cat(sep=\",\")"
   ]
  },
  {
   "cell_type": "code",
   "execution_count": 47,
   "id": "cd5a642f-6e72-4077-a189-e58079fccc37",
   "metadata": {},
   "outputs": [
    {
     "data": {
      "text/plain": [
       "'a,b,-,d'"
      ]
     },
     "execution_count": 47,
     "metadata": {},
     "output_type": "execute_result"
    }
   ],
   "source": [
    "t.str.cat(sep=\",\", na_rep=\"-\")"
   ]
  },
  {
   "cell_type": "markdown",
   "id": "d3184636-d55a-4b40-a2a2-0e079d4b0d56",
   "metadata": {},
   "source": [
    "### Concatenating a Series and something list-like into a Series\n",
    "The first argument to cat() can be a list-like object, provided that it matches the length of the calling Series (or Index)."
   ]
  },
  {
   "cell_type": "code",
   "execution_count": 48,
   "id": "f60d3f66-f104-4f61-92b8-cfc2a85a6146",
   "metadata": {},
   "outputs": [
    {
     "data": {
      "text/plain": [
       "0    aA\n",
       "1    bB\n",
       "2    cC\n",
       "3    dD\n",
       "dtype: string"
      ]
     },
     "execution_count": 48,
     "metadata": {},
     "output_type": "execute_result"
    }
   ],
   "source": [
    "s.str.cat([\"A\", \"B\", \"C\", \"D\"])"
   ]
  },
  {
   "cell_type": "markdown",
   "id": "41f6bafc-ad82-4fbf-bb0c-efb647a408fa",
   "metadata": {},
   "source": [
    "Missing values on either side will result in missing values in the result as well, unless na_rep is specified:"
   ]
  },
  {
   "cell_type": "code",
   "execution_count": 49,
   "id": "3d6ff9f7-4d9c-482d-91e4-36afb2434775",
   "metadata": {},
   "outputs": [
    {
     "data": {
      "text/plain": [
       "0      aa\n",
       "1      bb\n",
       "2    <NA>\n",
       "3      dd\n",
       "dtype: string"
      ]
     },
     "execution_count": 49,
     "metadata": {},
     "output_type": "execute_result"
    }
   ],
   "source": [
    "s.str.cat(t)"
   ]
  },
  {
   "cell_type": "code",
   "execution_count": 50,
   "id": "b4967299-f9be-4ff5-a81e-e24afacd4a31",
   "metadata": {},
   "outputs": [
    {
     "data": {
      "text/plain": [
       "0    aa\n",
       "1    bb\n",
       "2    c-\n",
       "3    dd\n",
       "dtype: string"
      ]
     },
     "execution_count": 50,
     "metadata": {},
     "output_type": "execute_result"
    }
   ],
   "source": [
    "s.str.cat(t, na_rep=\"-\")"
   ]
  },
  {
   "cell_type": "markdown",
   "id": "cd652fad-7d2a-4e81-8254-d133446a5479",
   "metadata": {},
   "source": [
    "### Concatenating a Series and something array-like into a Series\n",
    "The parameter `others` can also be two-dimensional. In this case, the number or rows must match the lengths of the calling `Series` (or `Index`)."
   ]
  },
  {
   "cell_type": "code",
   "execution_count": 51,
   "id": "30333ee0-07d7-4b29-ae0e-4757f7d9a916",
   "metadata": {},
   "outputs": [
    {
     "data": {
      "text/plain": [
       "0    a\n",
       "1    b\n",
       "2    c\n",
       "3    d\n",
       "dtype: string"
      ]
     },
     "execution_count": 51,
     "metadata": {},
     "output_type": "execute_result"
    }
   ],
   "source": [
    "d = pd.concat([t, s], axis=1)\n",
    "s"
   ]
  },
  {
   "cell_type": "code",
   "execution_count": 52,
   "id": "ed40c544-a5fd-46ef-974e-ea4b269fb05f",
   "metadata": {},
   "outputs": [
    {
     "data": {
      "text/html": [
       "<div>\n",
       "<style scoped>\n",
       "    .dataframe tbody tr th:only-of-type {\n",
       "        vertical-align: middle;\n",
       "    }\n",
       "\n",
       "    .dataframe tbody tr th {\n",
       "        vertical-align: top;\n",
       "    }\n",
       "\n",
       "    .dataframe thead th {\n",
       "        text-align: right;\n",
       "    }\n",
       "</style>\n",
       "<table border=\"1\" class=\"dataframe\">\n",
       "  <thead>\n",
       "    <tr style=\"text-align: right;\">\n",
       "      <th></th>\n",
       "      <th>0</th>\n",
       "      <th>1</th>\n",
       "    </tr>\n",
       "  </thead>\n",
       "  <tbody>\n",
       "    <tr>\n",
       "      <th>0</th>\n",
       "      <td>a</td>\n",
       "      <td>a</td>\n",
       "    </tr>\n",
       "    <tr>\n",
       "      <th>1</th>\n",
       "      <td>b</td>\n",
       "      <td>b</td>\n",
       "    </tr>\n",
       "    <tr>\n",
       "      <th>2</th>\n",
       "      <td>&lt;NA&gt;</td>\n",
       "      <td>c</td>\n",
       "    </tr>\n",
       "    <tr>\n",
       "      <th>3</th>\n",
       "      <td>d</td>\n",
       "      <td>d</td>\n",
       "    </tr>\n",
       "  </tbody>\n",
       "</table>\n",
       "</div>"
      ],
      "text/plain": [
       "      0  1\n",
       "0     a  a\n",
       "1     b  b\n",
       "2  <NA>  c\n",
       "3     d  d"
      ]
     },
     "execution_count": 52,
     "metadata": {},
     "output_type": "execute_result"
    }
   ],
   "source": [
    "d"
   ]
  },
  {
   "cell_type": "code",
   "execution_count": 53,
   "id": "5a55bddb-4d6b-4231-99e6-2d650800aef2",
   "metadata": {},
   "outputs": [
    {
     "data": {
      "text/plain": [
       "0    aaa\n",
       "1    bbb\n",
       "2    c-c\n",
       "3    ddd\n",
       "dtype: string"
      ]
     },
     "execution_count": 53,
     "metadata": {},
     "output_type": "execute_result"
    }
   ],
   "source": [
    "s.str.cat(d, na_rep=\"-\")"
   ]
  },
  {
   "cell_type": "markdown",
   "id": "8309eb2f-090e-487d-bced-92d1c75c0d70",
   "metadata": {},
   "source": [
    "### Concatenating a Series and an indexed object into a Series, with alignment\n",
    "For concatenation with a Series or DataFrame, it is possible to align the indexes before concatenation by setting the join-keyword."
   ]
  },
  {
   "cell_type": "code",
   "execution_count": 54,
   "id": "2c890fcc-efe3-4f96-919f-78c1c53ac6a9",
   "metadata": {},
   "outputs": [
    {
     "data": {
      "text/plain": [
       "0    a\n",
       "1    b\n",
       "2    c\n",
       "3    d\n",
       "dtype: string"
      ]
     },
     "execution_count": 54,
     "metadata": {},
     "output_type": "execute_result"
    }
   ],
   "source": [
    "u = pd.Series([\"b\", \"d\", \"a\", \"c\"], index=[1, 3, 0, 2], dtype=\"string\")\n",
    "s"
   ]
  },
  {
   "cell_type": "code",
   "execution_count": 55,
   "id": "4b69b703-a6ad-44ae-aba5-8f87aa0f2cc5",
   "metadata": {},
   "outputs": [
    {
     "data": {
      "text/plain": [
       "1    b\n",
       "3    d\n",
       "0    a\n",
       "2    c\n",
       "dtype: string"
      ]
     },
     "execution_count": 55,
     "metadata": {},
     "output_type": "execute_result"
    }
   ],
   "source": [
    "u"
   ]
  },
  {
   "cell_type": "code",
   "execution_count": 56,
   "id": "2fc6b628-9961-4f83-8514-0766303cb77d",
   "metadata": {},
   "outputs": [
    {
     "data": {
      "text/plain": [
       "0    aa\n",
       "1    bb\n",
       "2    cc\n",
       "3    dd\n",
       "dtype: string"
      ]
     },
     "execution_count": 56,
     "metadata": {},
     "output_type": "execute_result"
    }
   ],
   "source": [
    "s.str.cat(u)"
   ]
  },
  {
   "cell_type": "code",
   "execution_count": 57,
   "id": "d1dd406f-fb35-433e-b196-37e14a92958f",
   "metadata": {},
   "outputs": [
    {
     "data": {
      "text/plain": [
       "0    aa\n",
       "1    bb\n",
       "2    cc\n",
       "3    dd\n",
       "dtype: string"
      ]
     },
     "execution_count": 57,
     "metadata": {},
     "output_type": "execute_result"
    }
   ],
   "source": [
    "s.str.cat(u, join=\"left\")"
   ]
  },
  {
   "cell_type": "markdown",
   "id": "15f70506-4578-483f-9e29-8594d273d91a",
   "metadata": {},
   "source": [
    ">Warning\n",
    ">\n",
    ">If the join keyword is not passed, the method cat() will currently fall back to the behavior before version 0.23.0 (i.e. no alignment), but a FutureWarning will be raised if any of the involved indexes differ, since this default will change to join='left' in a future version.\n",
    "\n",
    "The usual options are available for join (one of 'left', 'outer', 'inner', 'right'). In particular, alignment also means that the different lengths do not need to coincide anymore."
   ]
  },
  {
   "cell_type": "code",
   "execution_count": 58,
   "id": "547661df-aeb1-46fc-843a-161f4caa8631",
   "metadata": {},
   "outputs": [
    {
     "data": {
      "text/plain": [
       "0    a\n",
       "1    b\n",
       "2    c\n",
       "3    d\n",
       "dtype: string"
      ]
     },
     "execution_count": 58,
     "metadata": {},
     "output_type": "execute_result"
    }
   ],
   "source": [
    "v = pd.Series([\"z\", \"a\", \"b\", \"d\", \"e\"], index=[-1, 0, 1, 3, 4], dtype=\"string\")\n",
    "s"
   ]
  },
  {
   "cell_type": "code",
   "execution_count": 59,
   "id": "1a4987e9-fd4c-4b68-8285-fe1499bc523f",
   "metadata": {},
   "outputs": [
    {
     "data": {
      "text/plain": [
       "-1    z\n",
       " 0    a\n",
       " 1    b\n",
       " 3    d\n",
       " 4    e\n",
       "dtype: string"
      ]
     },
     "execution_count": 59,
     "metadata": {},
     "output_type": "execute_result"
    }
   ],
   "source": [
    "v"
   ]
  },
  {
   "cell_type": "code",
   "execution_count": 60,
   "id": "1b189bef-70b5-4538-81bf-40dfd0b8bfd2",
   "metadata": {},
   "outputs": [
    {
     "data": {
      "text/plain": [
       "0    aa\n",
       "1    bb\n",
       "2    c-\n",
       "3    dd\n",
       "dtype: string"
      ]
     },
     "execution_count": 60,
     "metadata": {},
     "output_type": "execute_result"
    }
   ],
   "source": [
    "s.str.cat(v, join=\"left\", na_rep=\"-\")"
   ]
  },
  {
   "cell_type": "code",
   "execution_count": 61,
   "id": "0ccc383e-3a91-42b2-8bf3-ede2249bf5c7",
   "metadata": {},
   "outputs": [
    {
     "data": {
      "text/plain": [
       "-1    -z\n",
       " 0    aa\n",
       " 1    bb\n",
       " 2    c-\n",
       " 3    dd\n",
       " 4    -e\n",
       "dtype: string"
      ]
     },
     "execution_count": 61,
     "metadata": {},
     "output_type": "execute_result"
    }
   ],
   "source": [
    "s.str.cat(v, join=\"outer\", na_rep=\"-\")"
   ]
  },
  {
   "cell_type": "markdown",
   "id": "2f3f0c51-7b5b-460e-8dca-42c6aa5484f5",
   "metadata": {},
   "source": [
    "The same alignment can be used when others is a DataFrame:"
   ]
  },
  {
   "cell_type": "code",
   "execution_count": 62,
   "id": "e9f9d7ef-76f3-43a1-a19f-1eb594aa50ed",
   "metadata": {},
   "outputs": [
    {
     "data": {
      "text/plain": [
       "0    a\n",
       "1    b\n",
       "2    c\n",
       "3    d\n",
       "dtype: string"
      ]
     },
     "execution_count": 62,
     "metadata": {},
     "output_type": "execute_result"
    }
   ],
   "source": [
    "f = d.loc[[3, 2, 1, 0], :]\n",
    "s"
   ]
  },
  {
   "cell_type": "code",
   "execution_count": 63,
   "id": "bc09065e-6a5d-42c6-9406-7862a53add29",
   "metadata": {},
   "outputs": [
    {
     "data": {
      "text/html": [
       "<div>\n",
       "<style scoped>\n",
       "    .dataframe tbody tr th:only-of-type {\n",
       "        vertical-align: middle;\n",
       "    }\n",
       "\n",
       "    .dataframe tbody tr th {\n",
       "        vertical-align: top;\n",
       "    }\n",
       "\n",
       "    .dataframe thead th {\n",
       "        text-align: right;\n",
       "    }\n",
       "</style>\n",
       "<table border=\"1\" class=\"dataframe\">\n",
       "  <thead>\n",
       "    <tr style=\"text-align: right;\">\n",
       "      <th></th>\n",
       "      <th>0</th>\n",
       "      <th>1</th>\n",
       "    </tr>\n",
       "  </thead>\n",
       "  <tbody>\n",
       "    <tr>\n",
       "      <th>3</th>\n",
       "      <td>d</td>\n",
       "      <td>d</td>\n",
       "    </tr>\n",
       "    <tr>\n",
       "      <th>2</th>\n",
       "      <td>&lt;NA&gt;</td>\n",
       "      <td>c</td>\n",
       "    </tr>\n",
       "    <tr>\n",
       "      <th>1</th>\n",
       "      <td>b</td>\n",
       "      <td>b</td>\n",
       "    </tr>\n",
       "    <tr>\n",
       "      <th>0</th>\n",
       "      <td>a</td>\n",
       "      <td>a</td>\n",
       "    </tr>\n",
       "  </tbody>\n",
       "</table>\n",
       "</div>"
      ],
      "text/plain": [
       "      0  1\n",
       "3     d  d\n",
       "2  <NA>  c\n",
       "1     b  b\n",
       "0     a  a"
      ]
     },
     "execution_count": 63,
     "metadata": {},
     "output_type": "execute_result"
    }
   ],
   "source": [
    "f"
   ]
  },
  {
   "cell_type": "code",
   "execution_count": 64,
   "id": "721ec76a-aade-4a70-9178-371ea9a02f7c",
   "metadata": {},
   "outputs": [
    {
     "data": {
      "text/plain": [
       "0    aaa\n",
       "1    bbb\n",
       "2    c-c\n",
       "3    ddd\n",
       "dtype: string"
      ]
     },
     "execution_count": 64,
     "metadata": {},
     "output_type": "execute_result"
    }
   ],
   "source": [
    "s.str.cat(f, join=\"left\", na_rep=\"-\")"
   ]
  },
  {
   "cell_type": "markdown",
   "id": "a547b8d3-34a8-4852-b953-c2d1c87d33d0",
   "metadata": {},
   "source": [
    "### Concatenating a Series and many objects into a Series\n",
    "Several array-like items (specifically: `Series`, `Index`, and 1-dimensional variants of `np.ndarray`) can be combined in a list-like container (including iterators, `dict`-views, etc.)."
   ]
  },
  {
   "cell_type": "code",
   "execution_count": 65,
   "id": "5854c01b-3a00-454e-be50-f9769f845970",
   "metadata": {},
   "outputs": [
    {
     "data": {
      "text/plain": [
       "0    a\n",
       "1    b\n",
       "2    c\n",
       "3    d\n",
       "dtype: string"
      ]
     },
     "execution_count": 65,
     "metadata": {},
     "output_type": "execute_result"
    }
   ],
   "source": [
    "s"
   ]
  },
  {
   "cell_type": "code",
   "execution_count": 66,
   "id": "0b266390-cf4a-4316-b8c0-c592013f5235",
   "metadata": {},
   "outputs": [
    {
     "data": {
      "text/plain": [
       "1    b\n",
       "3    d\n",
       "0    a\n",
       "2    c\n",
       "dtype: string"
      ]
     },
     "execution_count": 66,
     "metadata": {},
     "output_type": "execute_result"
    }
   ],
   "source": [
    "u"
   ]
  },
  {
   "cell_type": "code",
   "execution_count": 67,
   "id": "af0fb188-4a3b-44ea-aa3a-87d8fefc44a5",
   "metadata": {},
   "outputs": [
    {
     "data": {
      "text/plain": [
       "0    aab\n",
       "1    bbd\n",
       "2    cca\n",
       "3    ddc\n",
       "dtype: string"
      ]
     },
     "execution_count": 67,
     "metadata": {},
     "output_type": "execute_result"
    }
   ],
   "source": [
    "s.str.cat([u, u.to_numpy()], join=\"left\")"
   ]
  },
  {
   "cell_type": "markdown",
   "id": "3f614ded-772c-47f3-b628-37426afb3d64",
   "metadata": {},
   "source": [
    "All elements without an index (e.g. `np.ndarray`) within the passed list-like must match in length to the calling `Series` (or `Index`), but `Series` and `Index` may have arbitrary length (as long as alignment is not disabled with `join=None`):"
   ]
  },
  {
   "cell_type": "code",
   "execution_count": 68,
   "id": "116cbea8-b23a-474d-aa92-31a27b93cf32",
   "metadata": {},
   "outputs": [
    {
     "data": {
      "text/plain": [
       "-1    z\n",
       " 0    a\n",
       " 1    b\n",
       " 3    d\n",
       " 4    e\n",
       "dtype: string"
      ]
     },
     "execution_count": 68,
     "metadata": {},
     "output_type": "execute_result"
    }
   ],
   "source": [
    "v"
   ]
  },
  {
   "cell_type": "code",
   "execution_count": 69,
   "id": "b019a91e-4513-43d0-bf33-e0d45e6da176",
   "metadata": {},
   "outputs": [
    {
     "data": {
      "text/plain": [
       "-1    -z--\n",
       " 0    aaab\n",
       " 1    bbbd\n",
       " 2    c-ca\n",
       " 3    dddc\n",
       " 4    -e--\n",
       "dtype: string"
      ]
     },
     "execution_count": 69,
     "metadata": {},
     "output_type": "execute_result"
    }
   ],
   "source": [
    "s.str.cat([v, u, u.to_numpy()], join=\"outer\", na_rep=\"-\")"
   ]
  },
  {
   "cell_type": "markdown",
   "id": "f989dd6b-e948-4b06-941b-3230436767d1",
   "metadata": {},
   "source": [
    "If using `join='right'` on a list-like of `others` that contains different indexes, the union of these indexes will be used as the basis for the final concatenation:"
   ]
  },
  {
   "cell_type": "code",
   "execution_count": 70,
   "id": "980065c5-05f8-4511-9b74-3ff6a7cbed8c",
   "metadata": {},
   "outputs": [
    {
     "data": {
      "text/plain": [
       "3    d\n",
       "dtype: string"
      ]
     },
     "execution_count": 70,
     "metadata": {},
     "output_type": "execute_result"
    }
   ],
   "source": [
    "u.loc[[3]]"
   ]
  },
  {
   "cell_type": "code",
   "execution_count": 71,
   "id": "959d703e-51e1-4877-8f7a-64b7bb7e5837",
   "metadata": {},
   "outputs": [
    {
     "data": {
      "text/plain": [
       "-1    z\n",
       " 0    a\n",
       "dtype: string"
      ]
     },
     "execution_count": 71,
     "metadata": {},
     "output_type": "execute_result"
    }
   ],
   "source": [
    "v.loc[[-1, 0]]"
   ]
  },
  {
   "cell_type": "code",
   "execution_count": 72,
   "id": "dada00de-8809-4dad-93c3-9ddde074efd0",
   "metadata": {},
   "outputs": [
    {
     "data": {
      "text/plain": [
       "-1    --z\n",
       " 0    a-a\n",
       " 3    dd-\n",
       "dtype: string"
      ]
     },
     "execution_count": 72,
     "metadata": {},
     "output_type": "execute_result"
    }
   ],
   "source": [
    "s.str.cat([u.loc[[3]], v.loc[[-1, 0]]], join=\"right\", na_rep=\"-\")"
   ]
  },
  {
   "cell_type": "markdown",
   "id": "1e58030d-f3ce-4a81-97c9-24dddb77031d",
   "metadata": {},
   "source": [
    "## Indexing with `.str`\n",
    "You can use `[]` notation to directly index by position locations. If you index past the end of the string, the result will be a `NaN`."
   ]
  },
  {
   "cell_type": "code",
   "execution_count": 73,
   "id": "a8ad77d6-20fb-4a68-9556-cba112e5fad1",
   "metadata": {},
   "outputs": [
    {
     "data": {
      "text/plain": [
       "0       A\n",
       "1       B\n",
       "2       C\n",
       "3       A\n",
       "4       B\n",
       "5    <NA>\n",
       "6       C\n",
       "7       d\n",
       "8       c\n",
       "dtype: string"
      ]
     },
     "execution_count": 73,
     "metadata": {},
     "output_type": "execute_result"
    }
   ],
   "source": [
    "s = pd.Series(\n",
    "    [\"A\", \"B\", \"C\", \"Aaba\", \"Baca\", np.nan, \"CABA\", \"dog\", \"cat\"], dtype=\"string\"\n",
    ")\n",
    "s.str[0]"
   ]
  },
  {
   "cell_type": "code",
   "execution_count": 74,
   "id": "64cb0f3a-7430-49d8-bd91-695900bd23e3",
   "metadata": {},
   "outputs": [
    {
     "data": {
      "text/plain": [
       "0    <NA>\n",
       "1    <NA>\n",
       "2    <NA>\n",
       "3       a\n",
       "4       a\n",
       "5    <NA>\n",
       "6       A\n",
       "7       o\n",
       "8       a\n",
       "dtype: string"
      ]
     },
     "execution_count": 74,
     "metadata": {},
     "output_type": "execute_result"
    }
   ],
   "source": [
    "s.str[1]"
   ]
  },
  {
   "cell_type": "markdown",
   "id": "6cd4dc6f-a6cd-46db-b903-1d97065c76cb",
   "metadata": {},
   "source": [
    "## Extracting substrings\n",
    "### Extract first match in each subject (extract)\n",
    ">Warning\n",
    ">\n",
    ">Before version 0.23, argument `expand` of the `extract` method defaulted to `False`. When `expand=False`, `expand` returns a `Series`, `Index`, or `DataFrame`, depending on the subject and regular expression pattern. When `expand=True`, it always returns a DataFrame, which is more consistent and less confusing from the perspective of a user. `expand=True` has been the default since version 0.23.0.\n",
    "\n",
    "The `extract` method accepts a `regular expression` with at least one capture group.\n",
    "\n",
    "Extracting a regular expression with more than one group returns a DataFrame with one column per group."
   ]
  },
  {
   "cell_type": "code",
   "execution_count": 75,
   "id": "d1a826e2-db09-4627-9112-2c0d1c539ece",
   "metadata": {},
   "outputs": [
    {
     "data": {
      "text/html": [
       "<div>\n",
       "<style scoped>\n",
       "    .dataframe tbody tr th:only-of-type {\n",
       "        vertical-align: middle;\n",
       "    }\n",
       "\n",
       "    .dataframe tbody tr th {\n",
       "        vertical-align: top;\n",
       "    }\n",
       "\n",
       "    .dataframe thead th {\n",
       "        text-align: right;\n",
       "    }\n",
       "</style>\n",
       "<table border=\"1\" class=\"dataframe\">\n",
       "  <thead>\n",
       "    <tr style=\"text-align: right;\">\n",
       "      <th></th>\n",
       "      <th>0</th>\n",
       "      <th>1</th>\n",
       "    </tr>\n",
       "  </thead>\n",
       "  <tbody>\n",
       "    <tr>\n",
       "      <th>0</th>\n",
       "      <td>a</td>\n",
       "      <td>1</td>\n",
       "    </tr>\n",
       "    <tr>\n",
       "      <th>1</th>\n",
       "      <td>b</td>\n",
       "      <td>2</td>\n",
       "    </tr>\n",
       "    <tr>\n",
       "      <th>2</th>\n",
       "      <td>&lt;NA&gt;</td>\n",
       "      <td>&lt;NA&gt;</td>\n",
       "    </tr>\n",
       "  </tbody>\n",
       "</table>\n",
       "</div>"
      ],
      "text/plain": [
       "      0     1\n",
       "0     a     1\n",
       "1     b     2\n",
       "2  <NA>  <NA>"
      ]
     },
     "execution_count": 75,
     "metadata": {},
     "output_type": "execute_result"
    }
   ],
   "source": [
    "pd.Series(\n",
    "    [\"a1\", \"b2\", \"c3\"],\n",
    "    dtype=\"string\",\n",
    ").str.extract(r\"([ab])(\\d)\", expand=False)"
   ]
  },
  {
   "cell_type": "markdown",
   "id": "d6ceb9a1-7376-415e-8abd-f190f9036d37",
   "metadata": {},
   "source": [
    "Elements that do not match return a row filled with NaN. Thus, a Series of messy strings can be “converted” into a like-indexed Series or DataFrame of cleaned-up or more useful strings, without necessitating get() to access tuples or re.match objects. The dtype of the result is always object, even if no match is found and the result only contains NaN.\n",
    "\n",
    "Named groups like"
   ]
  },
  {
   "cell_type": "code",
   "execution_count": 76,
   "id": "b7b9c79f-0459-4d26-a702-decc8e2628fe",
   "metadata": {},
   "outputs": [
    {
     "data": {
      "text/html": [
       "<div>\n",
       "<style scoped>\n",
       "    .dataframe tbody tr th:only-of-type {\n",
       "        vertical-align: middle;\n",
       "    }\n",
       "\n",
       "    .dataframe tbody tr th {\n",
       "        vertical-align: top;\n",
       "    }\n",
       "\n",
       "    .dataframe thead th {\n",
       "        text-align: right;\n",
       "    }\n",
       "</style>\n",
       "<table border=\"1\" class=\"dataframe\">\n",
       "  <thead>\n",
       "    <tr style=\"text-align: right;\">\n",
       "      <th></th>\n",
       "      <th>letter</th>\n",
       "      <th>digit</th>\n",
       "    </tr>\n",
       "  </thead>\n",
       "  <tbody>\n",
       "    <tr>\n",
       "      <th>0</th>\n",
       "      <td>a</td>\n",
       "      <td>1</td>\n",
       "    </tr>\n",
       "    <tr>\n",
       "      <th>1</th>\n",
       "      <td>b</td>\n",
       "      <td>2</td>\n",
       "    </tr>\n",
       "    <tr>\n",
       "      <th>2</th>\n",
       "      <td>&lt;NA&gt;</td>\n",
       "      <td>&lt;NA&gt;</td>\n",
       "    </tr>\n",
       "  </tbody>\n",
       "</table>\n",
       "</div>"
      ],
      "text/plain": [
       "  letter digit\n",
       "0      a     1\n",
       "1      b     2\n",
       "2   <NA>  <NA>"
      ]
     },
     "execution_count": 76,
     "metadata": {},
     "output_type": "execute_result"
    }
   ],
   "source": [
    "pd.Series([\"a1\", \"b2\", \"c3\"], dtype=\"string\").str.extract(\n",
    "    r\"(?P<letter>[ab])(?P<digit>\\d)\", expand=False\n",
    ")"
   ]
  },
  {
   "cell_type": "markdown",
   "id": "b4460504-a36e-4beb-86e2-ee157bbeb605",
   "metadata": {},
   "source": [
    "and optional groups like"
   ]
  },
  {
   "cell_type": "code",
   "execution_count": 77,
   "id": "843ad89b-72d4-4bf3-93ea-21f160719b0c",
   "metadata": {},
   "outputs": [
    {
     "data": {
      "text/html": [
       "<div>\n",
       "<style scoped>\n",
       "    .dataframe tbody tr th:only-of-type {\n",
       "        vertical-align: middle;\n",
       "    }\n",
       "\n",
       "    .dataframe tbody tr th {\n",
       "        vertical-align: top;\n",
       "    }\n",
       "\n",
       "    .dataframe thead th {\n",
       "        text-align: right;\n",
       "    }\n",
       "</style>\n",
       "<table border=\"1\" class=\"dataframe\">\n",
       "  <thead>\n",
       "    <tr style=\"text-align: right;\">\n",
       "      <th></th>\n",
       "      <th>0</th>\n",
       "      <th>1</th>\n",
       "    </tr>\n",
       "  </thead>\n",
       "  <tbody>\n",
       "    <tr>\n",
       "      <th>0</th>\n",
       "      <td>a</td>\n",
       "      <td>1</td>\n",
       "    </tr>\n",
       "    <tr>\n",
       "      <th>1</th>\n",
       "      <td>b</td>\n",
       "      <td>2</td>\n",
       "    </tr>\n",
       "    <tr>\n",
       "      <th>2</th>\n",
       "      <td>&lt;NA&gt;</td>\n",
       "      <td>3</td>\n",
       "    </tr>\n",
       "  </tbody>\n",
       "</table>\n",
       "</div>"
      ],
      "text/plain": [
       "      0  1\n",
       "0     a  1\n",
       "1     b  2\n",
       "2  <NA>  3"
      ]
     },
     "execution_count": 77,
     "metadata": {},
     "output_type": "execute_result"
    }
   ],
   "source": [
    "pd.Series([\"a1\", \"b2\", \"3\"],\n",
    "          dtype=\"string\",\n",
    ").str.extract(r\"([ab])?(\\d)\", expand=False)"
   ]
  },
  {
   "cell_type": "markdown",
   "id": "7d902d34-d2e8-47a8-bccd-704d9857ced1",
   "metadata": {},
   "source": [
    "can also be used. Note that any capture group names in the regular expression will be used for column names; otherwise capture group numbers will be used.\n",
    "\n",
    "Extracting a regular expression with one group returns a `DataFrame` with one column if `expand=True`."
   ]
  },
  {
   "cell_type": "code",
   "execution_count": 78,
   "id": "d3bce600-b67e-48af-9cce-c4adac5c71de",
   "metadata": {},
   "outputs": [
    {
     "data": {
      "text/html": [
       "<div>\n",
       "<style scoped>\n",
       "    .dataframe tbody tr th:only-of-type {\n",
       "        vertical-align: middle;\n",
       "    }\n",
       "\n",
       "    .dataframe tbody tr th {\n",
       "        vertical-align: top;\n",
       "    }\n",
       "\n",
       "    .dataframe thead th {\n",
       "        text-align: right;\n",
       "    }\n",
       "</style>\n",
       "<table border=\"1\" class=\"dataframe\">\n",
       "  <thead>\n",
       "    <tr style=\"text-align: right;\">\n",
       "      <th></th>\n",
       "      <th>0</th>\n",
       "    </tr>\n",
       "  </thead>\n",
       "  <tbody>\n",
       "    <tr>\n",
       "      <th>0</th>\n",
       "      <td>1</td>\n",
       "    </tr>\n",
       "    <tr>\n",
       "      <th>1</th>\n",
       "      <td>2</td>\n",
       "    </tr>\n",
       "    <tr>\n",
       "      <th>2</th>\n",
       "      <td>&lt;NA&gt;</td>\n",
       "    </tr>\n",
       "  </tbody>\n",
       "</table>\n",
       "</div>"
      ],
      "text/plain": [
       "      0\n",
       "0     1\n",
       "1     2\n",
       "2  <NA>"
      ]
     },
     "execution_count": 78,
     "metadata": {},
     "output_type": "execute_result"
    }
   ],
   "source": [
    "pd.Series([\"a1\", \"b2\", \"c3\"], dtype=\"string\").str.extract(r\"[ab](\\d)\", expand=True)"
   ]
  },
  {
   "cell_type": "markdown",
   "id": "546343fa-cac9-4e06-ab97-1c37e36a034b",
   "metadata": {},
   "source": [
    "It returns a Series if `expand=False`."
   ]
  },
  {
   "cell_type": "code",
   "execution_count": 79,
   "id": "9b68c042-cd2e-48b1-9159-928e80473814",
   "metadata": {},
   "outputs": [
    {
     "data": {
      "text/plain": [
       "0       1\n",
       "1       2\n",
       "2    <NA>\n",
       "dtype: string"
      ]
     },
     "execution_count": 79,
     "metadata": {},
     "output_type": "execute_result"
    }
   ],
   "source": [
    "pd.Series([\"a1\", \"b2\", \"c3\"], dtype=\"string\").str.extract(r\"[ab](\\d)\", expand=False)"
   ]
  },
  {
   "cell_type": "markdown",
   "id": "3e0dcec8-66d3-4914-bc60-27cd764b860e",
   "metadata": {},
   "source": [
    "Calling on an Index with a regex with exactly one capture group returns a DataFrame with one column if expand=True."
   ]
  },
  {
   "cell_type": "code",
   "execution_count": 80,
   "id": "a44d9dd5-c45d-41ed-a081-09334fc351a5",
   "metadata": {},
   "outputs": [
    {
     "data": {
      "text/plain": [
       "A11    a1\n",
       "B22    b2\n",
       "C33    c3\n",
       "dtype: string"
      ]
     },
     "execution_count": 80,
     "metadata": {},
     "output_type": "execute_result"
    }
   ],
   "source": [
    "s = pd.Series([\"a1\", \"b2\", \"c3\"], [\"A11\", \"B22\", \"C33\"], dtype=\"string\")\n",
    "s"
   ]
  },
  {
   "cell_type": "code",
   "execution_count": 81,
   "id": "4b72ed89-7dae-4096-ace6-c386625e2181",
   "metadata": {},
   "outputs": [
    {
     "data": {
      "text/html": [
       "<div>\n",
       "<style scoped>\n",
       "    .dataframe tbody tr th:only-of-type {\n",
       "        vertical-align: middle;\n",
       "    }\n",
       "\n",
       "    .dataframe tbody tr th {\n",
       "        vertical-align: top;\n",
       "    }\n",
       "\n",
       "    .dataframe thead th {\n",
       "        text-align: right;\n",
       "    }\n",
       "</style>\n",
       "<table border=\"1\" class=\"dataframe\">\n",
       "  <thead>\n",
       "    <tr style=\"text-align: right;\">\n",
       "      <th></th>\n",
       "      <th>letter</th>\n",
       "    </tr>\n",
       "  </thead>\n",
       "  <tbody>\n",
       "    <tr>\n",
       "      <th>0</th>\n",
       "      <td>A</td>\n",
       "    </tr>\n",
       "    <tr>\n",
       "      <th>1</th>\n",
       "      <td>B</td>\n",
       "    </tr>\n",
       "    <tr>\n",
       "      <th>2</th>\n",
       "      <td>C</td>\n",
       "    </tr>\n",
       "  </tbody>\n",
       "</table>\n",
       "</div>"
      ],
      "text/plain": [
       "  letter\n",
       "0      A\n",
       "1      B\n",
       "2      C"
      ]
     },
     "execution_count": 81,
     "metadata": {},
     "output_type": "execute_result"
    }
   ],
   "source": [
    "s.index.str.extract(\"(?P<letter>[a-zA-Z])\", expand=True)"
   ]
  },
  {
   "cell_type": "markdown",
   "id": "c2b49e38-aa36-4f49-a12a-d39b3128509e",
   "metadata": {},
   "source": [
    "It returns an `Index` if `expand=False`."
   ]
  },
  {
   "cell_type": "code",
   "execution_count": 82,
   "id": "c39ae717-d64e-4f2a-b4a5-31fe47d217c5",
   "metadata": {},
   "outputs": [
    {
     "data": {
      "text/plain": [
       "Index(['A', 'B', 'C'], dtype='object', name='letter')"
      ]
     },
     "execution_count": 82,
     "metadata": {},
     "output_type": "execute_result"
    }
   ],
   "source": [
    "s.index.str.extract(\"(?P<letter>[a-zA-Z])\", expand=False)"
   ]
  },
  {
   "cell_type": "markdown",
   "id": "4d8685c8-73d0-4014-81ab-c3afc0b11dd5",
   "metadata": {},
   "source": [
    "Calling on an `Index` with a regex with more than one capture group returns a `DataFrame` if `expand=True`."
   ]
  },
  {
   "cell_type": "code",
   "execution_count": 83,
   "id": "a65adea6-b58f-4d56-9bad-d7c22f1e1483",
   "metadata": {},
   "outputs": [
    {
     "data": {
      "text/html": [
       "<div>\n",
       "<style scoped>\n",
       "    .dataframe tbody tr th:only-of-type {\n",
       "        vertical-align: middle;\n",
       "    }\n",
       "\n",
       "    .dataframe tbody tr th {\n",
       "        vertical-align: top;\n",
       "    }\n",
       "\n",
       "    .dataframe thead th {\n",
       "        text-align: right;\n",
       "    }\n",
       "</style>\n",
       "<table border=\"1\" class=\"dataframe\">\n",
       "  <thead>\n",
       "    <tr style=\"text-align: right;\">\n",
       "      <th></th>\n",
       "      <th>letter</th>\n",
       "      <th>1</th>\n",
       "    </tr>\n",
       "  </thead>\n",
       "  <tbody>\n",
       "    <tr>\n",
       "      <th>0</th>\n",
       "      <td>A</td>\n",
       "      <td>11</td>\n",
       "    </tr>\n",
       "    <tr>\n",
       "      <th>1</th>\n",
       "      <td>B</td>\n",
       "      <td>22</td>\n",
       "    </tr>\n",
       "    <tr>\n",
       "      <th>2</th>\n",
       "      <td>C</td>\n",
       "      <td>33</td>\n",
       "    </tr>\n",
       "  </tbody>\n",
       "</table>\n",
       "</div>"
      ],
      "text/plain": [
       "  letter   1\n",
       "0      A  11\n",
       "1      B  22\n",
       "2      C  33"
      ]
     },
     "execution_count": 83,
     "metadata": {},
     "output_type": "execute_result"
    }
   ],
   "source": [
    "s.index.str.extract(\"(?P<letter>[a-zA-Z])([0-9]+)\", expand=True)"
   ]
  },
  {
   "cell_type": "markdown",
   "id": "23345207-7cc2-4ca3-8d62-346db171ef5f",
   "metadata": {},
   "source": [
    "It raises `ValueError` if `expand=False`.\n",
    "```python\n",
    "s.index.str.extract(\"(?P<letter>[a-zA-Z])([0-9]+)\", expand=False)\n",
    "-----------------------------------------------------------------\n",
    "ValueError: only one regex group is supported with Index\n",
    "```\n",
    "\n",
    "The table below summarizes the behavior of extract(expand=False) (input subject in first column, number of groups in regex in first row)\n",
    "\n",
    "|        | 1 group | >1 group   |\n",
    "|--------|---------|------------|\n",
    "| Index  | Index   | ValueError |\n",
    "| Series | Series  | DataFrame  |\n",
    "\n",
    "### Extract all matches in each subject (extractall)\n",
    "Unlike `extract` (which returns only the first match),\n",
    "\n",
    "In [109]: "
   ]
  },
  {
   "cell_type": "code",
   "execution_count": 84,
   "id": "9104e316-ff80-4cea-adf9-784a7210c2d2",
   "metadata": {},
   "outputs": [
    {
     "data": {
      "text/plain": [
       "A11    a1\n",
       "B22    b2\n",
       "C33    c3\n",
       "dtype: string"
      ]
     },
     "execution_count": 84,
     "metadata": {},
     "output_type": "execute_result"
    }
   ],
   "source": [
    "pd.Series([\"a1a2\", \"b1\", \"c1\"], index=[\"A\", \"B\", \"C\"], dtype=\"string\")\n",
    "s"
   ]
  },
  {
   "cell_type": "code",
   "execution_count": 85,
   "id": "335a6867-b7b9-4562-9a44-c81b19ffb835",
   "metadata": {},
   "outputs": [
    {
     "data": {
      "text/html": [
       "<div>\n",
       "<style scoped>\n",
       "    .dataframe tbody tr th:only-of-type {\n",
       "        vertical-align: middle;\n",
       "    }\n",
       "\n",
       "    .dataframe tbody tr th {\n",
       "        vertical-align: top;\n",
       "    }\n",
       "\n",
       "    .dataframe thead th {\n",
       "        text-align: right;\n",
       "    }\n",
       "</style>\n",
       "<table border=\"1\" class=\"dataframe\">\n",
       "  <thead>\n",
       "    <tr style=\"text-align: right;\">\n",
       "      <th></th>\n",
       "      <th>letter</th>\n",
       "      <th>digit</th>\n",
       "    </tr>\n",
       "  </thead>\n",
       "  <tbody>\n",
       "    <tr>\n",
       "      <th>A11</th>\n",
       "      <td>a</td>\n",
       "      <td>1</td>\n",
       "    </tr>\n",
       "    <tr>\n",
       "      <th>B22</th>\n",
       "      <td>b</td>\n",
       "      <td>2</td>\n",
       "    </tr>\n",
       "    <tr>\n",
       "      <th>C33</th>\n",
       "      <td>c</td>\n",
       "      <td>3</td>\n",
       "    </tr>\n",
       "  </tbody>\n",
       "</table>\n",
       "</div>"
      ],
      "text/plain": [
       "    letter digit\n",
       "A11      a     1\n",
       "B22      b     2\n",
       "C33      c     3"
      ]
     },
     "execution_count": 85,
     "metadata": {},
     "output_type": "execute_result"
    }
   ],
   "source": [
    "two_groups = \"(?P<letter>[a-z])(?P<digit>[0-9])\"\n",
    "s.str.extract(two_groups, expand=True)"
   ]
  },
  {
   "cell_type": "markdown",
   "id": "498f2f84-68e1-440f-83b3-026dd59aa8f9",
   "metadata": {},
   "source": [
    "the `extractall` method returns every match. The result of `extractall` is always a `DataFrame` with a `MultiIndex` on its rows. The last level of the `MultiIndex` is named `match` and indicates the order in the subject."
   ]
  },
  {
   "cell_type": "code",
   "execution_count": 86,
   "id": "e33746d8-d75f-4d81-a227-9d610dc9c024",
   "metadata": {},
   "outputs": [
    {
     "data": {
      "text/html": [
       "<div>\n",
       "<style scoped>\n",
       "    .dataframe tbody tr th:only-of-type {\n",
       "        vertical-align: middle;\n",
       "    }\n",
       "\n",
       "    .dataframe tbody tr th {\n",
       "        vertical-align: top;\n",
       "    }\n",
       "\n",
       "    .dataframe thead th {\n",
       "        text-align: right;\n",
       "    }\n",
       "</style>\n",
       "<table border=\"1\" class=\"dataframe\">\n",
       "  <thead>\n",
       "    <tr style=\"text-align: right;\">\n",
       "      <th></th>\n",
       "      <th></th>\n",
       "      <th>letter</th>\n",
       "      <th>digit</th>\n",
       "    </tr>\n",
       "    <tr>\n",
       "      <th></th>\n",
       "      <th>match</th>\n",
       "      <th></th>\n",
       "      <th></th>\n",
       "    </tr>\n",
       "  </thead>\n",
       "  <tbody>\n",
       "    <tr>\n",
       "      <th>A11</th>\n",
       "      <th>0</th>\n",
       "      <td>a</td>\n",
       "      <td>1</td>\n",
       "    </tr>\n",
       "    <tr>\n",
       "      <th>B22</th>\n",
       "      <th>0</th>\n",
       "      <td>b</td>\n",
       "      <td>2</td>\n",
       "    </tr>\n",
       "    <tr>\n",
       "      <th>C33</th>\n",
       "      <th>0</th>\n",
       "      <td>c</td>\n",
       "      <td>3</td>\n",
       "    </tr>\n",
       "  </tbody>\n",
       "</table>\n",
       "</div>"
      ],
      "text/plain": [
       "          letter digit\n",
       "    match             \n",
       "A11 0          a     1\n",
       "B22 0          b     2\n",
       "C33 0          c     3"
      ]
     },
     "execution_count": 86,
     "metadata": {},
     "output_type": "execute_result"
    }
   ],
   "source": [
    "s.str.extractall(two_groups)"
   ]
  },
  {
   "cell_type": "markdown",
   "id": "0724dddb-19f9-409e-851c-c5d58b4c7408",
   "metadata": {},
   "source": [
    "When each subject string in the Series has exactly one match,"
   ]
  },
  {
   "cell_type": "code",
   "execution_count": 87,
   "id": "8551747d-2286-4b9e-8fe5-d1913832a12c",
   "metadata": {},
   "outputs": [
    {
     "data": {
      "text/plain": [
       "0    a3\n",
       "1    b3\n",
       "2    c2\n",
       "dtype: string"
      ]
     },
     "execution_count": 87,
     "metadata": {},
     "output_type": "execute_result"
    }
   ],
   "source": [
    "s = pd.Series([\"a3\", \"b3\", \"c2\"], dtype=\"string\")\n",
    "s"
   ]
  },
  {
   "cell_type": "markdown",
   "id": "a7ec49b3-a092-4df0-be64-68a77e50b7c2",
   "metadata": {},
   "source": [
    "then `extractall(pat).xs(0, level='match')` gives the same result as `extract(pat)`."
   ]
  },
  {
   "cell_type": "code",
   "execution_count": 88,
   "id": "609f4918-419b-4dd9-9282-5aa7c79f98e1",
   "metadata": {},
   "outputs": [
    {
     "data": {
      "text/html": [
       "<div>\n",
       "<style scoped>\n",
       "    .dataframe tbody tr th:only-of-type {\n",
       "        vertical-align: middle;\n",
       "    }\n",
       "\n",
       "    .dataframe tbody tr th {\n",
       "        vertical-align: top;\n",
       "    }\n",
       "\n",
       "    .dataframe thead th {\n",
       "        text-align: right;\n",
       "    }\n",
       "</style>\n",
       "<table border=\"1\" class=\"dataframe\">\n",
       "  <thead>\n",
       "    <tr style=\"text-align: right;\">\n",
       "      <th></th>\n",
       "      <th>letter</th>\n",
       "      <th>digit</th>\n",
       "    </tr>\n",
       "  </thead>\n",
       "  <tbody>\n",
       "    <tr>\n",
       "      <th>0</th>\n",
       "      <td>a</td>\n",
       "      <td>3</td>\n",
       "    </tr>\n",
       "    <tr>\n",
       "      <th>1</th>\n",
       "      <td>b</td>\n",
       "      <td>3</td>\n",
       "    </tr>\n",
       "    <tr>\n",
       "      <th>2</th>\n",
       "      <td>c</td>\n",
       "      <td>2</td>\n",
       "    </tr>\n",
       "  </tbody>\n",
       "</table>\n",
       "</div>"
      ],
      "text/plain": [
       "  letter digit\n",
       "0      a     3\n",
       "1      b     3\n",
       "2      c     2"
      ]
     },
     "execution_count": 88,
     "metadata": {},
     "output_type": "execute_result"
    }
   ],
   "source": [
    "extract_result = s.str.extract(two_groups, expand=True)\n",
    "extract_result"
   ]
  },
  {
   "cell_type": "code",
   "execution_count": 89,
   "id": "7f8989c0-ce59-4415-a925-b73a47d5005b",
   "metadata": {},
   "outputs": [
    {
     "data": {
      "text/html": [
       "<div>\n",
       "<style scoped>\n",
       "    .dataframe tbody tr th:only-of-type {\n",
       "        vertical-align: middle;\n",
       "    }\n",
       "\n",
       "    .dataframe tbody tr th {\n",
       "        vertical-align: top;\n",
       "    }\n",
       "\n",
       "    .dataframe thead th {\n",
       "        text-align: right;\n",
       "    }\n",
       "</style>\n",
       "<table border=\"1\" class=\"dataframe\">\n",
       "  <thead>\n",
       "    <tr style=\"text-align: right;\">\n",
       "      <th></th>\n",
       "      <th></th>\n",
       "      <th>letter</th>\n",
       "      <th>digit</th>\n",
       "    </tr>\n",
       "    <tr>\n",
       "      <th></th>\n",
       "      <th>match</th>\n",
       "      <th></th>\n",
       "      <th></th>\n",
       "    </tr>\n",
       "  </thead>\n",
       "  <tbody>\n",
       "    <tr>\n",
       "      <th>0</th>\n",
       "      <th>0</th>\n",
       "      <td>a</td>\n",
       "      <td>3</td>\n",
       "    </tr>\n",
       "    <tr>\n",
       "      <th>1</th>\n",
       "      <th>0</th>\n",
       "      <td>b</td>\n",
       "      <td>3</td>\n",
       "    </tr>\n",
       "    <tr>\n",
       "      <th>2</th>\n",
       "      <th>0</th>\n",
       "      <td>c</td>\n",
       "      <td>2</td>\n",
       "    </tr>\n",
       "  </tbody>\n",
       "</table>\n",
       "</div>"
      ],
      "text/plain": [
       "        letter digit\n",
       "  match             \n",
       "0 0          a     3\n",
       "1 0          b     3\n",
       "2 0          c     2"
      ]
     },
     "execution_count": 89,
     "metadata": {},
     "output_type": "execute_result"
    }
   ],
   "source": [
    "extractall_result = s.str.extractall(two_groups)\n",
    "extractall_result"
   ]
  },
  {
   "cell_type": "code",
   "execution_count": 90,
   "id": "fd7b2d47-bf6d-427d-87d7-f7ca882ae6f7",
   "metadata": {},
   "outputs": [
    {
     "data": {
      "text/html": [
       "<div>\n",
       "<style scoped>\n",
       "    .dataframe tbody tr th:only-of-type {\n",
       "        vertical-align: middle;\n",
       "    }\n",
       "\n",
       "    .dataframe tbody tr th {\n",
       "        vertical-align: top;\n",
       "    }\n",
       "\n",
       "    .dataframe thead th {\n",
       "        text-align: right;\n",
       "    }\n",
       "</style>\n",
       "<table border=\"1\" class=\"dataframe\">\n",
       "  <thead>\n",
       "    <tr style=\"text-align: right;\">\n",
       "      <th></th>\n",
       "      <th>letter</th>\n",
       "      <th>digit</th>\n",
       "    </tr>\n",
       "  </thead>\n",
       "  <tbody>\n",
       "    <tr>\n",
       "      <th>0</th>\n",
       "      <td>a</td>\n",
       "      <td>3</td>\n",
       "    </tr>\n",
       "    <tr>\n",
       "      <th>1</th>\n",
       "      <td>b</td>\n",
       "      <td>3</td>\n",
       "    </tr>\n",
       "    <tr>\n",
       "      <th>2</th>\n",
       "      <td>c</td>\n",
       "      <td>2</td>\n",
       "    </tr>\n",
       "  </tbody>\n",
       "</table>\n",
       "</div>"
      ],
      "text/plain": [
       "  letter digit\n",
       "0      a     3\n",
       "1      b     3\n",
       "2      c     2"
      ]
     },
     "execution_count": 90,
     "metadata": {},
     "output_type": "execute_result"
    }
   ],
   "source": [
    "extractall_result.xs(0, level=\"match\")"
   ]
  },
  {
   "cell_type": "markdown",
   "id": "387bb2eb-ba8c-441e-b576-67c9f0a5bacd",
   "metadata": {},
   "source": [
    "`Index` also supports `.str.extractall`. It returns a `DataFrame` which has the same result as a `Series.str.extractall` with a default index (starts from 0)."
   ]
  },
  {
   "cell_type": "code",
   "execution_count": 91,
   "id": "13b15ec1-caeb-4434-9014-9feda1a27051",
   "metadata": {},
   "outputs": [
    {
     "data": {
      "text/html": [
       "<div>\n",
       "<style scoped>\n",
       "    .dataframe tbody tr th:only-of-type {\n",
       "        vertical-align: middle;\n",
       "    }\n",
       "\n",
       "    .dataframe tbody tr th {\n",
       "        vertical-align: top;\n",
       "    }\n",
       "\n",
       "    .dataframe thead th {\n",
       "        text-align: right;\n",
       "    }\n",
       "</style>\n",
       "<table border=\"1\" class=\"dataframe\">\n",
       "  <thead>\n",
       "    <tr style=\"text-align: right;\">\n",
       "      <th></th>\n",
       "      <th></th>\n",
       "      <th>letter</th>\n",
       "      <th>digit</th>\n",
       "    </tr>\n",
       "    <tr>\n",
       "      <th></th>\n",
       "      <th>match</th>\n",
       "      <th></th>\n",
       "      <th></th>\n",
       "    </tr>\n",
       "  </thead>\n",
       "  <tbody>\n",
       "    <tr>\n",
       "      <th rowspan=\"2\" valign=\"top\">0</th>\n",
       "      <th>0</th>\n",
       "      <td>a</td>\n",
       "      <td>1</td>\n",
       "    </tr>\n",
       "    <tr>\n",
       "      <th>1</th>\n",
       "      <td>a</td>\n",
       "      <td>2</td>\n",
       "    </tr>\n",
       "    <tr>\n",
       "      <th>1</th>\n",
       "      <th>0</th>\n",
       "      <td>b</td>\n",
       "      <td>1</td>\n",
       "    </tr>\n",
       "    <tr>\n",
       "      <th>2</th>\n",
       "      <th>0</th>\n",
       "      <td>c</td>\n",
       "      <td>1</td>\n",
       "    </tr>\n",
       "  </tbody>\n",
       "</table>\n",
       "</div>"
      ],
      "text/plain": [
       "        letter digit\n",
       "  match             \n",
       "0 0          a     1\n",
       "  1          a     2\n",
       "1 0          b     1\n",
       "2 0          c     1"
      ]
     },
     "execution_count": 91,
     "metadata": {},
     "output_type": "execute_result"
    }
   ],
   "source": [
    "pd.Index([\"a1a2\", \"b1\", \"c1\"]).str.extractall(two_groups)"
   ]
  },
  {
   "cell_type": "code",
   "execution_count": 92,
   "id": "d756777b-27d6-49d4-b151-7fcacc9be5c5",
   "metadata": {},
   "outputs": [
    {
     "data": {
      "text/html": [
       "<div>\n",
       "<style scoped>\n",
       "    .dataframe tbody tr th:only-of-type {\n",
       "        vertical-align: middle;\n",
       "    }\n",
       "\n",
       "    .dataframe tbody tr th {\n",
       "        vertical-align: top;\n",
       "    }\n",
       "\n",
       "    .dataframe thead th {\n",
       "        text-align: right;\n",
       "    }\n",
       "</style>\n",
       "<table border=\"1\" class=\"dataframe\">\n",
       "  <thead>\n",
       "    <tr style=\"text-align: right;\">\n",
       "      <th></th>\n",
       "      <th></th>\n",
       "      <th>letter</th>\n",
       "      <th>digit</th>\n",
       "    </tr>\n",
       "    <tr>\n",
       "      <th></th>\n",
       "      <th>match</th>\n",
       "      <th></th>\n",
       "      <th></th>\n",
       "    </tr>\n",
       "  </thead>\n",
       "  <tbody>\n",
       "    <tr>\n",
       "      <th rowspan=\"2\" valign=\"top\">0</th>\n",
       "      <th>0</th>\n",
       "      <td>a</td>\n",
       "      <td>1</td>\n",
       "    </tr>\n",
       "    <tr>\n",
       "      <th>1</th>\n",
       "      <td>a</td>\n",
       "      <td>2</td>\n",
       "    </tr>\n",
       "    <tr>\n",
       "      <th>1</th>\n",
       "      <th>0</th>\n",
       "      <td>b</td>\n",
       "      <td>1</td>\n",
       "    </tr>\n",
       "    <tr>\n",
       "      <th>2</th>\n",
       "      <th>0</th>\n",
       "      <td>c</td>\n",
       "      <td>1</td>\n",
       "    </tr>\n",
       "  </tbody>\n",
       "</table>\n",
       "</div>"
      ],
      "text/plain": [
       "        letter digit\n",
       "  match             \n",
       "0 0          a     1\n",
       "  1          a     2\n",
       "1 0          b     1\n",
       "2 0          c     1"
      ]
     },
     "execution_count": 92,
     "metadata": {},
     "output_type": "execute_result"
    }
   ],
   "source": [
    "pd.Series([\"a1a2\", \"b1\", \"c1\"], dtype=\"string\").str.extractall(two_groups)"
   ]
  },
  {
   "cell_type": "markdown",
   "id": "d62ebd51-a797-4d93-bbf3-858ca71a4f76",
   "metadata": {},
   "source": [
    "## Testing for strings that match or contain a pattern\n",
    "You can check whether elements contain a pattern:"
   ]
  },
  {
   "cell_type": "code",
   "execution_count": 94,
   "id": "f75edc51-04fd-40f0-a47f-70bbf1a9300e",
   "metadata": {},
   "outputs": [
    {
     "data": {
      "text/plain": [
       "0    False\n",
       "1    False\n",
       "2     True\n",
       "3     True\n",
       "4     True\n",
       "5     True\n",
       "dtype: boolean"
      ]
     },
     "execution_count": 94,
     "metadata": {},
     "output_type": "execute_result"
    }
   ],
   "source": [
    "pattern = r\"[0-9][a-z]\"\n",
    "pd.Series(\n",
    "    [\"1\", \"2\", \"3a\", \"3b\", \"03c\", \"4dx\"],\n",
    "    dtype=\"string\",\n",
    ").str.contains(pattern)"
   ]
  },
  {
   "cell_type": "markdown",
   "id": "1413369e-f684-445c-9d94-ae50d44ff49b",
   "metadata": {},
   "source": [
    "Or whether elements match a pattern:"
   ]
  },
  {
   "cell_type": "code",
   "execution_count": 95,
   "id": "322ce7df-e948-429b-b3ba-e4e0e7fd8522",
   "metadata": {},
   "outputs": [
    {
     "data": {
      "text/plain": [
       "0    False\n",
       "1    False\n",
       "2     True\n",
       "3     True\n",
       "4    False\n",
       "5     True\n",
       "dtype: boolean"
      ]
     },
     "execution_count": 95,
     "metadata": {},
     "output_type": "execute_result"
    }
   ],
   "source": [
    "pd.Series(\n",
    "    [\"1\", \"2\", \"3a\", \"3b\", \"03c\", \"4dx\"],\n",
    "    dtype=\"string\",\n",
    ").str.match(pattern)"
   ]
  },
  {
   "cell_type": "markdown",
   "id": "04603386-b9d9-4f85-9b6d-c8ea35bc7b0b",
   "metadata": {},
   "source": [
    "*New in version 1.1.0.*"
   ]
  },
  {
   "cell_type": "code",
   "execution_count": 96,
   "id": "4fab59ab-83e4-4bd6-a495-9df86393a554",
   "metadata": {},
   "outputs": [
    {
     "data": {
      "text/plain": [
       "0    False\n",
       "1    False\n",
       "2     True\n",
       "3     True\n",
       "4    False\n",
       "5    False\n",
       "dtype: boolean"
      ]
     },
     "execution_count": 96,
     "metadata": {},
     "output_type": "execute_result"
    }
   ],
   "source": [
    "pd.Series(\n",
    "    [\"1\", \"2\", \"3a\", \"3b\", \"03c\", \"4dx\"],\n",
    "    dtype=\"string\",\n",
    ").str.fullmatch(pattern)"
   ]
  },
  {
   "cell_type": "markdown",
   "id": "7d6fde8d-bbc7-4092-9ea4-c52b2d48074b",
   "metadata": {},
   "source": [
    ">Note\n",
    ">\n",
    ">The distinction between `match`, `fullmatch`, and `contains` is strictness: `fullmatch` tests whether the entire string matches the regular expression; `match` tests whether there is a match of the regular expression that begins at the first character of the string; and `contains` tests whether there is a match of the regular expression at any position within the string.\n",
    ">\n",
    ">The corresponding functions in the `re` package for these three match modes are `re.fullmatch`, `re.match`, and `re.search`, respectively.\n",
    "\n",
    "Methods like `match`, `fullmatch`, `contains`, `startswith`, and `endswith` take an extra `na` argument so missing values can be considered True or False:"
   ]
  },
  {
   "cell_type": "code",
   "execution_count": 98,
   "id": "1ea9ba1b-a33e-4d01-910f-f259928ee208",
   "metadata": {},
   "outputs": [
    {
     "data": {
      "text/plain": [
       "0     True\n",
       "1    False\n",
       "2    False\n",
       "3     True\n",
       "4    False\n",
       "5    False\n",
       "6     True\n",
       "7    False\n",
       "8    False\n",
       "dtype: boolean"
      ]
     },
     "execution_count": 98,
     "metadata": {},
     "output_type": "execute_result"
    }
   ],
   "source": [
    "s4 = pd.Series(\n",
    "    [\"A\", \"B\", \"C\", \"Aaba\", \"Baca\", np.nan, \"CABA\", \"dog\", \"cat\"], dtype=\"string\"\n",
    ")\n",
    "s4.str.contains(\"A\", na=False)"
   ]
  },
  {
   "cell_type": "markdown",
   "id": "397c4d0e-cf09-422b-98c2-53045129fcf2",
   "metadata": {},
   "source": [
    "## Creating indicator variables\n",
    "You can extract dummy variables from string columns. For example if they are separated by a '|':"
   ]
  },
  {
   "cell_type": "code",
   "execution_count": 99,
   "id": "39f31b52-df31-4742-b5b2-39283aa2c578",
   "metadata": {},
   "outputs": [
    {
     "data": {
      "text/html": [
       "<div>\n",
       "<style scoped>\n",
       "    .dataframe tbody tr th:only-of-type {\n",
       "        vertical-align: middle;\n",
       "    }\n",
       "\n",
       "    .dataframe tbody tr th {\n",
       "        vertical-align: top;\n",
       "    }\n",
       "\n",
       "    .dataframe thead th {\n",
       "        text-align: right;\n",
       "    }\n",
       "</style>\n",
       "<table border=\"1\" class=\"dataframe\">\n",
       "  <thead>\n",
       "    <tr style=\"text-align: right;\">\n",
       "      <th></th>\n",
       "      <th>a</th>\n",
       "      <th>b</th>\n",
       "      <th>c</th>\n",
       "    </tr>\n",
       "  </thead>\n",
       "  <tbody>\n",
       "    <tr>\n",
       "      <th>0</th>\n",
       "      <td>1</td>\n",
       "      <td>0</td>\n",
       "      <td>0</td>\n",
       "    </tr>\n",
       "    <tr>\n",
       "      <th>1</th>\n",
       "      <td>1</td>\n",
       "      <td>1</td>\n",
       "      <td>0</td>\n",
       "    </tr>\n",
       "    <tr>\n",
       "      <th>2</th>\n",
       "      <td>0</td>\n",
       "      <td>0</td>\n",
       "      <td>0</td>\n",
       "    </tr>\n",
       "    <tr>\n",
       "      <th>3</th>\n",
       "      <td>1</td>\n",
       "      <td>0</td>\n",
       "      <td>1</td>\n",
       "    </tr>\n",
       "  </tbody>\n",
       "</table>\n",
       "</div>"
      ],
      "text/plain": [
       "   a  b  c\n",
       "0  1  0  0\n",
       "1  1  1  0\n",
       "2  0  0  0\n",
       "3  1  0  1"
      ]
     },
     "execution_count": 99,
     "metadata": {},
     "output_type": "execute_result"
    }
   ],
   "source": [
    "s = pd.Series([\"a\", \"a|b\", np.nan, \"a|c\"], dtype=\"string\")\n",
    "s.str.get_dummies(sep=\"|\")"
   ]
  },
  {
   "cell_type": "markdown",
   "id": "404b7a81-0d5e-4544-a199-db7333979e64",
   "metadata": {},
   "source": [
    "String Index also supports get_dummies which returns a MultiIndex."
   ]
  },
  {
   "cell_type": "code",
   "execution_count": 100,
   "id": "b2354fe3-7b83-41c4-bd61-68b771a7046d",
   "metadata": {},
   "outputs": [
    {
     "data": {
      "text/plain": [
       "MultiIndex([(1, 0, 0),\n",
       "            (1, 1, 0),\n",
       "            (0, 0, 0),\n",
       "            (1, 0, 1)],\n",
       "           names=['a', 'b', 'c'])"
      ]
     },
     "execution_count": 100,
     "metadata": {},
     "output_type": "execute_result"
    }
   ],
   "source": [
    "idx = pd.Index([\"a\", \"a|b\", np.nan, \"a|c\"])\n",
    "idx.str.get_dummies(sep=\"|\")"
   ]
  },
  {
   "cell_type": "markdown",
   "id": "81a296b0-b678-438b-b80b-875f6cfa5b0f",
   "metadata": {},
   "source": [
    "See also `get_dummies()`.\n",
    "\n",
    "## Method summary\n",
    "\n",
    "| Method | Description |\n",
    "|--------|-------------|\n",
    "| cat() | Concatenate strings |\n",
    "| split() | Split strings on delimiter |\n",
    "| rsplit() | Split strings on delimiter working from the end of the string |\n",
    "| get() | Index into each element (retrieve i-th element) |\n",
    "| join() | Join strings in each element of the Series with passed separator |\n",
    "| get_dummies() | Split strings on the delimiter returning DataFrame of dummy variables |\n",
    "| contains() | Return boolean array if each string contains pattern/regex |\n",
    "| replace() | Replace occurrences of pattern/regex/string with some other string or the return value of a callable given the occurrence |\n",
    "| repeat() | Duplicate values (s.str.repeat(3) equivalent to x * 3) |\n",
    "| pad() | Add whitespace to left, right, or both sides of strings |\n",
    "| center() | Equivalent to str.center |\n",
    "| ljust() | Equivalent to str.ljust |\n",
    "| rjust() | Equivalent to str.rjust |\n",
    "| zfill() | Equivalent to str.zfill | \n",
    "| wrap() | Split long strings into lines with length less than a given width | \n",
    "| slice() | Slice each string in the Series | \n",
    "| slice_replace() | Replace slice in each string with passed value | \n",
    "| count() | Count occurrences of pattern | \n",
    "| startswith() | Equivalent to str.startswith(pat) for each element | \n",
    "| endswith() | Equivalent to str.endswith(pat) for each element | \n",
    "| findall() | Compute list of all occurrences of pattern/regex for each string | \n",
    "| match() | Call re.match on each element, returning matched groups as list | \n",
    "| extract() | Call re.search on each element, returning DataFrame with one row for each element and one column for each regex capture group | \n",
    "| extractall() | Call re.findall on each element, returning DataFrame with one row for each match and one column for each regex capture group | \n",
    "| len() | Compute string lengths | \n",
    "| strip() | Equivalent to str.strip | \n",
    "| rstrip() | Equivalent to str.rstrip | \n",
    "| lstrip() | Equivalent to str.lstrip | \n",
    "| partition() | Equivalent to str.partition | \n",
    "| rpartition() | Equivalent to str.rpartition | \n",
    "| lower() | Equivalent to str.lower | \n",
    "| casefold() | Equivalent to str.casefold | \n",
    "| upper() | Equivalent to str.upper | \n",
    "| find() | Equivalent to str.find | \n",
    "| rfind() | Equivalent to str.rfind | \n",
    "| index() | Equivalent to str.index | \n",
    "| rindex() | Equivalent to str.rindex | \n",
    "| capitalize() | Equivalent to str.capitalize | \n",
    "| swapcase() | Equivalent to str.swapcase | \n",
    "| normalize() | Return Unicode normal form. Equivalent to unicodedata.normalize | \n",
    "| translate() | Equivalent to str.translate | \n",
    "| isalnum() | Equivalent to str.isalnum | \n",
    "| isalpha() | Equivalent to str.isalpha | \n",
    "| isdigit() | Equivalent to str.isdigit | \n",
    "| isspace() | Equivalent to str.isspace | \n",
    "| islower() | Equivalent to str.islower | \n",
    "| isupper() | Equivalent to str.isupper | \n",
    "| istitle() | Equivalent to str.istitle | \n",
    "| isnumeric() | Equivalent to str.isnumeric | \n",
    "| isdecimal() | Equivalent to str.isdecimal | "
   ]
  },
  {
   "cell_type": "code",
   "execution_count": null,
   "id": "1e34dd1c-57fb-47dc-a12d-ad0e1bcc2aac",
   "metadata": {},
   "outputs": [],
   "source": []
  }
 ],
 "metadata": {
  "kernelspec": {
   "display_name": "eda_dev39",
   "language": "python",
   "name": "eda_dev39"
  },
  "language_info": {
   "codemirror_mode": {
    "name": "ipython",
    "version": 3
   },
   "file_extension": ".py",
   "mimetype": "text/x-python",
   "name": "python",
   "nbconvert_exporter": "python",
   "pygments_lexer": "ipython3",
   "version": "3.9.4"
  }
 },
 "nbformat": 4,
 "nbformat_minor": 5
}
