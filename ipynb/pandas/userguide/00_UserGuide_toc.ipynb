{
 "cells": [
  {
   "cell_type": "markdown",
   "id": "2e7dc668-46c5-4657-adf7-9578f05bae7a",
   "metadata": {},
   "source": [
    "# [User Guide](https://pandas.pydata.org/pandas-docs/stable/user_guide/index.html)\n",
    "\n",
    "Links to User Guide documentation and corresponding Jupyter notebooks.\n",
    "\n",
    "| User Guide Document | Jupyter Notebook |\n",
    "|---------------------|------------------|\n",
    "| 1. [10 minutes to pandas](https://pandas.pydata.org/pandas-docs/stable/user_guide/10min.html) | [01_10_minutes_to_pandas.ipynb](01_10_minutes_to_pandas.ipynb) |\n",
    "| 2. [Intro to data structures](https://pandas.pydata.org/pandas-docs/stable/user_guide/dsintro.html) | [02_intro_to_data_structures.ipynb](02_intro_to_data_structures.ipynb) |\n",
    "| 3. [Essential basic functionality](https://pandas.pydata.org/pandas-docs/stable/user_guide/basics.html) | [03_essential_basic_functionality.ipynb](03_essential_basic_functionality.ipynb) |\n",
    "|  4. [IO tools (text, CSV, HDF5, …)](https://pandas.pydata.org/pandas-docs/stable/user_guide/io.html) | [04_io_tools.ipynb](04_io_tools.ipynb) |\n",
    "|  5. [Indexing and selecting data](https://pandas.pydata.org/pandas-docs/stable/user_guide/indexing.html) | [05_indexing_selecting_data.ipynb](05_indexing_selecting_data.ipynb) |\n",
    "|  6. [MultiIndex / advanced indexing](https://pandas.pydata.org/pandas-docs/stable/user_guide/advanced.html) | [06_multiIndex.ipynb](06_multiIndex.ipynb) |\n",
    "|  7. [Merge, join, concatenate and compare](https://pandas.pydata.org/pandas-docs/stable/user_guide/merging.html) | [07_merge_join_concat_compare.ipynb](07_merge_join_concat_compare.ipynb) |\n",
    "|  8. [Reshaping and pivot tables](https://pandas.pydata.org/pandas-docs/stable/user_guide/reshaping.html) | [08_reshaping_pivot_tables.ipynb](08_reshaping_pivot_tables.ipynb) |\n",
    "|  9. [Working with text data](https://pandas.pydata.org/pandas-docs/stable/user_guide/text.html) | [09_text_data.ipynb](09_text_data.ipynb) |\n",
    "| 10. [Working with missing data](https://pandas.pydata.org/pandas-docs/stable/user_guide/missing_data.html) | [10_missing_data.ipynb](10_missing_data.ipynb) |\n",
    "| 11. [Duplicate Labels](https://pandas.pydata.org/pandas-docs/stable/user_guide/duplicates.html) | [11_duplicate_labels.ipynb](11_duplicate_labels.ipynb) |\n",
    "| 12. [Categorical data](https://pandas.pydata.org/pandas-docs/stable/user_guide/categorical.html) | [12_categorical_data.ipynb](12_categorical_data.ipynb) |\n",
    "| 13. [Nullable integer data type](https://pandas.pydata.org/pandas-docs/stable/user_guide/integer_na.html) | [13_nullable_int_data.ipynb](13_nullable_int_data.ipynb) |\n",
    "| 14. [Nullable Boolean data type](https://pandas.pydata.org/pandas-docs/stable/user_guide/boolean.html) | [14_nullable_boolean_data.ipynb](14_nullable_boolean_data.ipynb) |\n",
    "| 15. [Visualization](https://pandas.pydata.org/pandas-docs/stable/user_guide/visualization.html) | [15_visualization.ipynb](15_visualization.ipynb) |\n",
    "| 16. [Computational tools](https://pandas.pydata.org/pandas-docs/stable/user_guide/computation.html) | [16_computational_tools.ipynb](16_computational_tools.ipynb) |\n",
    "| 17. [Group by: split-apply-combine](https://pandas.pydata.org/pandas-docs/stable/user_guide/groupby.html) | [17_group_by_split-apply-combine.ipynb](17_group_by_split-apply-combine.ipynb) |\n",
    "| 18. [Windowing Operations](https://pandas.pydata.org/pandas-docs/stable/user_guide/window.html) | [18_windowing_op.ipynb](18_windowing_op.ipynb) |\n",
    "| 19. [Time series / date functionality](https://pandas.pydata.org/pandas-docs/stable/user_guide/timeseries.html) | [19_time_series_date_func.ipynb](19_time_series_date_func.ipynb) |\n",
    "| 20. [Time deltas](https://pandas.pydata.org/pandas-docs/stable/user_guide/timedeltas.html) | [20_time_delta.ipynb](20_time_delta.ipynb) |\n",
    "| 21. [Styling](https://pandas.pydata.org/pandas-docs/stable/user_guide/style.html) | [21_styling.ipynb](21_styling.ipynb) |\n",
    "| 22. [Options and settings](https://pandas.pydata.org/pandas-docs/stable/user_guide/options.html) | [22_options_settings.ipynb](22_options_settings.ipynb) |\n",
    "| 23. [Enhancing performance](https://pandas.pydata.org/pandas-docs/stable/user_guide/enhancingperf.html) | [23_enchancing_perf.ipynb](23_enchancing_perf.ipynb) |\n",
    "| 24. [Scaling to large datasets](https://pandas.pydata.org/pandas-docs/stable/user_guide/scale.html) | [24_scaling_large_datasets.ipynb](24_scaling_large_datasets.ipynb) |\n",
    "| 25. [Sparse data structures](https://pandas.pydata.org/pandas-docs/stable/user_guide/sparse.html) | [25_sparse_data.ipynb](25_sparse_data.ipynb) |\n",
    "| 26. [Frequently Asked Questions (FAQ)](https://pandas.pydata.org/pandas-docs/stable/user_guide/gotchas.html) | [26_faq.ipynb](26_faq.ipynb) |\n",
    "| 27. [Cookbook](https://pandas.pydata.org/pandas-docs/stable/user_guide/cookbook.html#) | [27_cookbook.ipynb](27_cookbook.ipynb) |"
   ]
  },
  {
   "cell_type": "code",
   "execution_count": null,
   "id": "c518486c-3811-46f2-a5b1-0a686d2d4866",
   "metadata": {},
   "outputs": [],
   "source": []
  }
 ],
 "metadata": {
  "kernelspec": {
   "display_name": "eda_dev39",
   "language": "python",
   "name": "eda_dev39"
  },
  "language_info": {
   "codemirror_mode": {
    "name": "ipython",
    "version": 3
   },
   "file_extension": ".py",
   "mimetype": "text/x-python",
   "name": "python",
   "nbconvert_exporter": "python",
   "pygments_lexer": "ipython3",
   "version": "3.9.4"
  }
 },
 "nbformat": 4,
 "nbformat_minor": 5
}
