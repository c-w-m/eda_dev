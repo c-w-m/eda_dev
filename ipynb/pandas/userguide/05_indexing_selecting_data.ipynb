{
 "cells": [
  {
   "cell_type": "markdown",
   "id": "829500b9-6ecd-4591-91ab-5a98d8b978f9",
   "metadata": {},
   "source": [
    "# Indexing and selecting data¶\n",
    "\n",
    "The axis labeling information in pandas objects serves many purposes:\n",
    "\n",
    "* Identifies data (i.e. provides metadata) using known indicators, important for analysis, visualization, and interactive console display.\n",
    "\n",
    "* Enables automatic and explicit data alignment.\n",
    "\n",
    "* Allows intuitive getting and setting of subsets of the data set.\n",
    "\n",
    "In this section, we will focus on the final point: namely, how to slice, dice, and generally get and set subsets of pandas objects. The primary focus will be on Series and DataFrame as they have received more development attention in this area.\n",
    "\n",
    ">Note\n",
    ">\n",
    ">The Python and NumPy indexing operators [] and attribute operator . provide quick and easy access to pandas data structures across a wide range of use cases. This makes interactive work intuitive, as there’s little new to learn if you already know how to deal with Python dictionaries and NumPy arrays. However, since the type of the data to be accessed isn’t known in advance, directly using standard operators has some optimization limits. For production code, we recommended that you take advantage of the optimized pandas data access methods exposed in this chapter.\n",
    "\n",
    ">Warning\n",
    ">\n",
    ">Whether a copy or a reference is returned for a setting operation, may depend on the context. This is sometimes called chained assignment and should be avoided. See Returning a View versus Copy.\n",
    "\n",
    "See the MultiIndex / Advanced Indexing for MultiIndex and more advanced indexing documentation.\n",
    "\n",
    "See the cookbook for some advanced strategies.\n",
    "\n",
    "## Different choices for indexing\n",
    "Object selection has had a number of user-requested additions in order to support more explicit location based indexing. pandas now supports three types of multi-axis indexing.\n",
    "\n",
    "* .loc is primarily label based, but may also be used with a boolean array. .loc will raise KeyError when the items are not found. Allowed inputs are:\n",
    "\n",
    "  * A single label, e.g. 5 or 'a' (Note that 5 is interpreted as a label of the index. This use is not an integer position along the index.).\n",
    "\n",
    "  * A list or array of labels ['a', 'b', 'c'].\n",
    "\n",
    "  * A slice object with labels 'a':'f' (Note that contrary to usual Python slices, both the start and the stop are included, when present in the index! See Slicing with labels and Endpoints are inclusive.)\n",
    "\n",
    "  * A boolean array (any NA values will be treated as False).\n",
    "\n",
    "  * A callable function with one argument (the calling Series or DataFrame) and that returns valid output for indexing (one of the above).\n",
    "\n",
    "See more at Selection by Label.\n",
    "\n",
    "* .iloc is primarily integer position based (from 0 to length-1 of the axis), but may also be used with a boolean array. .iloc will raise IndexError if a requested indexer is out-of-bounds, except slice indexers which allow out-of-bounds indexing. (this conforms with Python/NumPy slice semantics). Allowed inputs are:\n",
    "\n",
    "  * A single label, e.g. 5 or 'a' (Note that 5 is interpreted as a label of the index. This use is not an integer position along the index.).\n",
    "\n",
    "  * A list or array of labels ['a', 'b', 'c'].\n",
    "\n",
    "  * A slice object with labels 'a':'f' (Note that contrary to usual Python slices, both the start and the stop are included, when present in the index! See Slicing with labels and Endpoints are inclusive.)\n",
    "\n",
    "  * A boolean array (any NA values will be treated as False).\n",
    "\n",
    "  * A callable function with one argument (the calling Series or DataFrame) and that returns valid output for indexing (one of the above).\n",
    "\n",
    "See more at Selection by Label.\n",
    "\n",
    "* .loc, .iloc, and also [] indexing can accept a callable as indexer. See more at Selection By Callable.\n",
    "\n",
    "Getting values from an object with multi-axes selection uses the following notation (using .loc as an example, but the following applies to .iloc as well). Any of the axes accessors may be the null slice :. Axes left out of the specification are assumed to be :, e.g. p.loc['a'] is equivalent to p.loc['a', :, :].\n",
    "\n",
    "| Object Type | Indexers |\n",
    "|-------------|----------|\n",
    "| Series | s.loc[indexer] |\n",
    "| DataFrame | df.loc[row_indexer,column_indexer] |\n",
    "\n",
    "## Basics\n",
    "As mentioned when introducing the data structures in the last section, the primary function of indexing with [] (a.k.a. __getitem__ for those familiar with implementing class behavior in Python) is selecting out lower-dimensional slices. The following table shows return type values when indexing pandas objects with []:\n",
    "\n",
    "| Object Type | Selection | Return Value Type |\n",
    "|-------------|-----------|-------------------|\n",
    "| Series | series[label] | scalar value |\n",
    "| DataFrame | frame[colname] | Series corresponding to colname |\n",
    "\n",
    "Here we construct a simple time series data set to use for illustrating the indexing functionality:"
   ]
  },
  {
   "cell_type": "code",
   "execution_count": 1,
   "id": "128a0aaf-6d16-4385-9735-1aa69ef0df4e",
   "metadata": {},
   "outputs": [
    {
     "data": {
      "text/plain": [
       "['data/baseball.xlsb',\n",
       " 'data/mindex_ex.csv',\n",
       " 'data/banklist.html',\n",
       " 'data/baseball.csv',\n",
       " 'data/iris.data',\n",
       " 'data/spam.html']"
      ]
     },
     "execution_count": 1,
     "metadata": {},
     "output_type": "execute_result"
    }
   ],
   "source": [
    "import shutil\n",
    "from distutils.dir_util import copy_tree\n",
    "copy_tree('archive/','data/')"
   ]
  },
  {
   "cell_type": "code",
   "execution_count": 2,
   "id": "78426b5e-a7dd-4fb4-bf7b-46a09f4850a9",
   "metadata": {},
   "outputs": [],
   "source": [
    "import pandas as pd\n",
    "import numpy as np\n",
    "import sys"
   ]
  },
  {
   "cell_type": "code",
   "execution_count": 3,
   "id": "7b5a335b-368f-4eee-a9d3-0f0bfb58b345",
   "metadata": {},
   "outputs": [
    {
     "data": {
      "text/html": [
       "<div>\n",
       "<style scoped>\n",
       "    .dataframe tbody tr th:only-of-type {\n",
       "        vertical-align: middle;\n",
       "    }\n",
       "\n",
       "    .dataframe tbody tr th {\n",
       "        vertical-align: top;\n",
       "    }\n",
       "\n",
       "    .dataframe thead th {\n",
       "        text-align: right;\n",
       "    }\n",
       "</style>\n",
       "<table border=\"1\" class=\"dataframe\">\n",
       "  <thead>\n",
       "    <tr style=\"text-align: right;\">\n",
       "      <th></th>\n",
       "      <th>A</th>\n",
       "      <th>B</th>\n",
       "      <th>C</th>\n",
       "      <th>D</th>\n",
       "    </tr>\n",
       "  </thead>\n",
       "  <tbody>\n",
       "    <tr>\n",
       "      <th>2000-01-01</th>\n",
       "      <td>-0.119524</td>\n",
       "      <td>-1.139756</td>\n",
       "      <td>0.517904</td>\n",
       "      <td>-0.285438</td>\n",
       "    </tr>\n",
       "    <tr>\n",
       "      <th>2000-01-02</th>\n",
       "      <td>2.021892</td>\n",
       "      <td>0.070927</td>\n",
       "      <td>0.800103</td>\n",
       "      <td>0.118657</td>\n",
       "    </tr>\n",
       "    <tr>\n",
       "      <th>2000-01-03</th>\n",
       "      <td>-2.040983</td>\n",
       "      <td>0.098607</td>\n",
       "      <td>-1.503086</td>\n",
       "      <td>0.420989</td>\n",
       "    </tr>\n",
       "    <tr>\n",
       "      <th>2000-01-04</th>\n",
       "      <td>0.255814</td>\n",
       "      <td>-1.303977</td>\n",
       "      <td>0.954433</td>\n",
       "      <td>-1.137952</td>\n",
       "    </tr>\n",
       "    <tr>\n",
       "      <th>2000-01-05</th>\n",
       "      <td>0.020985</td>\n",
       "      <td>0.476644</td>\n",
       "      <td>0.850724</td>\n",
       "      <td>-0.722163</td>\n",
       "    </tr>\n",
       "    <tr>\n",
       "      <th>2000-01-06</th>\n",
       "      <td>0.173625</td>\n",
       "      <td>-0.699478</td>\n",
       "      <td>0.355988</td>\n",
       "      <td>1.610516</td>\n",
       "    </tr>\n",
       "    <tr>\n",
       "      <th>2000-01-07</th>\n",
       "      <td>0.880987</td>\n",
       "      <td>-1.717641</td>\n",
       "      <td>0.809490</td>\n",
       "      <td>1.449279</td>\n",
       "    </tr>\n",
       "    <tr>\n",
       "      <th>2000-01-08</th>\n",
       "      <td>-1.805341</td>\n",
       "      <td>0.762664</td>\n",
       "      <td>-0.205993</td>\n",
       "      <td>-1.595724</td>\n",
       "    </tr>\n",
       "  </tbody>\n",
       "</table>\n",
       "</div>"
      ],
      "text/plain": [
       "                   A         B         C         D\n",
       "2000-01-01 -0.119524 -1.139756  0.517904 -0.285438\n",
       "2000-01-02  2.021892  0.070927  0.800103  0.118657\n",
       "2000-01-03 -2.040983  0.098607 -1.503086  0.420989\n",
       "2000-01-04  0.255814 -1.303977  0.954433 -1.137952\n",
       "2000-01-05  0.020985  0.476644  0.850724 -0.722163\n",
       "2000-01-06  0.173625 -0.699478  0.355988  1.610516\n",
       "2000-01-07  0.880987 -1.717641  0.809490  1.449279\n",
       "2000-01-08 -1.805341  0.762664 -0.205993 -1.595724"
      ]
     },
     "execution_count": 3,
     "metadata": {},
     "output_type": "execute_result"
    }
   ],
   "source": [
    "dates = pd.date_range('1/1/2000', periods=8)\n",
    "df1 = pd.DataFrame(np.random.randn(8, 4),\n",
    "                  index=dates, columns=['A', 'B', 'C', 'D'])\n",
    "df1"
   ]
  },
  {
   "cell_type": "markdown",
   "id": "a27e93f2-e1dd-40e9-bbf7-dc52ac9a70a9",
   "metadata": {},
   "source": [
    ">Note\n",
    ">\n",
    ">None of the indexing functionality is time series specific unless specifically stated.\n",
    "\n",
    "Thus, as per above, we have the most basic indexing using []:"
   ]
  },
  {
   "cell_type": "code",
   "execution_count": 4,
   "id": "a9ceb755-42df-4224-a3dc-633c7149feb2",
   "metadata": {},
   "outputs": [
    {
     "data": {
      "text/plain": [
       "0.17362502462808632"
      ]
     },
     "execution_count": 4,
     "metadata": {},
     "output_type": "execute_result"
    }
   ],
   "source": [
    "s1 = df1['A']\n",
    "s1[dates[5]]"
   ]
  },
  {
   "cell_type": "markdown",
   "id": "b9ace89f-49e0-4e7f-9cb8-90efef9a55eb",
   "metadata": {},
   "source": [
    "You can pass a list of columns to [] to select columns in that order. If a column is not contained in the DataFrame, an exception will be raised. Multiple columns can also be set in this manner:"
   ]
  },
  {
   "cell_type": "code",
   "execution_count": 5,
   "id": "3a2656fa-d577-4f54-9d8a-27effff4a92d",
   "metadata": {},
   "outputs": [
    {
     "data": {
      "text/html": [
       "<div>\n",
       "<style scoped>\n",
       "    .dataframe tbody tr th:only-of-type {\n",
       "        vertical-align: middle;\n",
       "    }\n",
       "\n",
       "    .dataframe tbody tr th {\n",
       "        vertical-align: top;\n",
       "    }\n",
       "\n",
       "    .dataframe thead th {\n",
       "        text-align: right;\n",
       "    }\n",
       "</style>\n",
       "<table border=\"1\" class=\"dataframe\">\n",
       "  <thead>\n",
       "    <tr style=\"text-align: right;\">\n",
       "      <th></th>\n",
       "      <th>A</th>\n",
       "      <th>B</th>\n",
       "      <th>C</th>\n",
       "      <th>D</th>\n",
       "    </tr>\n",
       "  </thead>\n",
       "  <tbody>\n",
       "    <tr>\n",
       "      <th>2000-01-01</th>\n",
       "      <td>-0.119524</td>\n",
       "      <td>-1.139756</td>\n",
       "      <td>0.517904</td>\n",
       "      <td>-0.285438</td>\n",
       "    </tr>\n",
       "    <tr>\n",
       "      <th>2000-01-02</th>\n",
       "      <td>2.021892</td>\n",
       "      <td>0.070927</td>\n",
       "      <td>0.800103</td>\n",
       "      <td>0.118657</td>\n",
       "    </tr>\n",
       "    <tr>\n",
       "      <th>2000-01-03</th>\n",
       "      <td>-2.040983</td>\n",
       "      <td>0.098607</td>\n",
       "      <td>-1.503086</td>\n",
       "      <td>0.420989</td>\n",
       "    </tr>\n",
       "    <tr>\n",
       "      <th>2000-01-04</th>\n",
       "      <td>0.255814</td>\n",
       "      <td>-1.303977</td>\n",
       "      <td>0.954433</td>\n",
       "      <td>-1.137952</td>\n",
       "    </tr>\n",
       "    <tr>\n",
       "      <th>2000-01-05</th>\n",
       "      <td>0.020985</td>\n",
       "      <td>0.476644</td>\n",
       "      <td>0.850724</td>\n",
       "      <td>-0.722163</td>\n",
       "    </tr>\n",
       "    <tr>\n",
       "      <th>2000-01-06</th>\n",
       "      <td>0.173625</td>\n",
       "      <td>-0.699478</td>\n",
       "      <td>0.355988</td>\n",
       "      <td>1.610516</td>\n",
       "    </tr>\n",
       "    <tr>\n",
       "      <th>2000-01-07</th>\n",
       "      <td>0.880987</td>\n",
       "      <td>-1.717641</td>\n",
       "      <td>0.809490</td>\n",
       "      <td>1.449279</td>\n",
       "    </tr>\n",
       "    <tr>\n",
       "      <th>2000-01-08</th>\n",
       "      <td>-1.805341</td>\n",
       "      <td>0.762664</td>\n",
       "      <td>-0.205993</td>\n",
       "      <td>-1.595724</td>\n",
       "    </tr>\n",
       "  </tbody>\n",
       "</table>\n",
       "</div>"
      ],
      "text/plain": [
       "                   A         B         C         D\n",
       "2000-01-01 -0.119524 -1.139756  0.517904 -0.285438\n",
       "2000-01-02  2.021892  0.070927  0.800103  0.118657\n",
       "2000-01-03 -2.040983  0.098607 -1.503086  0.420989\n",
       "2000-01-04  0.255814 -1.303977  0.954433 -1.137952\n",
       "2000-01-05  0.020985  0.476644  0.850724 -0.722163\n",
       "2000-01-06  0.173625 -0.699478  0.355988  1.610516\n",
       "2000-01-07  0.880987 -1.717641  0.809490  1.449279\n",
       "2000-01-08 -1.805341  0.762664 -0.205993 -1.595724"
      ]
     },
     "execution_count": 5,
     "metadata": {},
     "output_type": "execute_result"
    }
   ],
   "source": [
    "df2 = df1.copy()\n",
    "df2"
   ]
  },
  {
   "cell_type": "code",
   "execution_count": 6,
   "id": "4efd1aad-0c23-4a23-90a3-f91ff174d88f",
   "metadata": {},
   "outputs": [
    {
     "data": {
      "text/html": [
       "<div>\n",
       "<style scoped>\n",
       "    .dataframe tbody tr th:only-of-type {\n",
       "        vertical-align: middle;\n",
       "    }\n",
       "\n",
       "    .dataframe tbody tr th {\n",
       "        vertical-align: top;\n",
       "    }\n",
       "\n",
       "    .dataframe thead th {\n",
       "        text-align: right;\n",
       "    }\n",
       "</style>\n",
       "<table border=\"1\" class=\"dataframe\">\n",
       "  <thead>\n",
       "    <tr style=\"text-align: right;\">\n",
       "      <th></th>\n",
       "      <th>A</th>\n",
       "      <th>B</th>\n",
       "      <th>C</th>\n",
       "      <th>D</th>\n",
       "    </tr>\n",
       "  </thead>\n",
       "  <tbody>\n",
       "    <tr>\n",
       "      <th>2000-01-01</th>\n",
       "      <td>-1.139756</td>\n",
       "      <td>-0.119524</td>\n",
       "      <td>0.517904</td>\n",
       "      <td>-0.285438</td>\n",
       "    </tr>\n",
       "    <tr>\n",
       "      <th>2000-01-02</th>\n",
       "      <td>0.070927</td>\n",
       "      <td>2.021892</td>\n",
       "      <td>0.800103</td>\n",
       "      <td>0.118657</td>\n",
       "    </tr>\n",
       "    <tr>\n",
       "      <th>2000-01-03</th>\n",
       "      <td>0.098607</td>\n",
       "      <td>-2.040983</td>\n",
       "      <td>-1.503086</td>\n",
       "      <td>0.420989</td>\n",
       "    </tr>\n",
       "    <tr>\n",
       "      <th>2000-01-04</th>\n",
       "      <td>-1.303977</td>\n",
       "      <td>0.255814</td>\n",
       "      <td>0.954433</td>\n",
       "      <td>-1.137952</td>\n",
       "    </tr>\n",
       "    <tr>\n",
       "      <th>2000-01-05</th>\n",
       "      <td>0.476644</td>\n",
       "      <td>0.020985</td>\n",
       "      <td>0.850724</td>\n",
       "      <td>-0.722163</td>\n",
       "    </tr>\n",
       "    <tr>\n",
       "      <th>2000-01-06</th>\n",
       "      <td>-0.699478</td>\n",
       "      <td>0.173625</td>\n",
       "      <td>0.355988</td>\n",
       "      <td>1.610516</td>\n",
       "    </tr>\n",
       "    <tr>\n",
       "      <th>2000-01-07</th>\n",
       "      <td>-1.717641</td>\n",
       "      <td>0.880987</td>\n",
       "      <td>0.809490</td>\n",
       "      <td>1.449279</td>\n",
       "    </tr>\n",
       "    <tr>\n",
       "      <th>2000-01-08</th>\n",
       "      <td>0.762664</td>\n",
       "      <td>-1.805341</td>\n",
       "      <td>-0.205993</td>\n",
       "      <td>-1.595724</td>\n",
       "    </tr>\n",
       "  </tbody>\n",
       "</table>\n",
       "</div>"
      ],
      "text/plain": [
       "                   A         B         C         D\n",
       "2000-01-01 -1.139756 -0.119524  0.517904 -0.285438\n",
       "2000-01-02  0.070927  2.021892  0.800103  0.118657\n",
       "2000-01-03  0.098607 -2.040983 -1.503086  0.420989\n",
       "2000-01-04 -1.303977  0.255814  0.954433 -1.137952\n",
       "2000-01-05  0.476644  0.020985  0.850724 -0.722163\n",
       "2000-01-06 -0.699478  0.173625  0.355988  1.610516\n",
       "2000-01-07 -1.717641  0.880987  0.809490  1.449279\n",
       "2000-01-08  0.762664 -1.805341 -0.205993 -1.595724"
      ]
     },
     "execution_count": 6,
     "metadata": {},
     "output_type": "execute_result"
    }
   ],
   "source": [
    "df2[['B', 'A']] = df1[['A', 'B']]\n",
    "df2"
   ]
  },
  {
   "cell_type": "markdown",
   "id": "133bdc45-14a5-4207-a682-a4c1099f517a",
   "metadata": {},
   "source": [
    "You may find this useful for applying a transform (in-place) to a subset of the columns.\n",
    "\n",
    ">Warning\n",
    ">\n",
    ">pandas aligns all AXES when setting Series and DataFrame from .loc, and .iloc.\n",
    ">\n",
    ">This will not modify df because the column alignment is before value assignment."
   ]
  },
  {
   "cell_type": "code",
   "execution_count": 7,
   "id": "f9da0703-8c4d-4de9-9622-96964f0d498b",
   "metadata": {},
   "outputs": [
    {
     "data": {
      "text/html": [
       "<div>\n",
       "<style scoped>\n",
       "    .dataframe tbody tr th:only-of-type {\n",
       "        vertical-align: middle;\n",
       "    }\n",
       "\n",
       "    .dataframe tbody tr th {\n",
       "        vertical-align: top;\n",
       "    }\n",
       "\n",
       "    .dataframe thead th {\n",
       "        text-align: right;\n",
       "    }\n",
       "</style>\n",
       "<table border=\"1\" class=\"dataframe\">\n",
       "  <thead>\n",
       "    <tr style=\"text-align: right;\">\n",
       "      <th></th>\n",
       "      <th>A</th>\n",
       "      <th>B</th>\n",
       "    </tr>\n",
       "  </thead>\n",
       "  <tbody>\n",
       "    <tr>\n",
       "      <th>2000-01-01</th>\n",
       "      <td>-1.139756</td>\n",
       "      <td>-0.119524</td>\n",
       "    </tr>\n",
       "    <tr>\n",
       "      <th>2000-01-02</th>\n",
       "      <td>0.070927</td>\n",
       "      <td>2.021892</td>\n",
       "    </tr>\n",
       "    <tr>\n",
       "      <th>2000-01-03</th>\n",
       "      <td>0.098607</td>\n",
       "      <td>-2.040983</td>\n",
       "    </tr>\n",
       "    <tr>\n",
       "      <th>2000-01-04</th>\n",
       "      <td>-1.303977</td>\n",
       "      <td>0.255814</td>\n",
       "    </tr>\n",
       "    <tr>\n",
       "      <th>2000-01-05</th>\n",
       "      <td>0.476644</td>\n",
       "      <td>0.020985</td>\n",
       "    </tr>\n",
       "    <tr>\n",
       "      <th>2000-01-06</th>\n",
       "      <td>-0.699478</td>\n",
       "      <td>0.173625</td>\n",
       "    </tr>\n",
       "    <tr>\n",
       "      <th>2000-01-07</th>\n",
       "      <td>-1.717641</td>\n",
       "      <td>0.880987</td>\n",
       "    </tr>\n",
       "    <tr>\n",
       "      <th>2000-01-08</th>\n",
       "      <td>0.762664</td>\n",
       "      <td>-1.805341</td>\n",
       "    </tr>\n",
       "  </tbody>\n",
       "</table>\n",
       "</div>"
      ],
      "text/plain": [
       "                   A         B\n",
       "2000-01-01 -1.139756 -0.119524\n",
       "2000-01-02  0.070927  2.021892\n",
       "2000-01-03  0.098607 -2.040983\n",
       "2000-01-04 -1.303977  0.255814\n",
       "2000-01-05  0.476644  0.020985\n",
       "2000-01-06 -0.699478  0.173625\n",
       "2000-01-07 -1.717641  0.880987\n",
       "2000-01-08  0.762664 -1.805341"
      ]
     },
     "execution_count": 7,
     "metadata": {},
     "output_type": "execute_result"
    }
   ],
   "source": [
    "df2[['A', 'B']]"
   ]
  },
  {
   "cell_type": "code",
   "execution_count": 8,
   "id": "78309cf0-92a2-4be5-bea2-6c52d54548ea",
   "metadata": {},
   "outputs": [
    {
     "data": {
      "text/html": [
       "<div>\n",
       "<style scoped>\n",
       "    .dataframe tbody tr th:only-of-type {\n",
       "        vertical-align: middle;\n",
       "    }\n",
       "\n",
       "    .dataframe tbody tr th {\n",
       "        vertical-align: top;\n",
       "    }\n",
       "\n",
       "    .dataframe thead th {\n",
       "        text-align: right;\n",
       "    }\n",
       "</style>\n",
       "<table border=\"1\" class=\"dataframe\">\n",
       "  <thead>\n",
       "    <tr style=\"text-align: right;\">\n",
       "      <th></th>\n",
       "      <th>A</th>\n",
       "      <th>B</th>\n",
       "    </tr>\n",
       "  </thead>\n",
       "  <tbody>\n",
       "    <tr>\n",
       "      <th>2000-01-01</th>\n",
       "      <td>-1.139756</td>\n",
       "      <td>-0.119524</td>\n",
       "    </tr>\n",
       "    <tr>\n",
       "      <th>2000-01-02</th>\n",
       "      <td>0.070927</td>\n",
       "      <td>2.021892</td>\n",
       "    </tr>\n",
       "    <tr>\n",
       "      <th>2000-01-03</th>\n",
       "      <td>0.098607</td>\n",
       "      <td>-2.040983</td>\n",
       "    </tr>\n",
       "    <tr>\n",
       "      <th>2000-01-04</th>\n",
       "      <td>-1.303977</td>\n",
       "      <td>0.255814</td>\n",
       "    </tr>\n",
       "    <tr>\n",
       "      <th>2000-01-05</th>\n",
       "      <td>0.476644</td>\n",
       "      <td>0.020985</td>\n",
       "    </tr>\n",
       "    <tr>\n",
       "      <th>2000-01-06</th>\n",
       "      <td>-0.699478</td>\n",
       "      <td>0.173625</td>\n",
       "    </tr>\n",
       "    <tr>\n",
       "      <th>2000-01-07</th>\n",
       "      <td>-1.717641</td>\n",
       "      <td>0.880987</td>\n",
       "    </tr>\n",
       "    <tr>\n",
       "      <th>2000-01-08</th>\n",
       "      <td>0.762664</td>\n",
       "      <td>-1.805341</td>\n",
       "    </tr>\n",
       "  </tbody>\n",
       "</table>\n",
       "</div>"
      ],
      "text/plain": [
       "                   A         B\n",
       "2000-01-01 -1.139756 -0.119524\n",
       "2000-01-02  0.070927  2.021892\n",
       "2000-01-03  0.098607 -2.040983\n",
       "2000-01-04 -1.303977  0.255814\n",
       "2000-01-05  0.476644  0.020985\n",
       "2000-01-06 -0.699478  0.173625\n",
       "2000-01-07 -1.717641  0.880987\n",
       "2000-01-08  0.762664 -1.805341"
      ]
     },
     "execution_count": 8,
     "metadata": {},
     "output_type": "execute_result"
    }
   ],
   "source": [
    "df2.loc[:, ['B', 'A']] = df2[['A', 'B']]\n",
    "df2[['A', 'B']]"
   ]
  },
  {
   "cell_type": "markdown",
   "id": "c81604e2-2b0a-4a68-8316-d5c2ec13856b",
   "metadata": {},
   "source": [
    "The correct way to swap column values is by using raw values:"
   ]
  },
  {
   "cell_type": "code",
   "execution_count": 9,
   "id": "f637b5a4-6cdd-4264-8363-559acddb8997",
   "metadata": {},
   "outputs": [
    {
     "data": {
      "text/html": [
       "<div>\n",
       "<style scoped>\n",
       "    .dataframe tbody tr th:only-of-type {\n",
       "        vertical-align: middle;\n",
       "    }\n",
       "\n",
       "    .dataframe tbody tr th {\n",
       "        vertical-align: top;\n",
       "    }\n",
       "\n",
       "    .dataframe thead th {\n",
       "        text-align: right;\n",
       "    }\n",
       "</style>\n",
       "<table border=\"1\" class=\"dataframe\">\n",
       "  <thead>\n",
       "    <tr style=\"text-align: right;\">\n",
       "      <th></th>\n",
       "      <th>A</th>\n",
       "      <th>B</th>\n",
       "    </tr>\n",
       "  </thead>\n",
       "  <tbody>\n",
       "    <tr>\n",
       "      <th>2000-01-01</th>\n",
       "      <td>-0.119524</td>\n",
       "      <td>-1.139756</td>\n",
       "    </tr>\n",
       "    <tr>\n",
       "      <th>2000-01-02</th>\n",
       "      <td>2.021892</td>\n",
       "      <td>0.070927</td>\n",
       "    </tr>\n",
       "    <tr>\n",
       "      <th>2000-01-03</th>\n",
       "      <td>-2.040983</td>\n",
       "      <td>0.098607</td>\n",
       "    </tr>\n",
       "    <tr>\n",
       "      <th>2000-01-04</th>\n",
       "      <td>0.255814</td>\n",
       "      <td>-1.303977</td>\n",
       "    </tr>\n",
       "    <tr>\n",
       "      <th>2000-01-05</th>\n",
       "      <td>0.020985</td>\n",
       "      <td>0.476644</td>\n",
       "    </tr>\n",
       "    <tr>\n",
       "      <th>2000-01-06</th>\n",
       "      <td>0.173625</td>\n",
       "      <td>-0.699478</td>\n",
       "    </tr>\n",
       "    <tr>\n",
       "      <th>2000-01-07</th>\n",
       "      <td>0.880987</td>\n",
       "      <td>-1.717641</td>\n",
       "    </tr>\n",
       "    <tr>\n",
       "      <th>2000-01-08</th>\n",
       "      <td>-1.805341</td>\n",
       "      <td>0.762664</td>\n",
       "    </tr>\n",
       "  </tbody>\n",
       "</table>\n",
       "</div>"
      ],
      "text/plain": [
       "                   A         B\n",
       "2000-01-01 -0.119524 -1.139756\n",
       "2000-01-02  2.021892  0.070927\n",
       "2000-01-03 -2.040983  0.098607\n",
       "2000-01-04  0.255814 -1.303977\n",
       "2000-01-05  0.020985  0.476644\n",
       "2000-01-06  0.173625 -0.699478\n",
       "2000-01-07  0.880987 -1.717641\n",
       "2000-01-08 -1.805341  0.762664"
      ]
     },
     "execution_count": 9,
     "metadata": {},
     "output_type": "execute_result"
    }
   ],
   "source": [
    "df2.loc[:, ['B', 'A']] = df2[['A', 'B']].to_numpy()\n",
    "df2[['A', 'B']]"
   ]
  },
  {
   "cell_type": "markdown",
   "id": "46eaf3e8-055d-4520-85a8-b8072eb51adc",
   "metadata": {},
   "source": [
    "## Attribute access\n",
    "You may access an index on a Series or column on a DataFrame directly as an attribute:"
   ]
  },
  {
   "cell_type": "code",
   "execution_count": 10,
   "id": "d0b3611a-2947-4c5f-9b98-6ef81935a91b",
   "metadata": {},
   "outputs": [
    {
     "data": {
      "text/plain": [
       "2"
      ]
     },
     "execution_count": 10,
     "metadata": {},
     "output_type": "execute_result"
    }
   ],
   "source": [
    "s3 = pd.Series([1, 2, 3], index=list('abc'))\n",
    "df3 = df1.copy()\n",
    "s3.b"
   ]
  },
  {
   "cell_type": "code",
   "execution_count": 11,
   "id": "fba6ae0f-e630-43bc-9981-5d644ab554ff",
   "metadata": {},
   "outputs": [
    {
     "data": {
      "text/plain": [
       "2000-01-01   -0.119524\n",
       "2000-01-02    2.021892\n",
       "2000-01-03   -2.040983\n",
       "2000-01-04    0.255814\n",
       "2000-01-05    0.020985\n",
       "2000-01-06    0.173625\n",
       "2000-01-07    0.880987\n",
       "2000-01-08   -1.805341\n",
       "Freq: D, Name: A, dtype: float64"
      ]
     },
     "execution_count": 11,
     "metadata": {},
     "output_type": "execute_result"
    }
   ],
   "source": [
    "df3.A"
   ]
  },
  {
   "cell_type": "code",
   "execution_count": 12,
   "id": "6c745b4c-7cf9-4b25-a2ef-43e28f6f8f26",
   "metadata": {},
   "outputs": [
    {
     "data": {
      "text/plain": [
       "a    5\n",
       "b    2\n",
       "c    3\n",
       "dtype: int64"
      ]
     },
     "execution_count": 12,
     "metadata": {},
     "output_type": "execute_result"
    }
   ],
   "source": [
    "s3.a = 5\n",
    "s3"
   ]
  },
  {
   "cell_type": "code",
   "execution_count": 13,
   "id": "6bdbc271-9832-4448-8734-5c77ca941b8f",
   "metadata": {},
   "outputs": [
    {
     "data": {
      "text/html": [
       "<div>\n",
       "<style scoped>\n",
       "    .dataframe tbody tr th:only-of-type {\n",
       "        vertical-align: middle;\n",
       "    }\n",
       "\n",
       "    .dataframe tbody tr th {\n",
       "        vertical-align: top;\n",
       "    }\n",
       "\n",
       "    .dataframe thead th {\n",
       "        text-align: right;\n",
       "    }\n",
       "</style>\n",
       "<table border=\"1\" class=\"dataframe\">\n",
       "  <thead>\n",
       "    <tr style=\"text-align: right;\">\n",
       "      <th></th>\n",
       "      <th>A</th>\n",
       "      <th>B</th>\n",
       "      <th>C</th>\n",
       "      <th>D</th>\n",
       "    </tr>\n",
       "  </thead>\n",
       "  <tbody>\n",
       "    <tr>\n",
       "      <th>2000-01-01</th>\n",
       "      <td>0</td>\n",
       "      <td>-1.139756</td>\n",
       "      <td>0.517904</td>\n",
       "      <td>-0.285438</td>\n",
       "    </tr>\n",
       "    <tr>\n",
       "      <th>2000-01-02</th>\n",
       "      <td>1</td>\n",
       "      <td>0.070927</td>\n",
       "      <td>0.800103</td>\n",
       "      <td>0.118657</td>\n",
       "    </tr>\n",
       "    <tr>\n",
       "      <th>2000-01-03</th>\n",
       "      <td>2</td>\n",
       "      <td>0.098607</td>\n",
       "      <td>-1.503086</td>\n",
       "      <td>0.420989</td>\n",
       "    </tr>\n",
       "    <tr>\n",
       "      <th>2000-01-04</th>\n",
       "      <td>3</td>\n",
       "      <td>-1.303977</td>\n",
       "      <td>0.954433</td>\n",
       "      <td>-1.137952</td>\n",
       "    </tr>\n",
       "    <tr>\n",
       "      <th>2000-01-05</th>\n",
       "      <td>4</td>\n",
       "      <td>0.476644</td>\n",
       "      <td>0.850724</td>\n",
       "      <td>-0.722163</td>\n",
       "    </tr>\n",
       "    <tr>\n",
       "      <th>2000-01-06</th>\n",
       "      <td>5</td>\n",
       "      <td>-0.699478</td>\n",
       "      <td>0.355988</td>\n",
       "      <td>1.610516</td>\n",
       "    </tr>\n",
       "    <tr>\n",
       "      <th>2000-01-07</th>\n",
       "      <td>6</td>\n",
       "      <td>-1.717641</td>\n",
       "      <td>0.809490</td>\n",
       "      <td>1.449279</td>\n",
       "    </tr>\n",
       "    <tr>\n",
       "      <th>2000-01-08</th>\n",
       "      <td>7</td>\n",
       "      <td>0.762664</td>\n",
       "      <td>-0.205993</td>\n",
       "      <td>-1.595724</td>\n",
       "    </tr>\n",
       "  </tbody>\n",
       "</table>\n",
       "</div>"
      ],
      "text/plain": [
       "            A         B         C         D\n",
       "2000-01-01  0 -1.139756  0.517904 -0.285438\n",
       "2000-01-02  1  0.070927  0.800103  0.118657\n",
       "2000-01-03  2  0.098607 -1.503086  0.420989\n",
       "2000-01-04  3 -1.303977  0.954433 -1.137952\n",
       "2000-01-05  4  0.476644  0.850724 -0.722163\n",
       "2000-01-06  5 -0.699478  0.355988  1.610516\n",
       "2000-01-07  6 -1.717641  0.809490  1.449279\n",
       "2000-01-08  7  0.762664 -0.205993 -1.595724"
      ]
     },
     "execution_count": 13,
     "metadata": {},
     "output_type": "execute_result"
    }
   ],
   "source": [
    "df3.A = list(range(len(df3.index)))  # ok if A already exists\n",
    "df3"
   ]
  },
  {
   "cell_type": "code",
   "execution_count": 14,
   "id": "3f4fcd35-1f82-4502-9fcf-466ca5c63bff",
   "metadata": {},
   "outputs": [
    {
     "data": {
      "text/html": [
       "<div>\n",
       "<style scoped>\n",
       "    .dataframe tbody tr th:only-of-type {\n",
       "        vertical-align: middle;\n",
       "    }\n",
       "\n",
       "    .dataframe tbody tr th {\n",
       "        vertical-align: top;\n",
       "    }\n",
       "\n",
       "    .dataframe thead th {\n",
       "        text-align: right;\n",
       "    }\n",
       "</style>\n",
       "<table border=\"1\" class=\"dataframe\">\n",
       "  <thead>\n",
       "    <tr style=\"text-align: right;\">\n",
       "      <th></th>\n",
       "      <th>A</th>\n",
       "      <th>B</th>\n",
       "      <th>C</th>\n",
       "      <th>D</th>\n",
       "      <th>AA</th>\n",
       "    </tr>\n",
       "  </thead>\n",
       "  <tbody>\n",
       "    <tr>\n",
       "      <th>2000-01-01</th>\n",
       "      <td>0</td>\n",
       "      <td>-1.139756</td>\n",
       "      <td>0.517904</td>\n",
       "      <td>-0.285438</td>\n",
       "      <td>0</td>\n",
       "    </tr>\n",
       "    <tr>\n",
       "      <th>2000-01-02</th>\n",
       "      <td>1</td>\n",
       "      <td>0.070927</td>\n",
       "      <td>0.800103</td>\n",
       "      <td>0.118657</td>\n",
       "      <td>1</td>\n",
       "    </tr>\n",
       "    <tr>\n",
       "      <th>2000-01-03</th>\n",
       "      <td>2</td>\n",
       "      <td>0.098607</td>\n",
       "      <td>-1.503086</td>\n",
       "      <td>0.420989</td>\n",
       "      <td>2</td>\n",
       "    </tr>\n",
       "    <tr>\n",
       "      <th>2000-01-04</th>\n",
       "      <td>3</td>\n",
       "      <td>-1.303977</td>\n",
       "      <td>0.954433</td>\n",
       "      <td>-1.137952</td>\n",
       "      <td>3</td>\n",
       "    </tr>\n",
       "    <tr>\n",
       "      <th>2000-01-05</th>\n",
       "      <td>4</td>\n",
       "      <td>0.476644</td>\n",
       "      <td>0.850724</td>\n",
       "      <td>-0.722163</td>\n",
       "      <td>4</td>\n",
       "    </tr>\n",
       "    <tr>\n",
       "      <th>2000-01-06</th>\n",
       "      <td>5</td>\n",
       "      <td>-0.699478</td>\n",
       "      <td>0.355988</td>\n",
       "      <td>1.610516</td>\n",
       "      <td>5</td>\n",
       "    </tr>\n",
       "    <tr>\n",
       "      <th>2000-01-07</th>\n",
       "      <td>6</td>\n",
       "      <td>-1.717641</td>\n",
       "      <td>0.809490</td>\n",
       "      <td>1.449279</td>\n",
       "      <td>6</td>\n",
       "    </tr>\n",
       "    <tr>\n",
       "      <th>2000-01-08</th>\n",
       "      <td>7</td>\n",
       "      <td>0.762664</td>\n",
       "      <td>-0.205993</td>\n",
       "      <td>-1.595724</td>\n",
       "      <td>7</td>\n",
       "    </tr>\n",
       "  </tbody>\n",
       "</table>\n",
       "</div>"
      ],
      "text/plain": [
       "            A         B         C         D  AA\n",
       "2000-01-01  0 -1.139756  0.517904 -0.285438   0\n",
       "2000-01-02  1  0.070927  0.800103  0.118657   1\n",
       "2000-01-03  2  0.098607 -1.503086  0.420989   2\n",
       "2000-01-04  3 -1.303977  0.954433 -1.137952   3\n",
       "2000-01-05  4  0.476644  0.850724 -0.722163   4\n",
       "2000-01-06  5 -0.699478  0.355988  1.610516   5\n",
       "2000-01-07  6 -1.717641  0.809490  1.449279   6\n",
       "2000-01-08  7  0.762664 -0.205993 -1.595724   7"
      ]
     },
     "execution_count": 14,
     "metadata": {},
     "output_type": "execute_result"
    }
   ],
   "source": [
    "df3['AA'] = list(range(len(df3.index)))  # use this form to create a new column\n",
    "df3"
   ]
  },
  {
   "cell_type": "markdown",
   "id": "dceaf236-0ded-47ea-9200-76bce16f0b94",
   "metadata": {},
   "source": [
    ">Warning\n",
    ">\n",
    ">* You can use this access only if the index element is a valid Python identifier, e.g. s.1 is not allowed. See here for an explanation of valid identifiers.\n",
    ">\n",
    ">* The attribute will not be available if it conflicts with an existing method name, e.g. s.min is not allowed, but s['min'] is possible.\n",
    ">\n",
    ">* Similarly, the attribute will not be available if it conflicts with any of the following list: index, major_axis, minor_axis, items.\n",
    ">\n",
    ">* In any of these cases, standard indexing will still work, e.g. s['1'], s['min'], and s['index'] will access the corresponding element or column.\n",
    "\n",
    "If you are using the IPython environment, you may also use tab-completion to see these accessible attributes.\n",
    "\n",
    "You can also assign a dict to a row of a DataFrame:"
   ]
  },
  {
   "cell_type": "code",
   "execution_count": 15,
   "id": "e9298421-9f68-4844-9a32-bc92c281ff77",
   "metadata": {},
   "outputs": [
    {
     "data": {
      "text/html": [
       "<div>\n",
       "<style scoped>\n",
       "    .dataframe tbody tr th:only-of-type {\n",
       "        vertical-align: middle;\n",
       "    }\n",
       "\n",
       "    .dataframe tbody tr th {\n",
       "        vertical-align: top;\n",
       "    }\n",
       "\n",
       "    .dataframe thead th {\n",
       "        text-align: right;\n",
       "    }\n",
       "</style>\n",
       "<table border=\"1\" class=\"dataframe\">\n",
       "  <thead>\n",
       "    <tr style=\"text-align: right;\">\n",
       "      <th></th>\n",
       "      <th>x</th>\n",
       "      <th>y</th>\n",
       "    </tr>\n",
       "  </thead>\n",
       "  <tbody>\n",
       "    <tr>\n",
       "      <th>0</th>\n",
       "      <td>1</td>\n",
       "      <td>3</td>\n",
       "    </tr>\n",
       "    <tr>\n",
       "      <th>1</th>\n",
       "      <td>9</td>\n",
       "      <td>99</td>\n",
       "    </tr>\n",
       "    <tr>\n",
       "      <th>2</th>\n",
       "      <td>3</td>\n",
       "      <td>5</td>\n",
       "    </tr>\n",
       "  </tbody>\n",
       "</table>\n",
       "</div>"
      ],
      "text/plain": [
       "   x   y\n",
       "0  1   3\n",
       "1  9  99\n",
       "2  3   5"
      ]
     },
     "execution_count": 15,
     "metadata": {},
     "output_type": "execute_result"
    }
   ],
   "source": [
    "x4 = pd.DataFrame({'x': [1, 2, 3], 'y': [3, 4, 5]})\n",
    "x4.iloc[1] = {'x': 9, 'y': 99}\n",
    "x4"
   ]
  },
  {
   "cell_type": "markdown",
   "id": "052c46b4-33fc-422d-98e0-80a3e7be34f0",
   "metadata": {},
   "source": [
    "You can use attribute access to modify an existing element of a Series or column of a DataFrame, but be careful; if you try to use attribute access to create a new column, it creates a new attribute rather than a new column. In 0.21.0 and later, this will raise a UserWarning:"
   ]
  },
  {
   "cell_type": "code",
   "execution_count": 16,
   "id": "e096f406-8af5-42ba-82af-ae0435ec71ca",
   "metadata": {},
   "outputs": [
    {
     "name": "stderr",
     "output_type": "stream",
     "text": [
      "<ipython-input-16-8503afd9ff10>:2: UserWarning: Pandas doesn't allow columns to be created via a new attribute name - see https://pandas.pydata.org/pandas-docs/stable/indexing.html#attribute-access\n",
      "  df4.two = [4, 5, 6]\n"
     ]
    },
    {
     "data": {
      "text/html": [
       "<div>\n",
       "<style scoped>\n",
       "    .dataframe tbody tr th:only-of-type {\n",
       "        vertical-align: middle;\n",
       "    }\n",
       "\n",
       "    .dataframe tbody tr th {\n",
       "        vertical-align: top;\n",
       "    }\n",
       "\n",
       "    .dataframe thead th {\n",
       "        text-align: right;\n",
       "    }\n",
       "</style>\n",
       "<table border=\"1\" class=\"dataframe\">\n",
       "  <thead>\n",
       "    <tr style=\"text-align: right;\">\n",
       "      <th></th>\n",
       "      <th>one</th>\n",
       "    </tr>\n",
       "  </thead>\n",
       "  <tbody>\n",
       "    <tr>\n",
       "      <th>0</th>\n",
       "      <td>1.0</td>\n",
       "    </tr>\n",
       "    <tr>\n",
       "      <th>1</th>\n",
       "      <td>2.0</td>\n",
       "    </tr>\n",
       "    <tr>\n",
       "      <th>2</th>\n",
       "      <td>3.0</td>\n",
       "    </tr>\n",
       "  </tbody>\n",
       "</table>\n",
       "</div>"
      ],
      "text/plain": [
       "   one\n",
       "0  1.0\n",
       "1  2.0\n",
       "2  3.0"
      ]
     },
     "execution_count": 16,
     "metadata": {},
     "output_type": "execute_result"
    }
   ],
   "source": [
    "df4 = pd.DataFrame({'one': [1., 2., 3.]})\n",
    "df4.two = [4, 5, 6]\n",
    "df4"
   ]
  },
  {
   "cell_type": "markdown",
   "id": "045dff3f-e5a0-46f9-a465-58ec32df3b9d",
   "metadata": {},
   "source": [
    "## Slicing ranges\n",
    "The most robust and consistent way of slicing ranges along arbitrary axes is described in the Selection by Position section detailing the .iloc method. For now, we explain the semantics of slicing using the [] operator.\n",
    "\n",
    "With Series, the syntax works exactly as with an ndarray, returning a slice of the values and the corresponding labels:"
   ]
  },
  {
   "cell_type": "code",
   "execution_count": 17,
   "id": "ac7271a1-9fc7-41b9-b134-73da9ce536f0",
   "metadata": {},
   "outputs": [
    {
     "data": {
      "text/plain": [
       "2000-01-01   -1.139756\n",
       "2000-01-02    0.070927\n",
       "2000-01-03    0.098607\n",
       "2000-01-04   -1.303977\n",
       "2000-01-05    0.476644\n",
       "Freq: D, Name: B, dtype: float64"
      ]
     },
     "execution_count": 17,
     "metadata": {},
     "output_type": "execute_result"
    }
   ],
   "source": [
    "s4 = df3.B.copy()\n",
    "s4[:5]"
   ]
  },
  {
   "cell_type": "code",
   "execution_count": 18,
   "id": "113badf6-82de-4cbe-aa55-f3015d76e332",
   "metadata": {},
   "outputs": [
    {
     "data": {
      "text/plain": [
       "2000-01-01   -1.139756\n",
       "2000-01-03    0.098607\n",
       "2000-01-05    0.476644\n",
       "2000-01-07   -1.717641\n",
       "Freq: 2D, Name: B, dtype: float64"
      ]
     },
     "execution_count": 18,
     "metadata": {},
     "output_type": "execute_result"
    }
   ],
   "source": [
    "s4[::2]"
   ]
  },
  {
   "cell_type": "code",
   "execution_count": 19,
   "id": "aa715ef0-595d-4cd5-88bb-c3d0edff1ba0",
   "metadata": {},
   "outputs": [
    {
     "data": {
      "text/plain": [
       "2000-01-08    0.762664\n",
       "2000-01-07   -1.717641\n",
       "2000-01-06   -0.699478\n",
       "2000-01-05    0.476644\n",
       "2000-01-04   -1.303977\n",
       "2000-01-03    0.098607\n",
       "2000-01-02    0.070927\n",
       "2000-01-01   -1.139756\n",
       "Freq: -1D, Name: B, dtype: float64"
      ]
     },
     "execution_count": 19,
     "metadata": {},
     "output_type": "execute_result"
    }
   ],
   "source": [
    "s4[::-1]"
   ]
  },
  {
   "cell_type": "markdown",
   "id": "30d24968-7f7b-4ab8-ae14-a4174aac4bdf",
   "metadata": {},
   "source": [
    "Note that setting works as well:"
   ]
  },
  {
   "cell_type": "code",
   "execution_count": 20,
   "id": "1bbe6c4c-0ad4-4bdf-bdc6-a64a30411d47",
   "metadata": {},
   "outputs": [
    {
     "data": {
      "text/plain": [
       "2000-01-01    0.000000\n",
       "2000-01-02    0.000000\n",
       "2000-01-03    0.000000\n",
       "2000-01-04    0.000000\n",
       "2000-01-05    0.000000\n",
       "2000-01-06   -0.699478\n",
       "2000-01-07   -1.717641\n",
       "2000-01-08    0.762664\n",
       "Freq: D, Name: B, dtype: float64"
      ]
     },
     "execution_count": 20,
     "metadata": {},
     "output_type": "execute_result"
    }
   ],
   "source": [
    "s5 = s4.copy()\n",
    "s5[:5] = 0\n",
    "s5"
   ]
  },
  {
   "cell_type": "markdown",
   "id": "e50af495-4ba9-4780-ade1-545d987e611b",
   "metadata": {},
   "source": [
    "With DataFrame, slicing inside of [] slices the rows. This is provided largely as a convenience since it is such a common operation."
   ]
  },
  {
   "cell_type": "code",
   "execution_count": 21,
   "id": "616b0b2d-f607-42bb-a987-c6caa377539a",
   "metadata": {},
   "outputs": [
    {
     "data": {
      "text/html": [
       "<div>\n",
       "<style scoped>\n",
       "    .dataframe tbody tr th:only-of-type {\n",
       "        vertical-align: middle;\n",
       "    }\n",
       "\n",
       "    .dataframe tbody tr th {\n",
       "        vertical-align: top;\n",
       "    }\n",
       "\n",
       "    .dataframe thead th {\n",
       "        text-align: right;\n",
       "    }\n",
       "</style>\n",
       "<table border=\"1\" class=\"dataframe\">\n",
       "  <thead>\n",
       "    <tr style=\"text-align: right;\">\n",
       "      <th></th>\n",
       "      <th>A</th>\n",
       "      <th>B</th>\n",
       "      <th>C</th>\n",
       "      <th>D</th>\n",
       "    </tr>\n",
       "  </thead>\n",
       "  <tbody>\n",
       "    <tr>\n",
       "      <th>2000-01-01</th>\n",
       "      <td>-0.119524</td>\n",
       "      <td>-1.139756</td>\n",
       "      <td>0.517904</td>\n",
       "      <td>-0.285438</td>\n",
       "    </tr>\n",
       "    <tr>\n",
       "      <th>2000-01-02</th>\n",
       "      <td>2.021892</td>\n",
       "      <td>0.070927</td>\n",
       "      <td>0.800103</td>\n",
       "      <td>0.118657</td>\n",
       "    </tr>\n",
       "    <tr>\n",
       "      <th>2000-01-03</th>\n",
       "      <td>-2.040983</td>\n",
       "      <td>0.098607</td>\n",
       "      <td>-1.503086</td>\n",
       "      <td>0.420989</td>\n",
       "    </tr>\n",
       "  </tbody>\n",
       "</table>\n",
       "</div>"
      ],
      "text/plain": [
       "                   A         B         C         D\n",
       "2000-01-01 -0.119524 -1.139756  0.517904 -0.285438\n",
       "2000-01-02  2.021892  0.070927  0.800103  0.118657\n",
       "2000-01-03 -2.040983  0.098607 -1.503086  0.420989"
      ]
     },
     "execution_count": 21,
     "metadata": {},
     "output_type": "execute_result"
    }
   ],
   "source": [
    "df1[:3]"
   ]
  },
  {
   "cell_type": "code",
   "execution_count": 22,
   "id": "d2a7aa17-0c80-4ed3-9f59-bdabe95dc607",
   "metadata": {},
   "outputs": [
    {
     "data": {
      "text/html": [
       "<div>\n",
       "<style scoped>\n",
       "    .dataframe tbody tr th:only-of-type {\n",
       "        vertical-align: middle;\n",
       "    }\n",
       "\n",
       "    .dataframe tbody tr th {\n",
       "        vertical-align: top;\n",
       "    }\n",
       "\n",
       "    .dataframe thead th {\n",
       "        text-align: right;\n",
       "    }\n",
       "</style>\n",
       "<table border=\"1\" class=\"dataframe\">\n",
       "  <thead>\n",
       "    <tr style=\"text-align: right;\">\n",
       "      <th></th>\n",
       "      <th>A</th>\n",
       "      <th>B</th>\n",
       "      <th>C</th>\n",
       "      <th>D</th>\n",
       "    </tr>\n",
       "  </thead>\n",
       "  <tbody>\n",
       "    <tr>\n",
       "      <th>2000-01-08</th>\n",
       "      <td>-1.805341</td>\n",
       "      <td>0.762664</td>\n",
       "      <td>-0.205993</td>\n",
       "      <td>-1.595724</td>\n",
       "    </tr>\n",
       "    <tr>\n",
       "      <th>2000-01-07</th>\n",
       "      <td>0.880987</td>\n",
       "      <td>-1.717641</td>\n",
       "      <td>0.809490</td>\n",
       "      <td>1.449279</td>\n",
       "    </tr>\n",
       "    <tr>\n",
       "      <th>2000-01-06</th>\n",
       "      <td>0.173625</td>\n",
       "      <td>-0.699478</td>\n",
       "      <td>0.355988</td>\n",
       "      <td>1.610516</td>\n",
       "    </tr>\n",
       "    <tr>\n",
       "      <th>2000-01-05</th>\n",
       "      <td>0.020985</td>\n",
       "      <td>0.476644</td>\n",
       "      <td>0.850724</td>\n",
       "      <td>-0.722163</td>\n",
       "    </tr>\n",
       "    <tr>\n",
       "      <th>2000-01-04</th>\n",
       "      <td>0.255814</td>\n",
       "      <td>-1.303977</td>\n",
       "      <td>0.954433</td>\n",
       "      <td>-1.137952</td>\n",
       "    </tr>\n",
       "    <tr>\n",
       "      <th>2000-01-03</th>\n",
       "      <td>-2.040983</td>\n",
       "      <td>0.098607</td>\n",
       "      <td>-1.503086</td>\n",
       "      <td>0.420989</td>\n",
       "    </tr>\n",
       "    <tr>\n",
       "      <th>2000-01-02</th>\n",
       "      <td>2.021892</td>\n",
       "      <td>0.070927</td>\n",
       "      <td>0.800103</td>\n",
       "      <td>0.118657</td>\n",
       "    </tr>\n",
       "    <tr>\n",
       "      <th>2000-01-01</th>\n",
       "      <td>-0.119524</td>\n",
       "      <td>-1.139756</td>\n",
       "      <td>0.517904</td>\n",
       "      <td>-0.285438</td>\n",
       "    </tr>\n",
       "  </tbody>\n",
       "</table>\n",
       "</div>"
      ],
      "text/plain": [
       "                   A         B         C         D\n",
       "2000-01-08 -1.805341  0.762664 -0.205993 -1.595724\n",
       "2000-01-07  0.880987 -1.717641  0.809490  1.449279\n",
       "2000-01-06  0.173625 -0.699478  0.355988  1.610516\n",
       "2000-01-05  0.020985  0.476644  0.850724 -0.722163\n",
       "2000-01-04  0.255814 -1.303977  0.954433 -1.137952\n",
       "2000-01-03 -2.040983  0.098607 -1.503086  0.420989\n",
       "2000-01-02  2.021892  0.070927  0.800103  0.118657\n",
       "2000-01-01 -0.119524 -1.139756  0.517904 -0.285438"
      ]
     },
     "execution_count": 22,
     "metadata": {},
     "output_type": "execute_result"
    }
   ],
   "source": [
    "df1[::-1]"
   ]
  },
  {
   "cell_type": "markdown",
   "id": "cef78fdd-8297-42e7-a9a5-df3c4bd0532b",
   "metadata": {},
   "source": [
    "## Selection by label\n",
    ">Warning\n",
    ">\n",
    ">Whether a copy or a reference is returned for a setting operation, may depend on the context. This is sometimes called chained assignment and should be avoided. See Returning a View versus Copy.\n",
    "\n",
    ">Warning\n",
    ">\n",
    ">.loc is strict when you present slicers that are not compatible (or convertible) with the index type. For example using integers in a DatetimeIndex. These will raise a TypeError."
   ]
  },
  {
   "cell_type": "code",
   "execution_count": 23,
   "id": "1aec5364-1f03-40d8-9492-de43034f0ff5",
   "metadata": {},
   "outputs": [
    {
     "data": {
      "text/html": [
       "<div>\n",
       "<style scoped>\n",
       "    .dataframe tbody tr th:only-of-type {\n",
       "        vertical-align: middle;\n",
       "    }\n",
       "\n",
       "    .dataframe tbody tr th {\n",
       "        vertical-align: top;\n",
       "    }\n",
       "\n",
       "    .dataframe thead th {\n",
       "        text-align: right;\n",
       "    }\n",
       "</style>\n",
       "<table border=\"1\" class=\"dataframe\">\n",
       "  <thead>\n",
       "    <tr style=\"text-align: right;\">\n",
       "      <th></th>\n",
       "      <th>A</th>\n",
       "      <th>B</th>\n",
       "      <th>C</th>\n",
       "      <th>D</th>\n",
       "    </tr>\n",
       "  </thead>\n",
       "  <tbody>\n",
       "    <tr>\n",
       "      <th>2013-01-01</th>\n",
       "      <td>0.723851</td>\n",
       "      <td>-0.211720</td>\n",
       "      <td>1.314130</td>\n",
       "      <td>-0.439573</td>\n",
       "    </tr>\n",
       "    <tr>\n",
       "      <th>2013-01-02</th>\n",
       "      <td>0.250914</td>\n",
       "      <td>-0.946315</td>\n",
       "      <td>0.492595</td>\n",
       "      <td>1.612376</td>\n",
       "    </tr>\n",
       "    <tr>\n",
       "      <th>2013-01-03</th>\n",
       "      <td>-0.892686</td>\n",
       "      <td>1.279112</td>\n",
       "      <td>0.435207</td>\n",
       "      <td>-1.079864</td>\n",
       "    </tr>\n",
       "    <tr>\n",
       "      <th>2013-01-04</th>\n",
       "      <td>-1.067492</td>\n",
       "      <td>-0.048729</td>\n",
       "      <td>-1.955733</td>\n",
       "      <td>-0.365553</td>\n",
       "    </tr>\n",
       "    <tr>\n",
       "      <th>2013-01-05</th>\n",
       "      <td>-0.477897</td>\n",
       "      <td>-1.440080</td>\n",
       "      <td>-1.382869</td>\n",
       "      <td>0.289859</td>\n",
       "    </tr>\n",
       "  </tbody>\n",
       "</table>\n",
       "</div>"
      ],
      "text/plain": [
       "                   A         B         C         D\n",
       "2013-01-01  0.723851 -0.211720  1.314130 -0.439573\n",
       "2013-01-02  0.250914 -0.946315  0.492595  1.612376\n",
       "2013-01-03 -0.892686  1.279112  0.435207 -1.079864\n",
       "2013-01-04 -1.067492 -0.048729 -1.955733 -0.365553\n",
       "2013-01-05 -0.477897 -1.440080 -1.382869  0.289859"
      ]
     },
     "execution_count": 23,
     "metadata": {},
     "output_type": "execute_result"
    }
   ],
   "source": [
    "df6 = pd.DataFrame(np.random.randn(5, 4),\n",
    "                   columns=list('ABCD'),\n",
    "                   index=pd.date_range('20130101', periods=5))\n",
    "df6"
   ]
  },
  {
   "cell_type": "code",
   "execution_count": 24,
   "id": "d81b7111-cf27-48fb-af6c-ec27c5af63ba",
   "metadata": {},
   "outputs": [
    {
     "name": "stdout",
     "output_type": "stream",
     "text": [
      "sys.exc_info(): <class 'TypeError'> \n",
      "TypeError: cannot do slice indexing on DatetimeIndex with these indexers [2] of type int \n",
      "FIX: use a compatible index\n",
      "\n"
     ]
    }
   ],
   "source": [
    "try:\n",
    "    df6.loc[2:3]\n",
    "except:\n",
    "    msg = 'sys.exc_info(): {} \\n'.format(sys.exc_info()[0] )\n",
    "    msg = msg + 'TypeError: cannot do slice indexing on DatetimeIndex with these indexers [2] of type int \\n'\n",
    "    msg = msg + 'FIX: use a compatible index\\n'\n",
    "    print(msg)    "
   ]
  },
  {
   "cell_type": "markdown",
   "id": "97fb98a4-230d-4f40-9114-bb34a95fe19a",
   "metadata": {},
   "source": [
    "String likes in slicing can be convertible to the type of the index and lead to natural slicing."
   ]
  },
  {
   "cell_type": "code",
   "execution_count": 25,
   "id": "f458f3e0-cdec-4c9e-90b3-64007dd39279",
   "metadata": {},
   "outputs": [
    {
     "data": {
      "text/html": [
       "<div>\n",
       "<style scoped>\n",
       "    .dataframe tbody tr th:only-of-type {\n",
       "        vertical-align: middle;\n",
       "    }\n",
       "\n",
       "    .dataframe tbody tr th {\n",
       "        vertical-align: top;\n",
       "    }\n",
       "\n",
       "    .dataframe thead th {\n",
       "        text-align: right;\n",
       "    }\n",
       "</style>\n",
       "<table border=\"1\" class=\"dataframe\">\n",
       "  <thead>\n",
       "    <tr style=\"text-align: right;\">\n",
       "      <th></th>\n",
       "      <th>A</th>\n",
       "      <th>B</th>\n",
       "      <th>C</th>\n",
       "      <th>D</th>\n",
       "    </tr>\n",
       "  </thead>\n",
       "  <tbody>\n",
       "    <tr>\n",
       "      <th>2013-01-02</th>\n",
       "      <td>0.250914</td>\n",
       "      <td>-0.946315</td>\n",
       "      <td>0.492595</td>\n",
       "      <td>1.612376</td>\n",
       "    </tr>\n",
       "    <tr>\n",
       "      <th>2013-01-03</th>\n",
       "      <td>-0.892686</td>\n",
       "      <td>1.279112</td>\n",
       "      <td>0.435207</td>\n",
       "      <td>-1.079864</td>\n",
       "    </tr>\n",
       "    <tr>\n",
       "      <th>2013-01-04</th>\n",
       "      <td>-1.067492</td>\n",
       "      <td>-0.048729</td>\n",
       "      <td>-1.955733</td>\n",
       "      <td>-0.365553</td>\n",
       "    </tr>\n",
       "  </tbody>\n",
       "</table>\n",
       "</div>"
      ],
      "text/plain": [
       "                   A         B         C         D\n",
       "2013-01-02  0.250914 -0.946315  0.492595  1.612376\n",
       "2013-01-03 -0.892686  1.279112  0.435207 -1.079864\n",
       "2013-01-04 -1.067492 -0.048729 -1.955733 -0.365553"
      ]
     },
     "execution_count": 25,
     "metadata": {},
     "output_type": "execute_result"
    }
   ],
   "source": [
    "df6.loc['20130102':'20130104']"
   ]
  },
  {
   "cell_type": "markdown",
   "id": "953abc0c-eeb1-4d17-b578-1557c837ee3f",
   "metadata": {},
   "source": [
    ">Warning\n",
    ">\n",
    ">Changed in version 1.0.0.\n",
    ">\n",
    ">pandas will raise a KeyError if indexing with a list with missing labels. See list-like Using loc with missing keys in a list is Deprecated.\n",
    "\n",
    "pandas provides a suite of methods in order to have purely label based indexing. This is a strict inclusion based protocol. Every label asked for must be in the index, or a KeyError will be raised. When slicing, both the start bound AND the stop bound are included, if present in the index. Integers are valid labels, but they refer to the label and not the position.\n",
    "\n",
    "The .loc attribute is the primary access method. The following are valid inputs:\n",
    "\n",
    "* A single label, e.g. 5 or 'a' (Note that 5 is interpreted as a label of the index. This use is not an integer position along the index.).\n",
    "\n",
    "* A list or array of labels ['a', 'b', 'c'].\n",
    "\n",
    "* A slice object with labels 'a':'f' (Note that contrary to usual Python slices, both the start and the stop are included, when present in the index! See Slicing with labels.\n",
    "\n",
    "* A boolean array.\n",
    "\n",
    "* A callable, see Selection By Callable."
   ]
  },
  {
   "cell_type": "code",
   "execution_count": 26,
   "id": "acdd2166-85aa-49c2-b28b-8b1608d33914",
   "metadata": {},
   "outputs": [
    {
     "data": {
      "text/plain": [
       "a    1.854032\n",
       "b    0.397577\n",
       "c    0.059492\n",
       "d    1.124851\n",
       "e   -0.207485\n",
       "f   -0.638517\n",
       "dtype: float64"
      ]
     },
     "execution_count": 26,
     "metadata": {},
     "output_type": "execute_result"
    }
   ],
   "source": [
    "s6 = pd.Series(np.random.randn(6), index=list('abcdef'))\n",
    "s6"
   ]
  },
  {
   "cell_type": "code",
   "execution_count": 27,
   "id": "23600e78-38e5-43e5-bba0-cc345b126b5f",
   "metadata": {},
   "outputs": [
    {
     "data": {
      "text/plain": [
       "c    0.059492\n",
       "d    1.124851\n",
       "e   -0.207485\n",
       "f   -0.638517\n",
       "dtype: float64"
      ]
     },
     "execution_count": 27,
     "metadata": {},
     "output_type": "execute_result"
    }
   ],
   "source": [
    "s6.loc['c':]"
   ]
  },
  {
   "cell_type": "code",
   "execution_count": 28,
   "id": "184fad23-c586-479d-9157-ac8f1ec503b1",
   "metadata": {},
   "outputs": [
    {
     "data": {
      "text/plain": [
       "0.3975771124476619"
      ]
     },
     "execution_count": 28,
     "metadata": {},
     "output_type": "execute_result"
    }
   ],
   "source": [
    "s6.loc['b']"
   ]
  },
  {
   "cell_type": "markdown",
   "id": "4e25afc8-520f-4761-858d-4cf8f888bfc7",
   "metadata": {},
   "source": [
    "Note that setting works as well:"
   ]
  },
  {
   "cell_type": "code",
   "execution_count": 29,
   "id": "700ac3ff-f1b2-44a3-86b1-e7b110299e18",
   "metadata": {},
   "outputs": [
    {
     "data": {
      "text/plain": [
       "a    1.854032\n",
       "b    0.397577\n",
       "c    0.000000\n",
       "d    0.000000\n",
       "e    0.000000\n",
       "f    0.000000\n",
       "dtype: float64"
      ]
     },
     "execution_count": 29,
     "metadata": {},
     "output_type": "execute_result"
    }
   ],
   "source": [
    "s6.loc['c':] = 0\n",
    "s6"
   ]
  },
  {
   "cell_type": "markdown",
   "id": "1ddc0399-d3ca-4f92-9f35-987d9d76207d",
   "metadata": {},
   "source": [
    "With a DataFrame:"
   ]
  },
  {
   "cell_type": "code",
   "execution_count": 30,
   "id": "56739b3b-df8f-49c4-b1a7-e076054ccf6d",
   "metadata": {},
   "outputs": [
    {
     "data": {
      "text/html": [
       "<div>\n",
       "<style scoped>\n",
       "    .dataframe tbody tr th:only-of-type {\n",
       "        vertical-align: middle;\n",
       "    }\n",
       "\n",
       "    .dataframe tbody tr th {\n",
       "        vertical-align: top;\n",
       "    }\n",
       "\n",
       "    .dataframe thead th {\n",
       "        text-align: right;\n",
       "    }\n",
       "</style>\n",
       "<table border=\"1\" class=\"dataframe\">\n",
       "  <thead>\n",
       "    <tr style=\"text-align: right;\">\n",
       "      <th></th>\n",
       "      <th>A</th>\n",
       "      <th>B</th>\n",
       "      <th>C</th>\n",
       "      <th>D</th>\n",
       "    </tr>\n",
       "  </thead>\n",
       "  <tbody>\n",
       "    <tr>\n",
       "      <th>a</th>\n",
       "      <td>1.808326</td>\n",
       "      <td>-1.292690</td>\n",
       "      <td>-1.097374</td>\n",
       "      <td>-0.363154</td>\n",
       "    </tr>\n",
       "    <tr>\n",
       "      <th>b</th>\n",
       "      <td>-1.051349</td>\n",
       "      <td>-0.798763</td>\n",
       "      <td>-0.280958</td>\n",
       "      <td>0.077838</td>\n",
       "    </tr>\n",
       "    <tr>\n",
       "      <th>c</th>\n",
       "      <td>-0.993829</td>\n",
       "      <td>-1.480812</td>\n",
       "      <td>0.032088</td>\n",
       "      <td>-0.498347</td>\n",
       "    </tr>\n",
       "    <tr>\n",
       "      <th>d</th>\n",
       "      <td>1.153185</td>\n",
       "      <td>-0.683602</td>\n",
       "      <td>0.373852</td>\n",
       "      <td>-0.324962</td>\n",
       "    </tr>\n",
       "    <tr>\n",
       "      <th>e</th>\n",
       "      <td>-0.789674</td>\n",
       "      <td>1.025804</td>\n",
       "      <td>1.195855</td>\n",
       "      <td>0.450637</td>\n",
       "    </tr>\n",
       "    <tr>\n",
       "      <th>f</th>\n",
       "      <td>-0.780291</td>\n",
       "      <td>0.785948</td>\n",
       "      <td>1.795367</td>\n",
       "      <td>-1.004865</td>\n",
       "    </tr>\n",
       "  </tbody>\n",
       "</table>\n",
       "</div>"
      ],
      "text/plain": [
       "          A         B         C         D\n",
       "a  1.808326 -1.292690 -1.097374 -0.363154\n",
       "b -1.051349 -0.798763 -0.280958  0.077838\n",
       "c -0.993829 -1.480812  0.032088 -0.498347\n",
       "d  1.153185 -0.683602  0.373852 -0.324962\n",
       "e -0.789674  1.025804  1.195855  0.450637\n",
       "f -0.780291  0.785948  1.795367 -1.004865"
      ]
     },
     "execution_count": 30,
     "metadata": {},
     "output_type": "execute_result"
    }
   ],
   "source": [
    "df7 = pd.DataFrame(np.random.randn(6, 4),\n",
    "                   index=list('abcdef'),\n",
    "                   columns=list('ABCD'))\n",
    "df7"
   ]
  },
  {
   "cell_type": "code",
   "execution_count": 31,
   "id": "c0da717a-47cd-41fb-8526-20a98637ab87",
   "metadata": {},
   "outputs": [
    {
     "data": {
      "text/html": [
       "<div>\n",
       "<style scoped>\n",
       "    .dataframe tbody tr th:only-of-type {\n",
       "        vertical-align: middle;\n",
       "    }\n",
       "\n",
       "    .dataframe tbody tr th {\n",
       "        vertical-align: top;\n",
       "    }\n",
       "\n",
       "    .dataframe thead th {\n",
       "        text-align: right;\n",
       "    }\n",
       "</style>\n",
       "<table border=\"1\" class=\"dataframe\">\n",
       "  <thead>\n",
       "    <tr style=\"text-align: right;\">\n",
       "      <th></th>\n",
       "      <th>A</th>\n",
       "      <th>B</th>\n",
       "      <th>C</th>\n",
       "      <th>D</th>\n",
       "    </tr>\n",
       "  </thead>\n",
       "  <tbody>\n",
       "    <tr>\n",
       "      <th>a</th>\n",
       "      <td>1.808326</td>\n",
       "      <td>-1.292690</td>\n",
       "      <td>-1.097374</td>\n",
       "      <td>-0.363154</td>\n",
       "    </tr>\n",
       "    <tr>\n",
       "      <th>b</th>\n",
       "      <td>-1.051349</td>\n",
       "      <td>-0.798763</td>\n",
       "      <td>-0.280958</td>\n",
       "      <td>0.077838</td>\n",
       "    </tr>\n",
       "    <tr>\n",
       "      <th>d</th>\n",
       "      <td>1.153185</td>\n",
       "      <td>-0.683602</td>\n",
       "      <td>0.373852</td>\n",
       "      <td>-0.324962</td>\n",
       "    </tr>\n",
       "  </tbody>\n",
       "</table>\n",
       "</div>"
      ],
      "text/plain": [
       "          A         B         C         D\n",
       "a  1.808326 -1.292690 -1.097374 -0.363154\n",
       "b -1.051349 -0.798763 -0.280958  0.077838\n",
       "d  1.153185 -0.683602  0.373852 -0.324962"
      ]
     },
     "execution_count": 31,
     "metadata": {},
     "output_type": "execute_result"
    }
   ],
   "source": [
    "df7.loc[['a', 'b', 'd'], :]"
   ]
  },
  {
   "cell_type": "markdown",
   "id": "1028edcf-2df7-4517-b43d-f715ca585beb",
   "metadata": {},
   "source": [
    "Accessing via label slices:"
   ]
  },
  {
   "cell_type": "code",
   "execution_count": 32,
   "id": "8cece57a-9c95-48a8-b5d0-c7127b408558",
   "metadata": {},
   "outputs": [
    {
     "data": {
      "text/html": [
       "<div>\n",
       "<style scoped>\n",
       "    .dataframe tbody tr th:only-of-type {\n",
       "        vertical-align: middle;\n",
       "    }\n",
       "\n",
       "    .dataframe tbody tr th {\n",
       "        vertical-align: top;\n",
       "    }\n",
       "\n",
       "    .dataframe thead th {\n",
       "        text-align: right;\n",
       "    }\n",
       "</style>\n",
       "<table border=\"1\" class=\"dataframe\">\n",
       "  <thead>\n",
       "    <tr style=\"text-align: right;\">\n",
       "      <th></th>\n",
       "      <th>A</th>\n",
       "      <th>B</th>\n",
       "      <th>C</th>\n",
       "    </tr>\n",
       "  </thead>\n",
       "  <tbody>\n",
       "    <tr>\n",
       "      <th>d</th>\n",
       "      <td>1.153185</td>\n",
       "      <td>-0.683602</td>\n",
       "      <td>0.373852</td>\n",
       "    </tr>\n",
       "    <tr>\n",
       "      <th>e</th>\n",
       "      <td>-0.789674</td>\n",
       "      <td>1.025804</td>\n",
       "      <td>1.195855</td>\n",
       "    </tr>\n",
       "    <tr>\n",
       "      <th>f</th>\n",
       "      <td>-0.780291</td>\n",
       "      <td>0.785948</td>\n",
       "      <td>1.795367</td>\n",
       "    </tr>\n",
       "  </tbody>\n",
       "</table>\n",
       "</div>"
      ],
      "text/plain": [
       "          A         B         C\n",
       "d  1.153185 -0.683602  0.373852\n",
       "e -0.789674  1.025804  1.195855\n",
       "f -0.780291  0.785948  1.795367"
      ]
     },
     "execution_count": 32,
     "metadata": {},
     "output_type": "execute_result"
    }
   ],
   "source": [
    "df7.loc['d':, 'A':'C']"
   ]
  },
  {
   "cell_type": "markdown",
   "id": "6fd75480-c1f3-4782-a7ea-0e8bdb523cba",
   "metadata": {},
   "source": [
    "For getting a cross section using a label (equivalent to df.xs('a')):"
   ]
  },
  {
   "cell_type": "code",
   "execution_count": 33,
   "id": "977c7569-8d94-4e57-ab06-b2633f7188e0",
   "metadata": {},
   "outputs": [
    {
     "data": {
      "text/plain": [
       "A    1.808326\n",
       "B   -1.292690\n",
       "C   -1.097374\n",
       "D   -0.363154\n",
       "Name: a, dtype: float64"
      ]
     },
     "execution_count": 33,
     "metadata": {},
     "output_type": "execute_result"
    }
   ],
   "source": [
    "df7.loc['a']"
   ]
  },
  {
   "cell_type": "markdown",
   "id": "34c08753-9768-4e89-b0c3-165e69525372",
   "metadata": {},
   "source": [
    "For getting values with a boolean array:"
   ]
  },
  {
   "cell_type": "code",
   "execution_count": 34,
   "id": "b51098e9-3cf9-41b5-b24a-48c71ac492e9",
   "metadata": {},
   "outputs": [
    {
     "data": {
      "text/plain": [
       "A     True\n",
       "B    False\n",
       "C    False\n",
       "D    False\n",
       "Name: a, dtype: bool"
      ]
     },
     "execution_count": 34,
     "metadata": {},
     "output_type": "execute_result"
    }
   ],
   "source": [
    "df7.loc['a'] > 1"
   ]
  },
  {
   "cell_type": "code",
   "execution_count": 35,
   "id": "dbe273fd-2f1b-4cfd-ba10-0ca0766df911",
   "metadata": {},
   "outputs": [
    {
     "data": {
      "text/html": [
       "<div>\n",
       "<style scoped>\n",
       "    .dataframe tbody tr th:only-of-type {\n",
       "        vertical-align: middle;\n",
       "    }\n",
       "\n",
       "    .dataframe tbody tr th {\n",
       "        vertical-align: top;\n",
       "    }\n",
       "\n",
       "    .dataframe thead th {\n",
       "        text-align: right;\n",
       "    }\n",
       "</style>\n",
       "<table border=\"1\" class=\"dataframe\">\n",
       "  <thead>\n",
       "    <tr style=\"text-align: right;\">\n",
       "      <th></th>\n",
       "      <th>A</th>\n",
       "    </tr>\n",
       "  </thead>\n",
       "  <tbody>\n",
       "    <tr>\n",
       "      <th>a</th>\n",
       "      <td>1.808326</td>\n",
       "    </tr>\n",
       "    <tr>\n",
       "      <th>b</th>\n",
       "      <td>-1.051349</td>\n",
       "    </tr>\n",
       "    <tr>\n",
       "      <th>c</th>\n",
       "      <td>-0.993829</td>\n",
       "    </tr>\n",
       "    <tr>\n",
       "      <th>d</th>\n",
       "      <td>1.153185</td>\n",
       "    </tr>\n",
       "    <tr>\n",
       "      <th>e</th>\n",
       "      <td>-0.789674</td>\n",
       "    </tr>\n",
       "    <tr>\n",
       "      <th>f</th>\n",
       "      <td>-0.780291</td>\n",
       "    </tr>\n",
       "  </tbody>\n",
       "</table>\n",
       "</div>"
      ],
      "text/plain": [
       "          A\n",
       "a  1.808326\n",
       "b -1.051349\n",
       "c -0.993829\n",
       "d  1.153185\n",
       "e -0.789674\n",
       "f -0.780291"
      ]
     },
     "execution_count": 35,
     "metadata": {},
     "output_type": "execute_result"
    }
   ],
   "source": [
    "df7.loc[:, df7.loc['a'] > 1]"
   ]
  },
  {
   "cell_type": "markdown",
   "id": "54662020-2a11-4b19-b8c9-41297480534d",
   "metadata": {},
   "source": [
    "NA values in a boolean array propagate as False:\n",
    "\n",
    "*Changed in version 1.0.2.*"
   ]
  },
  {
   "cell_type": "code",
   "execution_count": 36,
   "id": "ac12d3b2-3eee-4c52-9852-7fe908393797",
   "metadata": {},
   "outputs": [
    {
     "data": {
      "text/plain": [
       "<BooleanArray>\n",
       "[True, False, True, False, <NA>, False]\n",
       "Length: 6, dtype: boolean"
      ]
     },
     "execution_count": 36,
     "metadata": {},
     "output_type": "execute_result"
    }
   ],
   "source": [
    "mask7 = pd.array([True, False, True, False, pd.NA, False], dtype=\"boolean\")\n",
    "mask7"
   ]
  },
  {
   "cell_type": "code",
   "execution_count": 37,
   "id": "4af7d93b-b949-4f7a-9c73-8cba2d213a67",
   "metadata": {},
   "outputs": [
    {
     "data": {
      "text/html": [
       "<div>\n",
       "<style scoped>\n",
       "    .dataframe tbody tr th:only-of-type {\n",
       "        vertical-align: middle;\n",
       "    }\n",
       "\n",
       "    .dataframe tbody tr th {\n",
       "        vertical-align: top;\n",
       "    }\n",
       "\n",
       "    .dataframe thead th {\n",
       "        text-align: right;\n",
       "    }\n",
       "</style>\n",
       "<table border=\"1\" class=\"dataframe\">\n",
       "  <thead>\n",
       "    <tr style=\"text-align: right;\">\n",
       "      <th></th>\n",
       "      <th>A</th>\n",
       "      <th>B</th>\n",
       "      <th>C</th>\n",
       "      <th>D</th>\n",
       "    </tr>\n",
       "  </thead>\n",
       "  <tbody>\n",
       "    <tr>\n",
       "      <th>a</th>\n",
       "      <td>1.808326</td>\n",
       "      <td>-1.292690</td>\n",
       "      <td>-1.097374</td>\n",
       "      <td>-0.363154</td>\n",
       "    </tr>\n",
       "    <tr>\n",
       "      <th>c</th>\n",
       "      <td>-0.993829</td>\n",
       "      <td>-1.480812</td>\n",
       "      <td>0.032088</td>\n",
       "      <td>-0.498347</td>\n",
       "    </tr>\n",
       "  </tbody>\n",
       "</table>\n",
       "</div>"
      ],
      "text/plain": [
       "          A         B         C         D\n",
       "a  1.808326 -1.292690 -1.097374 -0.363154\n",
       "c -0.993829 -1.480812  0.032088 -0.498347"
      ]
     },
     "execution_count": 37,
     "metadata": {},
     "output_type": "execute_result"
    }
   ],
   "source": [
    "df7[mask7]"
   ]
  },
  {
   "cell_type": "markdown",
   "id": "36442d97-ca78-42cb-a0ca-38b26900ce6d",
   "metadata": {},
   "source": [
    "For getting a value explicitly:"
   ]
  },
  {
   "cell_type": "code",
   "execution_count": 38,
   "id": "57cc1868-9966-4695-af2b-84669ec92992",
   "metadata": {},
   "outputs": [
    {
     "data": {
      "text/plain": [
       "1.8083260103195404"
      ]
     },
     "execution_count": 38,
     "metadata": {},
     "output_type": "execute_result"
    }
   ],
   "source": [
    "# this is also equivalent to ``df7.at['a','A']``\n",
    "df7.loc['a', 'A']"
   ]
  },
  {
   "cell_type": "markdown",
   "id": "063c25c5-ae5d-46fa-8e08-02f7f8d41162",
   "metadata": {},
   "source": [
    "### Slicing with labels\n",
    "When using .loc with slices, if both the start and the stop labels are present in the index, then elements located between the two (including them) are returned:"
   ]
  },
  {
   "cell_type": "code",
   "execution_count": 39,
   "id": "69c12ebe-cffc-41ec-97b2-77a33e2894b2",
   "metadata": {},
   "outputs": [
    {
     "data": {
      "text/plain": [
       "3    b\n",
       "2    c\n",
       "5    d\n",
       "dtype: object"
      ]
     },
     "execution_count": 39,
     "metadata": {},
     "output_type": "execute_result"
    }
   ],
   "source": [
    "s8 = pd.Series(list('abcde'), index=[0, 3, 2, 5, 4])\n",
    "s8.loc[3:5]"
   ]
  },
  {
   "cell_type": "markdown",
   "id": "d3fd8559-0064-44fc-8311-8c66bb32605e",
   "metadata": {},
   "source": [
    "If at least one of the two is absent, but the index is sorted, and can be compared against start and stop labels, then slicing will still work as expected, by selecting labels which rank between the two:"
   ]
  },
  {
   "cell_type": "code",
   "execution_count": 40,
   "id": "71f7a449-b347-49bc-ac71-5971b9f9fdce",
   "metadata": {},
   "outputs": [
    {
     "data": {
      "text/plain": [
       "0    a\n",
       "2    c\n",
       "3    b\n",
       "4    e\n",
       "5    d\n",
       "dtype: object"
      ]
     },
     "execution_count": 40,
     "metadata": {},
     "output_type": "execute_result"
    }
   ],
   "source": [
    "s8.sort_index()"
   ]
  },
  {
   "cell_type": "code",
   "execution_count": 41,
   "id": "4a5ad14e-9763-470f-81f3-7869ad623832",
   "metadata": {},
   "outputs": [
    {
     "data": {
      "text/plain": [
       "2    c\n",
       "3    b\n",
       "4    e\n",
       "5    d\n",
       "dtype: object"
      ]
     },
     "execution_count": 41,
     "metadata": {},
     "output_type": "execute_result"
    }
   ],
   "source": [
    "s8.sort_index().loc[1:6]"
   ]
  },
  {
   "cell_type": "markdown",
   "id": "cb2f1f03-0148-4096-89c7-a5b4a6647908",
   "metadata": {},
   "source": [
    "However, if at least one of the two is absent and the index is not sorted, an error will be raised (since doing otherwise would be computationally expensive, as well as potentially ambiguous for mixed type indexes). For instance, in the above example, s.loc[1:6] would raise KeyError.\n",
    "\n",
    "For the rationale behind this behavior, see Endpoints are inclusive."
   ]
  },
  {
   "cell_type": "code",
   "execution_count": 42,
   "id": "0d7c1233-0b59-435f-9219-b57cd766a746",
   "metadata": {},
   "outputs": [
    {
     "data": {
      "text/plain": [
       "3    b\n",
       "2    c\n",
       "5    d\n",
       "dtype: object"
      ]
     },
     "execution_count": 42,
     "metadata": {},
     "output_type": "execute_result"
    }
   ],
   "source": [
    "s9 = pd.Series(list('abcdef'), index=[0, 3, 2, 5, 4, 2])\n",
    "s9.loc[3:5]"
   ]
  },
  {
   "cell_type": "markdown",
   "id": "7edf69a9-d54a-4906-ac2f-731835589e96",
   "metadata": {},
   "source": [
    "Also, if the index has duplicate labels and either the start or the stop label is dupulicated, an error will be raised. For instance, in the above example, s.loc[2:5] would raise a KeyError.\n",
    "\n",
    "For more information about duplicate labels, see Duplicate Labels.\n",
    "\n",
    "## Selection by position\n",
    ">Warning\n",
    ">\n",
    ">Whether a copy or a reference is returned for a setting operation, may depend on the context. This is sometimes called chained assignment and should be avoided. See Returning a View versus Copy.\n",
    "\n",
    "pandas provides a suite of methods in order to get purely integer based indexing. The semantics follow closely Python and NumPy slicing. These are 0-based indexing. When slicing, the start bound is included, while the upper bound is excluded. Trying to use a non-integer, even a valid label will raise an IndexError.\n",
    "\n",
    "The .iloc attribute is the primary access method. The following are valid inputs:\n",
    "\n",
    "* An integer e.g. 5.\n",
    "\n",
    "* A list or array of integers [4, 3, 0].\n",
    "\n",
    "* A slice object with ints 1:7.\n",
    "\n",
    "* A boolean array.\n",
    "\n",
    "* A callable, see Selection By Callable."
   ]
  },
  {
   "cell_type": "code",
   "execution_count": 43,
   "id": "9754b1e1-2d96-47ff-a5b8-35e9e50b2638",
   "metadata": {},
   "outputs": [
    {
     "data": {
      "text/plain": [
       "0   -0.721791\n",
       "2    0.351704\n",
       "4   -0.001504\n",
       "6    0.328543\n",
       "8    2.130401\n",
       "dtype: float64"
      ]
     },
     "execution_count": 43,
     "metadata": {},
     "output_type": "execute_result"
    }
   ],
   "source": [
    "s10 = pd.Series(np.random.randn(5), index=list(range(0, 10, 2)))\n",
    "s10"
   ]
  },
  {
   "cell_type": "code",
   "execution_count": 44,
   "id": "bb994965-6950-4c92-9ab8-b2140ee1b378",
   "metadata": {},
   "outputs": [
    {
     "data": {
      "text/plain": [
       "0   -0.721791\n",
       "2    0.351704\n",
       "4   -0.001504\n",
       "dtype: float64"
      ]
     },
     "execution_count": 44,
     "metadata": {},
     "output_type": "execute_result"
    }
   ],
   "source": [
    "s10.iloc[:3]"
   ]
  },
  {
   "cell_type": "code",
   "execution_count": 45,
   "id": "d1c1eccc-e637-4a7f-a072-3884dd73cba6",
   "metadata": {},
   "outputs": [
    {
     "data": {
      "text/plain": [
       "0.3285431151686854"
      ]
     },
     "execution_count": 45,
     "metadata": {},
     "output_type": "execute_result"
    }
   ],
   "source": [
    "s10.iloc[3]"
   ]
  },
  {
   "cell_type": "markdown",
   "id": "4590ed04-9f57-46b6-8c7f-4cc3f920a576",
   "metadata": {},
   "source": [
    "Note that setting works as well:"
   ]
  },
  {
   "cell_type": "code",
   "execution_count": 46,
   "id": "eaae9f9c-43b1-462f-a4fe-0565729a4db6",
   "metadata": {},
   "outputs": [
    {
     "data": {
      "text/plain": [
       "0    0.000000\n",
       "2    0.000000\n",
       "4    0.000000\n",
       "6    0.328543\n",
       "8    2.130401\n",
       "dtype: float64"
      ]
     },
     "execution_count": 46,
     "metadata": {},
     "output_type": "execute_result"
    }
   ],
   "source": [
    "s10.iloc[:3] = 0\n",
    "s10"
   ]
  },
  {
   "cell_type": "markdown",
   "id": "c798aa72-c167-4247-b793-65294c68fd39",
   "metadata": {},
   "source": [
    "With a DataFrame:"
   ]
  },
  {
   "cell_type": "code",
   "execution_count": 47,
   "id": "0432c9cf-333c-431e-a601-3e0253fd58db",
   "metadata": {},
   "outputs": [
    {
     "data": {
      "text/html": [
       "<div>\n",
       "<style scoped>\n",
       "    .dataframe tbody tr th:only-of-type {\n",
       "        vertical-align: middle;\n",
       "    }\n",
       "\n",
       "    .dataframe tbody tr th {\n",
       "        vertical-align: top;\n",
       "    }\n",
       "\n",
       "    .dataframe thead th {\n",
       "        text-align: right;\n",
       "    }\n",
       "</style>\n",
       "<table border=\"1\" class=\"dataframe\">\n",
       "  <thead>\n",
       "    <tr style=\"text-align: right;\">\n",
       "      <th></th>\n",
       "      <th>0</th>\n",
       "      <th>2</th>\n",
       "      <th>4</th>\n",
       "      <th>6</th>\n",
       "    </tr>\n",
       "  </thead>\n",
       "  <tbody>\n",
       "    <tr>\n",
       "      <th>0</th>\n",
       "      <td>-0.773667</td>\n",
       "      <td>1.649508</td>\n",
       "      <td>-0.021440</td>\n",
       "      <td>0.132237</td>\n",
       "    </tr>\n",
       "    <tr>\n",
       "      <th>2</th>\n",
       "      <td>-0.642045</td>\n",
       "      <td>-1.546381</td>\n",
       "      <td>-1.659319</td>\n",
       "      <td>-1.315683</td>\n",
       "    </tr>\n",
       "    <tr>\n",
       "      <th>4</th>\n",
       "      <td>2.032742</td>\n",
       "      <td>-0.932632</td>\n",
       "      <td>1.766463</td>\n",
       "      <td>-0.210459</td>\n",
       "    </tr>\n",
       "    <tr>\n",
       "      <th>6</th>\n",
       "      <td>-2.236883</td>\n",
       "      <td>0.745316</td>\n",
       "      <td>-0.482853</td>\n",
       "      <td>0.436610</td>\n",
       "    </tr>\n",
       "    <tr>\n",
       "      <th>8</th>\n",
       "      <td>-0.758500</td>\n",
       "      <td>-1.277247</td>\n",
       "      <td>-0.876784</td>\n",
       "      <td>-0.058099</td>\n",
       "    </tr>\n",
       "    <tr>\n",
       "      <th>10</th>\n",
       "      <td>-2.584631</td>\n",
       "      <td>0.096796</td>\n",
       "      <td>1.812591</td>\n",
       "      <td>0.687361</td>\n",
       "    </tr>\n",
       "  </tbody>\n",
       "</table>\n",
       "</div>"
      ],
      "text/plain": [
       "           0         2         4         6\n",
       "0  -0.773667  1.649508 -0.021440  0.132237\n",
       "2  -0.642045 -1.546381 -1.659319 -1.315683\n",
       "4   2.032742 -0.932632  1.766463 -0.210459\n",
       "6  -2.236883  0.745316 -0.482853  0.436610\n",
       "8  -0.758500 -1.277247 -0.876784 -0.058099\n",
       "10 -2.584631  0.096796  1.812591  0.687361"
      ]
     },
     "execution_count": 47,
     "metadata": {},
     "output_type": "execute_result"
    }
   ],
   "source": [
    "df11 = pd.DataFrame(np.random.randn(6, 4),\n",
    "                   index=list(range(0, 12, 2)),\n",
    "                   columns=list(range(0, 8, 2)))\n",
    "df11"
   ]
  },
  {
   "cell_type": "markdown",
   "id": "ba34aafc-0dac-470d-84ce-7ae67cbf3446",
   "metadata": {},
   "source": [
    "Select via integer slicing:"
   ]
  },
  {
   "cell_type": "code",
   "execution_count": 48,
   "id": "2e8b3e3f-199c-4ce7-b15b-c116bd4563a0",
   "metadata": {},
   "outputs": [
    {
     "data": {
      "text/html": [
       "<div>\n",
       "<style scoped>\n",
       "    .dataframe tbody tr th:only-of-type {\n",
       "        vertical-align: middle;\n",
       "    }\n",
       "\n",
       "    .dataframe tbody tr th {\n",
       "        vertical-align: top;\n",
       "    }\n",
       "\n",
       "    .dataframe thead th {\n",
       "        text-align: right;\n",
       "    }\n",
       "</style>\n",
       "<table border=\"1\" class=\"dataframe\">\n",
       "  <thead>\n",
       "    <tr style=\"text-align: right;\">\n",
       "      <th></th>\n",
       "      <th>0</th>\n",
       "      <th>2</th>\n",
       "      <th>4</th>\n",
       "      <th>6</th>\n",
       "    </tr>\n",
       "  </thead>\n",
       "  <tbody>\n",
       "    <tr>\n",
       "      <th>0</th>\n",
       "      <td>-0.773667</td>\n",
       "      <td>1.649508</td>\n",
       "      <td>-0.021440</td>\n",
       "      <td>0.132237</td>\n",
       "    </tr>\n",
       "    <tr>\n",
       "      <th>2</th>\n",
       "      <td>-0.642045</td>\n",
       "      <td>-1.546381</td>\n",
       "      <td>-1.659319</td>\n",
       "      <td>-1.315683</td>\n",
       "    </tr>\n",
       "    <tr>\n",
       "      <th>4</th>\n",
       "      <td>2.032742</td>\n",
       "      <td>-0.932632</td>\n",
       "      <td>1.766463</td>\n",
       "      <td>-0.210459</td>\n",
       "    </tr>\n",
       "  </tbody>\n",
       "</table>\n",
       "</div>"
      ],
      "text/plain": [
       "          0         2         4         6\n",
       "0 -0.773667  1.649508 -0.021440  0.132237\n",
       "2 -0.642045 -1.546381 -1.659319 -1.315683\n",
       "4  2.032742 -0.932632  1.766463 -0.210459"
      ]
     },
     "execution_count": 48,
     "metadata": {},
     "output_type": "execute_result"
    }
   ],
   "source": [
    "df11.iloc[:3]"
   ]
  },
  {
   "cell_type": "code",
   "execution_count": 49,
   "id": "8482aa11-1bd4-4898-905c-9d86c044ef06",
   "metadata": {},
   "outputs": [
    {
     "data": {
      "text/html": [
       "<div>\n",
       "<style scoped>\n",
       "    .dataframe tbody tr th:only-of-type {\n",
       "        vertical-align: middle;\n",
       "    }\n",
       "\n",
       "    .dataframe tbody tr th {\n",
       "        vertical-align: top;\n",
       "    }\n",
       "\n",
       "    .dataframe thead th {\n",
       "        text-align: right;\n",
       "    }\n",
       "</style>\n",
       "<table border=\"1\" class=\"dataframe\">\n",
       "  <thead>\n",
       "    <tr style=\"text-align: right;\">\n",
       "      <th></th>\n",
       "      <th>4</th>\n",
       "      <th>6</th>\n",
       "    </tr>\n",
       "  </thead>\n",
       "  <tbody>\n",
       "    <tr>\n",
       "      <th>2</th>\n",
       "      <td>-1.659319</td>\n",
       "      <td>-1.315683</td>\n",
       "    </tr>\n",
       "    <tr>\n",
       "      <th>4</th>\n",
       "      <td>1.766463</td>\n",
       "      <td>-0.210459</td>\n",
       "    </tr>\n",
       "    <tr>\n",
       "      <th>6</th>\n",
       "      <td>-0.482853</td>\n",
       "      <td>0.436610</td>\n",
       "    </tr>\n",
       "    <tr>\n",
       "      <th>8</th>\n",
       "      <td>-0.876784</td>\n",
       "      <td>-0.058099</td>\n",
       "    </tr>\n",
       "  </tbody>\n",
       "</table>\n",
       "</div>"
      ],
      "text/plain": [
       "          4         6\n",
       "2 -1.659319 -1.315683\n",
       "4  1.766463 -0.210459\n",
       "6 -0.482853  0.436610\n",
       "8 -0.876784 -0.058099"
      ]
     },
     "execution_count": 49,
     "metadata": {},
     "output_type": "execute_result"
    }
   ],
   "source": [
    "df11.iloc[1:5, 2:4]"
   ]
  },
  {
   "cell_type": "markdown",
   "id": "b4f731d1-cdf7-48ee-944a-2666e10bcf50",
   "metadata": {},
   "source": [
    "Select via integer list:"
   ]
  },
  {
   "cell_type": "code",
   "execution_count": 50,
   "id": "cd400764-5cff-4569-a916-f66f0615abbd",
   "metadata": {},
   "outputs": [
    {
     "data": {
      "text/html": [
       "<div>\n",
       "<style scoped>\n",
       "    .dataframe tbody tr th:only-of-type {\n",
       "        vertical-align: middle;\n",
       "    }\n",
       "\n",
       "    .dataframe tbody tr th {\n",
       "        vertical-align: top;\n",
       "    }\n",
       "\n",
       "    .dataframe thead th {\n",
       "        text-align: right;\n",
       "    }\n",
       "</style>\n",
       "<table border=\"1\" class=\"dataframe\">\n",
       "  <thead>\n",
       "    <tr style=\"text-align: right;\">\n",
       "      <th></th>\n",
       "      <th>2</th>\n",
       "      <th>6</th>\n",
       "    </tr>\n",
       "  </thead>\n",
       "  <tbody>\n",
       "    <tr>\n",
       "      <th>2</th>\n",
       "      <td>-1.546381</td>\n",
       "      <td>-1.315683</td>\n",
       "    </tr>\n",
       "    <tr>\n",
       "      <th>6</th>\n",
       "      <td>0.745316</td>\n",
       "      <td>0.436610</td>\n",
       "    </tr>\n",
       "    <tr>\n",
       "      <th>10</th>\n",
       "      <td>0.096796</td>\n",
       "      <td>0.687361</td>\n",
       "    </tr>\n",
       "  </tbody>\n",
       "</table>\n",
       "</div>"
      ],
      "text/plain": [
       "           2         6\n",
       "2  -1.546381 -1.315683\n",
       "6   0.745316  0.436610\n",
       "10  0.096796  0.687361"
      ]
     },
     "execution_count": 50,
     "metadata": {},
     "output_type": "execute_result"
    }
   ],
   "source": [
    "df11.iloc[[1, 3, 5], [1, 3]]"
   ]
  },
  {
   "cell_type": "code",
   "execution_count": 51,
   "id": "9d9548b0-9121-4d69-a34a-6a836a566f6c",
   "metadata": {},
   "outputs": [
    {
     "data": {
      "text/html": [
       "<div>\n",
       "<style scoped>\n",
       "    .dataframe tbody tr th:only-of-type {\n",
       "        vertical-align: middle;\n",
       "    }\n",
       "\n",
       "    .dataframe tbody tr th {\n",
       "        vertical-align: top;\n",
       "    }\n",
       "\n",
       "    .dataframe thead th {\n",
       "        text-align: right;\n",
       "    }\n",
       "</style>\n",
       "<table border=\"1\" class=\"dataframe\">\n",
       "  <thead>\n",
       "    <tr style=\"text-align: right;\">\n",
       "      <th></th>\n",
       "      <th>0</th>\n",
       "      <th>2</th>\n",
       "      <th>4</th>\n",
       "      <th>6</th>\n",
       "    </tr>\n",
       "  </thead>\n",
       "  <tbody>\n",
       "    <tr>\n",
       "      <th>2</th>\n",
       "      <td>-0.642045</td>\n",
       "      <td>-1.546381</td>\n",
       "      <td>-1.659319</td>\n",
       "      <td>-1.315683</td>\n",
       "    </tr>\n",
       "    <tr>\n",
       "      <th>4</th>\n",
       "      <td>2.032742</td>\n",
       "      <td>-0.932632</td>\n",
       "      <td>1.766463</td>\n",
       "      <td>-0.210459</td>\n",
       "    </tr>\n",
       "  </tbody>\n",
       "</table>\n",
       "</div>"
      ],
      "text/plain": [
       "          0         2         4         6\n",
       "2 -0.642045 -1.546381 -1.659319 -1.315683\n",
       "4  2.032742 -0.932632  1.766463 -0.210459"
      ]
     },
     "execution_count": 51,
     "metadata": {},
     "output_type": "execute_result"
    }
   ],
   "source": [
    "df11.iloc[1:3, :]"
   ]
  },
  {
   "cell_type": "code",
   "execution_count": 52,
   "id": "7e3c19a7-097d-48ea-aa19-fb0ef943fd9b",
   "metadata": {},
   "outputs": [
    {
     "data": {
      "text/html": [
       "<div>\n",
       "<style scoped>\n",
       "    .dataframe tbody tr th:only-of-type {\n",
       "        vertical-align: middle;\n",
       "    }\n",
       "\n",
       "    .dataframe tbody tr th {\n",
       "        vertical-align: top;\n",
       "    }\n",
       "\n",
       "    .dataframe thead th {\n",
       "        text-align: right;\n",
       "    }\n",
       "</style>\n",
       "<table border=\"1\" class=\"dataframe\">\n",
       "  <thead>\n",
       "    <tr style=\"text-align: right;\">\n",
       "      <th></th>\n",
       "      <th>2</th>\n",
       "      <th>4</th>\n",
       "    </tr>\n",
       "  </thead>\n",
       "  <tbody>\n",
       "    <tr>\n",
       "      <th>0</th>\n",
       "      <td>1.649508</td>\n",
       "      <td>-0.021440</td>\n",
       "    </tr>\n",
       "    <tr>\n",
       "      <th>2</th>\n",
       "      <td>-1.546381</td>\n",
       "      <td>-1.659319</td>\n",
       "    </tr>\n",
       "    <tr>\n",
       "      <th>4</th>\n",
       "      <td>-0.932632</td>\n",
       "      <td>1.766463</td>\n",
       "    </tr>\n",
       "    <tr>\n",
       "      <th>6</th>\n",
       "      <td>0.745316</td>\n",
       "      <td>-0.482853</td>\n",
       "    </tr>\n",
       "    <tr>\n",
       "      <th>8</th>\n",
       "      <td>-1.277247</td>\n",
       "      <td>-0.876784</td>\n",
       "    </tr>\n",
       "    <tr>\n",
       "      <th>10</th>\n",
       "      <td>0.096796</td>\n",
       "      <td>1.812591</td>\n",
       "    </tr>\n",
       "  </tbody>\n",
       "</table>\n",
       "</div>"
      ],
      "text/plain": [
       "           2         4\n",
       "0   1.649508 -0.021440\n",
       "2  -1.546381 -1.659319\n",
       "4  -0.932632  1.766463\n",
       "6   0.745316 -0.482853\n",
       "8  -1.277247 -0.876784\n",
       "10  0.096796  1.812591"
      ]
     },
     "execution_count": 52,
     "metadata": {},
     "output_type": "execute_result"
    }
   ],
   "source": [
    "df11.iloc[:, 1:3]"
   ]
  },
  {
   "cell_type": "code",
   "execution_count": 53,
   "id": "feaa24a0-238a-4cef-b367-91486f209f01",
   "metadata": {},
   "outputs": [
    {
     "data": {
      "text/plain": [
       "-1.5463808134291628"
      ]
     },
     "execution_count": 53,
     "metadata": {},
     "output_type": "execute_result"
    }
   ],
   "source": [
    "# this is also equivalent to ``df1.iat[1,1]``\n",
    "df11.iloc[1, 1]"
   ]
  },
  {
   "cell_type": "markdown",
   "id": "5030a712-3f30-411e-9217-05787c01c2bd",
   "metadata": {},
   "source": [
    "For getting a cross section using an integer position (equiv to df.xs(1)):"
   ]
  },
  {
   "cell_type": "code",
   "execution_count": 54,
   "id": "e758a973-4a41-4391-8fb5-01083a1aced4",
   "metadata": {},
   "outputs": [
    {
     "data": {
      "text/plain": [
       "0   -0.642045\n",
       "2   -1.546381\n",
       "4   -1.659319\n",
       "6   -1.315683\n",
       "Name: 2, dtype: float64"
      ]
     },
     "execution_count": 54,
     "metadata": {},
     "output_type": "execute_result"
    }
   ],
   "source": [
    "df11.iloc[1]"
   ]
  },
  {
   "cell_type": "markdown",
   "id": "a740e4f6-1bba-4a4b-8bc6-d81b5d78d734",
   "metadata": {},
   "source": [
    "Out of range slice indexes are handled gracefully just as in Python/NumPy."
   ]
  },
  {
   "cell_type": "code",
   "execution_count": 55,
   "id": "adcbc144-e58f-4c41-892a-4e442205c6d5",
   "metadata": {},
   "outputs": [
    {
     "data": {
      "text/plain": [
       "['a', 'b', 'c', 'd', 'e', 'f']"
      ]
     },
     "execution_count": 55,
     "metadata": {},
     "output_type": "execute_result"
    }
   ],
   "source": [
    "# these are allowed in Python/NumPy.\n",
    "x11 = list('abcdef')\n",
    "x11"
   ]
  },
  {
   "cell_type": "code",
   "execution_count": 56,
   "id": "185d5dcc-b73d-44c4-b666-016b344f2f63",
   "metadata": {},
   "outputs": [
    {
     "data": {
      "text/plain": [
       "['e', 'f']"
      ]
     },
     "execution_count": 56,
     "metadata": {},
     "output_type": "execute_result"
    }
   ],
   "source": [
    "x11[4:10]"
   ]
  },
  {
   "cell_type": "code",
   "execution_count": 57,
   "id": "79f1fb17-4eab-4c74-95c8-93a81e9b1752",
   "metadata": {},
   "outputs": [
    {
     "data": {
      "text/plain": [
       "[]"
      ]
     },
     "execution_count": 57,
     "metadata": {},
     "output_type": "execute_result"
    }
   ],
   "source": [
    "x11[8:10]"
   ]
  },
  {
   "cell_type": "code",
   "execution_count": 58,
   "id": "72002af7-b9e1-4c4a-9408-1f52884dc0ac",
   "metadata": {},
   "outputs": [
    {
     "data": {
      "text/plain": [
       "0    a\n",
       "1    b\n",
       "2    c\n",
       "3    d\n",
       "4    e\n",
       "5    f\n",
       "dtype: object"
      ]
     },
     "execution_count": 58,
     "metadata": {},
     "output_type": "execute_result"
    }
   ],
   "source": [
    "s11 = pd.Series(x11)\n",
    "s11"
   ]
  },
  {
   "cell_type": "code",
   "execution_count": 59,
   "id": "86bc5b90-75ea-4b19-bf63-0c55ffd2e7a6",
   "metadata": {},
   "outputs": [
    {
     "data": {
      "text/plain": [
       "4    e\n",
       "5    f\n",
       "dtype: object"
      ]
     },
     "execution_count": 59,
     "metadata": {},
     "output_type": "execute_result"
    }
   ],
   "source": [
    "s11.iloc[4:10]"
   ]
  },
  {
   "cell_type": "code",
   "execution_count": 60,
   "id": "405fb3fd-7a41-4099-a395-eb2b466c0a50",
   "metadata": {},
   "outputs": [
    {
     "data": {
      "text/plain": [
       "Series([], dtype: object)"
      ]
     },
     "execution_count": 60,
     "metadata": {},
     "output_type": "execute_result"
    }
   ],
   "source": [
    "s11.iloc[8:10]"
   ]
  },
  {
   "cell_type": "markdown",
   "id": "1b7abfe9-f73b-4030-9516-43676427816f",
   "metadata": {},
   "source": [
    "Note that using slices that go out of bounds can result in an empty axis (e.g. an empty DataFrame being returned)."
   ]
  },
  {
   "cell_type": "code",
   "execution_count": 61,
   "id": "f6fd123c-c8b3-4009-a47f-fad60dad896f",
   "metadata": {},
   "outputs": [
    {
     "data": {
      "text/html": [
       "<div>\n",
       "<style scoped>\n",
       "    .dataframe tbody tr th:only-of-type {\n",
       "        vertical-align: middle;\n",
       "    }\n",
       "\n",
       "    .dataframe tbody tr th {\n",
       "        vertical-align: top;\n",
       "    }\n",
       "\n",
       "    .dataframe thead th {\n",
       "        text-align: right;\n",
       "    }\n",
       "</style>\n",
       "<table border=\"1\" class=\"dataframe\">\n",
       "  <thead>\n",
       "    <tr style=\"text-align: right;\">\n",
       "      <th></th>\n",
       "      <th>A</th>\n",
       "      <th>B</th>\n",
       "    </tr>\n",
       "  </thead>\n",
       "  <tbody>\n",
       "    <tr>\n",
       "      <th>0</th>\n",
       "      <td>-0.556287</td>\n",
       "      <td>-0.672443</td>\n",
       "    </tr>\n",
       "    <tr>\n",
       "      <th>1</th>\n",
       "      <td>-0.941971</td>\n",
       "      <td>0.974271</td>\n",
       "    </tr>\n",
       "    <tr>\n",
       "      <th>2</th>\n",
       "      <td>0.287531</td>\n",
       "      <td>-0.665444</td>\n",
       "    </tr>\n",
       "    <tr>\n",
       "      <th>3</th>\n",
       "      <td>0.080988</td>\n",
       "      <td>-0.456751</td>\n",
       "    </tr>\n",
       "    <tr>\n",
       "      <th>4</th>\n",
       "      <td>-0.698668</td>\n",
       "      <td>-0.091983</td>\n",
       "    </tr>\n",
       "  </tbody>\n",
       "</table>\n",
       "</div>"
      ],
      "text/plain": [
       "          A         B\n",
       "0 -0.556287 -0.672443\n",
       "1 -0.941971  0.974271\n",
       "2  0.287531 -0.665444\n",
       "3  0.080988 -0.456751\n",
       "4 -0.698668 -0.091983"
      ]
     },
     "execution_count": 61,
     "metadata": {},
     "output_type": "execute_result"
    }
   ],
   "source": [
    "df12 = pd.DataFrame(np.random.randn(5, 2), columns=list('AB'))\n",
    "df12"
   ]
  },
  {
   "cell_type": "code",
   "execution_count": 62,
   "id": "fdbc6df1-c87a-4fbb-82a4-565cf28e9fed",
   "metadata": {},
   "outputs": [
    {
     "data": {
      "text/html": [
       "<div>\n",
       "<style scoped>\n",
       "    .dataframe tbody tr th:only-of-type {\n",
       "        vertical-align: middle;\n",
       "    }\n",
       "\n",
       "    .dataframe tbody tr th {\n",
       "        vertical-align: top;\n",
       "    }\n",
       "\n",
       "    .dataframe thead th {\n",
       "        text-align: right;\n",
       "    }\n",
       "</style>\n",
       "<table border=\"1\" class=\"dataframe\">\n",
       "  <thead>\n",
       "    <tr style=\"text-align: right;\">\n",
       "      <th></th>\n",
       "    </tr>\n",
       "  </thead>\n",
       "  <tbody>\n",
       "    <tr>\n",
       "      <th>0</th>\n",
       "    </tr>\n",
       "    <tr>\n",
       "      <th>1</th>\n",
       "    </tr>\n",
       "    <tr>\n",
       "      <th>2</th>\n",
       "    </tr>\n",
       "    <tr>\n",
       "      <th>3</th>\n",
       "    </tr>\n",
       "    <tr>\n",
       "      <th>4</th>\n",
       "    </tr>\n",
       "  </tbody>\n",
       "</table>\n",
       "</div>"
      ],
      "text/plain": [
       "Empty DataFrame\n",
       "Columns: []\n",
       "Index: [0, 1, 2, 3, 4]"
      ]
     },
     "execution_count": 62,
     "metadata": {},
     "output_type": "execute_result"
    }
   ],
   "source": [
    "df12.iloc[:, 2:3]"
   ]
  },
  {
   "cell_type": "code",
   "execution_count": 63,
   "id": "3f4b6d5a-f94d-464d-b7d2-de395cbe847c",
   "metadata": {},
   "outputs": [
    {
     "data": {
      "text/html": [
       "<div>\n",
       "<style scoped>\n",
       "    .dataframe tbody tr th:only-of-type {\n",
       "        vertical-align: middle;\n",
       "    }\n",
       "\n",
       "    .dataframe tbody tr th {\n",
       "        vertical-align: top;\n",
       "    }\n",
       "\n",
       "    .dataframe thead th {\n",
       "        text-align: right;\n",
       "    }\n",
       "</style>\n",
       "<table border=\"1\" class=\"dataframe\">\n",
       "  <thead>\n",
       "    <tr style=\"text-align: right;\">\n",
       "      <th></th>\n",
       "    </tr>\n",
       "  </thead>\n",
       "  <tbody>\n",
       "    <tr>\n",
       "      <th>0</th>\n",
       "    </tr>\n",
       "    <tr>\n",
       "      <th>1</th>\n",
       "    </tr>\n",
       "    <tr>\n",
       "      <th>2</th>\n",
       "    </tr>\n",
       "    <tr>\n",
       "      <th>3</th>\n",
       "    </tr>\n",
       "    <tr>\n",
       "      <th>4</th>\n",
       "    </tr>\n",
       "  </tbody>\n",
       "</table>\n",
       "</div>"
      ],
      "text/plain": [
       "Empty DataFrame\n",
       "Columns: []\n",
       "Index: [0, 1, 2, 3, 4]"
      ]
     },
     "execution_count": 63,
     "metadata": {},
     "output_type": "execute_result"
    }
   ],
   "source": [
    "df12.iloc[:, 2:3]"
   ]
  },
  {
   "cell_type": "code",
   "execution_count": 64,
   "id": "8e6a6119-db3a-4b22-8c8d-55ed552681cd",
   "metadata": {},
   "outputs": [
    {
     "data": {
      "text/html": [
       "<div>\n",
       "<style scoped>\n",
       "    .dataframe tbody tr th:only-of-type {\n",
       "        vertical-align: middle;\n",
       "    }\n",
       "\n",
       "    .dataframe tbody tr th {\n",
       "        vertical-align: top;\n",
       "    }\n",
       "\n",
       "    .dataframe thead th {\n",
       "        text-align: right;\n",
       "    }\n",
       "</style>\n",
       "<table border=\"1\" class=\"dataframe\">\n",
       "  <thead>\n",
       "    <tr style=\"text-align: right;\">\n",
       "      <th></th>\n",
       "      <th>B</th>\n",
       "    </tr>\n",
       "  </thead>\n",
       "  <tbody>\n",
       "    <tr>\n",
       "      <th>0</th>\n",
       "      <td>-0.672443</td>\n",
       "    </tr>\n",
       "    <tr>\n",
       "      <th>1</th>\n",
       "      <td>0.974271</td>\n",
       "    </tr>\n",
       "    <tr>\n",
       "      <th>2</th>\n",
       "      <td>-0.665444</td>\n",
       "    </tr>\n",
       "    <tr>\n",
       "      <th>3</th>\n",
       "      <td>-0.456751</td>\n",
       "    </tr>\n",
       "    <tr>\n",
       "      <th>4</th>\n",
       "      <td>-0.091983</td>\n",
       "    </tr>\n",
       "  </tbody>\n",
       "</table>\n",
       "</div>"
      ],
      "text/plain": [
       "          B\n",
       "0 -0.672443\n",
       "1  0.974271\n",
       "2 -0.665444\n",
       "3 -0.456751\n",
       "4 -0.091983"
      ]
     },
     "execution_count": 64,
     "metadata": {},
     "output_type": "execute_result"
    }
   ],
   "source": [
    "df12.iloc[:, 1:3]"
   ]
  },
  {
   "cell_type": "code",
   "execution_count": 65,
   "id": "78eefd80-dedf-4bd8-acdb-79396e24795b",
   "metadata": {},
   "outputs": [
    {
     "data": {
      "text/html": [
       "<div>\n",
       "<style scoped>\n",
       "    .dataframe tbody tr th:only-of-type {\n",
       "        vertical-align: middle;\n",
       "    }\n",
       "\n",
       "    .dataframe tbody tr th {\n",
       "        vertical-align: top;\n",
       "    }\n",
       "\n",
       "    .dataframe thead th {\n",
       "        text-align: right;\n",
       "    }\n",
       "</style>\n",
       "<table border=\"1\" class=\"dataframe\">\n",
       "  <thead>\n",
       "    <tr style=\"text-align: right;\">\n",
       "      <th></th>\n",
       "      <th>A</th>\n",
       "      <th>B</th>\n",
       "    </tr>\n",
       "  </thead>\n",
       "  <tbody>\n",
       "    <tr>\n",
       "      <th>4</th>\n",
       "      <td>-0.698668</td>\n",
       "      <td>-0.091983</td>\n",
       "    </tr>\n",
       "  </tbody>\n",
       "</table>\n",
       "</div>"
      ],
      "text/plain": [
       "          A         B\n",
       "4 -0.698668 -0.091983"
      ]
     },
     "execution_count": 65,
     "metadata": {},
     "output_type": "execute_result"
    }
   ],
   "source": [
    "df12.iloc[4:6]"
   ]
  },
  {
   "cell_type": "markdown",
   "id": "34a60e0c-7040-42dc-8ab5-fd5ffb7f05c8",
   "metadata": {},
   "source": [
    "A single indexer that is out of bounds will raise an IndexError. A list of indexers where any element is out of bounds will raise an IndexError."
   ]
  },
  {
   "cell_type": "code",
   "execution_count": 66,
   "id": "cac8c299-c775-4cd9-8181-af736f009efd",
   "metadata": {},
   "outputs": [
    {
     "name": "stdout",
     "output_type": "stream",
     "text": [
      "sys.exc_info(): <class 'IndexError'> \n",
      "IndexError: positional indexers are out-of-bounds \n",
      "FIX: use correct index range \n",
      "\n"
     ]
    }
   ],
   "source": [
    "try:\n",
    "    df12.iloc[[4, 5, 6]]\n",
    "except:\n",
    "    msg = 'sys.exc_info(): {} \\n'.format(sys.exc_info()[0] )\n",
    "    msg = msg + 'IndexError: positional indexers are out-of-bounds \\n'\n",
    "    msg = msg + 'FIX: use correct index range \\n'\n",
    "    print(msg)"
   ]
  },
  {
   "cell_type": "code",
   "execution_count": 67,
   "id": "fda72f3c-858d-4b8e-8f44-6369f46fbaf6",
   "metadata": {},
   "outputs": [
    {
     "name": "stdout",
     "output_type": "stream",
     "text": [
      "sys.exc_info(): <class 'IndexError'> \n",
      "IndexError: single positional indexer is out-of-bounds \n",
      "FIX: use correct index range \n",
      "\n"
     ]
    }
   ],
   "source": [
    "try:\n",
    "    df12.iloc[:, 4]\n",
    "except:\n",
    "    msg = 'sys.exc_info(): {} \\n'.format(sys.exc_info()[0] )\n",
    "    msg = msg + 'IndexError: single positional indexer is out-of-bounds \\n'\n",
    "    msg = msg + 'FIX: use correct index range \\n'\n",
    "    print(msg)"
   ]
  },
  {
   "cell_type": "markdown",
   "id": "5ef5e9fa-8a6d-40e5-98b6-1a153db090a3",
   "metadata": {},
   "source": [
    "## Selection by callable\n",
    ".loc, .iloc, and also [] indexing can accept a callable as indexer. The callable must be a function with one argument (the calling Series or DataFrame) that returns valid output for indexing."
   ]
  },
  {
   "cell_type": "code",
   "execution_count": 68,
   "id": "07cbdeb0-d927-4e32-ab58-c418e899d468",
   "metadata": {},
   "outputs": [
    {
     "data": {
      "text/html": [
       "<div>\n",
       "<style scoped>\n",
       "    .dataframe tbody tr th:only-of-type {\n",
       "        vertical-align: middle;\n",
       "    }\n",
       "\n",
       "    .dataframe tbody tr th {\n",
       "        vertical-align: top;\n",
       "    }\n",
       "\n",
       "    .dataframe thead th {\n",
       "        text-align: right;\n",
       "    }\n",
       "</style>\n",
       "<table border=\"1\" class=\"dataframe\">\n",
       "  <thead>\n",
       "    <tr style=\"text-align: right;\">\n",
       "      <th></th>\n",
       "      <th>A</th>\n",
       "      <th>B</th>\n",
       "      <th>C</th>\n",
       "      <th>D</th>\n",
       "    </tr>\n",
       "  </thead>\n",
       "  <tbody>\n",
       "    <tr>\n",
       "      <th>a</th>\n",
       "      <td>-0.307620</td>\n",
       "      <td>-0.617461</td>\n",
       "      <td>2.171615</td>\n",
       "      <td>0.455244</td>\n",
       "    </tr>\n",
       "    <tr>\n",
       "      <th>b</th>\n",
       "      <td>-0.379891</td>\n",
       "      <td>-0.555792</td>\n",
       "      <td>0.445579</td>\n",
       "      <td>-2.429098</td>\n",
       "    </tr>\n",
       "    <tr>\n",
       "      <th>c</th>\n",
       "      <td>0.397711</td>\n",
       "      <td>-0.552411</td>\n",
       "      <td>0.527463</td>\n",
       "      <td>-0.962704</td>\n",
       "    </tr>\n",
       "    <tr>\n",
       "      <th>d</th>\n",
       "      <td>-1.632263</td>\n",
       "      <td>1.321678</td>\n",
       "      <td>0.838703</td>\n",
       "      <td>2.725299</td>\n",
       "    </tr>\n",
       "    <tr>\n",
       "      <th>e</th>\n",
       "      <td>-0.315488</td>\n",
       "      <td>-0.179360</td>\n",
       "      <td>-0.233477</td>\n",
       "      <td>-0.048576</td>\n",
       "    </tr>\n",
       "    <tr>\n",
       "      <th>f</th>\n",
       "      <td>1.922169</td>\n",
       "      <td>-2.086020</td>\n",
       "      <td>-0.136242</td>\n",
       "      <td>0.184933</td>\n",
       "    </tr>\n",
       "  </tbody>\n",
       "</table>\n",
       "</div>"
      ],
      "text/plain": [
       "          A         B         C         D\n",
       "a -0.307620 -0.617461  2.171615  0.455244\n",
       "b -0.379891 -0.555792  0.445579 -2.429098\n",
       "c  0.397711 -0.552411  0.527463 -0.962704\n",
       "d -1.632263  1.321678  0.838703  2.725299\n",
       "e -0.315488 -0.179360 -0.233477 -0.048576\n",
       "f  1.922169 -2.086020 -0.136242  0.184933"
      ]
     },
     "execution_count": 68,
     "metadata": {},
     "output_type": "execute_result"
    }
   ],
   "source": [
    "df13 = pd.DataFrame(np.random.randn(6, 4),\n",
    "                    index=list('abcdef'),\n",
    "                    columns=list('ABCD'))\n",
    "df13"
   ]
  },
  {
   "cell_type": "code",
   "execution_count": 69,
   "id": "582948c2-86ed-42f7-8dad-045e9c4bc654",
   "metadata": {},
   "outputs": [
    {
     "data": {
      "text/html": [
       "<div>\n",
       "<style scoped>\n",
       "    .dataframe tbody tr th:only-of-type {\n",
       "        vertical-align: middle;\n",
       "    }\n",
       "\n",
       "    .dataframe tbody tr th {\n",
       "        vertical-align: top;\n",
       "    }\n",
       "\n",
       "    .dataframe thead th {\n",
       "        text-align: right;\n",
       "    }\n",
       "</style>\n",
       "<table border=\"1\" class=\"dataframe\">\n",
       "  <thead>\n",
       "    <tr style=\"text-align: right;\">\n",
       "      <th></th>\n",
       "      <th>A</th>\n",
       "      <th>B</th>\n",
       "      <th>C</th>\n",
       "      <th>D</th>\n",
       "    </tr>\n",
       "  </thead>\n",
       "  <tbody>\n",
       "    <tr>\n",
       "      <th>c</th>\n",
       "      <td>0.397711</td>\n",
       "      <td>-0.552411</td>\n",
       "      <td>0.527463</td>\n",
       "      <td>-0.962704</td>\n",
       "    </tr>\n",
       "    <tr>\n",
       "      <th>f</th>\n",
       "      <td>1.922169</td>\n",
       "      <td>-2.086020</td>\n",
       "      <td>-0.136242</td>\n",
       "      <td>0.184933</td>\n",
       "    </tr>\n",
       "  </tbody>\n",
       "</table>\n",
       "</div>"
      ],
      "text/plain": [
       "          A         B         C         D\n",
       "c  0.397711 -0.552411  0.527463 -0.962704\n",
       "f  1.922169 -2.086020 -0.136242  0.184933"
      ]
     },
     "execution_count": 69,
     "metadata": {},
     "output_type": "execute_result"
    }
   ],
   "source": [
    "df13.loc[lambda dfx: dfx['A'] > 0, :]"
   ]
  },
  {
   "cell_type": "code",
   "execution_count": 70,
   "id": "ecb3e159-f7ec-4e7b-bbb5-93130dfdce5b",
   "metadata": {},
   "outputs": [
    {
     "data": {
      "text/html": [
       "<div>\n",
       "<style scoped>\n",
       "    .dataframe tbody tr th:only-of-type {\n",
       "        vertical-align: middle;\n",
       "    }\n",
       "\n",
       "    .dataframe tbody tr th {\n",
       "        vertical-align: top;\n",
       "    }\n",
       "\n",
       "    .dataframe thead th {\n",
       "        text-align: right;\n",
       "    }\n",
       "</style>\n",
       "<table border=\"1\" class=\"dataframe\">\n",
       "  <thead>\n",
       "    <tr style=\"text-align: right;\">\n",
       "      <th></th>\n",
       "      <th>A</th>\n",
       "      <th>B</th>\n",
       "    </tr>\n",
       "  </thead>\n",
       "  <tbody>\n",
       "    <tr>\n",
       "      <th>a</th>\n",
       "      <td>-0.307620</td>\n",
       "      <td>-0.617461</td>\n",
       "    </tr>\n",
       "    <tr>\n",
       "      <th>b</th>\n",
       "      <td>-0.379891</td>\n",
       "      <td>-0.555792</td>\n",
       "    </tr>\n",
       "    <tr>\n",
       "      <th>c</th>\n",
       "      <td>0.397711</td>\n",
       "      <td>-0.552411</td>\n",
       "    </tr>\n",
       "    <tr>\n",
       "      <th>d</th>\n",
       "      <td>-1.632263</td>\n",
       "      <td>1.321678</td>\n",
       "    </tr>\n",
       "    <tr>\n",
       "      <th>e</th>\n",
       "      <td>-0.315488</td>\n",
       "      <td>-0.179360</td>\n",
       "    </tr>\n",
       "    <tr>\n",
       "      <th>f</th>\n",
       "      <td>1.922169</td>\n",
       "      <td>-2.086020</td>\n",
       "    </tr>\n",
       "  </tbody>\n",
       "</table>\n",
       "</div>"
      ],
      "text/plain": [
       "          A         B\n",
       "a -0.307620 -0.617461\n",
       "b -0.379891 -0.555792\n",
       "c  0.397711 -0.552411\n",
       "d -1.632263  1.321678\n",
       "e -0.315488 -0.179360\n",
       "f  1.922169 -2.086020"
      ]
     },
     "execution_count": 70,
     "metadata": {},
     "output_type": "execute_result"
    }
   ],
   "source": [
    "df13.loc[:, lambda dfx: ['A', 'B']]"
   ]
  },
  {
   "cell_type": "code",
   "execution_count": 71,
   "id": "2dc10947-5fe0-4051-8cee-16a9aebb3404",
   "metadata": {},
   "outputs": [
    {
     "data": {
      "text/html": [
       "<div>\n",
       "<style scoped>\n",
       "    .dataframe tbody tr th:only-of-type {\n",
       "        vertical-align: middle;\n",
       "    }\n",
       "\n",
       "    .dataframe tbody tr th {\n",
       "        vertical-align: top;\n",
       "    }\n",
       "\n",
       "    .dataframe thead th {\n",
       "        text-align: right;\n",
       "    }\n",
       "</style>\n",
       "<table border=\"1\" class=\"dataframe\">\n",
       "  <thead>\n",
       "    <tr style=\"text-align: right;\">\n",
       "      <th></th>\n",
       "      <th>A</th>\n",
       "      <th>B</th>\n",
       "    </tr>\n",
       "  </thead>\n",
       "  <tbody>\n",
       "    <tr>\n",
       "      <th>a</th>\n",
       "      <td>-0.307620</td>\n",
       "      <td>-0.617461</td>\n",
       "    </tr>\n",
       "    <tr>\n",
       "      <th>b</th>\n",
       "      <td>-0.379891</td>\n",
       "      <td>-0.555792</td>\n",
       "    </tr>\n",
       "    <tr>\n",
       "      <th>c</th>\n",
       "      <td>0.397711</td>\n",
       "      <td>-0.552411</td>\n",
       "    </tr>\n",
       "    <tr>\n",
       "      <th>d</th>\n",
       "      <td>-1.632263</td>\n",
       "      <td>1.321678</td>\n",
       "    </tr>\n",
       "    <tr>\n",
       "      <th>e</th>\n",
       "      <td>-0.315488</td>\n",
       "      <td>-0.179360</td>\n",
       "    </tr>\n",
       "    <tr>\n",
       "      <th>f</th>\n",
       "      <td>1.922169</td>\n",
       "      <td>-2.086020</td>\n",
       "    </tr>\n",
       "  </tbody>\n",
       "</table>\n",
       "</div>"
      ],
      "text/plain": [
       "          A         B\n",
       "a -0.307620 -0.617461\n",
       "b -0.379891 -0.555792\n",
       "c  0.397711 -0.552411\n",
       "d -1.632263  1.321678\n",
       "e -0.315488 -0.179360\n",
       "f  1.922169 -2.086020"
      ]
     },
     "execution_count": 71,
     "metadata": {},
     "output_type": "execute_result"
    }
   ],
   "source": [
    "df13.iloc[:, lambda dfx: [0, 1]]"
   ]
  },
  {
   "cell_type": "code",
   "execution_count": 72,
   "id": "a1e62ef5-e99d-45f7-88df-8b8374726cde",
   "metadata": {},
   "outputs": [
    {
     "data": {
      "text/plain": [
       "a   -0.307620\n",
       "b   -0.379891\n",
       "c    0.397711\n",
       "d   -1.632263\n",
       "e   -0.315488\n",
       "f    1.922169\n",
       "Name: A, dtype: float64"
      ]
     },
     "execution_count": 72,
     "metadata": {},
     "output_type": "execute_result"
    }
   ],
   "source": [
    "df13[lambda dfx: dfx.columns[0]]"
   ]
  },
  {
   "cell_type": "markdown",
   "id": "57eb3f73-bbba-46b4-b4ff-37608b6ec89b",
   "metadata": {},
   "source": [
    "You can use callable indexing in Series."
   ]
  },
  {
   "cell_type": "code",
   "execution_count": 73,
   "id": "ccc3ba5c-189d-4404-8d5a-aa898affc077",
   "metadata": {},
   "outputs": [
    {
     "data": {
      "text/plain": [
       "c    0.397711\n",
       "f    1.922169\n",
       "Name: A, dtype: float64"
      ]
     },
     "execution_count": 73,
     "metadata": {},
     "output_type": "execute_result"
    }
   ],
   "source": [
    "df13['A'].loc[lambda sx: sx > 0]"
   ]
  },
  {
   "cell_type": "markdown",
   "id": "358af328-a9a4-47e5-9f6a-b498602bba1f",
   "metadata": {},
   "source": [
    "Using these methods / indexers, you can chain data selection operations without using a temporary variable."
   ]
  },
  {
   "cell_type": "code",
   "execution_count": 74,
   "id": "7fe6f918-e58a-4fc2-966a-9b1b890441e1",
   "metadata": {},
   "outputs": [
    {
     "data": {
      "text/html": [
       "<div>\n",
       "<style scoped>\n",
       "    .dataframe tbody tr th:only-of-type {\n",
       "        vertical-align: middle;\n",
       "    }\n",
       "\n",
       "    .dataframe tbody tr th {\n",
       "        vertical-align: top;\n",
       "    }\n",
       "\n",
       "    .dataframe thead th {\n",
       "        text-align: right;\n",
       "    }\n",
       "</style>\n",
       "<table border=\"1\" class=\"dataframe\">\n",
       "  <thead>\n",
       "    <tr style=\"text-align: right;\">\n",
       "      <th></th>\n",
       "      <th></th>\n",
       "      <th>stint</th>\n",
       "      <th>g</th>\n",
       "      <th>ab</th>\n",
       "      <th>r</th>\n",
       "      <th>h</th>\n",
       "      <th>X2b</th>\n",
       "      <th>X3b</th>\n",
       "      <th>hr</th>\n",
       "      <th>rbi</th>\n",
       "      <th>sb</th>\n",
       "      <th>cs</th>\n",
       "      <th>bb</th>\n",
       "      <th>so</th>\n",
       "      <th>ibb</th>\n",
       "      <th>hbp</th>\n",
       "      <th>sh</th>\n",
       "      <th>sf</th>\n",
       "      <th>gidp</th>\n",
       "    </tr>\n",
       "    <tr>\n",
       "      <th>year</th>\n",
       "      <th>team</th>\n",
       "      <th></th>\n",
       "      <th></th>\n",
       "      <th></th>\n",
       "      <th></th>\n",
       "      <th></th>\n",
       "      <th></th>\n",
       "      <th></th>\n",
       "      <th></th>\n",
       "      <th></th>\n",
       "      <th></th>\n",
       "      <th></th>\n",
       "      <th></th>\n",
       "      <th></th>\n",
       "      <th></th>\n",
       "      <th></th>\n",
       "      <th></th>\n",
       "      <th></th>\n",
       "      <th></th>\n",
       "    </tr>\n",
       "  </thead>\n",
       "  <tbody>\n",
       "    <tr>\n",
       "      <th rowspan=\"8\" valign=\"top\">2007</th>\n",
       "      <th>CIN</th>\n",
       "      <td>6</td>\n",
       "      <td>379</td>\n",
       "      <td>745</td>\n",
       "      <td>101</td>\n",
       "      <td>203</td>\n",
       "      <td>35</td>\n",
       "      <td>2</td>\n",
       "      <td>36</td>\n",
       "      <td>125.0</td>\n",
       "      <td>10.0</td>\n",
       "      <td>1.0</td>\n",
       "      <td>105</td>\n",
       "      <td>127.0</td>\n",
       "      <td>14.0</td>\n",
       "      <td>1.0</td>\n",
       "      <td>1.0</td>\n",
       "      <td>15.0</td>\n",
       "      <td>18.0</td>\n",
       "    </tr>\n",
       "    <tr>\n",
       "      <th>DET</th>\n",
       "      <td>5</td>\n",
       "      <td>301</td>\n",
       "      <td>1062</td>\n",
       "      <td>162</td>\n",
       "      <td>283</td>\n",
       "      <td>54</td>\n",
       "      <td>4</td>\n",
       "      <td>37</td>\n",
       "      <td>144.0</td>\n",
       "      <td>24.0</td>\n",
       "      <td>7.0</td>\n",
       "      <td>97</td>\n",
       "      <td>176.0</td>\n",
       "      <td>3.0</td>\n",
       "      <td>10.0</td>\n",
       "      <td>4.0</td>\n",
       "      <td>8.0</td>\n",
       "      <td>28.0</td>\n",
       "    </tr>\n",
       "    <tr>\n",
       "      <th>HOU</th>\n",
       "      <td>4</td>\n",
       "      <td>311</td>\n",
       "      <td>926</td>\n",
       "      <td>109</td>\n",
       "      <td>218</td>\n",
       "      <td>47</td>\n",
       "      <td>6</td>\n",
       "      <td>14</td>\n",
       "      <td>77.0</td>\n",
       "      <td>10.0</td>\n",
       "      <td>4.0</td>\n",
       "      <td>60</td>\n",
       "      <td>212.0</td>\n",
       "      <td>3.0</td>\n",
       "      <td>9.0</td>\n",
       "      <td>16.0</td>\n",
       "      <td>6.0</td>\n",
       "      <td>17.0</td>\n",
       "    </tr>\n",
       "    <tr>\n",
       "      <th>LAN</th>\n",
       "      <td>11</td>\n",
       "      <td>413</td>\n",
       "      <td>1021</td>\n",
       "      <td>153</td>\n",
       "      <td>293</td>\n",
       "      <td>61</td>\n",
       "      <td>3</td>\n",
       "      <td>36</td>\n",
       "      <td>154.0</td>\n",
       "      <td>7.0</td>\n",
       "      <td>5.0</td>\n",
       "      <td>114</td>\n",
       "      <td>141.0</td>\n",
       "      <td>8.0</td>\n",
       "      <td>9.0</td>\n",
       "      <td>3.0</td>\n",
       "      <td>8.0</td>\n",
       "      <td>29.0</td>\n",
       "    </tr>\n",
       "    <tr>\n",
       "      <th>NYN</th>\n",
       "      <td>13</td>\n",
       "      <td>622</td>\n",
       "      <td>1854</td>\n",
       "      <td>240</td>\n",
       "      <td>509</td>\n",
       "      <td>101</td>\n",
       "      <td>3</td>\n",
       "      <td>61</td>\n",
       "      <td>243.0</td>\n",
       "      <td>22.0</td>\n",
       "      <td>4.0</td>\n",
       "      <td>174</td>\n",
       "      <td>310.0</td>\n",
       "      <td>24.0</td>\n",
       "      <td>23.0</td>\n",
       "      <td>18.0</td>\n",
       "      <td>15.0</td>\n",
       "      <td>48.0</td>\n",
       "    </tr>\n",
       "    <tr>\n",
       "      <th>SFN</th>\n",
       "      <td>5</td>\n",
       "      <td>482</td>\n",
       "      <td>1305</td>\n",
       "      <td>198</td>\n",
       "      <td>337</td>\n",
       "      <td>67</td>\n",
       "      <td>6</td>\n",
       "      <td>40</td>\n",
       "      <td>171.0</td>\n",
       "      <td>26.0</td>\n",
       "      <td>7.0</td>\n",
       "      <td>235</td>\n",
       "      <td>188.0</td>\n",
       "      <td>51.0</td>\n",
       "      <td>8.0</td>\n",
       "      <td>16.0</td>\n",
       "      <td>6.0</td>\n",
       "      <td>41.0</td>\n",
       "    </tr>\n",
       "    <tr>\n",
       "      <th>TEX</th>\n",
       "      <td>2</td>\n",
       "      <td>198</td>\n",
       "      <td>729</td>\n",
       "      <td>115</td>\n",
       "      <td>200</td>\n",
       "      <td>40</td>\n",
       "      <td>4</td>\n",
       "      <td>28</td>\n",
       "      <td>115.0</td>\n",
       "      <td>21.0</td>\n",
       "      <td>4.0</td>\n",
       "      <td>73</td>\n",
       "      <td>140.0</td>\n",
       "      <td>4.0</td>\n",
       "      <td>5.0</td>\n",
       "      <td>2.0</td>\n",
       "      <td>8.0</td>\n",
       "      <td>16.0</td>\n",
       "    </tr>\n",
       "    <tr>\n",
       "      <th>TOR</th>\n",
       "      <td>4</td>\n",
       "      <td>459</td>\n",
       "      <td>1408</td>\n",
       "      <td>187</td>\n",
       "      <td>378</td>\n",
       "      <td>96</td>\n",
       "      <td>2</td>\n",
       "      <td>58</td>\n",
       "      <td>223.0</td>\n",
       "      <td>4.0</td>\n",
       "      <td>2.0</td>\n",
       "      <td>190</td>\n",
       "      <td>265.0</td>\n",
       "      <td>16.0</td>\n",
       "      <td>12.0</td>\n",
       "      <td>4.0</td>\n",
       "      <td>16.0</td>\n",
       "      <td>38.0</td>\n",
       "    </tr>\n",
       "  </tbody>\n",
       "</table>\n",
       "</div>"
      ],
      "text/plain": [
       "           stint    g    ab    r    h  X2b  X3b  hr    rbi    sb   cs   bb  \\\n",
       "year team                                                                    \n",
       "2007 CIN       6  379   745  101  203   35    2  36  125.0  10.0  1.0  105   \n",
       "     DET       5  301  1062  162  283   54    4  37  144.0  24.0  7.0   97   \n",
       "     HOU       4  311   926  109  218   47    6  14   77.0  10.0  4.0   60   \n",
       "     LAN      11  413  1021  153  293   61    3  36  154.0   7.0  5.0  114   \n",
       "     NYN      13  622  1854  240  509  101    3  61  243.0  22.0  4.0  174   \n",
       "     SFN       5  482  1305  198  337   67    6  40  171.0  26.0  7.0  235   \n",
       "     TEX       2  198   729  115  200   40    4  28  115.0  21.0  4.0   73   \n",
       "     TOR       4  459  1408  187  378   96    2  58  223.0   4.0  2.0  190   \n",
       "\n",
       "              so   ibb   hbp    sh    sf  gidp  \n",
       "year team                                       \n",
       "2007 CIN   127.0  14.0   1.0   1.0  15.0  18.0  \n",
       "     DET   176.0   3.0  10.0   4.0   8.0  28.0  \n",
       "     HOU   212.0   3.0   9.0  16.0   6.0  17.0  \n",
       "     LAN   141.0   8.0   9.0   3.0   8.0  29.0  \n",
       "     NYN   310.0  24.0  23.0  18.0  15.0  48.0  \n",
       "     SFN   188.0  51.0   8.0  16.0   6.0  41.0  \n",
       "     TEX   140.0   4.0   5.0   2.0   8.0  16.0  \n",
       "     TOR   265.0  16.0  12.0   4.0  16.0  38.0  "
      ]
     },
     "execution_count": 74,
     "metadata": {},
     "output_type": "execute_result"
    }
   ],
   "source": [
    "bb13 = pd.read_csv('data/baseball.csv', index_col='id')\n",
    "(bb13.groupby(['year', 'team']).sum().loc[lambda dfx: dfx['r'] > 100])"
   ]
  },
  {
   "cell_type": "markdown",
   "id": "0dc3075a-05df-4002-a5d6-3c1ed680ad7f",
   "metadata": {},
   "source": [
    "## Combining positional and label-based indexing\n",
    "If you wish to get the 0th and the 2nd elements from the index in the ‘A’ column, you can do:"
   ]
  },
  {
   "cell_type": "code",
   "execution_count": 75,
   "id": "25a2246f-c1de-45c2-b97b-6645cf3848c7",
   "metadata": {},
   "outputs": [
    {
     "data": {
      "text/html": [
       "<div>\n",
       "<style scoped>\n",
       "    .dataframe tbody tr th:only-of-type {\n",
       "        vertical-align: middle;\n",
       "    }\n",
       "\n",
       "    .dataframe tbody tr th {\n",
       "        vertical-align: top;\n",
       "    }\n",
       "\n",
       "    .dataframe thead th {\n",
       "        text-align: right;\n",
       "    }\n",
       "</style>\n",
       "<table border=\"1\" class=\"dataframe\">\n",
       "  <thead>\n",
       "    <tr style=\"text-align: right;\">\n",
       "      <th></th>\n",
       "      <th>A</th>\n",
       "      <th>B</th>\n",
       "    </tr>\n",
       "  </thead>\n",
       "  <tbody>\n",
       "    <tr>\n",
       "      <th>a</th>\n",
       "      <td>1</td>\n",
       "      <td>4</td>\n",
       "    </tr>\n",
       "    <tr>\n",
       "      <th>b</th>\n",
       "      <td>2</td>\n",
       "      <td>5</td>\n",
       "    </tr>\n",
       "    <tr>\n",
       "      <th>c</th>\n",
       "      <td>3</td>\n",
       "      <td>6</td>\n",
       "    </tr>\n",
       "  </tbody>\n",
       "</table>\n",
       "</div>"
      ],
      "text/plain": [
       "   A  B\n",
       "a  1  4\n",
       "b  2  5\n",
       "c  3  6"
      ]
     },
     "execution_count": 75,
     "metadata": {},
     "output_type": "execute_result"
    }
   ],
   "source": [
    "df14 = pd.DataFrame({'A': [1, 2, 3],\n",
    "                    'B': [4, 5, 6]},\n",
    "                   index=list('abc'))\n",
    "df14"
   ]
  },
  {
   "cell_type": "code",
   "execution_count": 76,
   "id": "d96124ef-4577-4496-985f-1ee7618c6388",
   "metadata": {},
   "outputs": [
    {
     "data": {
      "text/plain": [
       "a    1\n",
       "c    3\n",
       "Name: A, dtype: int64"
      ]
     },
     "execution_count": 76,
     "metadata": {},
     "output_type": "execute_result"
    }
   ],
   "source": [
    "df14.loc[df14.index[[0, 2]], 'A']"
   ]
  },
  {
   "cell_type": "markdown",
   "id": "b7260778-8abe-4dc0-889a-d6404b484e1f",
   "metadata": {},
   "source": [
    "This can also be expressed using .iloc, by explicitly getting locations on the indexers, and using positional indexing to select things."
   ]
  },
  {
   "cell_type": "code",
   "execution_count": 77,
   "id": "9001dd33-eb40-4ba4-b5aa-9706e12992ff",
   "metadata": {},
   "outputs": [
    {
     "data": {
      "text/plain": [
       "a    1\n",
       "c    3\n",
       "Name: A, dtype: int64"
      ]
     },
     "execution_count": 77,
     "metadata": {},
     "output_type": "execute_result"
    }
   ],
   "source": [
    "df14.iloc[[0, 2], df14.columns.get_loc('A')]"
   ]
  },
  {
   "cell_type": "markdown",
   "id": "51d485df-cd21-4bb4-9c36-a7f38c2efb00",
   "metadata": {},
   "source": [
    "For getting multiple indexers, using .get_indexer:"
   ]
  },
  {
   "cell_type": "code",
   "execution_count": 78,
   "id": "49a8c982-5757-4f62-9588-2f8e0c1a965c",
   "metadata": {},
   "outputs": [
    {
     "data": {
      "text/html": [
       "<div>\n",
       "<style scoped>\n",
       "    .dataframe tbody tr th:only-of-type {\n",
       "        vertical-align: middle;\n",
       "    }\n",
       "\n",
       "    .dataframe tbody tr th {\n",
       "        vertical-align: top;\n",
       "    }\n",
       "\n",
       "    .dataframe thead th {\n",
       "        text-align: right;\n",
       "    }\n",
       "</style>\n",
       "<table border=\"1\" class=\"dataframe\">\n",
       "  <thead>\n",
       "    <tr style=\"text-align: right;\">\n",
       "      <th></th>\n",
       "      <th>A</th>\n",
       "      <th>B</th>\n",
       "    </tr>\n",
       "  </thead>\n",
       "  <tbody>\n",
       "    <tr>\n",
       "      <th>a</th>\n",
       "      <td>1</td>\n",
       "      <td>4</td>\n",
       "    </tr>\n",
       "    <tr>\n",
       "      <th>c</th>\n",
       "      <td>3</td>\n",
       "      <td>6</td>\n",
       "    </tr>\n",
       "  </tbody>\n",
       "</table>\n",
       "</div>"
      ],
      "text/plain": [
       "   A  B\n",
       "a  1  4\n",
       "c  3  6"
      ]
     },
     "execution_count": 78,
     "metadata": {},
     "output_type": "execute_result"
    }
   ],
   "source": [
    "df14.iloc[[0, 2], df14.columns.get_indexer(['A', 'B'])]"
   ]
  },
  {
   "cell_type": "markdown",
   "id": "9f2bb26a-c940-4d52-ab30-c6bb50a5b304",
   "metadata": {},
   "source": [
    "## Indexing with list with missing labels is deprecated\n",
    ">Warning\n",
    ">\n",
    ">Changed in version 1.0.0.\n",
    ">\n",
    ">Using .loc or [] with a list with one or more missing labels will no longer reindex, in favor of .reindex.\n",
    "\n",
    "In prior versions, using .loc[list-of-labels] would work as long as at least 1 of the keys was found (otherwise it would raise a KeyError). This behavior was changed and will now raise a KeyError if at least one label is missing. The recommended alternative is to use .reindex().\n",
    "\n",
    "For example."
   ]
  },
  {
   "cell_type": "code",
   "execution_count": 79,
   "id": "87e1f93a-6d32-48bf-935e-a87613a638bf",
   "metadata": {},
   "outputs": [
    {
     "data": {
      "text/plain": [
       "0    1\n",
       "1    2\n",
       "2    3\n",
       "dtype: int64"
      ]
     },
     "execution_count": 79,
     "metadata": {},
     "output_type": "execute_result"
    }
   ],
   "source": [
    "s14 = pd.Series([1, 2, 3])\n",
    "s14"
   ]
  },
  {
   "cell_type": "markdown",
   "id": "5ec06638-de40-4a95-881b-7e215175cb40",
   "metadata": {},
   "source": [
    "Selection with all keys found is unchanged."
   ]
  },
  {
   "cell_type": "code",
   "execution_count": 80,
   "id": "3e35499d-2b99-4c84-b2f1-60a95b505835",
   "metadata": {},
   "outputs": [
    {
     "data": {
      "text/plain": [
       "1    2\n",
       "2    3\n",
       "dtype: int64"
      ]
     },
     "execution_count": 80,
     "metadata": {},
     "output_type": "execute_result"
    }
   ],
   "source": [
    "s14.loc[[1, 2]]"
   ]
  },
  {
   "cell_type": "markdown",
   "id": "e07acdd5-2b36-4749-a95c-f84564163995",
   "metadata": {},
   "source": [
    "Previous behavior"
   ]
  },
  {
   "cell_type": "code",
   "execution_count": 81,
   "id": "8a5b80a8-ba3d-45ed-8f42-72658cfcc61e",
   "metadata": {},
   "outputs": [
    {
     "name": "stdout",
     "output_type": "stream",
     "text": [
      "sys.exc_info(): <class 'KeyError'> \n",
      "Passing list-likes to .loc with any non-matching elements will raise \n",
      "KeyError in the future, you can use .reindex() as an alternative. \n",
      "FIX: use correct index range \n",
      "\n"
     ]
    }
   ],
   "source": [
    "try:\n",
    "    s14.loc[[1, 2, 3]]\n",
    "except:\n",
    "    msg = 'sys.exc_info(): {} \\n'.format(sys.exc_info()[0] )\n",
    "    msg = msg + 'Passing list-likes to .loc with any non-matching elements will raise \\n'\n",
    "    msg = msg + 'KeyError in the future, you can use .reindex() as an alternative. \\n'\n",
    "    msg = msg + 'FIX: use correct index range \\n'\n",
    "    print(msg)"
   ]
  },
  {
   "cell_type": "markdown",
   "id": "b56b2fca-d7d1-4f2d-8bbf-9b2c591f9cfd",
   "metadata": {},
   "source": [
    "See the documentation here:\n",
    "https://pandas.pydata.org/pandas-docs/stable/indexing.html#deprecate-loc-reindex-listlike"
   ]
  },
  {
   "cell_type": "markdown",
   "id": "0c0a577d-15e0-4d1a-ba5c-947589ed108e",
   "metadata": {},
   "source": [
    "### Reindexing\n",
    "The idiomatic way to achieve selecting potentially not-found elements is via .reindex(). See also the section on reindexing."
   ]
  },
  {
   "cell_type": "code",
   "execution_count": 82,
   "id": "f616a12d-48b3-4f7e-ac8f-cf2e56ef8ed1",
   "metadata": {},
   "outputs": [
    {
     "data": {
      "text/plain": [
       "1    2.0\n",
       "2    3.0\n",
       "3    NaN\n",
       "dtype: float64"
      ]
     },
     "execution_count": 82,
     "metadata": {},
     "output_type": "execute_result"
    }
   ],
   "source": [
    "s14.reindex([1, 2, 3])"
   ]
  },
  {
   "cell_type": "markdown",
   "id": "e730e9fe-ae14-434a-a540-893e0647a64e",
   "metadata": {},
   "source": [
    "Alternatively, if you want to select only valid keys, the following is idiomatic and efficient; it is guaranteed to preserve the dtype of the selection."
   ]
  },
  {
   "cell_type": "code",
   "execution_count": 83,
   "id": "1da757d6-b337-44ee-8858-eb920e3ca055",
   "metadata": {},
   "outputs": [
    {
     "data": {
      "text/plain": [
       "1    2\n",
       "2    3\n",
       "dtype: int64"
      ]
     },
     "execution_count": 83,
     "metadata": {},
     "output_type": "execute_result"
    }
   ],
   "source": [
    "labels = [1, 2, 3]\n",
    "s14.loc[s14.index.intersection(labels)]"
   ]
  },
  {
   "cell_type": "markdown",
   "id": "31afc9b9-1926-40f0-b168-0bbcf58d880f",
   "metadata": {},
   "source": [
    "Having a duplicated index will raise for a .reindex():"
   ]
  },
  {
   "cell_type": "code",
   "execution_count": 84,
   "id": "4d15877c-6388-4217-8ff2-a6d1cde9b430",
   "metadata": {},
   "outputs": [],
   "source": [
    "s14 = pd.Series(np.arange(4), index=['a', 'a', 'b', 'c'])\n",
    "labels = ['c', 'd']"
   ]
  },
  {
   "cell_type": "code",
   "execution_count": 85,
   "id": "7f5e103a-ba84-441b-a0ad-5533395ab1c4",
   "metadata": {},
   "outputs": [
    {
     "name": "stdout",
     "output_type": "stream",
     "text": [
      "sys.exc_info(): <class 'ValueError'> \n",
      "ValueError: cannot reindex from a duplicate axis \n",
      "FIX: only reindex primary index \n",
      "\n"
     ]
    }
   ],
   "source": [
    "try:\n",
    "    s14.reindex(labels)\n",
    "except:\n",
    "    msg = 'sys.exc_info(): {} \\n'.format(sys.exc_info()[0] )\n",
    "    msg = msg + 'ValueError: cannot reindex from a duplicate axis \\n'\n",
    "    msg = msg + 'FIX: only reindex primary index \\n'\n",
    "    print(msg)"
   ]
  },
  {
   "cell_type": "markdown",
   "id": "da0ef2d7-d963-4efd-89c2-9c8295331818",
   "metadata": {},
   "source": [
    "Generally, you can intersect the desired labels with the current axis, and then reindex."
   ]
  },
  {
   "cell_type": "code",
   "execution_count": 86,
   "id": "d9af39d8-10b9-448a-8dcf-24f6a38c426e",
   "metadata": {},
   "outputs": [
    {
     "data": {
      "text/plain": [
       "c    3.0\n",
       "d    NaN\n",
       "dtype: float64"
      ]
     },
     "execution_count": 86,
     "metadata": {},
     "output_type": "execute_result"
    }
   ],
   "source": [
    "s14.loc[s14.index.intersection(labels)].reindex(labels)"
   ]
  },
  {
   "cell_type": "markdown",
   "id": "1dc10036-39c6-45dc-9062-96a833532e30",
   "metadata": {},
   "source": [
    "However, this would still raise if your resulting index is duplicated."
   ]
  },
  {
   "cell_type": "code",
   "execution_count": 87,
   "id": "1af8ff15-4e50-4648-ab94-337d42aea412",
   "metadata": {},
   "outputs": [],
   "source": [
    "try:\n",
    "    s14.loc[s14.index.intersection(labels)].reindex(labels)\n",
    "except:\n",
    "    msg = 'sys.exc_info(): {} \\n'.format(sys.exc_info()[0] )\n",
    "    msg = msg + 'ValueError: cannot reindex from a duplicate axis \\n'\n",
    "    msg = msg + 'FIX: only reindex primary index \\n'\n",
    "    print(msg)"
   ]
  },
  {
   "cell_type": "markdown",
   "id": "9e081e1d-a5b4-4eb1-9df9-485655ba8278",
   "metadata": {},
   "source": [
    "## Selecting random samples\n",
    "A random selection of rows or columns from a Series or DataFrame with the sample() method. The method will sample rows by default, and accepts a specific number of rows/columns to return, or a fraction of rows."
   ]
  },
  {
   "cell_type": "code",
   "execution_count": 88,
   "id": "f539ce65-cf29-4952-ba5f-3f56c7197ed2",
   "metadata": {},
   "outputs": [
    {
     "data": {
      "text/plain": [
       "1    1\n",
       "dtype: int64"
      ]
     },
     "execution_count": 88,
     "metadata": {},
     "output_type": "execute_result"
    }
   ],
   "source": [
    "s15 = pd.Series([0, 1, 2, 3, 4, 5])\n",
    "\n",
    "# When no arguments are passed, returns 1 row.\n",
    "s15.sample()"
   ]
  },
  {
   "cell_type": "code",
   "execution_count": 89,
   "id": "bf4c6d2e-ad1d-485f-83ae-cf1c33af192d",
   "metadata": {},
   "outputs": [
    {
     "data": {
      "text/plain": [
       "1    1\n",
       "5    5\n",
       "2    2\n",
       "dtype: int64"
      ]
     },
     "execution_count": 89,
     "metadata": {},
     "output_type": "execute_result"
    }
   ],
   "source": [
    "# One may specify either a number of rows:\n",
    "s15.sample(n=3)"
   ]
  },
  {
   "cell_type": "code",
   "execution_count": 90,
   "id": "b3350669-e8c0-4d3c-8679-bf372cd533aa",
   "metadata": {},
   "outputs": [
    {
     "data": {
      "text/plain": [
       "2    2\n",
       "0    0\n",
       "4    4\n",
       "dtype: int64"
      ]
     },
     "execution_count": 90,
     "metadata": {},
     "output_type": "execute_result"
    }
   ],
   "source": [
    "# Or a fraction of the rows:\n",
    "s15.sample(frac=0.5)"
   ]
  },
  {
   "cell_type": "markdown",
   "id": "ac2394d5-6255-4760-943a-6a183aaef695",
   "metadata": {},
   "source": [
    "By default, sample will return each row at most once, but one can also sample with replacement using the replace option:"
   ]
  },
  {
   "cell_type": "code",
   "execution_count": 91,
   "id": "f97402a9-a7f7-4bbf-8456-bdd02fcc8ba7",
   "metadata": {},
   "outputs": [
    {
     "data": {
      "text/plain": [
       "5    5\n",
       "3    3\n",
       "2    2\n",
       "1    1\n",
       "4    4\n",
       "0    0\n",
       "dtype: int64"
      ]
     },
     "execution_count": 91,
     "metadata": {},
     "output_type": "execute_result"
    }
   ],
   "source": [
    "s16 = pd.Series([0, 1, 2, 3, 4, 5])\n",
    "# Without replacement (default):\n",
    "s16.sample(n=6, replace=False)"
   ]
  },
  {
   "cell_type": "code",
   "execution_count": 92,
   "id": "9e12a102-5117-472a-a47e-358265373f59",
   "metadata": {},
   "outputs": [
    {
     "data": {
      "text/plain": [
       "0    0\n",
       "0    0\n",
       "1    1\n",
       "2    2\n",
       "2    2\n",
       "0    0\n",
       "dtype: int64"
      ]
     },
     "execution_count": 92,
     "metadata": {},
     "output_type": "execute_result"
    }
   ],
   "source": [
    "# With replacement:\n",
    "s16.sample(n=6, replace=True)"
   ]
  },
  {
   "cell_type": "markdown",
   "id": "b1a7348d-0cd9-453f-9f82-71e73aaca519",
   "metadata": {},
   "source": [
    "By default, each row has an equal probability of being selected, but if you want rows to have different probabilities, you can pass the sample function sampling weights as weights. These weights can be a list, a NumPy array, or a Series, but they must be of the same length as the object you are sampling. Missing values will be treated as a weight of zero, and inf values are not allowed. If weights do not sum to 1, they will be re-normalized by dividing all weights by the sum of the weights. For example:"
   ]
  },
  {
   "cell_type": "code",
   "execution_count": 93,
   "id": "acd648eb-6af8-4975-adc3-fcd396a4e55e",
   "metadata": {},
   "outputs": [
    {
     "data": {
      "text/plain": [
       "5    5\n",
       "3    3\n",
       "2    2\n",
       "dtype: int64"
      ]
     },
     "execution_count": 93,
     "metadata": {},
     "output_type": "execute_result"
    }
   ],
   "source": [
    "s17 = pd.Series([0, 1, 2, 3, 4, 5])\n",
    "example_weights = [0, 0, 0.2, 0.2, 0.2, 0.4]\n",
    "s17.sample(n=3, weights=example_weights)"
   ]
  },
  {
   "cell_type": "code",
   "execution_count": 94,
   "id": "6e43bfe1-da6a-4a0b-841a-86044db7068d",
   "metadata": {},
   "outputs": [
    {
     "data": {
      "text/plain": [
       "0    0\n",
       "dtype: int64"
      ]
     },
     "execution_count": 94,
     "metadata": {},
     "output_type": "execute_result"
    }
   ],
   "source": [
    "# Weights will be re-normalized automatically\n",
    "example_weights2 = [0.5, 0, 0, 0, 0, 0]\n",
    "s17.sample(n=1, weights=example_weights2)"
   ]
  },
  {
   "cell_type": "markdown",
   "id": "6eccb559-b2e0-451f-9d18-206505501cc0",
   "metadata": {},
   "source": [
    "When applied to a DataFrame, you can use a column of the DataFrame as sampling weights (provided you are sampling rows and not columns) by simply passing the name of the column as a string."
   ]
  },
  {
   "cell_type": "code",
   "execution_count": 95,
   "id": "aede1416-aede-4af9-a2ee-4e3836726e85",
   "metadata": {},
   "outputs": [
    {
     "data": {
      "text/html": [
       "<div>\n",
       "<style scoped>\n",
       "    .dataframe tbody tr th:only-of-type {\n",
       "        vertical-align: middle;\n",
       "    }\n",
       "\n",
       "    .dataframe tbody tr th {\n",
       "        vertical-align: top;\n",
       "    }\n",
       "\n",
       "    .dataframe thead th {\n",
       "        text-align: right;\n",
       "    }\n",
       "</style>\n",
       "<table border=\"1\" class=\"dataframe\">\n",
       "  <thead>\n",
       "    <tr style=\"text-align: right;\">\n",
       "      <th></th>\n",
       "      <th>col1</th>\n",
       "      <th>weight_column</th>\n",
       "    </tr>\n",
       "  </thead>\n",
       "  <tbody>\n",
       "    <tr>\n",
       "      <th>0</th>\n",
       "      <td>9</td>\n",
       "      <td>0.5</td>\n",
       "    </tr>\n",
       "    <tr>\n",
       "      <th>1</th>\n",
       "      <td>8</td>\n",
       "      <td>0.4</td>\n",
       "    </tr>\n",
       "    <tr>\n",
       "      <th>2</th>\n",
       "      <td>7</td>\n",
       "      <td>0.1</td>\n",
       "    </tr>\n",
       "  </tbody>\n",
       "</table>\n",
       "</div>"
      ],
      "text/plain": [
       "   col1  weight_column\n",
       "0     9            0.5\n",
       "1     8            0.4\n",
       "2     7            0.1"
      ]
     },
     "execution_count": 95,
     "metadata": {},
     "output_type": "execute_result"
    }
   ],
   "source": [
    "df17 = pd.DataFrame({'col1': [9, 8, 7, 6],\n",
    "                     'weight_column': [0.5, 0.4, 0.1, 0]})\n",
    "df17.sample(n=3, weights='weight_column')"
   ]
  },
  {
   "cell_type": "markdown",
   "id": "6e88bada-1d79-4d8f-8b27-8ec9493107ff",
   "metadata": {},
   "source": [
    "sample also allows users to sample columns instead of rows using the axis argument."
   ]
  },
  {
   "cell_type": "code",
   "execution_count": 96,
   "id": "e1b3e1a1-230d-4202-9d98-4d6263e887b6",
   "metadata": {},
   "outputs": [
    {
     "data": {
      "text/html": [
       "<div>\n",
       "<style scoped>\n",
       "    .dataframe tbody tr th:only-of-type {\n",
       "        vertical-align: middle;\n",
       "    }\n",
       "\n",
       "    .dataframe tbody tr th {\n",
       "        vertical-align: top;\n",
       "    }\n",
       "\n",
       "    .dataframe thead th {\n",
       "        text-align: right;\n",
       "    }\n",
       "</style>\n",
       "<table border=\"1\" class=\"dataframe\">\n",
       "  <thead>\n",
       "    <tr style=\"text-align: right;\">\n",
       "      <th></th>\n",
       "      <th>col2</th>\n",
       "    </tr>\n",
       "  </thead>\n",
       "  <tbody>\n",
       "    <tr>\n",
       "      <th>0</th>\n",
       "      <td>2</td>\n",
       "    </tr>\n",
       "    <tr>\n",
       "      <th>1</th>\n",
       "      <td>3</td>\n",
       "    </tr>\n",
       "    <tr>\n",
       "      <th>2</th>\n",
       "      <td>4</td>\n",
       "    </tr>\n",
       "  </tbody>\n",
       "</table>\n",
       "</div>"
      ],
      "text/plain": [
       "   col2\n",
       "0     2\n",
       "1     3\n",
       "2     4"
      ]
     },
     "execution_count": 96,
     "metadata": {},
     "output_type": "execute_result"
    }
   ],
   "source": [
    "df18 = pd.DataFrame({'col1': [1, 2, 3], 'col2': [2, 3, 4]})\n",
    "df18.sample(n=1, axis=1)"
   ]
  },
  {
   "cell_type": "markdown",
   "id": "08830109-fcc7-4bca-b9f0-25efa33a5c45",
   "metadata": {},
   "source": [
    "Finally, one can also set a seed for sample’s random number generator using the random_state argument, which will accept either an integer (as a seed) or a NumPy RandomState object."
   ]
  },
  {
   "cell_type": "code",
   "execution_count": 97,
   "id": "fd2d577e-dd41-463f-b63d-6b7787a033de",
   "metadata": {},
   "outputs": [
    {
     "data": {
      "text/html": [
       "<div>\n",
       "<style scoped>\n",
       "    .dataframe tbody tr th:only-of-type {\n",
       "        vertical-align: middle;\n",
       "    }\n",
       "\n",
       "    .dataframe tbody tr th {\n",
       "        vertical-align: top;\n",
       "    }\n",
       "\n",
       "    .dataframe thead th {\n",
       "        text-align: right;\n",
       "    }\n",
       "</style>\n",
       "<table border=\"1\" class=\"dataframe\">\n",
       "  <thead>\n",
       "    <tr style=\"text-align: right;\">\n",
       "      <th></th>\n",
       "      <th>col1</th>\n",
       "      <th>col2</th>\n",
       "    </tr>\n",
       "  </thead>\n",
       "  <tbody>\n",
       "    <tr>\n",
       "      <th>2</th>\n",
       "      <td>3</td>\n",
       "      <td>4</td>\n",
       "    </tr>\n",
       "    <tr>\n",
       "      <th>1</th>\n",
       "      <td>2</td>\n",
       "      <td>3</td>\n",
       "    </tr>\n",
       "  </tbody>\n",
       "</table>\n",
       "</div>"
      ],
      "text/plain": [
       "   col1  col2\n",
       "2     3     4\n",
       "1     2     3"
      ]
     },
     "execution_count": 97,
     "metadata": {},
     "output_type": "execute_result"
    }
   ],
   "source": [
    "df19 = pd.DataFrame({'col1': [1, 2, 3], 'col2': [2, 3, 4]})\n",
    "\n",
    "# With a given seed, the sample will always draw the same rows.\n",
    "df19.sample(n=2, random_state=2)"
   ]
  },
  {
   "cell_type": "code",
   "execution_count": 98,
   "id": "cebdfb15-fcab-41e7-9244-a69f9955c9ce",
   "metadata": {},
   "outputs": [
    {
     "data": {
      "text/html": [
       "<div>\n",
       "<style scoped>\n",
       "    .dataframe tbody tr th:only-of-type {\n",
       "        vertical-align: middle;\n",
       "    }\n",
       "\n",
       "    .dataframe tbody tr th {\n",
       "        vertical-align: top;\n",
       "    }\n",
       "\n",
       "    .dataframe thead th {\n",
       "        text-align: right;\n",
       "    }\n",
       "</style>\n",
       "<table border=\"1\" class=\"dataframe\">\n",
       "  <thead>\n",
       "    <tr style=\"text-align: right;\">\n",
       "      <th></th>\n",
       "      <th>col1</th>\n",
       "      <th>col2</th>\n",
       "    </tr>\n",
       "  </thead>\n",
       "  <tbody>\n",
       "    <tr>\n",
       "      <th>2</th>\n",
       "      <td>3</td>\n",
       "      <td>4</td>\n",
       "    </tr>\n",
       "    <tr>\n",
       "      <th>1</th>\n",
       "      <td>2</td>\n",
       "      <td>3</td>\n",
       "    </tr>\n",
       "  </tbody>\n",
       "</table>\n",
       "</div>"
      ],
      "text/plain": [
       "   col1  col2\n",
       "2     3     4\n",
       "1     2     3"
      ]
     },
     "execution_count": 98,
     "metadata": {},
     "output_type": "execute_result"
    }
   ],
   "source": [
    "df19.sample(n=2, random_state=2)"
   ]
  },
  {
   "cell_type": "markdown",
   "id": "1cfdd683-eddb-42b5-9d12-711794c8137c",
   "metadata": {},
   "source": [
    "## Setting with enlargement\n",
    "The .loc/[] operations can perform enlargement when setting a non-existent key for that axis.\n",
    "\n",
    "In the Series case this is effectively an appending operation."
   ]
  },
  {
   "cell_type": "code",
   "execution_count": 99,
   "id": "a9093511-319a-4e20-9e7a-a49986d0d986",
   "metadata": {},
   "outputs": [
    {
     "data": {
      "text/plain": [
       "0    1\n",
       "1    2\n",
       "2    3\n",
       "dtype: int64"
      ]
     },
     "execution_count": 99,
     "metadata": {},
     "output_type": "execute_result"
    }
   ],
   "source": [
    "s20 = pd.Series([1, 2, 3])\n",
    "s20"
   ]
  },
  {
   "cell_type": "code",
   "execution_count": 100,
   "id": "0a52b535-a4db-4822-95fc-a412243ac7d4",
   "metadata": {},
   "outputs": [
    {
     "data": {
      "text/plain": [
       "0    1.0\n",
       "1    2.0\n",
       "2    3.0\n",
       "5    5.0\n",
       "dtype: float64"
      ]
     },
     "execution_count": 100,
     "metadata": {},
     "output_type": "execute_result"
    }
   ],
   "source": [
    "s20[5] = 5.\n",
    "s20"
   ]
  },
  {
   "cell_type": "markdown",
   "id": "06349dca-0d49-4726-a7cf-13e23e21184c",
   "metadata": {},
   "source": [
    "A DataFrame can be enlarged on either axis via .loc."
   ]
  },
  {
   "cell_type": "code",
   "execution_count": 101,
   "id": "e8f1b2f7-da1d-454a-bf4f-e21ccd4f6a4e",
   "metadata": {},
   "outputs": [
    {
     "data": {
      "text/html": [
       "<div>\n",
       "<style scoped>\n",
       "    .dataframe tbody tr th:only-of-type {\n",
       "        vertical-align: middle;\n",
       "    }\n",
       "\n",
       "    .dataframe tbody tr th {\n",
       "        vertical-align: top;\n",
       "    }\n",
       "\n",
       "    .dataframe thead th {\n",
       "        text-align: right;\n",
       "    }\n",
       "</style>\n",
       "<table border=\"1\" class=\"dataframe\">\n",
       "  <thead>\n",
       "    <tr style=\"text-align: right;\">\n",
       "      <th></th>\n",
       "      <th>A</th>\n",
       "      <th>B</th>\n",
       "    </tr>\n",
       "  </thead>\n",
       "  <tbody>\n",
       "    <tr>\n",
       "      <th>0</th>\n",
       "      <td>0</td>\n",
       "      <td>1</td>\n",
       "    </tr>\n",
       "    <tr>\n",
       "      <th>1</th>\n",
       "      <td>2</td>\n",
       "      <td>3</td>\n",
       "    </tr>\n",
       "    <tr>\n",
       "      <th>2</th>\n",
       "      <td>4</td>\n",
       "      <td>5</td>\n",
       "    </tr>\n",
       "  </tbody>\n",
       "</table>\n",
       "</div>"
      ],
      "text/plain": [
       "   A  B\n",
       "0  0  1\n",
       "1  2  3\n",
       "2  4  5"
      ]
     },
     "execution_count": 101,
     "metadata": {},
     "output_type": "execute_result"
    }
   ],
   "source": [
    "df20 = pd.DataFrame(np.arange(6).reshape(3, 2),\n",
    "                   columns=['A', 'B'])\n",
    "df20"
   ]
  },
  {
   "cell_type": "code",
   "execution_count": 102,
   "id": "f8b50281-80ab-44bf-a132-278130490fbe",
   "metadata": {},
   "outputs": [
    {
     "data": {
      "text/html": [
       "<div>\n",
       "<style scoped>\n",
       "    .dataframe tbody tr th:only-of-type {\n",
       "        vertical-align: middle;\n",
       "    }\n",
       "\n",
       "    .dataframe tbody tr th {\n",
       "        vertical-align: top;\n",
       "    }\n",
       "\n",
       "    .dataframe thead th {\n",
       "        text-align: right;\n",
       "    }\n",
       "</style>\n",
       "<table border=\"1\" class=\"dataframe\">\n",
       "  <thead>\n",
       "    <tr style=\"text-align: right;\">\n",
       "      <th></th>\n",
       "      <th>A</th>\n",
       "      <th>B</th>\n",
       "      <th>C</th>\n",
       "    </tr>\n",
       "  </thead>\n",
       "  <tbody>\n",
       "    <tr>\n",
       "      <th>0</th>\n",
       "      <td>0</td>\n",
       "      <td>1</td>\n",
       "      <td>0</td>\n",
       "    </tr>\n",
       "    <tr>\n",
       "      <th>1</th>\n",
       "      <td>2</td>\n",
       "      <td>3</td>\n",
       "      <td>2</td>\n",
       "    </tr>\n",
       "    <tr>\n",
       "      <th>2</th>\n",
       "      <td>4</td>\n",
       "      <td>5</td>\n",
       "      <td>4</td>\n",
       "    </tr>\n",
       "  </tbody>\n",
       "</table>\n",
       "</div>"
      ],
      "text/plain": [
       "   A  B  C\n",
       "0  0  1  0\n",
       "1  2  3  2\n",
       "2  4  5  4"
      ]
     },
     "execution_count": 102,
     "metadata": {},
     "output_type": "execute_result"
    }
   ],
   "source": [
    "df20.loc[:, 'C'] = df20.loc[:, 'A']\n",
    "df20"
   ]
  },
  {
   "cell_type": "markdown",
   "id": "0e87d524-c9e4-49bf-a19d-ceeae2d55d2a",
   "metadata": {},
   "source": [
    "This is like an append operation on the DataFrame."
   ]
  },
  {
   "cell_type": "code",
   "execution_count": 103,
   "id": "faaf2736-8fb3-48c4-9232-b828a2bbd0ae",
   "metadata": {},
   "outputs": [
    {
     "data": {
      "text/html": [
       "<div>\n",
       "<style scoped>\n",
       "    .dataframe tbody tr th:only-of-type {\n",
       "        vertical-align: middle;\n",
       "    }\n",
       "\n",
       "    .dataframe tbody tr th {\n",
       "        vertical-align: top;\n",
       "    }\n",
       "\n",
       "    .dataframe thead th {\n",
       "        text-align: right;\n",
       "    }\n",
       "</style>\n",
       "<table border=\"1\" class=\"dataframe\">\n",
       "  <thead>\n",
       "    <tr style=\"text-align: right;\">\n",
       "      <th></th>\n",
       "      <th>A</th>\n",
       "      <th>B</th>\n",
       "      <th>C</th>\n",
       "    </tr>\n",
       "  </thead>\n",
       "  <tbody>\n",
       "    <tr>\n",
       "      <th>0</th>\n",
       "      <td>0</td>\n",
       "      <td>1</td>\n",
       "      <td>0</td>\n",
       "    </tr>\n",
       "    <tr>\n",
       "      <th>1</th>\n",
       "      <td>2</td>\n",
       "      <td>3</td>\n",
       "      <td>2</td>\n",
       "    </tr>\n",
       "    <tr>\n",
       "      <th>2</th>\n",
       "      <td>4</td>\n",
       "      <td>5</td>\n",
       "      <td>4</td>\n",
       "    </tr>\n",
       "    <tr>\n",
       "      <th>3</th>\n",
       "      <td>5</td>\n",
       "      <td>5</td>\n",
       "      <td>5</td>\n",
       "    </tr>\n",
       "  </tbody>\n",
       "</table>\n",
       "</div>"
      ],
      "text/plain": [
       "   A  B  C\n",
       "0  0  1  0\n",
       "1  2  3  2\n",
       "2  4  5  4\n",
       "3  5  5  5"
      ]
     },
     "execution_count": 103,
     "metadata": {},
     "output_type": "execute_result"
    }
   ],
   "source": [
    "df20.loc[3] = 5\n",
    "df20"
   ]
  },
  {
   "cell_type": "markdown",
   "id": "56622ce6-b550-4e20-aa0f-73beca124fe5",
   "metadata": {},
   "source": [
    "## Fast scalar value getting and setting\n",
    "Since indexing with [] must handle a lot of cases (single-label access, slicing, boolean indexing, etc.), it has a bit of overhead in order to figure out what you’re asking for. If you only want to access a scalar value, the fastest way is to use the at and iat methods, which are implemented on all of the data structures.\n",
    "\n",
    "Similarly to loc, at provides label based scalar lookups, while, iat provides integer based lookups analogously to iloc"
   ]
  },
  {
   "cell_type": "code",
   "execution_count": 104,
   "id": "be8d234a-2aae-4a3c-9185-e82741a1981a",
   "metadata": {},
   "outputs": [
    {
     "data": {
      "text/plain": [
       "5"
      ]
     },
     "execution_count": 104,
     "metadata": {},
     "output_type": "execute_result"
    }
   ],
   "source": [
    "s17.iat[5]"
   ]
  },
  {
   "cell_type": "code",
   "execution_count": 105,
   "id": "baec64c9-8a96-4d72-b288-2c32816bf69b",
   "metadata": {},
   "outputs": [
    {
     "data": {
      "text/plain": [
       "0.17362502462808632"
      ]
     },
     "execution_count": 105,
     "metadata": {},
     "output_type": "execute_result"
    }
   ],
   "source": [
    "df21 = df1.copy()\n",
    "df21.at[dates[5], 'A']"
   ]
  },
  {
   "cell_type": "code",
   "execution_count": 106,
   "id": "f32d33a4-6d14-44bf-abf3-44a2fb2d7462",
   "metadata": {},
   "outputs": [
    {
     "data": {
      "text/plain": [
       "0.2558142075735626"
      ]
     },
     "execution_count": 106,
     "metadata": {},
     "output_type": "execute_result"
    }
   ],
   "source": [
    "df21.iat[3, 0]"
   ]
  },
  {
   "cell_type": "markdown",
   "id": "10bd2f79-ca1e-4881-852e-83ddc1b7a99a",
   "metadata": {},
   "source": [
    "You can also set using these same indexers."
   ]
  },
  {
   "cell_type": "code",
   "execution_count": 107,
   "id": "efe03287-931a-4202-bdf2-8cf749b732d1",
   "metadata": {},
   "outputs": [],
   "source": [
    "df21.at[dates[5], 'E'] = 7\n",
    "df21.iat[3, 0] = 7"
   ]
  },
  {
   "cell_type": "markdown",
   "id": "03d71685-f269-48c6-a250-ea38e430f472",
   "metadata": {},
   "source": [
    "at may enlarge the object in-place as above if the indexer is missing."
   ]
  },
  {
   "cell_type": "code",
   "execution_count": 108,
   "id": "dabd855a-377c-4da0-91b9-11502051d716",
   "metadata": {},
   "outputs": [
    {
     "data": {
      "text/html": [
       "<div>\n",
       "<style scoped>\n",
       "    .dataframe tbody tr th:only-of-type {\n",
       "        vertical-align: middle;\n",
       "    }\n",
       "\n",
       "    .dataframe tbody tr th {\n",
       "        vertical-align: top;\n",
       "    }\n",
       "\n",
       "    .dataframe thead th {\n",
       "        text-align: right;\n",
       "    }\n",
       "</style>\n",
       "<table border=\"1\" class=\"dataframe\">\n",
       "  <thead>\n",
       "    <tr style=\"text-align: right;\">\n",
       "      <th></th>\n",
       "      <th>A</th>\n",
       "      <th>B</th>\n",
       "      <th>C</th>\n",
       "      <th>D</th>\n",
       "      <th>E</th>\n",
       "      <th>0</th>\n",
       "    </tr>\n",
       "  </thead>\n",
       "  <tbody>\n",
       "    <tr>\n",
       "      <th>2000-01-01</th>\n",
       "      <td>-0.119524</td>\n",
       "      <td>-1.139756</td>\n",
       "      <td>0.517904</td>\n",
       "      <td>-0.285438</td>\n",
       "      <td>NaN</td>\n",
       "      <td>NaN</td>\n",
       "    </tr>\n",
       "    <tr>\n",
       "      <th>2000-01-02</th>\n",
       "      <td>2.021892</td>\n",
       "      <td>0.070927</td>\n",
       "      <td>0.800103</td>\n",
       "      <td>0.118657</td>\n",
       "      <td>NaN</td>\n",
       "      <td>NaN</td>\n",
       "    </tr>\n",
       "    <tr>\n",
       "      <th>2000-01-03</th>\n",
       "      <td>-2.040983</td>\n",
       "      <td>0.098607</td>\n",
       "      <td>-1.503086</td>\n",
       "      <td>0.420989</td>\n",
       "      <td>NaN</td>\n",
       "      <td>NaN</td>\n",
       "    </tr>\n",
       "    <tr>\n",
       "      <th>2000-01-04</th>\n",
       "      <td>7.000000</td>\n",
       "      <td>-1.303977</td>\n",
       "      <td>0.954433</td>\n",
       "      <td>-1.137952</td>\n",
       "      <td>NaN</td>\n",
       "      <td>NaN</td>\n",
       "    </tr>\n",
       "    <tr>\n",
       "      <th>2000-01-05</th>\n",
       "      <td>0.020985</td>\n",
       "      <td>0.476644</td>\n",
       "      <td>0.850724</td>\n",
       "      <td>-0.722163</td>\n",
       "      <td>NaN</td>\n",
       "      <td>NaN</td>\n",
       "    </tr>\n",
       "    <tr>\n",
       "      <th>2000-01-06</th>\n",
       "      <td>0.173625</td>\n",
       "      <td>-0.699478</td>\n",
       "      <td>0.355988</td>\n",
       "      <td>1.610516</td>\n",
       "      <td>7.0</td>\n",
       "      <td>NaN</td>\n",
       "    </tr>\n",
       "    <tr>\n",
       "      <th>2000-01-07</th>\n",
       "      <td>0.880987</td>\n",
       "      <td>-1.717641</td>\n",
       "      <td>0.809490</td>\n",
       "      <td>1.449279</td>\n",
       "      <td>NaN</td>\n",
       "      <td>NaN</td>\n",
       "    </tr>\n",
       "    <tr>\n",
       "      <th>2000-01-08</th>\n",
       "      <td>-1.805341</td>\n",
       "      <td>0.762664</td>\n",
       "      <td>-0.205993</td>\n",
       "      <td>-1.595724</td>\n",
       "      <td>NaN</td>\n",
       "      <td>NaN</td>\n",
       "    </tr>\n",
       "    <tr>\n",
       "      <th>2000-01-09</th>\n",
       "      <td>NaN</td>\n",
       "      <td>NaN</td>\n",
       "      <td>NaN</td>\n",
       "      <td>NaN</td>\n",
       "      <td>NaN</td>\n",
       "      <td>7.0</td>\n",
       "    </tr>\n",
       "  </tbody>\n",
       "</table>\n",
       "</div>"
      ],
      "text/plain": [
       "                   A         B         C         D    E    0\n",
       "2000-01-01 -0.119524 -1.139756  0.517904 -0.285438  NaN  NaN\n",
       "2000-01-02  2.021892  0.070927  0.800103  0.118657  NaN  NaN\n",
       "2000-01-03 -2.040983  0.098607 -1.503086  0.420989  NaN  NaN\n",
       "2000-01-04  7.000000 -1.303977  0.954433 -1.137952  NaN  NaN\n",
       "2000-01-05  0.020985  0.476644  0.850724 -0.722163  NaN  NaN\n",
       "2000-01-06  0.173625 -0.699478  0.355988  1.610516  7.0  NaN\n",
       "2000-01-07  0.880987 -1.717641  0.809490  1.449279  NaN  NaN\n",
       "2000-01-08 -1.805341  0.762664 -0.205993 -1.595724  NaN  NaN\n",
       "2000-01-09       NaN       NaN       NaN       NaN  NaN  7.0"
      ]
     },
     "execution_count": 108,
     "metadata": {},
     "output_type": "execute_result"
    }
   ],
   "source": [
    "df21.at[dates[-1] + pd.Timedelta('1 day'), 0] = 7\n",
    "df21"
   ]
  },
  {
   "cell_type": "markdown",
   "id": "c80dcf51-1cb4-4a09-b76f-d25273ce6e4d",
   "metadata": {},
   "source": [
    "## Boolean indexing\n",
    "Another common operation is the use of boolean vectors to filter the data. The operators are: | for or, & for and, and ~ for not. These must be grouped by using parentheses, since by default Python will evaluate an expression such as df['A'] > 2 & df['B'] < 3 as df['A'] > (2 & df['B']) < 3, while the desired evaluation order is (df['A'] > 2) & (df['B'] < 3).\n",
    "\n",
    "Using a boolean vector to index a Series works exactly as in a NumPy ndarray:"
   ]
  },
  {
   "cell_type": "code",
   "execution_count": 109,
   "id": "760faf4e-8759-46ac-ae47-dfbeb390d1cf",
   "metadata": {},
   "outputs": [
    {
     "data": {
      "text/plain": [
       "0   -3\n",
       "1   -2\n",
       "2   -1\n",
       "3    0\n",
       "4    1\n",
       "5    2\n",
       "6    3\n",
       "dtype: int64"
      ]
     },
     "execution_count": 109,
     "metadata": {},
     "output_type": "execute_result"
    }
   ],
   "source": [
    "s22 = pd.Series(range(-3, 4))\n",
    "s22"
   ]
  },
  {
   "cell_type": "code",
   "execution_count": 110,
   "id": "88ecf974-3de7-444f-a9d5-1939203b4f2e",
   "metadata": {},
   "outputs": [
    {
     "data": {
      "text/plain": [
       "4    1\n",
       "5    2\n",
       "6    3\n",
       "dtype: int64"
      ]
     },
     "execution_count": 110,
     "metadata": {},
     "output_type": "execute_result"
    }
   ],
   "source": [
    "s22[s22 > 0]"
   ]
  },
  {
   "cell_type": "code",
   "execution_count": 111,
   "id": "07b5e659-2df4-4214-b048-064f1aa6187e",
   "metadata": {},
   "outputs": [
    {
     "data": {
      "text/plain": [
       "0   -3\n",
       "1   -2\n",
       "4    1\n",
       "5    2\n",
       "6    3\n",
       "dtype: int64"
      ]
     },
     "execution_count": 111,
     "metadata": {},
     "output_type": "execute_result"
    }
   ],
   "source": [
    "s22[(s22 < -1) | (s22 > 0.5)]"
   ]
  },
  {
   "cell_type": "code",
   "execution_count": 112,
   "id": "0aec38cb-e4e3-4cb0-97a9-368456dcbf72",
   "metadata": {},
   "outputs": [
    {
     "data": {
      "text/plain": [
       "3    0\n",
       "4    1\n",
       "5    2\n",
       "6    3\n",
       "dtype: int64"
      ]
     },
     "execution_count": 112,
     "metadata": {},
     "output_type": "execute_result"
    }
   ],
   "source": [
    "s22[~(s22 < 0)]"
   ]
  },
  {
   "cell_type": "markdown",
   "id": "06ebcffc-941c-4519-85a4-2e341b151dfe",
   "metadata": {},
   "source": [
    "You may select rows from a DataFrame using a boolean vector the same length as the DataFrame’s index (for example, something derived from one of the columns of the DataFrame):"
   ]
  },
  {
   "cell_type": "code",
   "execution_count": 113,
   "id": "91d61c59-9844-453d-8d98-2849aa4a00d9",
   "metadata": {},
   "outputs": [
    {
     "data": {
      "text/html": [
       "<div>\n",
       "<style scoped>\n",
       "    .dataframe tbody tr th:only-of-type {\n",
       "        vertical-align: middle;\n",
       "    }\n",
       "\n",
       "    .dataframe tbody tr th {\n",
       "        vertical-align: top;\n",
       "    }\n",
       "\n",
       "    .dataframe thead th {\n",
       "        text-align: right;\n",
       "    }\n",
       "</style>\n",
       "<table border=\"1\" class=\"dataframe\">\n",
       "  <thead>\n",
       "    <tr style=\"text-align: right;\">\n",
       "      <th></th>\n",
       "      <th>A</th>\n",
       "      <th>B</th>\n",
       "      <th>C</th>\n",
       "      <th>D</th>\n",
       "      <th>E</th>\n",
       "      <th>0</th>\n",
       "    </tr>\n",
       "  </thead>\n",
       "  <tbody>\n",
       "    <tr>\n",
       "      <th>2000-01-02</th>\n",
       "      <td>2.021892</td>\n",
       "      <td>0.070927</td>\n",
       "      <td>0.800103</td>\n",
       "      <td>0.118657</td>\n",
       "      <td>NaN</td>\n",
       "      <td>NaN</td>\n",
       "    </tr>\n",
       "    <tr>\n",
       "      <th>2000-01-04</th>\n",
       "      <td>7.000000</td>\n",
       "      <td>-1.303977</td>\n",
       "      <td>0.954433</td>\n",
       "      <td>-1.137952</td>\n",
       "      <td>NaN</td>\n",
       "      <td>NaN</td>\n",
       "    </tr>\n",
       "    <tr>\n",
       "      <th>2000-01-05</th>\n",
       "      <td>0.020985</td>\n",
       "      <td>0.476644</td>\n",
       "      <td>0.850724</td>\n",
       "      <td>-0.722163</td>\n",
       "      <td>NaN</td>\n",
       "      <td>NaN</td>\n",
       "    </tr>\n",
       "    <tr>\n",
       "      <th>2000-01-06</th>\n",
       "      <td>0.173625</td>\n",
       "      <td>-0.699478</td>\n",
       "      <td>0.355988</td>\n",
       "      <td>1.610516</td>\n",
       "      <td>7.0</td>\n",
       "      <td>NaN</td>\n",
       "    </tr>\n",
       "    <tr>\n",
       "      <th>2000-01-07</th>\n",
       "      <td>0.880987</td>\n",
       "      <td>-1.717641</td>\n",
       "      <td>0.809490</td>\n",
       "      <td>1.449279</td>\n",
       "      <td>NaN</td>\n",
       "      <td>NaN</td>\n",
       "    </tr>\n",
       "  </tbody>\n",
       "</table>\n",
       "</div>"
      ],
      "text/plain": [
       "                   A         B         C         D    E   0\n",
       "2000-01-02  2.021892  0.070927  0.800103  0.118657  NaN NaN\n",
       "2000-01-04  7.000000 -1.303977  0.954433 -1.137952  NaN NaN\n",
       "2000-01-05  0.020985  0.476644  0.850724 -0.722163  NaN NaN\n",
       "2000-01-06  0.173625 -0.699478  0.355988  1.610516  7.0 NaN\n",
       "2000-01-07  0.880987 -1.717641  0.809490  1.449279  NaN NaN"
      ]
     },
     "execution_count": 113,
     "metadata": {},
     "output_type": "execute_result"
    }
   ],
   "source": [
    "df22 = df21.copy()\n",
    "df22[df22['A'] > 0]"
   ]
  },
  {
   "cell_type": "markdown",
   "id": "37553b75-7394-4ee5-a17d-f0b8a17d6029",
   "metadata": {},
   "source": [
    "List comprehensions and the map method of Series can also be used to produce more complex criteria:"
   ]
  },
  {
   "cell_type": "code",
   "execution_count": 114,
   "id": "6f97ea8e-6a3a-40c0-8c3d-c59f11d2198a",
   "metadata": {},
   "outputs": [
    {
     "data": {
      "text/html": [
       "<div>\n",
       "<style scoped>\n",
       "    .dataframe tbody tr th:only-of-type {\n",
       "        vertical-align: middle;\n",
       "    }\n",
       "\n",
       "    .dataframe tbody tr th {\n",
       "        vertical-align: top;\n",
       "    }\n",
       "\n",
       "    .dataframe thead th {\n",
       "        text-align: right;\n",
       "    }\n",
       "</style>\n",
       "<table border=\"1\" class=\"dataframe\">\n",
       "  <thead>\n",
       "    <tr style=\"text-align: right;\">\n",
       "      <th></th>\n",
       "      <th>a</th>\n",
       "      <th>b</th>\n",
       "      <th>c</th>\n",
       "    </tr>\n",
       "  </thead>\n",
       "  <tbody>\n",
       "    <tr>\n",
       "      <th>2</th>\n",
       "      <td>two</td>\n",
       "      <td>y</td>\n",
       "      <td>-0.678364</td>\n",
       "    </tr>\n",
       "    <tr>\n",
       "      <th>3</th>\n",
       "      <td>three</td>\n",
       "      <td>x</td>\n",
       "      <td>-0.827769</td>\n",
       "    </tr>\n",
       "    <tr>\n",
       "      <th>4</th>\n",
       "      <td>two</td>\n",
       "      <td>y</td>\n",
       "      <td>-0.366825</td>\n",
       "    </tr>\n",
       "  </tbody>\n",
       "</table>\n",
       "</div>"
      ],
      "text/plain": [
       "       a  b         c\n",
       "2    two  y -0.678364\n",
       "3  three  x -0.827769\n",
       "4    two  y -0.366825"
      ]
     },
     "execution_count": 114,
     "metadata": {},
     "output_type": "execute_result"
    }
   ],
   "source": [
    "df23 = pd.DataFrame({'a': ['one', 'one', 'two', 'three', 'two', 'one', 'six'],\n",
    "                     'b': ['x', 'y', 'y', 'x', 'y', 'x', 'x'],\n",
    "                     'c': np.random.randn(7)})\n",
    "\n",
    "# only want 'two' or 'three'\n",
    "criterion = df23['a'].map(lambda x: x.startswith('t'))\n",
    "df23[criterion]"
   ]
  },
  {
   "cell_type": "code",
   "execution_count": 115,
   "id": "61904663-d92b-442e-94c6-a043d93f2efd",
   "metadata": {},
   "outputs": [
    {
     "data": {
      "text/html": [
       "<div>\n",
       "<style scoped>\n",
       "    .dataframe tbody tr th:only-of-type {\n",
       "        vertical-align: middle;\n",
       "    }\n",
       "\n",
       "    .dataframe tbody tr th {\n",
       "        vertical-align: top;\n",
       "    }\n",
       "\n",
       "    .dataframe thead th {\n",
       "        text-align: right;\n",
       "    }\n",
       "</style>\n",
       "<table border=\"1\" class=\"dataframe\">\n",
       "  <thead>\n",
       "    <tr style=\"text-align: right;\">\n",
       "      <th></th>\n",
       "      <th>a</th>\n",
       "      <th>b</th>\n",
       "      <th>c</th>\n",
       "    </tr>\n",
       "  </thead>\n",
       "  <tbody>\n",
       "    <tr>\n",
       "      <th>2</th>\n",
       "      <td>two</td>\n",
       "      <td>y</td>\n",
       "      <td>-0.678364</td>\n",
       "    </tr>\n",
       "    <tr>\n",
       "      <th>3</th>\n",
       "      <td>three</td>\n",
       "      <td>x</td>\n",
       "      <td>-0.827769</td>\n",
       "    </tr>\n",
       "    <tr>\n",
       "      <th>4</th>\n",
       "      <td>two</td>\n",
       "      <td>y</td>\n",
       "      <td>-0.366825</td>\n",
       "    </tr>\n",
       "  </tbody>\n",
       "</table>\n",
       "</div>"
      ],
      "text/plain": [
       "       a  b         c\n",
       "2    two  y -0.678364\n",
       "3  three  x -0.827769\n",
       "4    two  y -0.366825"
      ]
     },
     "execution_count": 115,
     "metadata": {},
     "output_type": "execute_result"
    }
   ],
   "source": [
    "# equivalent but slower\n",
    "df23[[x.startswith('t') for x in df23['a']]]"
   ]
  },
  {
   "cell_type": "code",
   "execution_count": 116,
   "id": "0f80bc66-df15-461e-83a5-75556207ed9d",
   "metadata": {},
   "outputs": [
    {
     "data": {
      "text/html": [
       "<div>\n",
       "<style scoped>\n",
       "    .dataframe tbody tr th:only-of-type {\n",
       "        vertical-align: middle;\n",
       "    }\n",
       "\n",
       "    .dataframe tbody tr th {\n",
       "        vertical-align: top;\n",
       "    }\n",
       "\n",
       "    .dataframe thead th {\n",
       "        text-align: right;\n",
       "    }\n",
       "</style>\n",
       "<table border=\"1\" class=\"dataframe\">\n",
       "  <thead>\n",
       "    <tr style=\"text-align: right;\">\n",
       "      <th></th>\n",
       "      <th>a</th>\n",
       "      <th>b</th>\n",
       "      <th>c</th>\n",
       "    </tr>\n",
       "  </thead>\n",
       "  <tbody>\n",
       "    <tr>\n",
       "      <th>3</th>\n",
       "      <td>three</td>\n",
       "      <td>x</td>\n",
       "      <td>-0.827769</td>\n",
       "    </tr>\n",
       "  </tbody>\n",
       "</table>\n",
       "</div>"
      ],
      "text/plain": [
       "       a  b         c\n",
       "3  three  x -0.827769"
      ]
     },
     "execution_count": 116,
     "metadata": {},
     "output_type": "execute_result"
    }
   ],
   "source": [
    "# Multiple criteria\n",
    "df23[criterion & (df23['b'] == 'x')]"
   ]
  },
  {
   "cell_type": "markdown",
   "id": "4607757b-b5d0-4267-92d0-e27d5a3d1479",
   "metadata": {},
   "source": [
    "With the choice methods Selection by Label, Selection by Position, and Advanced Indexing you may select along more than one axis using boolean vectors combined with other indexing expressions."
   ]
  },
  {
   "cell_type": "code",
   "execution_count": 117,
   "id": "62ded9eb-8d21-4053-987f-4e6b9f2ba63c",
   "metadata": {},
   "outputs": [
    {
     "data": {
      "text/html": [
       "<div>\n",
       "<style scoped>\n",
       "    .dataframe tbody tr th:only-of-type {\n",
       "        vertical-align: middle;\n",
       "    }\n",
       "\n",
       "    .dataframe tbody tr th {\n",
       "        vertical-align: top;\n",
       "    }\n",
       "\n",
       "    .dataframe thead th {\n",
       "        text-align: right;\n",
       "    }\n",
       "</style>\n",
       "<table border=\"1\" class=\"dataframe\">\n",
       "  <thead>\n",
       "    <tr style=\"text-align: right;\">\n",
       "      <th></th>\n",
       "      <th>b</th>\n",
       "      <th>c</th>\n",
       "    </tr>\n",
       "  </thead>\n",
       "  <tbody>\n",
       "    <tr>\n",
       "      <th>3</th>\n",
       "      <td>x</td>\n",
       "      <td>-0.827769</td>\n",
       "    </tr>\n",
       "  </tbody>\n",
       "</table>\n",
       "</div>"
      ],
      "text/plain": [
       "   b         c\n",
       "3  x -0.827769"
      ]
     },
     "execution_count": 117,
     "metadata": {},
     "output_type": "execute_result"
    }
   ],
   "source": [
    "df23.loc[criterion & (df23['b'] == 'x'), 'b':'c']"
   ]
  },
  {
   "cell_type": "markdown",
   "id": "4ba0c5a0-0792-4bde-b28a-051467ab932d",
   "metadata": {},
   "source": [
    ">Warning\n",
    ">\n",
    ">iloc supports two kinds of boolean indexing. If the indexer is a boolean Series, an error will be raised. For instance, in the following example, df.iloc[s.values, 1] is ok. The boolean indexer is an array. But df.iloc[s, 1] would raise ValueError."
   ]
  },
  {
   "cell_type": "code",
   "execution_count": 118,
   "id": "e8bdd0f8-9fbd-4540-b358-69659984709a",
   "metadata": {},
   "outputs": [
    {
     "data": {
      "text/plain": [
       "a    False\n",
       "b     True\n",
       "c     True\n",
       "Name: A, dtype: bool"
      ]
     },
     "execution_count": 118,
     "metadata": {},
     "output_type": "execute_result"
    }
   ],
   "source": [
    "df24 = pd.DataFrame([[1, 2], [3, 4], [5, 6]],\n",
    "                    index=list('abc'),\n",
    "                    columns=['A', 'B'])\n",
    "s24 = (df24['A'] > 2)\n",
    "s24"
   ]
  },
  {
   "cell_type": "code",
   "execution_count": 119,
   "id": "c2e45626-a88b-4ac8-b4f0-981fb47292dc",
   "metadata": {},
   "outputs": [
    {
     "data": {
      "text/plain": [
       "b    4\n",
       "c    6\n",
       "Name: B, dtype: int64"
      ]
     },
     "execution_count": 119,
     "metadata": {},
     "output_type": "execute_result"
    }
   ],
   "source": [
    "df24.loc[s24, 'B']"
   ]
  },
  {
   "cell_type": "code",
   "execution_count": 120,
   "id": "34b49fd6-01c3-4fcd-a725-c3761341ae2a",
   "metadata": {},
   "outputs": [
    {
     "data": {
      "text/plain": [
       "b    4\n",
       "c    6\n",
       "Name: B, dtype: int64"
      ]
     },
     "execution_count": 120,
     "metadata": {},
     "output_type": "execute_result"
    }
   ],
   "source": [
    "df24.iloc[s24.values, 1]"
   ]
  },
  {
   "cell_type": "markdown",
   "id": "9670b5d0-de18-4ac5-b539-33dc69f7f534",
   "metadata": {},
   "source": [
    "## Indexing with isin\n",
    "Consider the isin() method of Series, which returns a boolean vector that is true wherever the Series elements exist in the passed list. This allows you to select rows where one or more columns have values you want:"
   ]
  },
  {
   "cell_type": "code",
   "execution_count": 121,
   "id": "f1537ad0-161d-42db-a30c-46361bead66d",
   "metadata": {},
   "outputs": [
    {
     "data": {
      "text/plain": [
       "4    0\n",
       "3    1\n",
       "2    2\n",
       "1    3\n",
       "0    4\n",
       "dtype: int64"
      ]
     },
     "execution_count": 121,
     "metadata": {},
     "output_type": "execute_result"
    }
   ],
   "source": [
    "s25 = pd.Series(np.arange(5), index=np.arange(5)[::-1], dtype='int64')\n",
    "s25"
   ]
  },
  {
   "cell_type": "code",
   "execution_count": 122,
   "id": "185ab755-4fc2-430d-bbb8-6a9e0ce3bc6a",
   "metadata": {},
   "outputs": [
    {
     "data": {
      "text/plain": [
       "4    False\n",
       "3    False\n",
       "2     True\n",
       "1    False\n",
       "0     True\n",
       "dtype: bool"
      ]
     },
     "execution_count": 122,
     "metadata": {},
     "output_type": "execute_result"
    }
   ],
   "source": [
    "s25.isin([2, 4, 6])"
   ]
  },
  {
   "cell_type": "code",
   "execution_count": 123,
   "id": "d6888dd1-6a23-4a7f-9f8a-2d5be92fc3b3",
   "metadata": {},
   "outputs": [
    {
     "data": {
      "text/plain": [
       "2    2\n",
       "0    4\n",
       "dtype: int64"
      ]
     },
     "execution_count": 123,
     "metadata": {},
     "output_type": "execute_result"
    }
   ],
   "source": [
    "s25[s25.isin([2, 4, 6])]"
   ]
  },
  {
   "cell_type": "markdown",
   "id": "411d2ec7-f6e1-4133-8931-afdd2c2e0686",
   "metadata": {},
   "source": [
    "The same method is available for Index objects and is useful for the cases when you don’t know which of the sought labels are in fact present:"
   ]
  },
  {
   "cell_type": "code",
   "execution_count": 124,
   "id": "abb231e1-e26b-4bae-861b-6b31aa86591d",
   "metadata": {},
   "outputs": [
    {
     "data": {
      "text/plain": [
       "4    0\n",
       "2    2\n",
       "dtype: int64"
      ]
     },
     "execution_count": 124,
     "metadata": {},
     "output_type": "execute_result"
    }
   ],
   "source": [
    "s25[s25.index.isin([2, 4, 6])]"
   ]
  },
  {
   "cell_type": "code",
   "execution_count": 125,
   "id": "a88f95b4-84d3-49a9-9bc7-5d2a2ce0219c",
   "metadata": {},
   "outputs": [
    {
     "data": {
      "text/plain": [
       "2    2.0\n",
       "4    0.0\n",
       "6    NaN\n",
       "dtype: float64"
      ]
     },
     "execution_count": 125,
     "metadata": {},
     "output_type": "execute_result"
    }
   ],
   "source": [
    "# compare it to the following\n",
    "s25.reindex([2, 4, 6])"
   ]
  },
  {
   "cell_type": "markdown",
   "id": "95acae14-c4b0-4b32-916a-f11cfc5b18d3",
   "metadata": {},
   "source": [
    "In addition to that, MultiIndex allows selecting a separate level to use in the membership check:"
   ]
  },
  {
   "cell_type": "code",
   "execution_count": 126,
   "id": "99fbe8df-4bf5-4623-8f3c-524291767a45",
   "metadata": {},
   "outputs": [
    {
     "data": {
      "text/plain": [
       "0  a    0\n",
       "   b    1\n",
       "   c    2\n",
       "1  a    3\n",
       "   b    4\n",
       "   c    5\n",
       "dtype: int64"
      ]
     },
     "execution_count": 126,
     "metadata": {},
     "output_type": "execute_result"
    }
   ],
   "source": [
    "s26 = pd.Series(np.arange(6),\n",
    "                 index=pd.MultiIndex.from_product([[0, 1], ['a', 'b', 'c']]))\n",
    "s26"
   ]
  },
  {
   "cell_type": "code",
   "execution_count": 127,
   "id": "e7a1ac52-b952-4ebd-8018-7eea61c7d20a",
   "metadata": {},
   "outputs": [
    {
     "data": {
      "text/plain": [
       "0  c    2\n",
       "1  a    3\n",
       "dtype: int64"
      ]
     },
     "execution_count": 127,
     "metadata": {},
     "output_type": "execute_result"
    }
   ],
   "source": [
    "s26.iloc[s26.index.isin([(1, 'a'), (2, 'b'), (0, 'c')])]"
   ]
  },
  {
   "cell_type": "code",
   "execution_count": 128,
   "id": "9957936e-73fb-4dfe-8429-4ad4feff99ed",
   "metadata": {},
   "outputs": [
    {
     "data": {
      "text/plain": [
       "0  a    0\n",
       "   c    2\n",
       "1  a    3\n",
       "   c    5\n",
       "dtype: int64"
      ]
     },
     "execution_count": 128,
     "metadata": {},
     "output_type": "execute_result"
    }
   ],
   "source": [
    "s26.iloc[s26.index.isin(['a', 'c', 'e'], level=1)]"
   ]
  },
  {
   "cell_type": "markdown",
   "id": "1d434fdd-39e8-4649-84ab-b140ad7c613c",
   "metadata": {},
   "source": [
    "DataFrame also has an isin() method. When calling isin, pass a set of values as either an array or dict. If values is an array, isin returns a DataFrame of booleans that is the same shape as the original DataFrame, with True wherever the element is in the sequence of values."
   ]
  },
  {
   "cell_type": "code",
   "execution_count": 129,
   "id": "388140a9-41d5-446b-b6ac-57701a2fa757",
   "metadata": {},
   "outputs": [
    {
     "data": {
      "text/html": [
       "<div>\n",
       "<style scoped>\n",
       "    .dataframe tbody tr th:only-of-type {\n",
       "        vertical-align: middle;\n",
       "    }\n",
       "\n",
       "    .dataframe tbody tr th {\n",
       "        vertical-align: top;\n",
       "    }\n",
       "\n",
       "    .dataframe thead th {\n",
       "        text-align: right;\n",
       "    }\n",
       "</style>\n",
       "<table border=\"1\" class=\"dataframe\">\n",
       "  <thead>\n",
       "    <tr style=\"text-align: right;\">\n",
       "      <th></th>\n",
       "      <th>vals</th>\n",
       "      <th>ids</th>\n",
       "      <th>ids2</th>\n",
       "    </tr>\n",
       "  </thead>\n",
       "  <tbody>\n",
       "    <tr>\n",
       "      <th>0</th>\n",
       "      <td>True</td>\n",
       "      <td>True</td>\n",
       "      <td>True</td>\n",
       "    </tr>\n",
       "    <tr>\n",
       "      <th>1</th>\n",
       "      <td>False</td>\n",
       "      <td>True</td>\n",
       "      <td>False</td>\n",
       "    </tr>\n",
       "    <tr>\n",
       "      <th>2</th>\n",
       "      <td>True</td>\n",
       "      <td>False</td>\n",
       "      <td>False</td>\n",
       "    </tr>\n",
       "    <tr>\n",
       "      <th>3</th>\n",
       "      <td>False</td>\n",
       "      <td>False</td>\n",
       "      <td>False</td>\n",
       "    </tr>\n",
       "  </tbody>\n",
       "</table>\n",
       "</div>"
      ],
      "text/plain": [
       "    vals    ids   ids2\n",
       "0   True   True   True\n",
       "1  False   True  False\n",
       "2   True  False  False\n",
       "3  False  False  False"
      ]
     },
     "execution_count": 129,
     "metadata": {},
     "output_type": "execute_result"
    }
   ],
   "source": [
    "df27 = pd.DataFrame({'vals': [1, 2, 3, 4], 'ids': ['a', 'b', 'f', 'n'],\n",
    "                     'ids2': ['a', 'n', 'c', 'n']})\n",
    "values = ['a', 'b', 1, 3]\n",
    "df27.isin(values)"
   ]
  },
  {
   "cell_type": "markdown",
   "id": "98545d98-561f-4868-b828-f062412b24a4",
   "metadata": {},
   "source": [
    "Oftentimes you’ll want to match certain values with certain columns. Just make values a dict where the key is the column, and the value is a list of items you want to check for."
   ]
  },
  {
   "cell_type": "code",
   "execution_count": 130,
   "id": "d1126132-03b5-43d6-b410-3a9fe53297b0",
   "metadata": {},
   "outputs": [
    {
     "data": {
      "text/html": [
       "<div>\n",
       "<style scoped>\n",
       "    .dataframe tbody tr th:only-of-type {\n",
       "        vertical-align: middle;\n",
       "    }\n",
       "\n",
       "    .dataframe tbody tr th {\n",
       "        vertical-align: top;\n",
       "    }\n",
       "\n",
       "    .dataframe thead th {\n",
       "        text-align: right;\n",
       "    }\n",
       "</style>\n",
       "<table border=\"1\" class=\"dataframe\">\n",
       "  <thead>\n",
       "    <tr style=\"text-align: right;\">\n",
       "      <th></th>\n",
       "      <th>vals</th>\n",
       "      <th>ids</th>\n",
       "      <th>ids2</th>\n",
       "    </tr>\n",
       "  </thead>\n",
       "  <tbody>\n",
       "    <tr>\n",
       "      <th>0</th>\n",
       "      <td>True</td>\n",
       "      <td>True</td>\n",
       "      <td>False</td>\n",
       "    </tr>\n",
       "    <tr>\n",
       "      <th>1</th>\n",
       "      <td>False</td>\n",
       "      <td>True</td>\n",
       "      <td>False</td>\n",
       "    </tr>\n",
       "    <tr>\n",
       "      <th>2</th>\n",
       "      <td>True</td>\n",
       "      <td>False</td>\n",
       "      <td>False</td>\n",
       "    </tr>\n",
       "    <tr>\n",
       "      <th>3</th>\n",
       "      <td>False</td>\n",
       "      <td>False</td>\n",
       "      <td>False</td>\n",
       "    </tr>\n",
       "  </tbody>\n",
       "</table>\n",
       "</div>"
      ],
      "text/plain": [
       "    vals    ids   ids2\n",
       "0   True   True  False\n",
       "1  False   True  False\n",
       "2   True  False  False\n",
       "3  False  False  False"
      ]
     },
     "execution_count": 130,
     "metadata": {},
     "output_type": "execute_result"
    }
   ],
   "source": [
    "values = {'ids': ['a', 'b'], 'vals': [1, 3]}\n",
    "df27.isin(values)"
   ]
  },
  {
   "cell_type": "markdown",
   "id": "d6641137-8823-4f6a-a002-524fc6af694d",
   "metadata": {},
   "source": [
    "Combine DataFrame’s isin with the any() and all() methods to quickly select subsets of your data that meet a given criteria. To select a row where each column meets its own criterion:"
   ]
  },
  {
   "cell_type": "code",
   "execution_count": 131,
   "id": "7b197af4-f1a8-4c55-9fde-ae01c9158176",
   "metadata": {},
   "outputs": [
    {
     "data": {
      "text/html": [
       "<div>\n",
       "<style scoped>\n",
       "    .dataframe tbody tr th:only-of-type {\n",
       "        vertical-align: middle;\n",
       "    }\n",
       "\n",
       "    .dataframe tbody tr th {\n",
       "        vertical-align: top;\n",
       "    }\n",
       "\n",
       "    .dataframe thead th {\n",
       "        text-align: right;\n",
       "    }\n",
       "</style>\n",
       "<table border=\"1\" class=\"dataframe\">\n",
       "  <thead>\n",
       "    <tr style=\"text-align: right;\">\n",
       "      <th></th>\n",
       "      <th>vals</th>\n",
       "      <th>ids</th>\n",
       "      <th>ids2</th>\n",
       "    </tr>\n",
       "  </thead>\n",
       "  <tbody>\n",
       "    <tr>\n",
       "      <th>0</th>\n",
       "      <td>1</td>\n",
       "      <td>a</td>\n",
       "      <td>a</td>\n",
       "    </tr>\n",
       "  </tbody>\n",
       "</table>\n",
       "</div>"
      ],
      "text/plain": [
       "   vals ids ids2\n",
       "0     1   a    a"
      ]
     },
     "execution_count": 131,
     "metadata": {},
     "output_type": "execute_result"
    }
   ],
   "source": [
    "values = {'ids': ['a', 'b'], 'ids2': ['a', 'c'], 'vals': [1, 3]}\n",
    "row_mask = df27.isin(values).all(1)\n",
    "df27[row_mask]"
   ]
  },
  {
   "cell_type": "markdown",
   "id": "5311013b-e288-4060-a843-a8a83f1060ad",
   "metadata": {},
   "source": [
    "## The where() Method and Masking\n",
    "Selecting values from a Series with a boolean vector generally returns a subset of the data. To guarantee that selection output has the same shape as the original data, you can use the where method in Series and DataFrame.\n",
    "\n",
    "To return only the selected rows:"
   ]
  },
  {
   "cell_type": "code",
   "execution_count": 132,
   "id": "c0c0ed06-43fc-4fe8-a7ba-c6ba3cb84659",
   "metadata": {},
   "outputs": [
    {
     "data": {
      "text/plain": [
       "3    1\n",
       "2    2\n",
       "1    3\n",
       "0    4\n",
       "dtype: int64"
      ]
     },
     "execution_count": 132,
     "metadata": {},
     "output_type": "execute_result"
    }
   ],
   "source": [
    "s25[s25 > 0]"
   ]
  },
  {
   "cell_type": "markdown",
   "id": "6db83276-f310-46cf-9e10-e190853ceb1f",
   "metadata": {},
   "source": [
    "To return a Series of the same shape as the original:"
   ]
  },
  {
   "cell_type": "code",
   "execution_count": 133,
   "id": "45ecdb27-8df1-439a-a0c7-29dba7b9fb5e",
   "metadata": {},
   "outputs": [
    {
     "data": {
      "text/plain": [
       "4    NaN\n",
       "3    1.0\n",
       "2    2.0\n",
       "1    3.0\n",
       "0    4.0\n",
       "dtype: float64"
      ]
     },
     "execution_count": 133,
     "metadata": {},
     "output_type": "execute_result"
    }
   ],
   "source": [
    "s25.where(s25 > 0)"
   ]
  },
  {
   "cell_type": "markdown",
   "id": "7008719e-719c-4e02-9aaf-626eabfb2f3a",
   "metadata": {},
   "source": [
    "Selecting values from a DataFrame with a boolean criterion now also preserves input data shape. where is used under the hood as the implementation. The code below is equivalent to df.where(df < 0)."
   ]
  },
  {
   "cell_type": "code",
   "execution_count": 134,
   "id": "8d0f1672-e9e6-4403-abd7-b2e44b142bc1",
   "metadata": {},
   "outputs": [
    {
     "data": {
      "text/html": [
       "<div>\n",
       "<style scoped>\n",
       "    .dataframe tbody tr th:only-of-type {\n",
       "        vertical-align: middle;\n",
       "    }\n",
       "\n",
       "    .dataframe tbody tr th {\n",
       "        vertical-align: top;\n",
       "    }\n",
       "\n",
       "    .dataframe thead th {\n",
       "        text-align: right;\n",
       "    }\n",
       "</style>\n",
       "<table border=\"1\" class=\"dataframe\">\n",
       "  <thead>\n",
       "    <tr style=\"text-align: right;\">\n",
       "      <th></th>\n",
       "      <th>A</th>\n",
       "      <th>B</th>\n",
       "      <th>C</th>\n",
       "      <th>D</th>\n",
       "    </tr>\n",
       "  </thead>\n",
       "  <tbody>\n",
       "    <tr>\n",
       "      <th>2000-01-01</th>\n",
       "      <td>-0.119524</td>\n",
       "      <td>-1.139756</td>\n",
       "      <td>NaN</td>\n",
       "      <td>-0.285438</td>\n",
       "    </tr>\n",
       "    <tr>\n",
       "      <th>2000-01-02</th>\n",
       "      <td>NaN</td>\n",
       "      <td>NaN</td>\n",
       "      <td>NaN</td>\n",
       "      <td>NaN</td>\n",
       "    </tr>\n",
       "    <tr>\n",
       "      <th>2000-01-03</th>\n",
       "      <td>-2.040983</td>\n",
       "      <td>NaN</td>\n",
       "      <td>-1.503086</td>\n",
       "      <td>NaN</td>\n",
       "    </tr>\n",
       "    <tr>\n",
       "      <th>2000-01-04</th>\n",
       "      <td>NaN</td>\n",
       "      <td>-1.303977</td>\n",
       "      <td>NaN</td>\n",
       "      <td>-1.137952</td>\n",
       "    </tr>\n",
       "    <tr>\n",
       "      <th>2000-01-05</th>\n",
       "      <td>NaN</td>\n",
       "      <td>NaN</td>\n",
       "      <td>NaN</td>\n",
       "      <td>-0.722163</td>\n",
       "    </tr>\n",
       "    <tr>\n",
       "      <th>2000-01-06</th>\n",
       "      <td>NaN</td>\n",
       "      <td>-0.699478</td>\n",
       "      <td>NaN</td>\n",
       "      <td>NaN</td>\n",
       "    </tr>\n",
       "    <tr>\n",
       "      <th>2000-01-07</th>\n",
       "      <td>NaN</td>\n",
       "      <td>-1.717641</td>\n",
       "      <td>NaN</td>\n",
       "      <td>NaN</td>\n",
       "    </tr>\n",
       "    <tr>\n",
       "      <th>2000-01-08</th>\n",
       "      <td>-1.805341</td>\n",
       "      <td>NaN</td>\n",
       "      <td>-0.205993</td>\n",
       "      <td>-1.595724</td>\n",
       "    </tr>\n",
       "  </tbody>\n",
       "</table>\n",
       "</div>"
      ],
      "text/plain": [
       "                   A         B         C         D\n",
       "2000-01-01 -0.119524 -1.139756       NaN -0.285438\n",
       "2000-01-02       NaN       NaN       NaN       NaN\n",
       "2000-01-03 -2.040983       NaN -1.503086       NaN\n",
       "2000-01-04       NaN -1.303977       NaN -1.137952\n",
       "2000-01-05       NaN       NaN       NaN -0.722163\n",
       "2000-01-06       NaN -0.699478       NaN       NaN\n",
       "2000-01-07       NaN -1.717641       NaN       NaN\n",
       "2000-01-08 -1.805341       NaN -0.205993 -1.595724"
      ]
     },
     "execution_count": 134,
     "metadata": {},
     "output_type": "execute_result"
    }
   ],
   "source": [
    "df1[df1 < 0]"
   ]
  },
  {
   "cell_type": "markdown",
   "id": "5d9711dc-b64e-408f-b5a5-c37a239a47b9",
   "metadata": {},
   "source": [
    "In addition, where takes an optional other argument for replacement of values where the condition is False, in the returned copy."
   ]
  },
  {
   "cell_type": "code",
   "execution_count": 135,
   "id": "f6b51a5c-51b1-4502-ad42-5dcceaa56c7b",
   "metadata": {},
   "outputs": [
    {
     "data": {
      "text/html": [
       "<div>\n",
       "<style scoped>\n",
       "    .dataframe tbody tr th:only-of-type {\n",
       "        vertical-align: middle;\n",
       "    }\n",
       "\n",
       "    .dataframe tbody tr th {\n",
       "        vertical-align: top;\n",
       "    }\n",
       "\n",
       "    .dataframe thead th {\n",
       "        text-align: right;\n",
       "    }\n",
       "</style>\n",
       "<table border=\"1\" class=\"dataframe\">\n",
       "  <thead>\n",
       "    <tr style=\"text-align: right;\">\n",
       "      <th></th>\n",
       "      <th>A</th>\n",
       "      <th>B</th>\n",
       "      <th>C</th>\n",
       "      <th>D</th>\n",
       "    </tr>\n",
       "  </thead>\n",
       "  <tbody>\n",
       "    <tr>\n",
       "      <th>2000-01-01</th>\n",
       "      <td>-0.119524</td>\n",
       "      <td>-1.139756</td>\n",
       "      <td>-0.517904</td>\n",
       "      <td>-0.285438</td>\n",
       "    </tr>\n",
       "    <tr>\n",
       "      <th>2000-01-02</th>\n",
       "      <td>-2.021892</td>\n",
       "      <td>-0.070927</td>\n",
       "      <td>-0.800103</td>\n",
       "      <td>-0.118657</td>\n",
       "    </tr>\n",
       "    <tr>\n",
       "      <th>2000-01-03</th>\n",
       "      <td>-2.040983</td>\n",
       "      <td>-0.098607</td>\n",
       "      <td>-1.503086</td>\n",
       "      <td>-0.420989</td>\n",
       "    </tr>\n",
       "    <tr>\n",
       "      <th>2000-01-04</th>\n",
       "      <td>-0.255814</td>\n",
       "      <td>-1.303977</td>\n",
       "      <td>-0.954433</td>\n",
       "      <td>-1.137952</td>\n",
       "    </tr>\n",
       "    <tr>\n",
       "      <th>2000-01-05</th>\n",
       "      <td>-0.020985</td>\n",
       "      <td>-0.476644</td>\n",
       "      <td>-0.850724</td>\n",
       "      <td>-0.722163</td>\n",
       "    </tr>\n",
       "    <tr>\n",
       "      <th>2000-01-06</th>\n",
       "      <td>-0.173625</td>\n",
       "      <td>-0.699478</td>\n",
       "      <td>-0.355988</td>\n",
       "      <td>-1.610516</td>\n",
       "    </tr>\n",
       "    <tr>\n",
       "      <th>2000-01-07</th>\n",
       "      <td>-0.880987</td>\n",
       "      <td>-1.717641</td>\n",
       "      <td>-0.809490</td>\n",
       "      <td>-1.449279</td>\n",
       "    </tr>\n",
       "    <tr>\n",
       "      <th>2000-01-08</th>\n",
       "      <td>-1.805341</td>\n",
       "      <td>-0.762664</td>\n",
       "      <td>-0.205993</td>\n",
       "      <td>-1.595724</td>\n",
       "    </tr>\n",
       "  </tbody>\n",
       "</table>\n",
       "</div>"
      ],
      "text/plain": [
       "                   A         B         C         D\n",
       "2000-01-01 -0.119524 -1.139756 -0.517904 -0.285438\n",
       "2000-01-02 -2.021892 -0.070927 -0.800103 -0.118657\n",
       "2000-01-03 -2.040983 -0.098607 -1.503086 -0.420989\n",
       "2000-01-04 -0.255814 -1.303977 -0.954433 -1.137952\n",
       "2000-01-05 -0.020985 -0.476644 -0.850724 -0.722163\n",
       "2000-01-06 -0.173625 -0.699478 -0.355988 -1.610516\n",
       "2000-01-07 -0.880987 -1.717641 -0.809490 -1.449279\n",
       "2000-01-08 -1.805341 -0.762664 -0.205993 -1.595724"
      ]
     },
     "execution_count": 135,
     "metadata": {},
     "output_type": "execute_result"
    }
   ],
   "source": [
    "df1.where(df1 < 0, -df1)"
   ]
  },
  {
   "cell_type": "markdown",
   "id": "843751ce-0a85-428b-8cfe-e2c30ea6fcf9",
   "metadata": {},
   "source": [
    "You may wish to set values based on some boolean criteria. This can be done intuitively like so:"
   ]
  },
  {
   "cell_type": "code",
   "execution_count": 136,
   "id": "20c197fe-4879-4c81-a926-e3f0acb78656",
   "metadata": {},
   "outputs": [
    {
     "data": {
      "text/plain": [
       "4    0\n",
       "3    1\n",
       "2    2\n",
       "1    3\n",
       "0    4\n",
       "dtype: int64"
      ]
     },
     "execution_count": 136,
     "metadata": {},
     "output_type": "execute_result"
    }
   ],
   "source": [
    "s26 = s25.copy()\n",
    "s26[s26 < 0] = 0\n",
    "s26"
   ]
  },
  {
   "cell_type": "code",
   "execution_count": 137,
   "id": "c3ce83fd-44dc-455d-877e-bd16e6ff0387",
   "metadata": {},
   "outputs": [
    {
     "data": {
      "text/html": [
       "<div>\n",
       "<style scoped>\n",
       "    .dataframe tbody tr th:only-of-type {\n",
       "        vertical-align: middle;\n",
       "    }\n",
       "\n",
       "    .dataframe tbody tr th {\n",
       "        vertical-align: top;\n",
       "    }\n",
       "\n",
       "    .dataframe thead th {\n",
       "        text-align: right;\n",
       "    }\n",
       "</style>\n",
       "<table border=\"1\" class=\"dataframe\">\n",
       "  <thead>\n",
       "    <tr style=\"text-align: right;\">\n",
       "      <th></th>\n",
       "      <th>A</th>\n",
       "      <th>B</th>\n",
       "      <th>C</th>\n",
       "      <th>D</th>\n",
       "    </tr>\n",
       "  </thead>\n",
       "  <tbody>\n",
       "    <tr>\n",
       "      <th>2000-01-01</th>\n",
       "      <td>0.000000</td>\n",
       "      <td>0.000000</td>\n",
       "      <td>0.517904</td>\n",
       "      <td>0.000000</td>\n",
       "    </tr>\n",
       "    <tr>\n",
       "      <th>2000-01-02</th>\n",
       "      <td>2.021892</td>\n",
       "      <td>0.070927</td>\n",
       "      <td>0.800103</td>\n",
       "      <td>0.118657</td>\n",
       "    </tr>\n",
       "    <tr>\n",
       "      <th>2000-01-03</th>\n",
       "      <td>0.000000</td>\n",
       "      <td>0.098607</td>\n",
       "      <td>0.000000</td>\n",
       "      <td>0.420989</td>\n",
       "    </tr>\n",
       "    <tr>\n",
       "      <th>2000-01-04</th>\n",
       "      <td>0.255814</td>\n",
       "      <td>0.000000</td>\n",
       "      <td>0.954433</td>\n",
       "      <td>0.000000</td>\n",
       "    </tr>\n",
       "    <tr>\n",
       "      <th>2000-01-05</th>\n",
       "      <td>0.020985</td>\n",
       "      <td>0.476644</td>\n",
       "      <td>0.850724</td>\n",
       "      <td>0.000000</td>\n",
       "    </tr>\n",
       "    <tr>\n",
       "      <th>2000-01-06</th>\n",
       "      <td>0.173625</td>\n",
       "      <td>0.000000</td>\n",
       "      <td>0.355988</td>\n",
       "      <td>1.610516</td>\n",
       "    </tr>\n",
       "    <tr>\n",
       "      <th>2000-01-07</th>\n",
       "      <td>0.880987</td>\n",
       "      <td>0.000000</td>\n",
       "      <td>0.809490</td>\n",
       "      <td>1.449279</td>\n",
       "    </tr>\n",
       "    <tr>\n",
       "      <th>2000-01-08</th>\n",
       "      <td>0.000000</td>\n",
       "      <td>0.762664</td>\n",
       "      <td>0.000000</td>\n",
       "      <td>0.000000</td>\n",
       "    </tr>\n",
       "  </tbody>\n",
       "</table>\n",
       "</div>"
      ],
      "text/plain": [
       "                   A         B         C         D\n",
       "2000-01-01  0.000000  0.000000  0.517904  0.000000\n",
       "2000-01-02  2.021892  0.070927  0.800103  0.118657\n",
       "2000-01-03  0.000000  0.098607  0.000000  0.420989\n",
       "2000-01-04  0.255814  0.000000  0.954433  0.000000\n",
       "2000-01-05  0.020985  0.476644  0.850724  0.000000\n",
       "2000-01-06  0.173625  0.000000  0.355988  1.610516\n",
       "2000-01-07  0.880987  0.000000  0.809490  1.449279\n",
       "2000-01-08  0.000000  0.762664  0.000000  0.000000"
      ]
     },
     "execution_count": 137,
     "metadata": {},
     "output_type": "execute_result"
    }
   ],
   "source": [
    "df26 = df1.copy()\n",
    "df26[df26 < 0] = 0\n",
    "df26"
   ]
  },
  {
   "cell_type": "markdown",
   "id": "6823cccb-0d5e-47c9-98d8-d8573ac46236",
   "metadata": {},
   "source": [
    "By default, where returns a modified copy of the data. There is an optional parameter inplace so that the original data can be modified without creating a copy:"
   ]
  },
  {
   "cell_type": "code",
   "execution_count": 138,
   "id": "98b7ebcb-1050-40ef-8d63-7279e289c472",
   "metadata": {},
   "outputs": [
    {
     "data": {
      "text/html": [
       "<div>\n",
       "<style scoped>\n",
       "    .dataframe tbody tr th:only-of-type {\n",
       "        vertical-align: middle;\n",
       "    }\n",
       "\n",
       "    .dataframe tbody tr th {\n",
       "        vertical-align: top;\n",
       "    }\n",
       "\n",
       "    .dataframe thead th {\n",
       "        text-align: right;\n",
       "    }\n",
       "</style>\n",
       "<table border=\"1\" class=\"dataframe\">\n",
       "  <thead>\n",
       "    <tr style=\"text-align: right;\">\n",
       "      <th></th>\n",
       "      <th>A</th>\n",
       "      <th>B</th>\n",
       "      <th>C</th>\n",
       "      <th>D</th>\n",
       "    </tr>\n",
       "  </thead>\n",
       "  <tbody>\n",
       "    <tr>\n",
       "      <th>2000-01-01</th>\n",
       "      <td>0.119524</td>\n",
       "      <td>1.139756</td>\n",
       "      <td>0.517904</td>\n",
       "      <td>0.285438</td>\n",
       "    </tr>\n",
       "    <tr>\n",
       "      <th>2000-01-02</th>\n",
       "      <td>2.021892</td>\n",
       "      <td>0.070927</td>\n",
       "      <td>0.800103</td>\n",
       "      <td>0.118657</td>\n",
       "    </tr>\n",
       "    <tr>\n",
       "      <th>2000-01-03</th>\n",
       "      <td>2.040983</td>\n",
       "      <td>0.098607</td>\n",
       "      <td>1.503086</td>\n",
       "      <td>0.420989</td>\n",
       "    </tr>\n",
       "    <tr>\n",
       "      <th>2000-01-04</th>\n",
       "      <td>0.255814</td>\n",
       "      <td>1.303977</td>\n",
       "      <td>0.954433</td>\n",
       "      <td>1.137952</td>\n",
       "    </tr>\n",
       "    <tr>\n",
       "      <th>2000-01-05</th>\n",
       "      <td>0.020985</td>\n",
       "      <td>0.476644</td>\n",
       "      <td>0.850724</td>\n",
       "      <td>0.722163</td>\n",
       "    </tr>\n",
       "    <tr>\n",
       "      <th>2000-01-06</th>\n",
       "      <td>0.173625</td>\n",
       "      <td>0.699478</td>\n",
       "      <td>0.355988</td>\n",
       "      <td>1.610516</td>\n",
       "    </tr>\n",
       "    <tr>\n",
       "      <th>2000-01-07</th>\n",
       "      <td>0.880987</td>\n",
       "      <td>1.717641</td>\n",
       "      <td>0.809490</td>\n",
       "      <td>1.449279</td>\n",
       "    </tr>\n",
       "    <tr>\n",
       "      <th>2000-01-08</th>\n",
       "      <td>1.805341</td>\n",
       "      <td>0.762664</td>\n",
       "      <td>0.205993</td>\n",
       "      <td>1.595724</td>\n",
       "    </tr>\n",
       "  </tbody>\n",
       "</table>\n",
       "</div>"
      ],
      "text/plain": [
       "                   A         B         C         D\n",
       "2000-01-01  0.119524  1.139756  0.517904  0.285438\n",
       "2000-01-02  2.021892  0.070927  0.800103  0.118657\n",
       "2000-01-03  2.040983  0.098607  1.503086  0.420989\n",
       "2000-01-04  0.255814  1.303977  0.954433  1.137952\n",
       "2000-01-05  0.020985  0.476644  0.850724  0.722163\n",
       "2000-01-06  0.173625  0.699478  0.355988  1.610516\n",
       "2000-01-07  0.880987  1.717641  0.809490  1.449279\n",
       "2000-01-08  1.805341  0.762664  0.205993  1.595724"
      ]
     },
     "execution_count": 138,
     "metadata": {},
     "output_type": "execute_result"
    }
   ],
   "source": [
    "df27 = df1.copy()\n",
    "df27.where(df1 > 0, -df1, inplace=True)\n",
    "df27"
   ]
  },
  {
   "cell_type": "markdown",
   "id": "aa90e090-0ccb-488a-b748-d5f986e41b3a",
   "metadata": {},
   "source": [
    ">Note\n",
    ">\n",
    ">The signature for DataFrame.where() differs from numpy.where(). Roughly df1.where(m, df2) is equivalent to np.where(m, df1, df2)."
   ]
  },
  {
   "cell_type": "code",
   "execution_count": 139,
   "id": "85e1cf1e-aeee-4af5-9c2f-5fe5a7da9c06",
   "metadata": {},
   "outputs": [
    {
     "data": {
      "text/html": [
       "<div>\n",
       "<style scoped>\n",
       "    .dataframe tbody tr th:only-of-type {\n",
       "        vertical-align: middle;\n",
       "    }\n",
       "\n",
       "    .dataframe tbody tr th {\n",
       "        vertical-align: top;\n",
       "    }\n",
       "\n",
       "    .dataframe thead th {\n",
       "        text-align: right;\n",
       "    }\n",
       "</style>\n",
       "<table border=\"1\" class=\"dataframe\">\n",
       "  <thead>\n",
       "    <tr style=\"text-align: right;\">\n",
       "      <th></th>\n",
       "      <th>A</th>\n",
       "      <th>B</th>\n",
       "      <th>C</th>\n",
       "      <th>D</th>\n",
       "    </tr>\n",
       "  </thead>\n",
       "  <tbody>\n",
       "    <tr>\n",
       "      <th>2000-01-01</th>\n",
       "      <td>True</td>\n",
       "      <td>True</td>\n",
       "      <td>True</td>\n",
       "      <td>True</td>\n",
       "    </tr>\n",
       "    <tr>\n",
       "      <th>2000-01-02</th>\n",
       "      <td>True</td>\n",
       "      <td>True</td>\n",
       "      <td>True</td>\n",
       "      <td>True</td>\n",
       "    </tr>\n",
       "    <tr>\n",
       "      <th>2000-01-03</th>\n",
       "      <td>True</td>\n",
       "      <td>True</td>\n",
       "      <td>True</td>\n",
       "      <td>True</td>\n",
       "    </tr>\n",
       "    <tr>\n",
       "      <th>2000-01-04</th>\n",
       "      <td>True</td>\n",
       "      <td>True</td>\n",
       "      <td>True</td>\n",
       "      <td>True</td>\n",
       "    </tr>\n",
       "    <tr>\n",
       "      <th>2000-01-05</th>\n",
       "      <td>True</td>\n",
       "      <td>True</td>\n",
       "      <td>True</td>\n",
       "      <td>True</td>\n",
       "    </tr>\n",
       "    <tr>\n",
       "      <th>2000-01-06</th>\n",
       "      <td>True</td>\n",
       "      <td>True</td>\n",
       "      <td>True</td>\n",
       "      <td>True</td>\n",
       "    </tr>\n",
       "    <tr>\n",
       "      <th>2000-01-07</th>\n",
       "      <td>True</td>\n",
       "      <td>True</td>\n",
       "      <td>True</td>\n",
       "      <td>True</td>\n",
       "    </tr>\n",
       "    <tr>\n",
       "      <th>2000-01-08</th>\n",
       "      <td>True</td>\n",
       "      <td>True</td>\n",
       "      <td>True</td>\n",
       "      <td>True</td>\n",
       "    </tr>\n",
       "  </tbody>\n",
       "</table>\n",
       "</div>"
      ],
      "text/plain": [
       "               A     B     C     D\n",
       "2000-01-01  True  True  True  True\n",
       "2000-01-02  True  True  True  True\n",
       "2000-01-03  True  True  True  True\n",
       "2000-01-04  True  True  True  True\n",
       "2000-01-05  True  True  True  True\n",
       "2000-01-06  True  True  True  True\n",
       "2000-01-07  True  True  True  True\n",
       "2000-01-08  True  True  True  True"
      ]
     },
     "execution_count": 139,
     "metadata": {},
     "output_type": "execute_result"
    }
   ],
   "source": [
    "df1.where(df1 < 0, -df1) == np.where(df1 < 0, df1, -df1)"
   ]
  },
  {
   "cell_type": "markdown",
   "id": "4cf543fb-1089-463d-a54b-ca78ab8697dd",
   "metadata": {},
   "source": [
    "#### Alignment\n",
    "\n",
    "Furthermore, where aligns the input boolean condition (ndarray or DataFrame), such that partial selection with setting is possible. This is analogous to partial setting via .loc (but on the contents rather than the axis labels)."
   ]
  },
  {
   "cell_type": "code",
   "execution_count": 140,
   "id": "492577c3-8401-4fa2-8449-9a1ef1c3fbdf",
   "metadata": {},
   "outputs": [
    {
     "data": {
      "text/html": [
       "<div>\n",
       "<style scoped>\n",
       "    .dataframe tbody tr th:only-of-type {\n",
       "        vertical-align: middle;\n",
       "    }\n",
       "\n",
       "    .dataframe tbody tr th {\n",
       "        vertical-align: top;\n",
       "    }\n",
       "\n",
       "    .dataframe thead th {\n",
       "        text-align: right;\n",
       "    }\n",
       "</style>\n",
       "<table border=\"1\" class=\"dataframe\">\n",
       "  <thead>\n",
       "    <tr style=\"text-align: right;\">\n",
       "      <th></th>\n",
       "      <th>A</th>\n",
       "      <th>B</th>\n",
       "      <th>C</th>\n",
       "      <th>D</th>\n",
       "    </tr>\n",
       "  </thead>\n",
       "  <tbody>\n",
       "    <tr>\n",
       "      <th>2000-01-01</th>\n",
       "      <td>-0.119524</td>\n",
       "      <td>-1.139756</td>\n",
       "      <td>0.517904</td>\n",
       "      <td>-0.285438</td>\n",
       "    </tr>\n",
       "    <tr>\n",
       "      <th>2000-01-02</th>\n",
       "      <td>3.000000</td>\n",
       "      <td>3.000000</td>\n",
       "      <td>3.000000</td>\n",
       "      <td>3.000000</td>\n",
       "    </tr>\n",
       "    <tr>\n",
       "      <th>2000-01-03</th>\n",
       "      <td>-2.040983</td>\n",
       "      <td>3.000000</td>\n",
       "      <td>-1.503086</td>\n",
       "      <td>3.000000</td>\n",
       "    </tr>\n",
       "    <tr>\n",
       "      <th>2000-01-04</th>\n",
       "      <td>3.000000</td>\n",
       "      <td>-1.303977</td>\n",
       "      <td>3.000000</td>\n",
       "      <td>-1.137952</td>\n",
       "    </tr>\n",
       "    <tr>\n",
       "      <th>2000-01-05</th>\n",
       "      <td>0.020985</td>\n",
       "      <td>0.476644</td>\n",
       "      <td>0.850724</td>\n",
       "      <td>-0.722163</td>\n",
       "    </tr>\n",
       "    <tr>\n",
       "      <th>2000-01-06</th>\n",
       "      <td>0.173625</td>\n",
       "      <td>-0.699478</td>\n",
       "      <td>0.355988</td>\n",
       "      <td>1.610516</td>\n",
       "    </tr>\n",
       "    <tr>\n",
       "      <th>2000-01-07</th>\n",
       "      <td>0.880987</td>\n",
       "      <td>-1.717641</td>\n",
       "      <td>0.809490</td>\n",
       "      <td>1.449279</td>\n",
       "    </tr>\n",
       "    <tr>\n",
       "      <th>2000-01-08</th>\n",
       "      <td>-1.805341</td>\n",
       "      <td>0.762664</td>\n",
       "      <td>-0.205993</td>\n",
       "      <td>-1.595724</td>\n",
       "    </tr>\n",
       "  </tbody>\n",
       "</table>\n",
       "</div>"
      ],
      "text/plain": [
       "                   A         B         C         D\n",
       "2000-01-01 -0.119524 -1.139756  0.517904 -0.285438\n",
       "2000-01-02  3.000000  3.000000  3.000000  3.000000\n",
       "2000-01-03 -2.040983  3.000000 -1.503086  3.000000\n",
       "2000-01-04  3.000000 -1.303977  3.000000 -1.137952\n",
       "2000-01-05  0.020985  0.476644  0.850724 -0.722163\n",
       "2000-01-06  0.173625 -0.699478  0.355988  1.610516\n",
       "2000-01-07  0.880987 -1.717641  0.809490  1.449279\n",
       "2000-01-08 -1.805341  0.762664 -0.205993 -1.595724"
      ]
     },
     "execution_count": 140,
     "metadata": {},
     "output_type": "execute_result"
    }
   ],
   "source": [
    "df28 = df1.copy()\n",
    "df28[df28[1:4] > 0] = 3\n",
    "df28"
   ]
  },
  {
   "cell_type": "markdown",
   "id": "3711d624-c120-4d46-95ea-80c5546bfe2e",
   "metadata": {},
   "source": [
    "Where can also accept axis and level parameters to align the input when performing the where."
   ]
  },
  {
   "cell_type": "code",
   "execution_count": 141,
   "id": "c732bad0-fbf9-4466-b263-68f61735abf3",
   "metadata": {},
   "outputs": [
    {
     "data": {
      "text/html": [
       "<div>\n",
       "<style scoped>\n",
       "    .dataframe tbody tr th:only-of-type {\n",
       "        vertical-align: middle;\n",
       "    }\n",
       "\n",
       "    .dataframe tbody tr th {\n",
       "        vertical-align: top;\n",
       "    }\n",
       "\n",
       "    .dataframe thead th {\n",
       "        text-align: right;\n",
       "    }\n",
       "</style>\n",
       "<table border=\"1\" class=\"dataframe\">\n",
       "  <thead>\n",
       "    <tr style=\"text-align: right;\">\n",
       "      <th></th>\n",
       "      <th>A</th>\n",
       "      <th>B</th>\n",
       "      <th>C</th>\n",
       "      <th>D</th>\n",
       "    </tr>\n",
       "  </thead>\n",
       "  <tbody>\n",
       "    <tr>\n",
       "      <th>2000-01-01</th>\n",
       "      <td>-0.119524</td>\n",
       "      <td>-1.139756</td>\n",
       "      <td>0.517904</td>\n",
       "      <td>-0.285438</td>\n",
       "    </tr>\n",
       "    <tr>\n",
       "      <th>2000-01-02</th>\n",
       "      <td>2.021892</td>\n",
       "      <td>0.070927</td>\n",
       "      <td>0.800103</td>\n",
       "      <td>0.118657</td>\n",
       "    </tr>\n",
       "    <tr>\n",
       "      <th>2000-01-03</th>\n",
       "      <td>-2.040983</td>\n",
       "      <td>0.098607</td>\n",
       "      <td>-1.503086</td>\n",
       "      <td>0.420989</td>\n",
       "    </tr>\n",
       "    <tr>\n",
       "      <th>2000-01-04</th>\n",
       "      <td>0.255814</td>\n",
       "      <td>-1.303977</td>\n",
       "      <td>0.954433</td>\n",
       "      <td>-1.137952</td>\n",
       "    </tr>\n",
       "    <tr>\n",
       "      <th>2000-01-05</th>\n",
       "      <td>0.020985</td>\n",
       "      <td>0.476644</td>\n",
       "      <td>0.850724</td>\n",
       "      <td>-0.722163</td>\n",
       "    </tr>\n",
       "    <tr>\n",
       "      <th>2000-01-06</th>\n",
       "      <td>0.173625</td>\n",
       "      <td>-0.699478</td>\n",
       "      <td>0.355988</td>\n",
       "      <td>1.610516</td>\n",
       "    </tr>\n",
       "    <tr>\n",
       "      <th>2000-01-07</th>\n",
       "      <td>0.880987</td>\n",
       "      <td>-1.717641</td>\n",
       "      <td>0.809490</td>\n",
       "      <td>1.449279</td>\n",
       "    </tr>\n",
       "    <tr>\n",
       "      <th>2000-01-08</th>\n",
       "      <td>-1.805341</td>\n",
       "      <td>0.762664</td>\n",
       "      <td>-0.205993</td>\n",
       "      <td>-1.595724</td>\n",
       "    </tr>\n",
       "  </tbody>\n",
       "</table>\n",
       "</div>"
      ],
      "text/plain": [
       "                   A         B         C         D\n",
       "2000-01-01 -0.119524 -1.139756  0.517904 -0.285438\n",
       "2000-01-02  2.021892  0.070927  0.800103  0.118657\n",
       "2000-01-03 -2.040983  0.098607 -1.503086  0.420989\n",
       "2000-01-04  0.255814 -1.303977  0.954433 -1.137952\n",
       "2000-01-05  0.020985  0.476644  0.850724 -0.722163\n",
       "2000-01-06  0.173625 -0.699478  0.355988  1.610516\n",
       "2000-01-07  0.880987 -1.717641  0.809490  1.449279\n",
       "2000-01-08 -1.805341  0.762664 -0.205993 -1.595724"
      ]
     },
     "execution_count": 141,
     "metadata": {},
     "output_type": "execute_result"
    }
   ],
   "source": [
    "df28 = df1.copy()\n",
    "df29 = df1.copy()\n",
    "df28"
   ]
  },
  {
   "cell_type": "code",
   "execution_count": 142,
   "id": "9bc6b5fa-9752-4071-ab30-71a04a395361",
   "metadata": {},
   "outputs": [
    {
     "data": {
      "text/html": [
       "<div>\n",
       "<style scoped>\n",
       "    .dataframe tbody tr th:only-of-type {\n",
       "        vertical-align: middle;\n",
       "    }\n",
       "\n",
       "    .dataframe tbody tr th {\n",
       "        vertical-align: top;\n",
       "    }\n",
       "\n",
       "    .dataframe thead th {\n",
       "        text-align: right;\n",
       "    }\n",
       "</style>\n",
       "<table border=\"1\" class=\"dataframe\">\n",
       "  <thead>\n",
       "    <tr style=\"text-align: right;\">\n",
       "      <th></th>\n",
       "      <th>A</th>\n",
       "      <th>B</th>\n",
       "      <th>C</th>\n",
       "      <th>D</th>\n",
       "    </tr>\n",
       "  </thead>\n",
       "  <tbody>\n",
       "    <tr>\n",
       "      <th>2000-01-01</th>\n",
       "      <td>-0.119524</td>\n",
       "      <td>-0.119524</td>\n",
       "      <td>0.517904</td>\n",
       "      <td>-0.119524</td>\n",
       "    </tr>\n",
       "    <tr>\n",
       "      <th>2000-01-02</th>\n",
       "      <td>2.021892</td>\n",
       "      <td>0.070927</td>\n",
       "      <td>0.800103</td>\n",
       "      <td>0.118657</td>\n",
       "    </tr>\n",
       "    <tr>\n",
       "      <th>2000-01-03</th>\n",
       "      <td>-2.040983</td>\n",
       "      <td>0.098607</td>\n",
       "      <td>-2.040983</td>\n",
       "      <td>0.420989</td>\n",
       "    </tr>\n",
       "    <tr>\n",
       "      <th>2000-01-04</th>\n",
       "      <td>0.255814</td>\n",
       "      <td>0.255814</td>\n",
       "      <td>0.954433</td>\n",
       "      <td>0.255814</td>\n",
       "    </tr>\n",
       "    <tr>\n",
       "      <th>2000-01-05</th>\n",
       "      <td>0.020985</td>\n",
       "      <td>0.476644</td>\n",
       "      <td>0.850724</td>\n",
       "      <td>0.020985</td>\n",
       "    </tr>\n",
       "    <tr>\n",
       "      <th>2000-01-06</th>\n",
       "      <td>0.173625</td>\n",
       "      <td>0.173625</td>\n",
       "      <td>0.355988</td>\n",
       "      <td>1.610516</td>\n",
       "    </tr>\n",
       "    <tr>\n",
       "      <th>2000-01-07</th>\n",
       "      <td>0.880987</td>\n",
       "      <td>0.880987</td>\n",
       "      <td>0.809490</td>\n",
       "      <td>1.449279</td>\n",
       "    </tr>\n",
       "    <tr>\n",
       "      <th>2000-01-08</th>\n",
       "      <td>-1.805341</td>\n",
       "      <td>0.762664</td>\n",
       "      <td>-1.805341</td>\n",
       "      <td>-1.805341</td>\n",
       "    </tr>\n",
       "  </tbody>\n",
       "</table>\n",
       "</div>"
      ],
      "text/plain": [
       "                   A         B         C         D\n",
       "2000-01-01 -0.119524 -0.119524  0.517904 -0.119524\n",
       "2000-01-02  2.021892  0.070927  0.800103  0.118657\n",
       "2000-01-03 -2.040983  0.098607 -2.040983  0.420989\n",
       "2000-01-04  0.255814  0.255814  0.954433  0.255814\n",
       "2000-01-05  0.020985  0.476644  0.850724  0.020985\n",
       "2000-01-06  0.173625  0.173625  0.355988  1.610516\n",
       "2000-01-07  0.880987  0.880987  0.809490  1.449279\n",
       "2000-01-08 -1.805341  0.762664 -1.805341 -1.805341"
      ]
     },
     "execution_count": 142,
     "metadata": {},
     "output_type": "execute_result"
    }
   ],
   "source": [
    "df28.where(df28 > 0, df28['A'], axis='index')"
   ]
  },
  {
   "cell_type": "markdown",
   "id": "aaf00f17-183b-4f52-8d32-e24b60e8d5db",
   "metadata": {},
   "source": [
    "This is equivalent to (but faster than) the following."
   ]
  },
  {
   "cell_type": "code",
   "execution_count": 143,
   "id": "483188f0-b2bf-4227-9cd2-7ae81edd300d",
   "metadata": {},
   "outputs": [
    {
     "data": {
      "text/html": [
       "<div>\n",
       "<style scoped>\n",
       "    .dataframe tbody tr th:only-of-type {\n",
       "        vertical-align: middle;\n",
       "    }\n",
       "\n",
       "    .dataframe tbody tr th {\n",
       "        vertical-align: top;\n",
       "    }\n",
       "\n",
       "    .dataframe thead th {\n",
       "        text-align: right;\n",
       "    }\n",
       "</style>\n",
       "<table border=\"1\" class=\"dataframe\">\n",
       "  <thead>\n",
       "    <tr style=\"text-align: right;\">\n",
       "      <th></th>\n",
       "      <th>A</th>\n",
       "      <th>B</th>\n",
       "      <th>C</th>\n",
       "      <th>D</th>\n",
       "    </tr>\n",
       "  </thead>\n",
       "  <tbody>\n",
       "    <tr>\n",
       "      <th>2000-01-01</th>\n",
       "      <td>-0.119524</td>\n",
       "      <td>-0.119524</td>\n",
       "      <td>0.517904</td>\n",
       "      <td>-0.119524</td>\n",
       "    </tr>\n",
       "    <tr>\n",
       "      <th>2000-01-02</th>\n",
       "      <td>2.021892</td>\n",
       "      <td>0.070927</td>\n",
       "      <td>0.800103</td>\n",
       "      <td>0.118657</td>\n",
       "    </tr>\n",
       "    <tr>\n",
       "      <th>2000-01-03</th>\n",
       "      <td>-2.040983</td>\n",
       "      <td>0.098607</td>\n",
       "      <td>-2.040983</td>\n",
       "      <td>0.420989</td>\n",
       "    </tr>\n",
       "    <tr>\n",
       "      <th>2000-01-04</th>\n",
       "      <td>0.255814</td>\n",
       "      <td>0.255814</td>\n",
       "      <td>0.954433</td>\n",
       "      <td>0.255814</td>\n",
       "    </tr>\n",
       "    <tr>\n",
       "      <th>2000-01-05</th>\n",
       "      <td>0.020985</td>\n",
       "      <td>0.476644</td>\n",
       "      <td>0.850724</td>\n",
       "      <td>0.020985</td>\n",
       "    </tr>\n",
       "    <tr>\n",
       "      <th>2000-01-06</th>\n",
       "      <td>0.173625</td>\n",
       "      <td>0.173625</td>\n",
       "      <td>0.355988</td>\n",
       "      <td>1.610516</td>\n",
       "    </tr>\n",
       "    <tr>\n",
       "      <th>2000-01-07</th>\n",
       "      <td>0.880987</td>\n",
       "      <td>0.880987</td>\n",
       "      <td>0.809490</td>\n",
       "      <td>1.449279</td>\n",
       "    </tr>\n",
       "    <tr>\n",
       "      <th>2000-01-08</th>\n",
       "      <td>-1.805341</td>\n",
       "      <td>0.762664</td>\n",
       "      <td>-1.805341</td>\n",
       "      <td>-1.805341</td>\n",
       "    </tr>\n",
       "  </tbody>\n",
       "</table>\n",
       "</div>"
      ],
      "text/plain": [
       "                   A         B         C         D\n",
       "2000-01-01 -0.119524 -0.119524  0.517904 -0.119524\n",
       "2000-01-02  2.021892  0.070927  0.800103  0.118657\n",
       "2000-01-03 -2.040983  0.098607 -2.040983  0.420989\n",
       "2000-01-04  0.255814  0.255814  0.954433  0.255814\n",
       "2000-01-05  0.020985  0.476644  0.850724  0.020985\n",
       "2000-01-06  0.173625  0.173625  0.355988  1.610516\n",
       "2000-01-07  0.880987  0.880987  0.809490  1.449279\n",
       "2000-01-08 -1.805341  0.762664 -1.805341 -1.805341"
      ]
     },
     "execution_count": 143,
     "metadata": {},
     "output_type": "execute_result"
    }
   ],
   "source": [
    "df29.apply(lambda x, y: x.where(x > 0, y), y=df29['A'])"
   ]
  },
  {
   "cell_type": "markdown",
   "id": "a5a4f913-1af7-4a70-9043-41e4097e5273",
   "metadata": {},
   "source": [
    "where can accept a callable as condition and other arguments. The function must be with one argument (the calling Series or DataFrame) and that returns valid output as condition and other argument."
   ]
  },
  {
   "cell_type": "code",
   "execution_count": 144,
   "id": "68d965c0-4b1e-4ee7-a242-05d34f916576",
   "metadata": {},
   "outputs": [
    {
     "data": {
      "text/html": [
       "<div>\n",
       "<style scoped>\n",
       "    .dataframe tbody tr th:only-of-type {\n",
       "        vertical-align: middle;\n",
       "    }\n",
       "\n",
       "    .dataframe tbody tr th {\n",
       "        vertical-align: top;\n",
       "    }\n",
       "\n",
       "    .dataframe thead th {\n",
       "        text-align: right;\n",
       "    }\n",
       "</style>\n",
       "<table border=\"1\" class=\"dataframe\">\n",
       "  <thead>\n",
       "    <tr style=\"text-align: right;\">\n",
       "      <th></th>\n",
       "      <th>A</th>\n",
       "      <th>B</th>\n",
       "      <th>C</th>\n",
       "    </tr>\n",
       "  </thead>\n",
       "  <tbody>\n",
       "    <tr>\n",
       "      <th>0</th>\n",
       "      <td>11</td>\n",
       "      <td>14</td>\n",
       "      <td>7</td>\n",
       "    </tr>\n",
       "    <tr>\n",
       "      <th>1</th>\n",
       "      <td>12</td>\n",
       "      <td>5</td>\n",
       "      <td>8</td>\n",
       "    </tr>\n",
       "    <tr>\n",
       "      <th>2</th>\n",
       "      <td>13</td>\n",
       "      <td>6</td>\n",
       "      <td>9</td>\n",
       "    </tr>\n",
       "  </tbody>\n",
       "</table>\n",
       "</div>"
      ],
      "text/plain": [
       "    A   B  C\n",
       "0  11  14  7\n",
       "1  12   5  8\n",
       "2  13   6  9"
      ]
     },
     "execution_count": 144,
     "metadata": {},
     "output_type": "execute_result"
    }
   ],
   "source": [
    "df30 = pd.DataFrame({'A': [1, 2, 3],\n",
    "                     'B': [4, 5, 6],\n",
    "                     'C': [7, 8, 9]})\n",
    "df30.where(lambda x: x > 4, lambda x: x + 10)"
   ]
  },
  {
   "cell_type": "markdown",
   "id": "3136949d-4e16-4897-999a-abf305bc7e54",
   "metadata": {},
   "source": [
    "### Mask\n",
    "mask() is the inverse boolean operation of where."
   ]
  },
  {
   "cell_type": "code",
   "execution_count": 145,
   "id": "68da0b47-056c-434b-b5ae-3114838fc9f4",
   "metadata": {},
   "outputs": [
    {
     "data": {
      "text/plain": [
       "4   NaN\n",
       "3   NaN\n",
       "2   NaN\n",
       "1   NaN\n",
       "0   NaN\n",
       "dtype: float64"
      ]
     },
     "execution_count": 145,
     "metadata": {},
     "output_type": "execute_result"
    }
   ],
   "source": [
    "s25.mask(s25 >= 0)"
   ]
  },
  {
   "cell_type": "code",
   "execution_count": 146,
   "id": "89cc59e6-9aee-4cd8-914c-ba1ff0b26bc1",
   "metadata": {},
   "outputs": [
    {
     "data": {
      "text/html": [
       "<div>\n",
       "<style scoped>\n",
       "    .dataframe tbody tr th:only-of-type {\n",
       "        vertical-align: middle;\n",
       "    }\n",
       "\n",
       "    .dataframe tbody tr th {\n",
       "        vertical-align: top;\n",
       "    }\n",
       "\n",
       "    .dataframe thead th {\n",
       "        text-align: right;\n",
       "    }\n",
       "</style>\n",
       "<table border=\"1\" class=\"dataframe\">\n",
       "  <thead>\n",
       "    <tr style=\"text-align: right;\">\n",
       "      <th></th>\n",
       "      <th>A</th>\n",
       "      <th>B</th>\n",
       "      <th>C</th>\n",
       "      <th>D</th>\n",
       "    </tr>\n",
       "  </thead>\n",
       "  <tbody>\n",
       "    <tr>\n",
       "      <th>2000-01-01</th>\n",
       "      <td>-0.119524</td>\n",
       "      <td>-1.139756</td>\n",
       "      <td>NaN</td>\n",
       "      <td>-0.285438</td>\n",
       "    </tr>\n",
       "    <tr>\n",
       "      <th>2000-01-02</th>\n",
       "      <td>NaN</td>\n",
       "      <td>NaN</td>\n",
       "      <td>NaN</td>\n",
       "      <td>NaN</td>\n",
       "    </tr>\n",
       "    <tr>\n",
       "      <th>2000-01-03</th>\n",
       "      <td>-2.040983</td>\n",
       "      <td>NaN</td>\n",
       "      <td>-1.503086</td>\n",
       "      <td>NaN</td>\n",
       "    </tr>\n",
       "    <tr>\n",
       "      <th>2000-01-04</th>\n",
       "      <td>NaN</td>\n",
       "      <td>-1.303977</td>\n",
       "      <td>NaN</td>\n",
       "      <td>-1.137952</td>\n",
       "    </tr>\n",
       "    <tr>\n",
       "      <th>2000-01-05</th>\n",
       "      <td>NaN</td>\n",
       "      <td>NaN</td>\n",
       "      <td>NaN</td>\n",
       "      <td>-0.722163</td>\n",
       "    </tr>\n",
       "    <tr>\n",
       "      <th>2000-01-06</th>\n",
       "      <td>NaN</td>\n",
       "      <td>-0.699478</td>\n",
       "      <td>NaN</td>\n",
       "      <td>NaN</td>\n",
       "    </tr>\n",
       "    <tr>\n",
       "      <th>2000-01-07</th>\n",
       "      <td>NaN</td>\n",
       "      <td>-1.717641</td>\n",
       "      <td>NaN</td>\n",
       "      <td>NaN</td>\n",
       "    </tr>\n",
       "    <tr>\n",
       "      <th>2000-01-08</th>\n",
       "      <td>-1.805341</td>\n",
       "      <td>NaN</td>\n",
       "      <td>-0.205993</td>\n",
       "      <td>-1.595724</td>\n",
       "    </tr>\n",
       "  </tbody>\n",
       "</table>\n",
       "</div>"
      ],
      "text/plain": [
       "                   A         B         C         D\n",
       "2000-01-01 -0.119524 -1.139756       NaN -0.285438\n",
       "2000-01-02       NaN       NaN       NaN       NaN\n",
       "2000-01-03 -2.040983       NaN -1.503086       NaN\n",
       "2000-01-04       NaN -1.303977       NaN -1.137952\n",
       "2000-01-05       NaN       NaN       NaN -0.722163\n",
       "2000-01-06       NaN -0.699478       NaN       NaN\n",
       "2000-01-07       NaN -1.717641       NaN       NaN\n",
       "2000-01-08 -1.805341       NaN -0.205993 -1.595724"
      ]
     },
     "execution_count": 146,
     "metadata": {},
     "output_type": "execute_result"
    }
   ],
   "source": [
    "df1.mask(df1 >= 0)"
   ]
  },
  {
   "cell_type": "markdown",
   "id": "81e5e6af-498a-4a13-a62a-584e339cce53",
   "metadata": {},
   "source": [
    "## Setting with enlargement conditionally using numpy()\n",
    "An alternative to where() is to use numpy.where(). Combined with setting a new column, you can use it to enlarge a dataframe where the values are determined conditionally.\n",
    "\n",
    "Consider you have two choices to choose from in the following dataframe. And you want to set a new column color to ‘green’ when the second column has ‘Z’. You can do the following:"
   ]
  },
  {
   "cell_type": "code",
   "execution_count": 147,
   "id": "8a37611d-2d9f-41ce-abec-00af6b34f977",
   "metadata": {},
   "outputs": [
    {
     "data": {
      "text/html": [
       "<div>\n",
       "<style scoped>\n",
       "    .dataframe tbody tr th:only-of-type {\n",
       "        vertical-align: middle;\n",
       "    }\n",
       "\n",
       "    .dataframe tbody tr th {\n",
       "        vertical-align: top;\n",
       "    }\n",
       "\n",
       "    .dataframe thead th {\n",
       "        text-align: right;\n",
       "    }\n",
       "</style>\n",
       "<table border=\"1\" class=\"dataframe\">\n",
       "  <thead>\n",
       "    <tr style=\"text-align: right;\">\n",
       "      <th></th>\n",
       "      <th>col1</th>\n",
       "      <th>col2</th>\n",
       "      <th>color</th>\n",
       "    </tr>\n",
       "  </thead>\n",
       "  <tbody>\n",
       "    <tr>\n",
       "      <th>0</th>\n",
       "      <td>A</td>\n",
       "      <td>Z</td>\n",
       "      <td>green</td>\n",
       "    </tr>\n",
       "    <tr>\n",
       "      <th>1</th>\n",
       "      <td>B</td>\n",
       "      <td>Z</td>\n",
       "      <td>green</td>\n",
       "    </tr>\n",
       "    <tr>\n",
       "      <th>2</th>\n",
       "      <td>B</td>\n",
       "      <td>X</td>\n",
       "      <td>red</td>\n",
       "    </tr>\n",
       "    <tr>\n",
       "      <th>3</th>\n",
       "      <td>C</td>\n",
       "      <td>Y</td>\n",
       "      <td>red</td>\n",
       "    </tr>\n",
       "  </tbody>\n",
       "</table>\n",
       "</div>"
      ],
      "text/plain": [
       "  col1 col2  color\n",
       "0    A    Z  green\n",
       "1    B    Z  green\n",
       "2    B    X    red\n",
       "3    C    Y    red"
      ]
     },
     "execution_count": 147,
     "metadata": {},
     "output_type": "execute_result"
    }
   ],
   "source": [
    "df32 = pd.DataFrame({'col1': list('ABBC'), 'col2': list('ZZXY')})\n",
    "df32['color'] = np.where(df32['col2'] == 'Z', 'green', 'red')\n",
    "df32"
   ]
  },
  {
   "cell_type": "markdown",
   "id": "48a87b21-a2a4-4321-8804-8fd8dc594d13",
   "metadata": {},
   "source": [
    "If you have multiple conditions, you can use numpy.select() to achieve that. Say corresponding to three conditions there are three choice of colors, with a fourth color as a fallback, you can do the following."
   ]
  },
  {
   "cell_type": "code",
   "execution_count": 148,
   "id": "668c24bb-e579-4197-acfc-d5beae89324b",
   "metadata": {},
   "outputs": [
    {
     "data": {
      "text/html": [
       "<div>\n",
       "<style scoped>\n",
       "    .dataframe tbody tr th:only-of-type {\n",
       "        vertical-align: middle;\n",
       "    }\n",
       "\n",
       "    .dataframe tbody tr th {\n",
       "        vertical-align: top;\n",
       "    }\n",
       "\n",
       "    .dataframe thead th {\n",
       "        text-align: right;\n",
       "    }\n",
       "</style>\n",
       "<table border=\"1\" class=\"dataframe\">\n",
       "  <thead>\n",
       "    <tr style=\"text-align: right;\">\n",
       "      <th></th>\n",
       "      <th>col1</th>\n",
       "      <th>col2</th>\n",
       "      <th>color</th>\n",
       "    </tr>\n",
       "  </thead>\n",
       "  <tbody>\n",
       "    <tr>\n",
       "      <th>0</th>\n",
       "      <td>A</td>\n",
       "      <td>Z</td>\n",
       "      <td>yellow</td>\n",
       "    </tr>\n",
       "    <tr>\n",
       "      <th>1</th>\n",
       "      <td>B</td>\n",
       "      <td>Z</td>\n",
       "      <td>blue</td>\n",
       "    </tr>\n",
       "    <tr>\n",
       "      <th>2</th>\n",
       "      <td>B</td>\n",
       "      <td>X</td>\n",
       "      <td>purple</td>\n",
       "    </tr>\n",
       "    <tr>\n",
       "      <th>3</th>\n",
       "      <td>C</td>\n",
       "      <td>Y</td>\n",
       "      <td>black</td>\n",
       "    </tr>\n",
       "  </tbody>\n",
       "</table>\n",
       "</div>"
      ],
      "text/plain": [
       "  col1 col2   color\n",
       "0    A    Z  yellow\n",
       "1    B    Z    blue\n",
       "2    B    X  purple\n",
       "3    C    Y   black"
      ]
     },
     "execution_count": 148,
     "metadata": {},
     "output_type": "execute_result"
    }
   ],
   "source": [
    "conditions = [\n",
    "    (df32['col2'] == 'Z') & (df32['col1'] == 'A'),\n",
    "    (df32['col2'] == 'Z') & (df32['col1'] == 'B'),\n",
    "    (df32['col1'] == 'B')\n",
    "]\n",
    "\n",
    "choices = ['yellow', 'blue', 'purple']\n",
    "df32['color'] = np.select(conditions, choices, default='black')\n",
    "df32"
   ]
  },
  {
   "cell_type": "markdown",
   "id": "d5960c92-cced-4d94-9976-e5eeffb8badd",
   "metadata": {},
   "source": [
    "## The query() Method\n",
    "DataFrame objects have a query() method that allows selection using an expression.\n",
    "\n",
    "You can get the value of the frame where column b has values between the values of columns a and c. For example:"
   ]
  },
  {
   "cell_type": "code",
   "execution_count": 149,
   "id": "05540b4f-a644-4b48-b872-aab8cb07fc93",
   "metadata": {},
   "outputs": [
    {
     "data": {
      "text/html": [
       "<div>\n",
       "<style scoped>\n",
       "    .dataframe tbody tr th:only-of-type {\n",
       "        vertical-align: middle;\n",
       "    }\n",
       "\n",
       "    .dataframe tbody tr th {\n",
       "        vertical-align: top;\n",
       "    }\n",
       "\n",
       "    .dataframe thead th {\n",
       "        text-align: right;\n",
       "    }\n",
       "</style>\n",
       "<table border=\"1\" class=\"dataframe\">\n",
       "  <thead>\n",
       "    <tr style=\"text-align: right;\">\n",
       "      <th></th>\n",
       "      <th>a</th>\n",
       "      <th>b</th>\n",
       "      <th>c</th>\n",
       "    </tr>\n",
       "  </thead>\n",
       "  <tbody>\n",
       "    <tr>\n",
       "      <th>0</th>\n",
       "      <td>0.665938</td>\n",
       "      <td>0.489127</td>\n",
       "      <td>0.430012</td>\n",
       "    </tr>\n",
       "    <tr>\n",
       "      <th>1</th>\n",
       "      <td>0.141150</td>\n",
       "      <td>0.808962</td>\n",
       "      <td>0.450953</td>\n",
       "    </tr>\n",
       "    <tr>\n",
       "      <th>2</th>\n",
       "      <td>0.124912</td>\n",
       "      <td>0.357459</td>\n",
       "      <td>0.586972</td>\n",
       "    </tr>\n",
       "    <tr>\n",
       "      <th>3</th>\n",
       "      <td>0.514371</td>\n",
       "      <td>0.989672</td>\n",
       "      <td>0.437663</td>\n",
       "    </tr>\n",
       "    <tr>\n",
       "      <th>4</th>\n",
       "      <td>0.714716</td>\n",
       "      <td>0.219849</td>\n",
       "      <td>0.259279</td>\n",
       "    </tr>\n",
       "    <tr>\n",
       "      <th>5</th>\n",
       "      <td>0.262067</td>\n",
       "      <td>0.147357</td>\n",
       "      <td>0.956111</td>\n",
       "    </tr>\n",
       "    <tr>\n",
       "      <th>6</th>\n",
       "      <td>0.443938</td>\n",
       "      <td>0.930496</td>\n",
       "      <td>0.124194</td>\n",
       "    </tr>\n",
       "    <tr>\n",
       "      <th>7</th>\n",
       "      <td>0.606365</td>\n",
       "      <td>0.377903</td>\n",
       "      <td>0.941993</td>\n",
       "    </tr>\n",
       "    <tr>\n",
       "      <th>8</th>\n",
       "      <td>0.589767</td>\n",
       "      <td>0.387538</td>\n",
       "      <td>0.194538</td>\n",
       "    </tr>\n",
       "    <tr>\n",
       "      <th>9</th>\n",
       "      <td>0.981236</td>\n",
       "      <td>0.393476</td>\n",
       "      <td>0.229179</td>\n",
       "    </tr>\n",
       "  </tbody>\n",
       "</table>\n",
       "</div>"
      ],
      "text/plain": [
       "          a         b         c\n",
       "0  0.665938  0.489127  0.430012\n",
       "1  0.141150  0.808962  0.450953\n",
       "2  0.124912  0.357459  0.586972\n",
       "3  0.514371  0.989672  0.437663\n",
       "4  0.714716  0.219849  0.259279\n",
       "5  0.262067  0.147357  0.956111\n",
       "6  0.443938  0.930496  0.124194\n",
       "7  0.606365  0.377903  0.941993\n",
       "8  0.589767  0.387538  0.194538\n",
       "9  0.981236  0.393476  0.229179"
      ]
     },
     "execution_count": 149,
     "metadata": {},
     "output_type": "execute_result"
    }
   ],
   "source": [
    "n = 10\n",
    "df33 = pd.DataFrame(np.random.rand(n, 3), columns=list('abc'))\n",
    "df33"
   ]
  },
  {
   "cell_type": "code",
   "execution_count": 150,
   "id": "360b29b0-9116-47e8-b315-acc20ff19b23",
   "metadata": {},
   "outputs": [
    {
     "data": {
      "text/html": [
       "<div>\n",
       "<style scoped>\n",
       "    .dataframe tbody tr th:only-of-type {\n",
       "        vertical-align: middle;\n",
       "    }\n",
       "\n",
       "    .dataframe tbody tr th {\n",
       "        vertical-align: top;\n",
       "    }\n",
       "\n",
       "    .dataframe thead th {\n",
       "        text-align: right;\n",
       "    }\n",
       "</style>\n",
       "<table border=\"1\" class=\"dataframe\">\n",
       "  <thead>\n",
       "    <tr style=\"text-align: right;\">\n",
       "      <th></th>\n",
       "      <th>a</th>\n",
       "      <th>b</th>\n",
       "      <th>c</th>\n",
       "    </tr>\n",
       "  </thead>\n",
       "  <tbody>\n",
       "    <tr>\n",
       "      <th>2</th>\n",
       "      <td>0.124912</td>\n",
       "      <td>0.357459</td>\n",
       "      <td>0.586972</td>\n",
       "    </tr>\n",
       "  </tbody>\n",
       "</table>\n",
       "</div>"
      ],
      "text/plain": [
       "          a         b         c\n",
       "2  0.124912  0.357459  0.586972"
      ]
     },
     "execution_count": 150,
     "metadata": {},
     "output_type": "execute_result"
    }
   ],
   "source": [
    "# pure python\n",
    "df33[(df33['a'] < df33['b']) & (df33['b'] < df33['c'])]"
   ]
  },
  {
   "cell_type": "code",
   "execution_count": 151,
   "id": "a82b1a28-1475-406e-8b8f-90aee05b8eeb",
   "metadata": {},
   "outputs": [
    {
     "data": {
      "text/html": [
       "<div>\n",
       "<style scoped>\n",
       "    .dataframe tbody tr th:only-of-type {\n",
       "        vertical-align: middle;\n",
       "    }\n",
       "\n",
       "    .dataframe tbody tr th {\n",
       "        vertical-align: top;\n",
       "    }\n",
       "\n",
       "    .dataframe thead th {\n",
       "        text-align: right;\n",
       "    }\n",
       "</style>\n",
       "<table border=\"1\" class=\"dataframe\">\n",
       "  <thead>\n",
       "    <tr style=\"text-align: right;\">\n",
       "      <th></th>\n",
       "      <th>a</th>\n",
       "      <th>b</th>\n",
       "      <th>c</th>\n",
       "    </tr>\n",
       "  </thead>\n",
       "  <tbody>\n",
       "    <tr>\n",
       "      <th>2</th>\n",
       "      <td>0.124912</td>\n",
       "      <td>0.357459</td>\n",
       "      <td>0.586972</td>\n",
       "    </tr>\n",
       "  </tbody>\n",
       "</table>\n",
       "</div>"
      ],
      "text/plain": [
       "          a         b         c\n",
       "2  0.124912  0.357459  0.586972"
      ]
     },
     "execution_count": 151,
     "metadata": {},
     "output_type": "execute_result"
    }
   ],
   "source": [
    "# query\n",
    "df33.query('(a < b) & (b < c)')"
   ]
  },
  {
   "cell_type": "markdown",
   "id": "647037da-162d-4464-a27a-cb60769f2030",
   "metadata": {},
   "source": [
    "Do the same thing but fall back on a named index if there is no column with the name a."
   ]
  },
  {
   "cell_type": "code",
   "execution_count": 152,
   "id": "c17cb24a-5594-4a5d-8d25-64f36529e673",
   "metadata": {},
   "outputs": [
    {
     "data": {
      "text/html": [
       "<div>\n",
       "<style scoped>\n",
       "    .dataframe tbody tr th:only-of-type {\n",
       "        vertical-align: middle;\n",
       "    }\n",
       "\n",
       "    .dataframe tbody tr th {\n",
       "        vertical-align: top;\n",
       "    }\n",
       "\n",
       "    .dataframe thead th {\n",
       "        text-align: right;\n",
       "    }\n",
       "</style>\n",
       "<table border=\"1\" class=\"dataframe\">\n",
       "  <thead>\n",
       "    <tr style=\"text-align: right;\">\n",
       "      <th></th>\n",
       "      <th>b</th>\n",
       "      <th>c</th>\n",
       "    </tr>\n",
       "    <tr>\n",
       "      <th>a</th>\n",
       "      <th></th>\n",
       "      <th></th>\n",
       "    </tr>\n",
       "  </thead>\n",
       "  <tbody>\n",
       "    <tr>\n",
       "      <th>0</th>\n",
       "      <td>0</td>\n",
       "      <td>1</td>\n",
       "    </tr>\n",
       "    <tr>\n",
       "      <th>1</th>\n",
       "      <td>2</td>\n",
       "      <td>1</td>\n",
       "    </tr>\n",
       "    <tr>\n",
       "      <th>2</th>\n",
       "      <td>4</td>\n",
       "      <td>2</td>\n",
       "    </tr>\n",
       "    <tr>\n",
       "      <th>3</th>\n",
       "      <td>4</td>\n",
       "      <td>2</td>\n",
       "    </tr>\n",
       "    <tr>\n",
       "      <th>4</th>\n",
       "      <td>2</td>\n",
       "      <td>1</td>\n",
       "    </tr>\n",
       "    <tr>\n",
       "      <th>5</th>\n",
       "      <td>4</td>\n",
       "      <td>3</td>\n",
       "    </tr>\n",
       "    <tr>\n",
       "      <th>6</th>\n",
       "      <td>0</td>\n",
       "      <td>4</td>\n",
       "    </tr>\n",
       "    <tr>\n",
       "      <th>7</th>\n",
       "      <td>2</td>\n",
       "      <td>1</td>\n",
       "    </tr>\n",
       "    <tr>\n",
       "      <th>8</th>\n",
       "      <td>2</td>\n",
       "      <td>0</td>\n",
       "    </tr>\n",
       "    <tr>\n",
       "      <th>9</th>\n",
       "      <td>3</td>\n",
       "      <td>0</td>\n",
       "    </tr>\n",
       "  </tbody>\n",
       "</table>\n",
       "</div>"
      ],
      "text/plain": [
       "   b  c\n",
       "a      \n",
       "0  0  1\n",
       "1  2  1\n",
       "2  4  2\n",
       "3  4  2\n",
       "4  2  1\n",
       "5  4  3\n",
       "6  0  4\n",
       "7  2  1\n",
       "8  2  0\n",
       "9  3  0"
      ]
     },
     "execution_count": 152,
     "metadata": {},
     "output_type": "execute_result"
    }
   ],
   "source": [
    "df34 = pd.DataFrame(np.random.randint(n / 2, size=(n, 2)), columns=list('bc'))\n",
    "df34.index.name = 'a'\n",
    "df34"
   ]
  },
  {
   "cell_type": "code",
   "execution_count": 153,
   "id": "ecb55622-438b-4a1a-ab63-1981abced152",
   "metadata": {},
   "outputs": [
    {
     "data": {
      "text/html": [
       "<div>\n",
       "<style scoped>\n",
       "    .dataframe tbody tr th:only-of-type {\n",
       "        vertical-align: middle;\n",
       "    }\n",
       "\n",
       "    .dataframe tbody tr th {\n",
       "        vertical-align: top;\n",
       "    }\n",
       "\n",
       "    .dataframe thead th {\n",
       "        text-align: right;\n",
       "    }\n",
       "</style>\n",
       "<table border=\"1\" class=\"dataframe\">\n",
       "  <thead>\n",
       "    <tr style=\"text-align: right;\">\n",
       "      <th></th>\n",
       "      <th>b</th>\n",
       "      <th>c</th>\n",
       "    </tr>\n",
       "    <tr>\n",
       "      <th>a</th>\n",
       "      <th></th>\n",
       "      <th></th>\n",
       "    </tr>\n",
       "  </thead>\n",
       "  <tbody>\n",
       "  </tbody>\n",
       "</table>\n",
       "</div>"
      ],
      "text/plain": [
       "Empty DataFrame\n",
       "Columns: [b, c]\n",
       "Index: []"
      ]
     },
     "execution_count": 153,
     "metadata": {},
     "output_type": "execute_result"
    }
   ],
   "source": [
    "df34.query('a < b and b < c')"
   ]
  },
  {
   "cell_type": "markdown",
   "id": "8e7dc217-f481-494d-89c5-9414d1069a4c",
   "metadata": {},
   "source": [
    "If instead you don’t want to or cannot name your index, you can use the name index in your query expression:"
   ]
  },
  {
   "cell_type": "code",
   "execution_count": 154,
   "id": "e9f802ac-c36f-4848-aedc-d16ef3362cd8",
   "metadata": {},
   "outputs": [
    {
     "data": {
      "text/html": [
       "<div>\n",
       "<style scoped>\n",
       "    .dataframe tbody tr th:only-of-type {\n",
       "        vertical-align: middle;\n",
       "    }\n",
       "\n",
       "    .dataframe tbody tr th {\n",
       "        vertical-align: top;\n",
       "    }\n",
       "\n",
       "    .dataframe thead th {\n",
       "        text-align: right;\n",
       "    }\n",
       "</style>\n",
       "<table border=\"1\" class=\"dataframe\">\n",
       "  <thead>\n",
       "    <tr style=\"text-align: right;\">\n",
       "      <th></th>\n",
       "      <th>b</th>\n",
       "      <th>c</th>\n",
       "    </tr>\n",
       "  </thead>\n",
       "  <tbody>\n",
       "    <tr>\n",
       "      <th>0</th>\n",
       "      <td>3</td>\n",
       "      <td>0</td>\n",
       "    </tr>\n",
       "    <tr>\n",
       "      <th>1</th>\n",
       "      <td>6</td>\n",
       "      <td>5</td>\n",
       "    </tr>\n",
       "    <tr>\n",
       "      <th>2</th>\n",
       "      <td>0</td>\n",
       "      <td>8</td>\n",
       "    </tr>\n",
       "    <tr>\n",
       "      <th>3</th>\n",
       "      <td>0</td>\n",
       "      <td>3</td>\n",
       "    </tr>\n",
       "    <tr>\n",
       "      <th>4</th>\n",
       "      <td>8</td>\n",
       "      <td>2</td>\n",
       "    </tr>\n",
       "    <tr>\n",
       "      <th>5</th>\n",
       "      <td>5</td>\n",
       "      <td>4</td>\n",
       "    </tr>\n",
       "    <tr>\n",
       "      <th>6</th>\n",
       "      <td>2</td>\n",
       "      <td>4</td>\n",
       "    </tr>\n",
       "    <tr>\n",
       "      <th>7</th>\n",
       "      <td>0</td>\n",
       "      <td>8</td>\n",
       "    </tr>\n",
       "    <tr>\n",
       "      <th>8</th>\n",
       "      <td>0</td>\n",
       "      <td>7</td>\n",
       "    </tr>\n",
       "    <tr>\n",
       "      <th>9</th>\n",
       "      <td>7</td>\n",
       "      <td>3</td>\n",
       "    </tr>\n",
       "  </tbody>\n",
       "</table>\n",
       "</div>"
      ],
      "text/plain": [
       "   b  c\n",
       "0  3  0\n",
       "1  6  5\n",
       "2  0  8\n",
       "3  0  3\n",
       "4  8  2\n",
       "5  5  4\n",
       "6  2  4\n",
       "7  0  8\n",
       "8  0  7\n",
       "9  7  3"
      ]
     },
     "execution_count": 154,
     "metadata": {},
     "output_type": "execute_result"
    }
   ],
   "source": [
    "df35 = pd.DataFrame(np.random.randint(n, size=(n, 2)), columns=list('bc'))\n",
    "df35"
   ]
  },
  {
   "cell_type": "code",
   "execution_count": 155,
   "id": "f2cc3a1b-7ec8-466d-8e4d-550f9974960a",
   "metadata": {},
   "outputs": [
    {
     "data": {
      "text/html": [
       "<div>\n",
       "<style scoped>\n",
       "    .dataframe tbody tr th:only-of-type {\n",
       "        vertical-align: middle;\n",
       "    }\n",
       "\n",
       "    .dataframe tbody tr th {\n",
       "        vertical-align: top;\n",
       "    }\n",
       "\n",
       "    .dataframe thead th {\n",
       "        text-align: right;\n",
       "    }\n",
       "</style>\n",
       "<table border=\"1\" class=\"dataframe\">\n",
       "  <thead>\n",
       "    <tr style=\"text-align: right;\">\n",
       "      <th></th>\n",
       "      <th>b</th>\n",
       "      <th>c</th>\n",
       "    </tr>\n",
       "  </thead>\n",
       "  <tbody>\n",
       "  </tbody>\n",
       "</table>\n",
       "</div>"
      ],
      "text/plain": [
       "Empty DataFrame\n",
       "Columns: [b, c]\n",
       "Index: []"
      ]
     },
     "execution_count": 155,
     "metadata": {},
     "output_type": "execute_result"
    }
   ],
   "source": [
    "df35.query('index < b < c')"
   ]
  },
  {
   "cell_type": "markdown",
   "id": "cb5b4f05-ead5-4c4a-8025-ff8343a718e7",
   "metadata": {},
   "source": [
    ">Note\n",
    ">\n",
    ">If the name of your index overlaps with a column name, the column name is given precedence. For example,"
   ]
  },
  {
   "cell_type": "code",
   "execution_count": 156,
   "id": "ba69e9c9-d5ad-41cd-b3b9-4f4b90f1e8d0",
   "metadata": {},
   "outputs": [
    {
     "data": {
      "text/html": [
       "<div>\n",
       "<style scoped>\n",
       "    .dataframe tbody tr th:only-of-type {\n",
       "        vertical-align: middle;\n",
       "    }\n",
       "\n",
       "    .dataframe tbody tr th {\n",
       "        vertical-align: top;\n",
       "    }\n",
       "\n",
       "    .dataframe thead th {\n",
       "        text-align: right;\n",
       "    }\n",
       "</style>\n",
       "<table border=\"1\" class=\"dataframe\">\n",
       "  <thead>\n",
       "    <tr style=\"text-align: right;\">\n",
       "      <th></th>\n",
       "      <th>a</th>\n",
       "    </tr>\n",
       "    <tr>\n",
       "      <th>a</th>\n",
       "      <th></th>\n",
       "    </tr>\n",
       "  </thead>\n",
       "  <tbody>\n",
       "    <tr>\n",
       "      <th>0</th>\n",
       "      <td>4</td>\n",
       "    </tr>\n",
       "    <tr>\n",
       "      <th>1</th>\n",
       "      <td>3</td>\n",
       "    </tr>\n",
       "    <tr>\n",
       "      <th>2</th>\n",
       "      <td>3</td>\n",
       "    </tr>\n",
       "    <tr>\n",
       "      <th>3</th>\n",
       "      <td>3</td>\n",
       "    </tr>\n",
       "  </tbody>\n",
       "</table>\n",
       "</div>"
      ],
      "text/plain": [
       "   a\n",
       "a   \n",
       "0  4\n",
       "1  3\n",
       "2  3\n",
       "3  3"
      ]
     },
     "execution_count": 156,
     "metadata": {},
     "output_type": "execute_result"
    }
   ],
   "source": [
    "df36 = pd.DataFrame({'a': np.random.randint(5, size=5)})\n",
    "df36.index.name = 'a'\n",
    "df36.query('a > 2')  # uses the column 'a', not the index"
   ]
  },
  {
   "cell_type": "markdown",
   "id": "c9350200-a39e-44c2-a252-80825d69928d",
   "metadata": {},
   "source": [
    ">You can still use the index in a query expression by using the special identifier ‘index’:"
   ]
  },
  {
   "cell_type": "code",
   "execution_count": 157,
   "id": "c67d4d24-9584-460d-bce1-9ba3984b495c",
   "metadata": {},
   "outputs": [
    {
     "data": {
      "text/html": [
       "<div>\n",
       "<style scoped>\n",
       "    .dataframe tbody tr th:only-of-type {\n",
       "        vertical-align: middle;\n",
       "    }\n",
       "\n",
       "    .dataframe tbody tr th {\n",
       "        vertical-align: top;\n",
       "    }\n",
       "\n",
       "    .dataframe thead th {\n",
       "        text-align: right;\n",
       "    }\n",
       "</style>\n",
       "<table border=\"1\" class=\"dataframe\">\n",
       "  <thead>\n",
       "    <tr style=\"text-align: right;\">\n",
       "      <th></th>\n",
       "      <th>a</th>\n",
       "    </tr>\n",
       "    <tr>\n",
       "      <th>a</th>\n",
       "      <th></th>\n",
       "    </tr>\n",
       "  </thead>\n",
       "  <tbody>\n",
       "    <tr>\n",
       "      <th>3</th>\n",
       "      <td>3</td>\n",
       "    </tr>\n",
       "    <tr>\n",
       "      <th>4</th>\n",
       "      <td>1</td>\n",
       "    </tr>\n",
       "  </tbody>\n",
       "</table>\n",
       "</div>"
      ],
      "text/plain": [
       "   a\n",
       "a   \n",
       "3  3\n",
       "4  1"
      ]
     },
     "execution_count": 157,
     "metadata": {},
     "output_type": "execute_result"
    }
   ],
   "source": [
    "df36.query('index > 2')"
   ]
  },
  {
   "cell_type": "markdown",
   "id": "9f887400-02fd-471b-a9c9-8ff8020594f8",
   "metadata": {},
   "source": [
    ">If for some reason you have a column named index, then you can refer to the index as ilevel_0 as well, but at this point you should consider renaming your columns to something less ambiguous.\n",
    "\n",
    "## MultiIndex query() Syntax\n",
    "You can also use the levels of a DataFrame with a MultiIndex as if they were columns in the frame:"
   ]
  },
  {
   "cell_type": "code",
   "execution_count": 158,
   "id": "e5fcb7e6-b886-4071-930f-bada68a6863a",
   "metadata": {},
   "outputs": [
    {
     "data": {
      "text/plain": [
       "array(['red', 'green', 'green', 'red', 'red', 'green', 'red', 'red',\n",
       "       'green', 'red'], dtype='<U5')"
      ]
     },
     "execution_count": 158,
     "metadata": {},
     "output_type": "execute_result"
    }
   ],
   "source": [
    "n = 10\n",
    "colors = np.random.choice(['red', 'green'], size=n)\n",
    "foods = np.random.choice(['eggs', 'ham'], size=n)\n",
    "colors"
   ]
  },
  {
   "cell_type": "code",
   "execution_count": null,
   "id": "ee65387d-4330-410d-a8c7-b06f67a56856",
   "metadata": {},
   "outputs": [],
   "source": []
  },
  {
   "cell_type": "code",
   "execution_count": null,
   "id": "3a2aa068-5782-435e-9252-8539f8e187fa",
   "metadata": {},
   "outputs": [],
   "source": []
  },
  {
   "cell_type": "code",
   "execution_count": null,
   "id": "bb7525ce-f6b0-49d1-a85b-9b3a95082b07",
   "metadata": {},
   "outputs": [],
   "source": []
  },
  {
   "cell_type": "code",
   "execution_count": null,
   "id": "3b649b7d-caae-4827-949b-f1dfc0fccc46",
   "metadata": {},
   "outputs": [],
   "source": []
  },
  {
   "cell_type": "markdown",
   "id": "c643af62-bed2-4038-aac9-a9f65cc9803c",
   "metadata": {},
   "source": [
    "\n",
    "\n",
    "In [231]: \n",
    "array(['red', 'red', 'red', 'green', 'green', 'green', 'green', 'green',\n",
    "       'green', 'green'], dtype='<U5')\n",
    "\n",
    "In [235]: foods\n",
    "Out[235]: \n",
    "array(['ham', 'ham', 'eggs', 'eggs', 'eggs', 'ham', 'ham', 'eggs', 'eggs',\n",
    "       'eggs'], dtype='<U4')\n",
    "\n",
    "In [236]: index = pd.MultiIndex.from_arrays([colors, foods], names=['color', 'food'])\n",
    "\n",
    "In [237]: df = pd.DataFrame(np.random.randn(n, 2), index=index)\n",
    "\n",
    "In [238]: df\n",
    "Out[238]: \n",
    "                   0         1\n",
    "color food                    \n",
    "red   ham   0.194889 -0.381994\n",
    "      ham   0.318587  2.089075\n",
    "      eggs -0.728293 -0.090255\n",
    "green eggs -0.748199  1.318931\n",
    "      eggs -2.029766  0.792652\n",
    "      ham   0.461007 -0.542749\n",
    "      ham  -0.305384 -0.479195\n",
    "      eggs  0.095031 -0.270099\n",
    "      eggs -0.707140 -0.773882\n",
    "      eggs  0.229453  0.304418\n",
    "\n",
    "In [239]: df.query('color == \"red\"')\n",
    "Out[239]: \n",
    "                   0         1\n",
    "color food                    \n",
    "red   ham   0.194889 -0.381994\n",
    "      ham   0.318587  2.089075\n",
    "      eggs -0.728293 -0.090255\n",
    "If the levels of the MultiIndex are unnamed, you can refer to them using special names:\n",
    "\n",
    "In [240]: df.index.names = [None, None]\n",
    "\n",
    "In [241]: df\n",
    "Out[241]: \n",
    "                   0         1\n",
    "red   ham   0.194889 -0.381994\n",
    "      ham   0.318587  2.089075\n",
    "      eggs -0.728293 -0.090255\n",
    "green eggs -0.748199  1.318931\n",
    "      eggs -2.029766  0.792652\n",
    "      ham   0.461007 -0.542749\n",
    "      ham  -0.305384 -0.479195\n",
    "      eggs  0.095031 -0.270099\n",
    "      eggs -0.707140 -0.773882\n",
    "      eggs  0.229453  0.304418\n",
    "\n",
    "In [242]: df.query('ilevel_0 == \"red\"')\n",
    "Out[242]: \n",
    "                 0         1\n",
    "red ham   0.194889 -0.381994\n",
    "    ham   0.318587  2.089075\n",
    "    eggs -0.728293 -0.090255\n",
    "The convention is ilevel_0, which means “index level 0” for the 0th level of the index.\n",
    "\n",
    "query() Use Cases\n",
    "A use case for query() is when you have a collection of DataFrame objects that have a subset of column names (or index levels/names) in common. You can pass the same query to both frames without having to specify which frame you’re interested in querying\n",
    "\n",
    "In [243]: df = pd.DataFrame(np.random.rand(n, 3), columns=list('abc'))\n",
    "\n",
    "In [244]: df\n",
    "Out[244]: \n",
    "          a         b         c\n",
    "0  0.224283  0.736107  0.139168\n",
    "1  0.302827  0.657803  0.713897\n",
    "2  0.611185  0.136624  0.984960\n",
    "3  0.195246  0.123436  0.627712\n",
    "4  0.618673  0.371660  0.047902\n",
    "5  0.480088  0.062993  0.185760\n",
    "6  0.568018  0.483467  0.445289\n",
    "7  0.309040  0.274580  0.587101\n",
    "8  0.258993  0.477769  0.370255\n",
    "9  0.550459  0.840870  0.304611\n",
    "\n",
    "In [245]: df2 = pd.DataFrame(np.random.rand(n + 2, 3), columns=df.columns)\n",
    "\n",
    "In [246]: df2\n",
    "Out[246]: \n",
    "           a         b         c\n",
    "0   0.357579  0.229800  0.596001\n",
    "1   0.309059  0.957923  0.965663\n",
    "2   0.123102  0.336914  0.318616\n",
    "3   0.526506  0.323321  0.860813\n",
    "4   0.518736  0.486514  0.384724\n",
    "5   0.190804  0.505723  0.614533\n",
    "6   0.891939  0.623977  0.676639\n",
    "7   0.480559  0.378528  0.460858\n",
    "8   0.420223  0.136404  0.141295\n",
    "9   0.732206  0.419540  0.604675\n",
    "10  0.604466  0.848974  0.896165\n",
    "11  0.589168  0.920046  0.732716\n",
    "\n",
    "In [247]: expr = '0.0 <= a <= c <= 0.5'\n",
    "\n",
    "In [248]: map(lambda frame: frame.query(expr), [df, df2])\n",
    "Out[248]: <map at 0x7fc1d96ba4c0>\n",
    "query() Python versus pandas Syntax Comparison\n",
    "Full numpy-like syntax:\n",
    "\n",
    "In [249]: df = pd.DataFrame(np.random.randint(n, size=(n, 3)), columns=list('abc'))\n",
    "\n",
    "In [250]: df\n",
    "Out[250]: \n",
    "   a  b  c\n",
    "0  7  8  9\n",
    "1  1  0  7\n",
    "2  2  7  2\n",
    "3  6  2  2\n",
    "4  2  6  3\n",
    "5  3  8  2\n",
    "6  1  7  2\n",
    "7  5  1  5\n",
    "8  9  8  0\n",
    "9  1  5  0\n",
    "\n",
    "In [251]: df.query('(a < b) & (b < c)')\n",
    "Out[251]: \n",
    "   a  b  c\n",
    "0  7  8  9\n",
    "\n",
    "In [252]: df[(df['a'] < df['b']) & (df['b'] < df['c'])]\n",
    "Out[252]: \n",
    "   a  b  c\n",
    "0  7  8  9\n",
    "Slightly nicer by removing the parentheses (by binding making comparison operators bind tighter than & and |).\n",
    "\n",
    "In [253]: df.query('a < b & b < c')\n",
    "Out[253]: \n",
    "   a  b  c\n",
    "0  7  8  9\n",
    "Use English instead of symbols:\n",
    "\n",
    "In [254]: df.query('a < b and b < c')\n",
    "Out[254]: \n",
    "   a  b  c\n",
    "0  7  8  9\n",
    "Pretty close to how you might write it on paper:\n",
    "\n",
    "In [255]: df.query('a < b < c')\n",
    "Out[255]: \n",
    "   a  b  c\n",
    "0  7  8  9\n",
    "The in and not in operators\n",
    "query() also supports special use of Python’s in and not in comparison operators, providing a succinct syntax for calling the isin method of a Series or DataFrame.\n",
    "\n",
    "# get all rows where columns \"a\" and \"b\" have overlapping values\n",
    "In [256]: df = pd.DataFrame({'a': list('aabbccddeeff'), 'b': list('aaaabbbbcccc'),\n",
    "   .....:                    'c': np.random.randint(5, size=12),\n",
    "   .....:                    'd': np.random.randint(9, size=12)})\n",
    "   .....: \n",
    "\n",
    "In [257]: df\n",
    "Out[257]: \n",
    "    a  b  c  d\n",
    "0   a  a  2  6\n",
    "1   a  a  4  7\n",
    "2   b  a  1  6\n",
    "3   b  a  2  1\n",
    "4   c  b  3  6\n",
    "5   c  b  0  2\n",
    "6   d  b  3  3\n",
    "7   d  b  2  1\n",
    "8   e  c  4  3\n",
    "9   e  c  2  0\n",
    "10  f  c  0  6\n",
    "11  f  c  1  2\n",
    "\n",
    "In [258]: df.query('a in b')\n",
    "Out[258]: \n",
    "   a  b  c  d\n",
    "0  a  a  2  6\n",
    "1  a  a  4  7\n",
    "2  b  a  1  6\n",
    "3  b  a  2  1\n",
    "4  c  b  3  6\n",
    "5  c  b  0  2\n",
    "\n",
    "# How you'd do it in pure Python\n",
    "In [259]: df[df['a'].isin(df['b'])]\n",
    "Out[259]: \n",
    "   a  b  c  d\n",
    "0  a  a  2  6\n",
    "1  a  a  4  7\n",
    "2  b  a  1  6\n",
    "3  b  a  2  1\n",
    "4  c  b  3  6\n",
    "5  c  b  0  2\n",
    "\n",
    "In [260]: df.query('a not in b')\n",
    "Out[260]: \n",
    "    a  b  c  d\n",
    "6   d  b  3  3\n",
    "7   d  b  2  1\n",
    "8   e  c  4  3\n",
    "9   e  c  2  0\n",
    "10  f  c  0  6\n",
    "11  f  c  1  2\n",
    "\n",
    "# pure Python\n",
    "In [261]: df[~df['a'].isin(df['b'])]\n",
    "Out[261]: \n",
    "    a  b  c  d\n",
    "6   d  b  3  3\n",
    "7   d  b  2  1\n",
    "8   e  c  4  3\n",
    "9   e  c  2  0\n",
    "10  f  c  0  6\n",
    "11  f  c  1  2\n",
    "You can combine this with other expressions for very succinct queries:\n",
    "\n",
    "# rows where cols a and b have overlapping values\n",
    "# and col c's values are less than col d's\n",
    "In [262]: df.query('a in b and c < d')\n",
    "Out[262]: \n",
    "   a  b  c  d\n",
    "0  a  a  2  6\n",
    "1  a  a  4  7\n",
    "2  b  a  1  6\n",
    "4  c  b  3  6\n",
    "5  c  b  0  2\n",
    "\n",
    "# pure Python\n",
    "In [263]: df[df['b'].isin(df['a']) & (df['c'] < df['d'])]\n",
    "Out[263]: \n",
    "    a  b  c  d\n",
    "0   a  a  2  6\n",
    "1   a  a  4  7\n",
    "2   b  a  1  6\n",
    "4   c  b  3  6\n",
    "5   c  b  0  2\n",
    "10  f  c  0  6\n",
    "11  f  c  1  2\n",
    "Note\n",
    "\n",
    "Note that in and not in are evaluated in Python, since numexpr has no equivalent of this operation. However, only the in/not in expression itself is evaluated in vanilla Python. For example, in the expression\n",
    "\n",
    "df.query('a in b + c + d')\n",
    "(b + c + d) is evaluated by numexpr and then the in operation is evaluated in plain Python. In general, any operations that can be evaluated using numexpr will be.\n",
    "\n",
    "Special use of the == operator with list objects\n",
    "Comparing a list of values to a column using ==/!= works similarly to in/not in.\n",
    "\n",
    "In [264]: df.query('b == [\"a\", \"b\", \"c\"]')\n",
    "Out[264]: \n",
    "    a  b  c  d\n",
    "0   a  a  2  6\n",
    "1   a  a  4  7\n",
    "2   b  a  1  6\n",
    "3   b  a  2  1\n",
    "4   c  b  3  6\n",
    "5   c  b  0  2\n",
    "6   d  b  3  3\n",
    "7   d  b  2  1\n",
    "8   e  c  4  3\n",
    "9   e  c  2  0\n",
    "10  f  c  0  6\n",
    "11  f  c  1  2\n",
    "\n",
    "# pure Python\n",
    "In [265]: df[df['b'].isin([\"a\", \"b\", \"c\"])]\n",
    "Out[265]: \n",
    "    a  b  c  d\n",
    "0   a  a  2  6\n",
    "1   a  a  4  7\n",
    "2   b  a  1  6\n",
    "3   b  a  2  1\n",
    "4   c  b  3  6\n",
    "5   c  b  0  2\n",
    "6   d  b  3  3\n",
    "7   d  b  2  1\n",
    "8   e  c  4  3\n",
    "9   e  c  2  0\n",
    "10  f  c  0  6\n",
    "11  f  c  1  2\n",
    "\n",
    "In [266]: df.query('c == [1, 2]')\n",
    "Out[266]: \n",
    "    a  b  c  d\n",
    "0   a  a  2  6\n",
    "2   b  a  1  6\n",
    "3   b  a  2  1\n",
    "7   d  b  2  1\n",
    "9   e  c  2  0\n",
    "11  f  c  1  2\n",
    "\n",
    "In [267]: df.query('c != [1, 2]')\n",
    "Out[267]: \n",
    "    a  b  c  d\n",
    "1   a  a  4  7\n",
    "4   c  b  3  6\n",
    "5   c  b  0  2\n",
    "6   d  b  3  3\n",
    "8   e  c  4  3\n",
    "10  f  c  0  6\n",
    "\n",
    "# using in/not in\n",
    "In [268]: df.query('[1, 2] in c')\n",
    "Out[268]: \n",
    "    a  b  c  d\n",
    "0   a  a  2  6\n",
    "2   b  a  1  6\n",
    "3   b  a  2  1\n",
    "7   d  b  2  1\n",
    "9   e  c  2  0\n",
    "11  f  c  1  2\n",
    "\n",
    "In [269]: df.query('[1, 2] not in c')\n",
    "Out[269]: \n",
    "    a  b  c  d\n",
    "1   a  a  4  7\n",
    "4   c  b  3  6\n",
    "5   c  b  0  2\n",
    "6   d  b  3  3\n",
    "8   e  c  4  3\n",
    "10  f  c  0  6\n",
    "\n",
    "# pure Python\n",
    "In [270]: df[df['c'].isin([1, 2])]\n",
    "Out[270]: \n",
    "    a  b  c  d\n",
    "0   a  a  2  6\n",
    "2   b  a  1  6\n",
    "3   b  a  2  1\n",
    "7   d  b  2  1\n",
    "9   e  c  2  0\n",
    "11  f  c  1  2\n",
    "Boolean operators\n",
    "You can negate boolean expressions with the word not or the ~ operator.\n",
    "\n",
    "In [271]: df = pd.DataFrame(np.random.rand(n, 3), columns=list('abc'))\n",
    "\n",
    "In [272]: df['bools'] = np.random.rand(len(df)) > 0.5\n",
    "\n",
    "In [273]: df.query('~bools')\n",
    "Out[273]: \n",
    "          a         b         c  bools\n",
    "2  0.697753  0.212799  0.329209  False\n",
    "7  0.275396  0.691034  0.826619  False\n",
    "8  0.190649  0.558748  0.262467  False\n",
    "\n",
    "In [274]: df.query('not bools')\n",
    "Out[274]: \n",
    "          a         b         c  bools\n",
    "2  0.697753  0.212799  0.329209  False\n",
    "7  0.275396  0.691034  0.826619  False\n",
    "8  0.190649  0.558748  0.262467  False\n",
    "\n",
    "In [275]: df.query('not bools') == df[~df['bools']]\n",
    "Out[275]: \n",
    "      a     b     c  bools\n",
    "2  True  True  True   True\n",
    "7  True  True  True   True\n",
    "8  True  True  True   True\n",
    "Of course, expressions can be arbitrarily complex too:\n",
    "\n",
    "# short query syntax\n",
    "In [276]: shorter = df.query('a < b < c and (not bools) or bools > 2')\n",
    "\n",
    "# equivalent in pure Python\n",
    "In [277]: longer = df[(df['a'] < df['b'])\n",
    "   .....:             & (df['b'] < df['c'])\n",
    "   .....:             & (~df['bools'])\n",
    "   .....:             | (df['bools'] > 2)]\n",
    "   .....: \n",
    "\n",
    "In [278]: shorter\n",
    "Out[278]: \n",
    "          a         b         c  bools\n",
    "7  0.275396  0.691034  0.826619  False\n",
    "\n",
    "In [279]: longer\n",
    "Out[279]: \n",
    "          a         b         c  bools\n",
    "7  0.275396  0.691034  0.826619  False\n",
    "\n",
    "In [280]: shorter == longer\n",
    "Out[280]: \n",
    "      a     b     c  bools\n",
    "7  True  True  True   True\n",
    "Performance of query()\n",
    "DataFrame.query() using numexpr is slightly faster than Python for large frames.\n",
    "\n",
    "../_images/query-perf.png\n",
    "Note\n",
    "\n",
    "You will only see the performance benefits of using the numexpr engine with DataFrame.query() if your frame has more than approximately 200,000 rows.\n",
    "\n",
    "../_images/query-perf-small.png\n",
    "This plot was created using a DataFrame with 3 columns each containing floating point values generated using numpy.random.randn().\n",
    "\n",
    "Duplicate data\n",
    "If you want to identify and remove duplicate rows in a DataFrame, there are two methods that will help: duplicated and drop_duplicates. Each takes as an argument the columns to use to identify duplicated rows.\n",
    "\n",
    "duplicated returns a boolean vector whose length is the number of rows, and which indicates whether a row is duplicated.\n",
    "\n",
    "drop_duplicates removes duplicate rows.\n",
    "\n",
    "By default, the first observed row of a duplicate set is considered unique, but each method has a keep parameter to specify targets to be kept.\n",
    "\n",
    "keep='first' (default): mark / drop duplicates except for the first occurrence.\n",
    "\n",
    "keep='last': mark / drop duplicates except for the last occurrence.\n",
    "\n",
    "keep=False: mark / drop all duplicates.\n",
    "\n",
    "In [281]: df2 = pd.DataFrame({'a': ['one', 'one', 'two', 'two', 'two', 'three', 'four'],\n",
    "   .....:                     'b': ['x', 'y', 'x', 'y', 'x', 'x', 'x'],\n",
    "   .....:                     'c': np.random.randn(7)})\n",
    "   .....: \n",
    "\n",
    "In [282]: df2\n",
    "Out[282]: \n",
    "       a  b         c\n",
    "0    one  x -1.067137\n",
    "1    one  y  0.309500\n",
    "2    two  x -0.211056\n",
    "3    two  y -1.842023\n",
    "4    two  x -0.390820\n",
    "5  three  x -1.964475\n",
    "6   four  x  1.298329\n",
    "\n",
    "In [283]: df2.duplicated('a')\n",
    "Out[283]: \n",
    "0    False\n",
    "1     True\n",
    "2    False\n",
    "3     True\n",
    "4     True\n",
    "5    False\n",
    "6    False\n",
    "dtype: bool\n",
    "\n",
    "In [284]: df2.duplicated('a', keep='last')\n",
    "Out[284]: \n",
    "0     True\n",
    "1    False\n",
    "2     True\n",
    "3     True\n",
    "4    False\n",
    "5    False\n",
    "6    False\n",
    "dtype: bool\n",
    "\n",
    "In [285]: df2.duplicated('a', keep=False)\n",
    "Out[285]: \n",
    "0     True\n",
    "1     True\n",
    "2     True\n",
    "3     True\n",
    "4     True\n",
    "5    False\n",
    "6    False\n",
    "dtype: bool\n",
    "\n",
    "In [286]: df2.drop_duplicates('a')\n",
    "Out[286]: \n",
    "       a  b         c\n",
    "0    one  x -1.067137\n",
    "2    two  x -0.211056\n",
    "5  three  x -1.964475\n",
    "6   four  x  1.298329\n",
    "\n",
    "In [287]: df2.drop_duplicates('a', keep='last')\n",
    "Out[287]: \n",
    "       a  b         c\n",
    "1    one  y  0.309500\n",
    "4    two  x -0.390820\n",
    "5  three  x -1.964475\n",
    "6   four  x  1.298329\n",
    "\n",
    "In [288]: df2.drop_duplicates('a', keep=False)\n",
    "Out[288]: \n",
    "       a  b         c\n",
    "5  three  x -1.964475\n",
    "6   four  x  1.298329\n",
    "Also, you can pass a list of columns to identify duplications.\n",
    "\n",
    "In [289]: df2.duplicated(['a', 'b'])\n",
    "Out[289]: \n",
    "0    False\n",
    "1    False\n",
    "2    False\n",
    "3    False\n",
    "4     True\n",
    "5    False\n",
    "6    False\n",
    "dtype: bool\n",
    "\n",
    "In [290]: df2.drop_duplicates(['a', 'b'])\n",
    "Out[290]: \n",
    "       a  b         c\n",
    "0    one  x -1.067137\n",
    "1    one  y  0.309500\n",
    "2    two  x -0.211056\n",
    "3    two  y -1.842023\n",
    "5  three  x -1.964475\n",
    "6   four  x  1.298329\n",
    "To drop duplicates by index value, use Index.duplicated then perform slicing. The same set of options are available for the keep parameter.\n",
    "\n",
    "In [291]: df3 = pd.DataFrame({'a': np.arange(6),\n",
    "   .....:                     'b': np.random.randn(6)},\n",
    "   .....:                    index=['a', 'a', 'b', 'c', 'b', 'a'])\n",
    "   .....: \n",
    "\n",
    "In [292]: df3\n",
    "Out[292]: \n",
    "   a         b\n",
    "a  0  1.440455\n",
    "a  1  2.456086\n",
    "b  2  1.038402\n",
    "c  3 -0.894409\n",
    "b  4  0.683536\n",
    "a  5  3.082764\n",
    "\n",
    "In [293]: df3.index.duplicated()\n",
    "Out[293]: array([False,  True, False, False,  True,  True])\n",
    "\n",
    "In [294]: df3[~df3.index.duplicated()]\n",
    "Out[294]: \n",
    "   a         b\n",
    "a  0  1.440455\n",
    "b  2  1.038402\n",
    "c  3 -0.894409\n",
    "\n",
    "In [295]: df3[~df3.index.duplicated(keep='last')]\n",
    "Out[295]: \n",
    "   a         b\n",
    "c  3 -0.894409\n",
    "b  4  0.683536\n",
    "a  5  3.082764\n",
    "\n",
    "In [296]: df3[~df3.index.duplicated(keep=False)]\n",
    "Out[296]: \n",
    "   a         b\n",
    "c  3 -0.894409\n",
    "Dictionary-like get() method\n",
    "Each of Series or DataFrame have a get method which can return a default value.\n",
    "\n",
    "In [297]: s = pd.Series([1, 2, 3], index=['a', 'b', 'c'])\n",
    "\n",
    "In [298]: s.get('a')  # equivalent to s['a']\n",
    "Out[298]: 1\n",
    "\n",
    "In [299]: s.get('x', default=-1)\n",
    "Out[299]: -1\n",
    "Looking up values by index/column labels\n",
    "Sometimes you want to extract a set of values given a sequence of row labels and column labels, this can be achieved by DataFrame.melt combined by filtering the corresponding rows with DataFrame.loc. For instance:\n",
    "\n",
    "In [300]: df = pd.DataFrame({'col': [\"A\", \"A\", \"B\", \"B\"],\n",
    "   .....:                    'A': [80, 23, np.nan, 22],\n",
    "   .....:                    'B': [80, 55, 76, 67]})\n",
    "   .....: \n",
    "\n",
    "In [301]: df\n",
    "Out[301]: \n",
    "  col     A   B\n",
    "0   A  80.0  80\n",
    "1   A  23.0  55\n",
    "2   B   NaN  76\n",
    "3   B  22.0  67\n",
    "\n",
    "In [302]: melt = df.melt('col')\n",
    "\n",
    "In [303]: melt = melt.loc[melt['col'] == melt['variable'], 'value']\n",
    "\n",
    "In [304]: melt.reset_index(drop=True)\n",
    "Out[304]: \n",
    "0    80.0\n",
    "1    23.0\n",
    "2    76.0\n",
    "3    67.0\n",
    "Name: value, dtype: float64\n",
    "Formerly this could be achieved with the dedicated DataFrame.lookup method which was deprecated in version 1.2.0.\n",
    "\n",
    "Index objects\n",
    "The pandas Index class and its subclasses can be viewed as implementing an ordered multiset. Duplicates are allowed. However, if you try to convert an Index object with duplicate entries into a set, an exception will be raised.\n",
    "\n",
    "Index also provides the infrastructure necessary for lookups, data alignment, and reindexing. The easiest way to create an Index directly is to pass a list or other sequence to Index:\n",
    "\n",
    "In [305]: index = pd.Index(['e', 'd', 'a', 'b'])\n",
    "\n",
    "In [306]: index\n",
    "Out[306]: Index(['e', 'd', 'a', 'b'], dtype='object')\n",
    "\n",
    "In [307]: 'd' in index\n",
    "Out[307]: True\n",
    "You can also pass a name to be stored in the index:\n",
    "\n",
    "In [308]: index = pd.Index(['e', 'd', 'a', 'b'], name='something')\n",
    "\n",
    "In [309]: index.name\n",
    "Out[309]: 'something'\n",
    "The name, if set, will be shown in the console display:\n",
    "\n",
    "In [310]: index = pd.Index(list(range(5)), name='rows')\n",
    "\n",
    "In [311]: columns = pd.Index(['A', 'B', 'C'], name='cols')\n",
    "\n",
    "In [312]: df = pd.DataFrame(np.random.randn(5, 3), index=index, columns=columns)\n",
    "\n",
    "In [313]: df\n",
    "Out[313]: \n",
    "cols         A         B         C\n",
    "rows                              \n",
    "0     1.295989 -1.051694  1.340429\n",
    "1    -2.366110  0.428241  0.387275\n",
    "2     0.433306  0.929548  0.278094\n",
    "3     2.154730 -0.315628  0.264223\n",
    "4     1.126818  1.132290 -0.353310\n",
    "\n",
    "In [314]: df['A']\n",
    "Out[314]: \n",
    "rows\n",
    "0    1.295989\n",
    "1   -2.366110\n",
    "2    0.433306\n",
    "3    2.154730\n",
    "4    1.126818\n",
    "Name: A, dtype: float64\n",
    "Setting metadata\n",
    "Indexes are “mostly immutable”, but it is possible to set and change their name attribute. You can use the rename, set_names to set these attributes directly, and they default to returning a copy.\n",
    "\n",
    "See Advanced Indexing for usage of MultiIndexes.\n",
    "\n",
    "In [315]: ind = pd.Index([1, 2, 3])\n",
    "\n",
    "In [316]: ind.rename(\"apple\")\n",
    "Out[316]: Int64Index([1, 2, 3], dtype='int64', name='apple')\n",
    "\n",
    "In [317]: ind\n",
    "Out[317]: Int64Index([1, 2, 3], dtype='int64')\n",
    "\n",
    "In [318]: ind.set_names([\"apple\"], inplace=True)\n",
    "\n",
    "In [319]: ind.name = \"bob\"\n",
    "\n",
    "In [320]: ind\n",
    "Out[320]: Int64Index([1, 2, 3], dtype='int64', name='bob')\n",
    "set_names, set_levels, and set_codes also take an optional level argument\n",
    "\n",
    "In [321]: index = pd.MultiIndex.from_product([range(3), ['one', 'two']], names=['first', 'second'])\n",
    "\n",
    "In [322]: index\n",
    "Out[322]: \n",
    "MultiIndex([(0, 'one'),\n",
    "            (0, 'two'),\n",
    "            (1, 'one'),\n",
    "            (1, 'two'),\n",
    "            (2, 'one'),\n",
    "            (2, 'two')],\n",
    "           names=['first', 'second'])\n",
    "\n",
    "In [323]: index.levels[1]\n",
    "Out[323]: Index(['one', 'two'], dtype='object', name='second')\n",
    "\n",
    "In [324]: index.set_levels([\"a\", \"b\"], level=1)\n",
    "Out[324]: \n",
    "MultiIndex([(0, 'a'),\n",
    "            (0, 'b'),\n",
    "            (1, 'a'),\n",
    "            (1, 'b'),\n",
    "            (2, 'a'),\n",
    "            (2, 'b')],\n",
    "           names=['first', 'second'])\n",
    "Set operations on Index objects\n",
    "The two main operations are union and intersection. Difference is provided via the .difference() method.\n",
    "\n",
    "In [325]: a = pd.Index(['c', 'b', 'a'])\n",
    "\n",
    "In [326]: b = pd.Index(['c', 'e', 'd'])\n",
    "\n",
    "In [327]: a.difference(b)\n",
    "Out[327]: Index(['a', 'b'], dtype='object')\n",
    "Also available is the symmetric_difference operation, which returns elements that appear in either idx1 or idx2, but not in both. This is equivalent to the Index created by idx1.difference(idx2).union(idx2.difference(idx1)), with duplicates dropped.\n",
    "\n",
    "In [328]: idx1 = pd.Index([1, 2, 3, 4])\n",
    "\n",
    "In [329]: idx2 = pd.Index([2, 3, 4, 5])\n",
    "\n",
    "In [330]: idx1.symmetric_difference(idx2)\n",
    "Out[330]: Int64Index([1, 5], dtype='int64')\n",
    "Note\n",
    "\n",
    "The resulting index from a set operation will be sorted in ascending order.\n",
    "\n",
    "When performing Index.union() between indexes with different dtypes, the indexes must be cast to a common dtype. Typically, though not always, this is object dtype. The exception is when performing a union between integer and float data. In this case, the integer values are converted to float\n",
    "\n",
    "In [331]: idx1 = pd.Index([0, 1, 2])\n",
    "\n",
    "In [332]: idx2 = pd.Index([0.5, 1.5])\n",
    "\n",
    "In [333]: idx1.union(idx2)\n",
    "Out[333]: Float64Index([0.0, 0.5, 1.0, 1.5, 2.0], dtype='float64')\n",
    "Missing values\n",
    "Important\n",
    "\n",
    "Even though Index can hold missing values (NaN), it should be avoided if you do not want any unexpected results. For example, some operations exclude missing values implicitly.\n",
    "\n",
    "Index.fillna fills missing values with specified scalar value.\n",
    "\n",
    "In [334]: idx1 = pd.Index([1, np.nan, 3, 4])\n",
    "\n",
    "In [335]: idx1\n",
    "Out[335]: Float64Index([1.0, nan, 3.0, 4.0], dtype='float64')\n",
    "\n",
    "In [336]: idx1.fillna(2)\n",
    "Out[336]: Float64Index([1.0, 2.0, 3.0, 4.0], dtype='float64')\n",
    "\n",
    "In [337]: idx2 = pd.DatetimeIndex([pd.Timestamp('2011-01-01'),\n",
    "   .....:                          pd.NaT,\n",
    "   .....:                          pd.Timestamp('2011-01-03')])\n",
    "   .....: \n",
    "\n",
    "In [338]: idx2\n",
    "Out[338]: DatetimeIndex(['2011-01-01', 'NaT', '2011-01-03'], dtype='datetime64[ns]', freq=None)\n",
    "\n",
    "In [339]: idx2.fillna(pd.Timestamp('2011-01-02'))\n",
    "Out[339]: DatetimeIndex(['2011-01-01', '2011-01-02', '2011-01-03'], dtype='datetime64[ns]', freq=None)\n",
    "Set / reset index\n",
    "Occasionally you will load or create a data set into a DataFrame and want to add an index after you’ve already done so. There are a couple of different ways.\n",
    "\n",
    "Set an index\n",
    "DataFrame has a set_index() method which takes a column name (for a regular Index) or a list of column names (for a MultiIndex). To create a new, re-indexed DataFrame:\n",
    "\n",
    "In [340]: data\n",
    "Out[340]: \n",
    "     a    b  c    d\n",
    "0  bar  one  z  1.0\n",
    "1  bar  two  y  2.0\n",
    "2  foo  one  x  3.0\n",
    "3  foo  two  w  4.0\n",
    "\n",
    "In [341]: indexed1 = data.set_index('c')\n",
    "\n",
    "In [342]: indexed1\n",
    "Out[342]: \n",
    "     a    b    d\n",
    "c               \n",
    "z  bar  one  1.0\n",
    "y  bar  two  2.0\n",
    "x  foo  one  3.0\n",
    "w  foo  two  4.0\n",
    "\n",
    "In [343]: indexed2 = data.set_index(['a', 'b'])\n",
    "\n",
    "In [344]: indexed2\n",
    "Out[344]: \n",
    "         c    d\n",
    "a   b          \n",
    "bar one  z  1.0\n",
    "    two  y  2.0\n",
    "foo one  x  3.0\n",
    "    two  w  4.0\n",
    "The append keyword option allow you to keep the existing index and append the given columns to a MultiIndex:\n",
    "\n",
    "In [345]: frame = data.set_index('c', drop=False)\n",
    "\n",
    "In [346]: frame = frame.set_index(['a', 'b'], append=True)\n",
    "\n",
    "In [347]: frame\n",
    "Out[347]: \n",
    "           c    d\n",
    "c a   b          \n",
    "z bar one  z  1.0\n",
    "y bar two  y  2.0\n",
    "x foo one  x  3.0\n",
    "w foo two  w  4.0\n",
    "Other options in set_index allow you not drop the index columns or to add the index in-place (without creating a new object):\n",
    "\n",
    "In [348]: data.set_index('c', drop=False)\n",
    "Out[348]: \n",
    "     a    b  c    d\n",
    "c                  \n",
    "z  bar  one  z  1.0\n",
    "y  bar  two  y  2.0\n",
    "x  foo  one  x  3.0\n",
    "w  foo  two  w  4.0\n",
    "\n",
    "In [349]: data.set_index(['a', 'b'], inplace=True)\n",
    "\n",
    "In [350]: data\n",
    "Out[350]: \n",
    "         c    d\n",
    "a   b          \n",
    "bar one  z  1.0\n",
    "    two  y  2.0\n",
    "foo one  x  3.0\n",
    "    two  w  4.0\n",
    "Reset the index\n",
    "As a convenience, there is a new function on DataFrame called reset_index() which transfers the index values into the DataFrame’s columns and sets a simple integer index. This is the inverse operation of set_index().\n",
    "\n",
    "In [351]: data\n",
    "Out[351]: \n",
    "         c    d\n",
    "a   b          \n",
    "bar one  z  1.0\n",
    "    two  y  2.0\n",
    "foo one  x  3.0\n",
    "    two  w  4.0\n",
    "\n",
    "In [352]: data.reset_index()\n",
    "Out[352]: \n",
    "     a    b  c    d\n",
    "0  bar  one  z  1.0\n",
    "1  bar  two  y  2.0\n",
    "2  foo  one  x  3.0\n",
    "3  foo  two  w  4.0\n",
    "The output is more similar to a SQL table or a record array. The names for the columns derived from the index are the ones stored in the names attribute.\n",
    "\n",
    "You can use the level keyword to remove only a portion of the index:\n",
    "\n",
    "In [353]: frame\n",
    "Out[353]: \n",
    "           c    d\n",
    "c a   b          \n",
    "z bar one  z  1.0\n",
    "y bar two  y  2.0\n",
    "x foo one  x  3.0\n",
    "w foo two  w  4.0\n",
    "\n",
    "In [354]: frame.reset_index(level=1)\n",
    "Out[354]: \n",
    "         a  c    d\n",
    "c b               \n",
    "z one  bar  z  1.0\n",
    "y two  bar  y  2.0\n",
    "x one  foo  x  3.0\n",
    "w two  foo  w  4.0\n",
    "reset_index takes an optional parameter drop which if true simply discards the index, instead of putting index values in the DataFrame’s columns.\n",
    "\n",
    "Adding an ad hoc index\n",
    "If you create an index yourself, you can just assign it to the index field:\n",
    "\n",
    "data.index = index\n",
    "Returning a view versus a copy\n",
    "When setting values in a pandas object, care must be taken to avoid what is called chained indexing. Here is an example.\n",
    "\n",
    "In [355]: dfmi = pd.DataFrame([list('abcd'),\n",
    "   .....:                      list('efgh'),\n",
    "   .....:                      list('ijkl'),\n",
    "   .....:                      list('mnop')],\n",
    "   .....:                     columns=pd.MultiIndex.from_product([['one', 'two'],\n",
    "   .....:                                                         ['first', 'second']]))\n",
    "   .....: \n",
    "\n",
    "In [356]: dfmi\n",
    "Out[356]: \n",
    "    one          two       \n",
    "  first second first second\n",
    "0     a      b     c      d\n",
    "1     e      f     g      h\n",
    "2     i      j     k      l\n",
    "3     m      n     o      p\n",
    "Compare these two access methods:\n",
    "\n",
    "In [357]: dfmi['one']['second']\n",
    "Out[357]: \n",
    "0    b\n",
    "1    f\n",
    "2    j\n",
    "3    n\n",
    "Name: second, dtype: object\n",
    "In [358]: dfmi.loc[:, ('one', 'second')]\n",
    "Out[358]: \n",
    "0    b\n",
    "1    f\n",
    "2    j\n",
    "3    n\n",
    "Name: (one, second), dtype: object\n",
    "These both yield the same results, so which should you use? It is instructive to understand the order of operations on these and why method 2 (.loc) is much preferred over method 1 (chained []).\n",
    "\n",
    "dfmi['one'] selects the first level of the columns and returns a DataFrame that is singly-indexed. Then another Python operation dfmi_with_one['second'] selects the series indexed by 'second'. This is indicated by the variable dfmi_with_one because pandas sees these operations as separate events. e.g. separate calls to __getitem__, so it has to treat them as linear operations, they happen one after another.\n",
    "\n",
    "Contrast this to df.loc[:,('one','second')] which passes a nested tuple of (slice(None),('one','second')) to a single call to __getitem__. This allows pandas to deal with this as a single entity. Furthermore this order of operations can be significantly faster, and allows one to index both axes if so desired.\n",
    "\n",
    "Why does assignment fail when using chained indexing?\n",
    "The problem in the previous section is just a performance issue. What’s up with the SettingWithCopy warning? We don’t usually throw warnings around when you do something that might cost a few extra milliseconds!\n",
    "\n",
    "But it turns out that assigning to the product of chained indexing has inherently unpredictable results. To see this, think about how the Python interpreter executes this code:\n",
    "\n",
    "dfmi.loc[:, ('one', 'second')] = value\n",
    "# becomes\n",
    "dfmi.loc.__setitem__((slice(None), ('one', 'second')), value)\n",
    "But this code is handled differently:\n",
    "\n",
    "dfmi['one']['second'] = value\n",
    "# becomes\n",
    "dfmi.__getitem__('one').__setitem__('second', value)\n",
    "See that __getitem__ in there? Outside of simple cases, it’s very hard to predict whether it will return a view or a copy (it depends on the memory layout of the array, about which pandas makes no guarantees), and therefore whether the __setitem__ will modify dfmi or a temporary object that gets thrown out immediately afterward. That’s what SettingWithCopy is warning you about!\n",
    "\n",
    "Note\n",
    "\n",
    "You may be wondering whether we should be concerned about the loc property in the first example. But dfmi.loc is guaranteed to be dfmi itself with modified indexing behavior, so dfmi.loc.__getitem__ / dfmi.loc.__setitem__ operate on dfmi directly. Of course, dfmi.loc.__getitem__(idx) may be a view or a copy of dfmi.\n",
    "\n",
    "Sometimes a SettingWithCopy warning will arise at times when there’s no obvious chained indexing going on. These are the bugs that SettingWithCopy is designed to catch! pandas is probably trying to warn you that you’ve done this:\n",
    "\n",
    "def do_something(df):\n",
    "    foo = df[['bar', 'baz']]  # Is foo a view? A copy? Nobody knows!\n",
    "    # ... many lines here ...\n",
    "    # We don't know whether this will modify df or not!\n",
    "    foo['quux'] = value\n",
    "    return foo\n",
    "Yikes!\n",
    "\n",
    "Evaluation order matters\n",
    "When you use chained indexing, the order and type of the indexing operation partially determine whether the result is a slice into the original object, or a copy of the slice.\n",
    "\n",
    "pandas has the SettingWithCopyWarning because assigning to a copy of a slice is frequently not intentional, but a mistake caused by chained indexing returning a copy where a slice was expected.\n",
    "\n",
    "If you would like pandas to be more or less trusting about assignment to a chained indexing expression, you can set the option mode.chained_assignment to one of these values:\n",
    "\n",
    "'warn', the default, means a SettingWithCopyWarning is printed.\n",
    "\n",
    "'raise' means pandas will raise a SettingWithCopyException you have to deal with.\n",
    "\n",
    "None will suppress the warnings entirely.\n",
    "\n",
    "In [359]: dfb = pd.DataFrame({'a': ['one', 'one', 'two',\n",
    "   .....:                           'three', 'two', 'one', 'six'],\n",
    "   .....:                     'c': np.arange(7)})\n",
    "   .....: \n",
    "\n",
    "# This will show the SettingWithCopyWarning\n",
    "# but the frame values will be set\n",
    "In [360]: dfb['c'][dfb['a'].str.startswith('o')] = 42\n",
    "This however is operating on a copy and will not work.\n",
    "\n",
    ">>> pd.set_option('mode.chained_assignment','warn')\n",
    ">>> dfb[dfb['a'].str.startswith('o')]['c'] = 42\n",
    "Traceback (most recent call last)\n",
    "     ...\n",
    "SettingWithCopyWarning:\n",
    "     A value is trying to be set on a copy of a slice from a DataFrame.\n",
    "     Try using .loc[row_index,col_indexer] = value instead\n",
    "A chained assignment can also crop up in setting in a mixed dtype frame.\n",
    "\n",
    "Note\n",
    "\n",
    "These setting rules apply to all of .loc/.iloc.\n",
    "\n",
    "The following is the recommended access method using .loc for multiple items (using mask) and a single item using a fixed index:\n",
    "\n",
    "In [361]: dfc = pd.DataFrame({'a': ['one', 'one', 'two',\n",
    "   .....:                           'three', 'two', 'one', 'six'],\n",
    "   .....:                     'c': np.arange(7)})\n",
    "   .....: \n",
    "\n",
    "In [362]: dfd = dfc.copy()\n",
    "\n",
    "# Setting multiple items using a mask\n",
    "In [363]: mask = dfd['a'].str.startswith('o')\n",
    "\n",
    "In [364]: dfd.loc[mask, 'c'] = 42\n",
    "\n",
    "In [365]: dfd\n",
    "Out[365]: \n",
    "       a   c\n",
    "0    one  42\n",
    "1    one  42\n",
    "2    two   2\n",
    "3  three   3\n",
    "4    two   4\n",
    "5    one  42\n",
    "6    six   6\n",
    "\n",
    "# Setting a single item\n",
    "In [366]: dfd = dfc.copy()\n",
    "\n",
    "In [367]: dfd.loc[2, 'a'] = 11\n",
    "\n",
    "In [368]: dfd\n",
    "Out[368]: \n",
    "       a  c\n",
    "0    one  0\n",
    "1    one  1\n",
    "2     11  2\n",
    "3  three  3\n",
    "4    two  4\n",
    "5    one  5\n",
    "6    six  6\n",
    "The following can work at times, but it is not guaranteed to, and therefore should be avoided:\n",
    "\n",
    "In [369]: dfd = dfc.copy()\n",
    "\n",
    "In [370]: dfd['a'][2] = 111\n",
    "\n",
    "In [371]: dfd\n",
    "Out[371]: \n",
    "       a  c\n",
    "0    one  0\n",
    "1    one  1\n",
    "2    111  2\n",
    "3  three  3\n",
    "4    two  4\n",
    "5    one  5\n",
    "6    six  6\n",
    "Last, the subsequent example will not work at all, and so should be avoided:\n",
    "\n",
    ">>> pd.set_option('mode.chained_assignment','raise')\n",
    ">>> dfd.loc[0]['a'] = 1111\n",
    "Traceback (most recent call last)\n",
    "     ...\n",
    "SettingWithCopyException:\n",
    "     A value is trying to be set on a copy of a slice from a DataFrame.\n",
    "     Try using .loc[row_index,col_indexer] = value instead\n",
    "Warning\n",
    "\n",
    "The chained assignment warnings / exceptions are aiming to inform the user of a possibly invalid assignment. There may be false positives; situations where a chained assignment is inadvertently reported."
   ]
  }
 ],
 "metadata": {
  "kernelspec": {
   "display_name": "eda_dev39",
   "language": "python",
   "name": "eda_dev39"
  },
  "language_info": {
   "codemirror_mode": {
    "name": "ipython",
    "version": 3
   },
   "file_extension": ".py",
   "mimetype": "text/x-python",
   "name": "python",
   "nbconvert_exporter": "python",
   "pygments_lexer": "ipython3",
   "version": "3.9.4"
  }
 },
 "nbformat": 4,
 "nbformat_minor": 5
}
