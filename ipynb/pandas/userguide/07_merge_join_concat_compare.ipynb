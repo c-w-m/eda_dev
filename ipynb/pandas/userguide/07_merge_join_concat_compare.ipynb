{
 "cells": [
  {
   "cell_type": "markdown",
   "id": "5e0a3363-41da-470b-813f-300c9a4d778c",
   "metadata": {},
   "source": [
    "# Merge, join, concatenate and compare\n",
    "pandas provides various facilities for easily combining together Series or DataFrame with various kinds of set logic for the indexes and relational algebra functionality in the case of join / merge-type operations.\n",
    "\n",
    "In addition, pandas also provides utilities to compare two Series or DataFrame and summarize their differences.\n",
    "\n",
    "## Concatenating objects\n",
    "The concat() function (in the main pandas namespace) does all of the heavy lifting of performing concatenation operations along an axis while performing optional set logic (union or intersection) of the indexes (if any) on the other axes. Note that I say “if any” because there is only a single possible axis of concatenation for Series.\n",
    "\n",
    "Before diving into all of the details of concat and what it can do, here is a simple example:"
   ]
  },
  {
   "cell_type": "code",
   "execution_count": 31,
   "id": "6f75a94c-7c1a-4915-b382-969993be4eea",
   "metadata": {},
   "outputs": [],
   "source": [
    "import pandas as pd\n",
    "import numpy as np"
   ]
  },
  {
   "cell_type": "code",
   "execution_count": 32,
   "id": "3273eb06-23b8-4cb8-80bb-0d0ddeffafa3",
   "metadata": {},
   "outputs": [],
   "source": [
    "df1 = pd.DataFrame(\n",
    "    {\n",
    "        \"A\": [\"A0\", \"A1\", \"A2\", \"A3\"],\n",
    "        \"B\": [\"B0\", \"B1\", \"B2\", \"B3\"],\n",
    "        \"C\": [\"C0\", \"C1\", \"C2\", \"C3\"],\n",
    "        \"D\": [\"D0\", \"D1\", \"D2\", \"D3\"],\n",
    "    },\n",
    "    index=[0, 1, 2, 3],\n",
    ")\n",
    "\n",
    "df2 = pd.DataFrame(\n",
    "    {\n",
    "        \"A\": [\"A4\", \"A5\", \"A6\", \"A7\"],\n",
    "        \"B\": [\"B4\", \"B5\", \"B6\", \"B7\"],\n",
    "        \"C\": [\"C4\", \"C5\", \"C6\", \"C7\"],\n",
    "        \"D\": [\"D4\", \"D5\", \"D6\", \"D7\"],\n",
    "    },\n",
    "    index=[4, 5, 6, 7],\n",
    ")\n",
    "\n",
    "df3 = pd.DataFrame(\n",
    "    {\n",
    "        \"A\": [\"A8\", \"A9\", \"A10\", \"A11\"],\n",
    "        \"B\": [\"B8\", \"B9\", \"B10\", \"B11\"],\n",
    "        \"C\": [\"C8\", \"C9\", \"C10\", \"C11\"],\n",
    "        \"D\": [\"D8\", \"D9\", \"D10\", \"D11\"],\n",
    "    },\n",
    "    index=[8, 9, 10, 11],\n",
    ")\n",
    "\n",
    "frames = [df1, df2, df3]\n",
    "\n",
    "result = pd.concat(frames)"
   ]
  },
  {
   "cell_type": "markdown",
   "id": "c769765c-f2fc-4acf-a38a-0a7c156df599",
   "metadata": {},
   "source": [
    "![merging_concat_basic](img/merging_concat_basic.png)\n",
    "\n",
    "Like its sibling function on ndarrays, numpy.concatenate, pandas.concat takes a list or dict of homogeneously-typed objects and concatenates them with some configurable handling of “what to do with the other axes”:\n",
    "\n",
    "```python\n",
    "pd.concat(\n",
    "    objs,\n",
    "    axis=0,\n",
    "    join=\"outer\",\n",
    "    ignore_index=False,\n",
    "    keys=None,\n",
    "    levels=None,\n",
    "    names=None,\n",
    "    verify_integrity=False,\n",
    "    copy=True,\n",
    ")\n",
    "```\n",
    "\n",
    "* objs : a sequence or mapping of Series or DataFrame objects. If a dict is passed, the sorted keys will be used as the keys argument, unless it is passed, in which case the values will be selected (see below). Any None objects will be dropped silently unless they are all None in which case a ValueError will be raised.\n",
    "\n",
    "* axis : {0, 1, …}, default 0. The axis to concatenate along.\n",
    "\n",
    "* join : {‘inner’, ‘outer’}, default ‘outer’. How to handle indexes on other axis(es). Outer for union and inner for intersection.\n",
    "\n",
    "* ignore_index : boolean, default False. If True, do not use the index values on the concatenation axis. The resulting axis will be labeled 0, …, n - 1. This is useful if you are concatenating objects where the concatenation axis does not have meaningful indexing information. Note the index values on the other axes are still respected in the join.\n",
    "\n",
    "* keys : sequence, default None. Construct hierarchical index using the passed keys as the outermost level. If multiple levels passed, should contain tuples.\n",
    "\n",
    "* levels : list of sequences, default None. Specific levels (unique values) to use for constructing a MultiIndex. Otherwise they will be inferred from the keys.\n",
    "\n",
    "* names : list, default None. Names for the levels in the resulting hierarchical index.\n",
    "\n",
    "* verify_integrity : boolean, default False. Check whether the new concatenated axis contains duplicates. This can be very expensive relative to the actual data concatenation.\n",
    "\n",
    "* copy : boolean, default True. If False, do not copy data unnecessarily.\n",
    "\n",
    "Without a little bit of context many of these arguments don’t make much sense. Let’s revisit the above example. Suppose we wanted to associate specific keys with each of the pieces of the chopped up DataFrame. We can do this using the keys argument:"
   ]
  },
  {
   "cell_type": "code",
   "execution_count": 33,
   "id": "e78ff1da-0f14-4aa5-9063-72d253f52d17",
   "metadata": {},
   "outputs": [],
   "source": [
    "result = pd.concat(frames, keys=[\"x\", \"y\", \"z\"])"
   ]
  },
  {
   "cell_type": "markdown",
   "id": "41ed6699-2c24-4d95-b963-68b8f1f9efff",
   "metadata": {},
   "source": [
    "![merging_concat_keys](img/merging_concat_keys.png)\n",
    "\n",
    "As you can see (if you’ve read the rest of the documentation), the resulting object’s index has a hierarchical index. This means that we can now select out each chunk by key:"
   ]
  },
  {
   "cell_type": "code",
   "execution_count": 34,
   "id": "e0159509-5024-43c7-9bb8-66b23fd14449",
   "metadata": {},
   "outputs": [
    {
     "data": {
      "text/html": [
       "<div>\n",
       "<style scoped>\n",
       "    .dataframe tbody tr th:only-of-type {\n",
       "        vertical-align: middle;\n",
       "    }\n",
       "\n",
       "    .dataframe tbody tr th {\n",
       "        vertical-align: top;\n",
       "    }\n",
       "\n",
       "    .dataframe thead th {\n",
       "        text-align: right;\n",
       "    }\n",
       "</style>\n",
       "<table border=\"1\" class=\"dataframe\">\n",
       "  <thead>\n",
       "    <tr style=\"text-align: right;\">\n",
       "      <th></th>\n",
       "      <th>A</th>\n",
       "      <th>B</th>\n",
       "      <th>C</th>\n",
       "      <th>D</th>\n",
       "    </tr>\n",
       "  </thead>\n",
       "  <tbody>\n",
       "    <tr>\n",
       "      <th>4</th>\n",
       "      <td>A4</td>\n",
       "      <td>B4</td>\n",
       "      <td>C4</td>\n",
       "      <td>D4</td>\n",
       "    </tr>\n",
       "    <tr>\n",
       "      <th>5</th>\n",
       "      <td>A5</td>\n",
       "      <td>B5</td>\n",
       "      <td>C5</td>\n",
       "      <td>D5</td>\n",
       "    </tr>\n",
       "    <tr>\n",
       "      <th>6</th>\n",
       "      <td>A6</td>\n",
       "      <td>B6</td>\n",
       "      <td>C6</td>\n",
       "      <td>D6</td>\n",
       "    </tr>\n",
       "    <tr>\n",
       "      <th>7</th>\n",
       "      <td>A7</td>\n",
       "      <td>B7</td>\n",
       "      <td>C7</td>\n",
       "      <td>D7</td>\n",
       "    </tr>\n",
       "  </tbody>\n",
       "</table>\n",
       "</div>"
      ],
      "text/plain": [
       "    A   B   C   D\n",
       "4  A4  B4  C4  D4\n",
       "5  A5  B5  C5  D5\n",
       "6  A6  B6  C6  D6\n",
       "7  A7  B7  C7  D7"
      ]
     },
     "execution_count": 34,
     "metadata": {},
     "output_type": "execute_result"
    }
   ],
   "source": [
    "result.loc[\"y\"]"
   ]
  },
  {
   "cell_type": "markdown",
   "id": "15c82068-1327-4a71-9b53-cdb50105585e",
   "metadata": {},
   "source": [
    "It’s not a stretch to see how this can be very useful. More detail on this functionality below.\n",
    "\n",
    ">Note\n",
    ">\n",
    ">It is worth noting that concat() (and therefore append()) makes a full copy of the data, and that constantly reusing this function can create a significant performance hit. If you need to use the operation over several datasets, use a list comprehension.\n",
    "\n",
    "```python\n",
    "frames = [ process_your_file(f) for f in files ]\n",
    "result = pd.concat(frames)\n",
    "```\n",
    "\n",
    ">Note\n",
    ">\n",
    ">When concatenating DataFrames with named axes, pandas will attempt to preserve these index/column names whenever possible. In the case where all inputs share a common name, this name will be assigned to the result. When the input names do not all agree, the result will be unnamed. The same is true for MultiIndex, but the logic is applied separately on a level-by-level basis.\n",
    "\n",
    "### Set logic on the other axes\n",
    "When gluing together multiple DataFrames, you have a choice of how to handle the other axes (other than the one being concatenated). This can be done in the following two ways:\n",
    "\n",
    "* Take the union of them all, join='outer'. This is the default option as it results in zero information loss.\n",
    "\n",
    "* Take the intersection, join='inner'.\n",
    "\n",
    "Here is an example of each of these methods. First, the default join='outer' behavior:"
   ]
  },
  {
   "cell_type": "code",
   "execution_count": 35,
   "id": "99abfe0b-285f-40dc-a2f6-f6c22e085de8",
   "metadata": {},
   "outputs": [],
   "source": [
    "df4 = pd.DataFrame(\n",
    "    {\n",
    "        \"B\": [\"B2\", \"B3\", \"B6\", \"B7\"],\n",
    "        \"D\": [\"D2\", \"D3\", \"D6\", \"D7\"],\n",
    "        \"F\": [\"F2\", \"F3\", \"F6\", \"F7\"],\n",
    "    },\n",
    "    index=[2, 3, 6, 7],\n",
    ")\n",
    "\n",
    "result = pd.concat([df1, df4], axis=1)"
   ]
  },
  {
   "cell_type": "markdown",
   "id": "2267dadd-da14-4a0f-804e-11bf84c290a7",
   "metadata": {},
   "source": [
    "![merging_concat_axis1](img/merging_concat_axis1.png)\n",
    "\n",
    "Here is the same thing with join='inner':"
   ]
  },
  {
   "cell_type": "code",
   "execution_count": 36,
   "id": "0a492a76-c7ea-4cc3-9315-40ba5d484fe8",
   "metadata": {},
   "outputs": [],
   "source": [
    "result = pd.concat([df1, df4], axis=1, join=\"inner\")"
   ]
  },
  {
   "cell_type": "markdown",
   "id": "ac9c9364-8bae-4012-a492-0efd186ea50e",
   "metadata": {},
   "source": [
    "![merging_concat_axis1_inner](img/merging_concat_axis1_inner.png)\n",
    "\n",
    "Lastly, suppose we just wanted to reuse the exact index from the original DataFrame:"
   ]
  },
  {
   "cell_type": "code",
   "execution_count": 37,
   "id": "fa1a321f-edd7-4b32-9d7b-76f627966b35",
   "metadata": {},
   "outputs": [],
   "source": [
    "result = pd.concat([df1, df4], axis=1).reindex(df1.index)"
   ]
  },
  {
   "cell_type": "markdown",
   "id": "e253b18f-1e9f-4af9-bcfe-97ee24d4df26",
   "metadata": {},
   "source": [
    "Similarly, we could index before the concatenation:"
   ]
  },
  {
   "cell_type": "code",
   "execution_count": 38,
   "id": "e02a54ec-0280-40eb-84ce-8499c94e55f0",
   "metadata": {},
   "outputs": [
    {
     "data": {
      "text/html": [
       "<div>\n",
       "<style scoped>\n",
       "    .dataframe tbody tr th:only-of-type {\n",
       "        vertical-align: middle;\n",
       "    }\n",
       "\n",
       "    .dataframe tbody tr th {\n",
       "        vertical-align: top;\n",
       "    }\n",
       "\n",
       "    .dataframe thead th {\n",
       "        text-align: right;\n",
       "    }\n",
       "</style>\n",
       "<table border=\"1\" class=\"dataframe\">\n",
       "  <thead>\n",
       "    <tr style=\"text-align: right;\">\n",
       "      <th></th>\n",
       "      <th>A</th>\n",
       "      <th>B</th>\n",
       "      <th>C</th>\n",
       "      <th>D</th>\n",
       "      <th>B</th>\n",
       "      <th>D</th>\n",
       "      <th>F</th>\n",
       "    </tr>\n",
       "  </thead>\n",
       "  <tbody>\n",
       "    <tr>\n",
       "      <th>0</th>\n",
       "      <td>A0</td>\n",
       "      <td>B0</td>\n",
       "      <td>C0</td>\n",
       "      <td>D0</td>\n",
       "      <td>NaN</td>\n",
       "      <td>NaN</td>\n",
       "      <td>NaN</td>\n",
       "    </tr>\n",
       "    <tr>\n",
       "      <th>1</th>\n",
       "      <td>A1</td>\n",
       "      <td>B1</td>\n",
       "      <td>C1</td>\n",
       "      <td>D1</td>\n",
       "      <td>NaN</td>\n",
       "      <td>NaN</td>\n",
       "      <td>NaN</td>\n",
       "    </tr>\n",
       "    <tr>\n",
       "      <th>2</th>\n",
       "      <td>A2</td>\n",
       "      <td>B2</td>\n",
       "      <td>C2</td>\n",
       "      <td>D2</td>\n",
       "      <td>B2</td>\n",
       "      <td>D2</td>\n",
       "      <td>F2</td>\n",
       "    </tr>\n",
       "    <tr>\n",
       "      <th>3</th>\n",
       "      <td>A3</td>\n",
       "      <td>B3</td>\n",
       "      <td>C3</td>\n",
       "      <td>D3</td>\n",
       "      <td>B3</td>\n",
       "      <td>D3</td>\n",
       "      <td>F3</td>\n",
       "    </tr>\n",
       "  </tbody>\n",
       "</table>\n",
       "</div>"
      ],
      "text/plain": [
       "    A   B   C   D    B    D    F\n",
       "0  A0  B0  C0  D0  NaN  NaN  NaN\n",
       "1  A1  B1  C1  D1  NaN  NaN  NaN\n",
       "2  A2  B2  C2  D2   B2   D2   F2\n",
       "3  A3  B3  C3  D3   B3   D3   F3"
      ]
     },
     "execution_count": 38,
     "metadata": {},
     "output_type": "execute_result"
    }
   ],
   "source": [
    "pd.concat([df1, df4.reindex(df1.index)], axis=1)"
   ]
  },
  {
   "cell_type": "markdown",
   "id": "3b66f8f8-362a-4e03-a2b1-8b7e4214354b",
   "metadata": {},
   "source": [
    "![merging_concat_axis1_join_axes](img/merging_concat_axis1_join_axes.png)\n",
    "\n",
    "### Concatenating using append\n",
    "A useful shortcut to concat() are the append() instance methods on Series and DataFrame. These methods actually predated concat. They concatenate along axis=0, namely the index:"
   ]
  },
  {
   "cell_type": "code",
   "execution_count": 39,
   "id": "4993ef92-460f-4580-b38a-3b05110770db",
   "metadata": {},
   "outputs": [],
   "source": [
    "result = df1.append(df2)"
   ]
  },
  {
   "cell_type": "markdown",
   "id": "1e8a942f-c4f4-4e40-9d98-0bfaf541db81",
   "metadata": {},
   "source": [
    "![merging_append1](img/merging_append1.png)\n",
    "\n",
    "In the case of DataFrame, the indexes must be disjoint but the columns do not need to be:"
   ]
  },
  {
   "cell_type": "code",
   "execution_count": 40,
   "id": "dd4ec97c-a76e-4519-9704-82aaa7a775c8",
   "metadata": {},
   "outputs": [],
   "source": [
    "result = df1.append(df4, sort=False)"
   ]
  },
  {
   "cell_type": "markdown",
   "id": "fa71982a-eaa5-4e01-91a0-acd82a824069",
   "metadata": {},
   "source": [
    "![merging_append2](img/merging_append2.png)\n",
    "\n",
    "append may take multiple objects to concatenate:"
   ]
  },
  {
   "cell_type": "code",
   "execution_count": 41,
   "id": "94bfccd2-5f22-4ce0-acad-89cd0280c256",
   "metadata": {},
   "outputs": [],
   "source": [
    "result = df1.append([df2, df3])"
   ]
  },
  {
   "cell_type": "markdown",
   "id": "30dd8f51-56c5-4855-a39a-279f1ade9118",
   "metadata": {},
   "source": [
    "![merging_append3](img/merging_append3.png)\n",
    "\n",
    ">Note\n",
    ">\n",
    ">Unlike the append() method, which appends to the original list and returns None, append() here does not modify df1 and returns its copy with df2 appended.\n",
    "\n",
    "Ignoring indexes on the concatenation axis\n",
    "For DataFrame objects which don’t have a meaningful index, you may wish to append them and ignore the fact that they may have overlapping indexes. To do this, use the ignore_index argument:"
   ]
  },
  {
   "cell_type": "code",
   "execution_count": 42,
   "id": "684f8dab-a366-4ee9-87bf-8d5383e4a272",
   "metadata": {},
   "outputs": [],
   "source": [
    "result = pd.concat([df1, df4], ignore_index=True, sort=False)"
   ]
  },
  {
   "cell_type": "markdown",
   "id": "079e0632-f28e-4174-a607-b60731cd15a7",
   "metadata": {},
   "source": [
    "![merging_concat_ignore_index](img/merging_concat_ignore_index.png)\n",
    "\n",
    "This is also a valid argument to DataFrame.append():"
   ]
  },
  {
   "cell_type": "code",
   "execution_count": 43,
   "id": "522bc30f-e018-4d52-b602-32dc439faaf0",
   "metadata": {},
   "outputs": [],
   "source": [
    "result = df1.append(df4, ignore_index=True, sort=False)"
   ]
  },
  {
   "cell_type": "markdown",
   "id": "ada3167a-1d81-4672-afa9-b2850dead1f6",
   "metadata": {},
   "source": [
    "![merging_append_ignore_index](img/merging_append_ignore_index.png)\n",
    "\n",
    "### Concatenating with mixed ndims\n",
    "You can concatenate a mix of Series and DataFrame objects. The Series will be transformed to DataFrame with the column name as the name of the Series."
   ]
  },
  {
   "cell_type": "code",
   "execution_count": 44,
   "id": "956816d2-eb4d-4c01-8eae-89c6e15de979",
   "metadata": {},
   "outputs": [],
   "source": [
    "s1 = pd.Series([\"X0\", \"X1\", \"X2\", \"X3\"], name=\"X\")\n",
    "result = pd.concat([df1, s1], axis=1)"
   ]
  },
  {
   "cell_type": "markdown",
   "id": "ce9fa412-1922-449c-8e15-447b11a15c20",
   "metadata": {},
   "source": [
    "![merging_concat_mixed_ndim](img/merging_concat_mixed_ndim.png)\n",
    "\n",
    ">Note\n",
    ">\n",
    ">Since we’re concatenating a Series to a DataFrame, we could have achieved the same result with DataFrame.assign(). To concatenate an arbitrary number of pandas objects (DataFrame or Series), use concat.\n",
    "\n",
    "If unnamed Series are passed they will be numbered consecutively."
   ]
  },
  {
   "cell_type": "code",
   "execution_count": 45,
   "id": "079a3b06-f6c8-48ee-9581-7ebc6893640a",
   "metadata": {},
   "outputs": [],
   "source": [
    "s2 = pd.Series([\"_0\", \"_1\", \"_2\", \"_3\"])\n",
    "result = pd.concat([df1, s2, s2, s2], axis=1)"
   ]
  },
  {
   "cell_type": "markdown",
   "id": "b9e2082b-0d12-4106-9127-e2a8987a39bc",
   "metadata": {},
   "source": [
    "![merging_concat_unnamed_series](img/merging_concat_unnamed_series.png)\n",
    "\n",
    "Passing ignore_index=True will drop all name references."
   ]
  },
  {
   "cell_type": "code",
   "execution_count": 46,
   "id": "67829b28-6aa5-4f02-859a-26d2bf3cbeb5",
   "metadata": {},
   "outputs": [],
   "source": [
    "result = pd.concat([df1, s1], axis=1, ignore_index=True)"
   ]
  },
  {
   "cell_type": "markdown",
   "id": "0a80a960-aec0-4533-b84e-0048cd5d27ae",
   "metadata": {},
   "source": [
    "![merging_concat_series_ignore_index](img/merging_concat_series_ignore_index.png)\n",
    "\n",
    "### More concatenating with group keys\n",
    "A fairly common use of the keys argument is to override the column names when creating a new DataFrame based on existing Series. Notice how the default behaviour consists on letting the resulting DataFrame inherit the parent Series’ name, when these existed."
   ]
  },
  {
   "cell_type": "code",
   "execution_count": 47,
   "id": "5ecd2e37-9f28-4dbc-b1a5-dcf20736ee42",
   "metadata": {},
   "outputs": [
    {
     "data": {
      "text/html": [
       "<div>\n",
       "<style scoped>\n",
       "    .dataframe tbody tr th:only-of-type {\n",
       "        vertical-align: middle;\n",
       "    }\n",
       "\n",
       "    .dataframe tbody tr th {\n",
       "        vertical-align: top;\n",
       "    }\n",
       "\n",
       "    .dataframe thead th {\n",
       "        text-align: right;\n",
       "    }\n",
       "</style>\n",
       "<table border=\"1\" class=\"dataframe\">\n",
       "  <thead>\n",
       "    <tr style=\"text-align: right;\">\n",
       "      <th></th>\n",
       "      <th>foo</th>\n",
       "      <th>0</th>\n",
       "      <th>1</th>\n",
       "    </tr>\n",
       "  </thead>\n",
       "  <tbody>\n",
       "    <tr>\n",
       "      <th>0</th>\n",
       "      <td>0</td>\n",
       "      <td>0</td>\n",
       "      <td>0</td>\n",
       "    </tr>\n",
       "    <tr>\n",
       "      <th>1</th>\n",
       "      <td>1</td>\n",
       "      <td>1</td>\n",
       "      <td>1</td>\n",
       "    </tr>\n",
       "    <tr>\n",
       "      <th>2</th>\n",
       "      <td>2</td>\n",
       "      <td>2</td>\n",
       "      <td>4</td>\n",
       "    </tr>\n",
       "    <tr>\n",
       "      <th>3</th>\n",
       "      <td>3</td>\n",
       "      <td>3</td>\n",
       "      <td>5</td>\n",
       "    </tr>\n",
       "  </tbody>\n",
       "</table>\n",
       "</div>"
      ],
      "text/plain": [
       "   foo  0  1\n",
       "0    0  0  0\n",
       "1    1  1  1\n",
       "2    2  2  4\n",
       "3    3  3  5"
      ]
     },
     "execution_count": 47,
     "metadata": {},
     "output_type": "execute_result"
    }
   ],
   "source": [
    "s3 = pd.Series([0, 1, 2, 3], name=\"foo\")\n",
    "s4 = pd.Series([0, 1, 2, 3])\n",
    "s5 = pd.Series([0, 1, 4, 5])\n",
    "pd.concat([s3, s4, s5], axis=1)"
   ]
  },
  {
   "cell_type": "markdown",
   "id": "4186a9fd-7280-441a-a8a5-327eb563de19",
   "metadata": {},
   "source": [
    "Through the keys argument we can override the existing column names.\n",
    "\n"
   ]
  },
  {
   "cell_type": "code",
   "execution_count": 48,
   "id": "5691532a-b3f3-41a5-838f-aaa08a243651",
   "metadata": {},
   "outputs": [
    {
     "data": {
      "text/html": [
       "<div>\n",
       "<style scoped>\n",
       "    .dataframe tbody tr th:only-of-type {\n",
       "        vertical-align: middle;\n",
       "    }\n",
       "\n",
       "    .dataframe tbody tr th {\n",
       "        vertical-align: top;\n",
       "    }\n",
       "\n",
       "    .dataframe thead th {\n",
       "        text-align: right;\n",
       "    }\n",
       "</style>\n",
       "<table border=\"1\" class=\"dataframe\">\n",
       "  <thead>\n",
       "    <tr style=\"text-align: right;\">\n",
       "      <th></th>\n",
       "      <th>red</th>\n",
       "      <th>blue</th>\n",
       "      <th>yellow</th>\n",
       "    </tr>\n",
       "  </thead>\n",
       "  <tbody>\n",
       "    <tr>\n",
       "      <th>0</th>\n",
       "      <td>0</td>\n",
       "      <td>0</td>\n",
       "      <td>0</td>\n",
       "    </tr>\n",
       "    <tr>\n",
       "      <th>1</th>\n",
       "      <td>1</td>\n",
       "      <td>1</td>\n",
       "      <td>1</td>\n",
       "    </tr>\n",
       "    <tr>\n",
       "      <th>2</th>\n",
       "      <td>2</td>\n",
       "      <td>2</td>\n",
       "      <td>4</td>\n",
       "    </tr>\n",
       "    <tr>\n",
       "      <th>3</th>\n",
       "      <td>3</td>\n",
       "      <td>3</td>\n",
       "      <td>5</td>\n",
       "    </tr>\n",
       "  </tbody>\n",
       "</table>\n",
       "</div>"
      ],
      "text/plain": [
       "   red  blue  yellow\n",
       "0    0     0       0\n",
       "1    1     1       1\n",
       "2    2     2       4\n",
       "3    3     3       5"
      ]
     },
     "execution_count": 48,
     "metadata": {},
     "output_type": "execute_result"
    }
   ],
   "source": [
    "pd.concat([s3, s4, s5], axis=1, keys=[\"red\", \"blue\", \"yellow\"])"
   ]
  },
  {
   "cell_type": "markdown",
   "id": "3dc71129-5439-41b6-b3d8-306217cc3f6b",
   "metadata": {},
   "source": [
    "Let’s consider a variation of the very first example presented:\n",
    "\n"
   ]
  },
  {
   "cell_type": "code",
   "execution_count": 49,
   "id": "2313e05a-d462-4bed-97c7-bab37a3ca38a",
   "metadata": {},
   "outputs": [],
   "source": [
    "result = pd.concat(frames, keys=[\"x\", \"y\", \"z\"])"
   ]
  },
  {
   "cell_type": "markdown",
   "id": "ccd30b7a-d527-4786-8b0f-5228c6c6c9f2",
   "metadata": {},
   "source": [
    "![merging_concat_group_keys2](img/merging_concat_group_keys2.png)\n",
    "\n",
    "You can also pass a dict to concat in which case the dict keys will be used for the keys argument (unless other keys are specified):"
   ]
  },
  {
   "cell_type": "code",
   "execution_count": 50,
   "id": "d2d54adf-65c6-4a8d-8322-f5cff178fdf3",
   "metadata": {},
   "outputs": [],
   "source": [
    "pieces = {\"x\": df1, \"y\": df2, \"z\": df3}\n",
    "result = pd.concat(pieces)"
   ]
  },
  {
   "cell_type": "markdown",
   "id": "eef6faa2-0dbb-4679-87f4-9b58f308b718",
   "metadata": {},
   "source": [
    "![merging_concat_dict](img/merging_concat_dict.png)"
   ]
  },
  {
   "cell_type": "code",
   "execution_count": 51,
   "id": "527181ad-5050-4dd7-bf03-e2c4bbd61233",
   "metadata": {},
   "outputs": [],
   "source": [
    "result = pd.concat(pieces, keys=[\"z\", \"y\"])"
   ]
  },
  {
   "cell_type": "markdown",
   "id": "1401f1c5-a4a2-4ecc-8310-4e79a370b282",
   "metadata": {},
   "source": [
    "![merging_concat_dict_keys](img/merging_concat_dict_keys.png)\n",
    "\n",
    "The MultiIndex created has levels that are constructed from the passed keys and the index of the DataFrame pieces:"
   ]
  },
  {
   "cell_type": "code",
   "execution_count": 52,
   "id": "05a6a2a1-e51c-4437-baf0-39aed880d013",
   "metadata": {},
   "outputs": [
    {
     "data": {
      "text/plain": [
       "FrozenList([['z', 'y'], [4, 5, 6, 7, 8, 9, 10, 11]])"
      ]
     },
     "execution_count": 52,
     "metadata": {},
     "output_type": "execute_result"
    }
   ],
   "source": [
    "result.index.levels"
   ]
  },
  {
   "cell_type": "markdown",
   "id": "c3cee646-b966-4388-a768-88ba5de4be96",
   "metadata": {},
   "source": [
    "If you wish to specify other levels (as will occasionally be the case), you can do so using the levels argument:"
   ]
  },
  {
   "cell_type": "code",
   "execution_count": 53,
   "id": "0ad5b91b-f5ac-4232-a409-f2d506b3ff50",
   "metadata": {},
   "outputs": [],
   "source": [
    "result = pd.concat(\n",
    "    pieces, keys=[\"x\", \"y\", \"z\"], levels=[[\"z\", \"y\", \"x\", \"w\"]], names=[\"group_key\"]\n",
    ")"
   ]
  },
  {
   "cell_type": "markdown",
   "id": "579f9613-f082-4424-878e-4fa2ed81d4aa",
   "metadata": {},
   "source": [
    "![merging_concat_dict_keys_names](img/merging_concat_dict_keys_names.png)"
   ]
  },
  {
   "cell_type": "code",
   "execution_count": 54,
   "id": "439bc417-4ffc-438c-a283-ad7533e1751f",
   "metadata": {},
   "outputs": [
    {
     "data": {
      "text/plain": [
       "FrozenList([['z', 'y', 'x', 'w'], [0, 1, 2, 3, 4, 5, 6, 7, 8, 9, 10, 11]])"
      ]
     },
     "execution_count": 54,
     "metadata": {},
     "output_type": "execute_result"
    }
   ],
   "source": [
    "result.index.levels"
   ]
  },
  {
   "cell_type": "markdown",
   "id": "54f679f3-9ce8-4bec-a811-f563e69dbb15",
   "metadata": {},
   "source": [
    "This is fairly esoteric, but it is actually necessary for implementing things like GroupBy where the order of a categorical variable is meaningful.\n",
    "\n",
    "### Appending rows to a DataFrame\n",
    "While not especially efficient (since a new object must be created), you can append a single row to a DataFrame by passing a Series or dict to append, which returns a new DataFrame as above."
   ]
  },
  {
   "cell_type": "code",
   "execution_count": 55,
   "id": "28047792-b023-4684-9621-2daa658dbee7",
   "metadata": {},
   "outputs": [],
   "source": [
    "s2 = pd.Series([\"X0\", \"X1\", \"X2\", \"X3\"], index=[\"A\", \"B\", \"C\", \"D\"])\n",
    "result = df1.append(s2, ignore_index=True)"
   ]
  },
  {
   "cell_type": "markdown",
   "id": "1dab32b2-105e-4019-a2f3-de1853ff81a6",
   "metadata": {},
   "source": [
    "![merging_append_series_as_row](img/merging_append_series_as_row.png)\n",
    "\n",
    "You should use ignore_index with this method to instruct DataFrame to discard its index. If you wish to preserve the index, you should construct an appropriately-indexed DataFrame and append or concatenate those objects.\n",
    "\n",
    "You can also pass a list of dicts or Series:"
   ]
  },
  {
   "cell_type": "code",
   "execution_count": 56,
   "id": "2771030c-21d1-4047-afe8-42e1b5f5fabd",
   "metadata": {},
   "outputs": [],
   "source": [
    "dicts = [{\"A\": 1, \"B\": 2, \"C\": 3, \"X\": 4}, {\"A\": 5, \"B\": 6, \"C\": 7, \"Y\": 8}]\n",
    "result = df1.append(dicts, ignore_index=True, sort=False)"
   ]
  },
  {
   "cell_type": "markdown",
   "id": "b8a995b9-de8b-473d-8e60-a26a3381a706",
   "metadata": {},
   "source": [
    "![merging_append_dits](img/merging_append_dits.png\n",
    "                       \n",
    "## Database-style DataFrame or named Series joining/merging\n",
    "pandas has full-featured, high performance in-memory join operations idiomatically very similar to relational databases like SQL. These methods perform significantly better (in some cases well over an order of magnitude better) than other open source implementations (like base::merge.data.frame in R). The reason for this is careful algorithmic design and the internal layout of the data in DataFrame.\n",
    "\n",
    "See the cookbook for some advanced strategies.\n",
    "\n",
    "Users who are familiar with SQL but new to pandas might be interested in a comparison with SQL.\n",
    "\n",
    "pandas provides a single function, merge(), as the entry point for all standard database join operations between DataFrame or named Series objects:\n",
    "\n",
    "```python\n",
    "pd.merge(\n",
    "    left,\n",
    "    right,\n",
    "    how=\"inner\",\n",
    "    on=None,\n",
    "    left_on=None,\n",
    "    right_on=None,\n",
    "    left_index=False,\n",
    "    right_index=False,\n",
    "    sort=True,\n",
    "    suffixes=(\"_x\", \"_y\"),\n",
    "    copy=True,\n",
    "    indicator=False,\n",
    "    validate=None,\n",
    ")\n",
    "```\n",
    "\n",
    "* left: A DataFrame or named Series object.\n",
    "\n",
    "* right: Another DataFrame or named Series object.\n",
    "\n",
    "* on: Column or index level names to join on. Must be found in both the left and right DataFrame and/or Series objects. If not passed and left_index and right_index are False, the intersection of the columns in the DataFrames and/or Series will be inferred to be the join keys.\n",
    "\n",
    "* left_on: Columns or index levels from the left DataFrame or Series to use as keys. Can either be column names, index level names, or arrays with length equal to the length of the DataFrame or Series.\n",
    "\n",
    "* right_on: Columns or index levels from the right DataFrame or Series to use as keys. Can either be column names, index level names, or arrays with length equal to the length of the DataFrame or Series.\n",
    "\n",
    "* left_index: If True, use the index (row labels) from the left DataFrame or Series as its join key(s). In the case of a DataFrame or Series with a MultiIndex (hierarchical), the number of levels must match the number of join keys from the right DataFrame or Series.\n",
    "\n",
    "* right_index: Same usage as left_index for the right DataFrame or Series\n",
    "\n",
    "* how: One of 'left', 'right', 'outer', 'inner'. Defaults to inner. See below for more detailed description of each method.\n",
    "\n",
    "* sort: Sort the result DataFrame by the join keys in lexicographical order. Defaults to True, setting to False will improve performance substantially in many cases.\n",
    "\n",
    "* suffixes: A tuple of string suffixes to apply to overlapping columns. Defaults to ('_x', '_y').\n",
    "\n",
    "* copy: Always copy data (default True) from the passed DataFrame or named Series objects, even when reindexing is not necessary. Cannot be avoided in many cases but may improve performance / memory usage. The cases where copying can be avoided are somewhat pathological but this option is provided nonetheless.\n",
    "\n",
    "* indicator: Add a column to the output DataFrame called _merge with information on the source of each row. _merge is Categorical-type and takes on a value of left_only for observations whose merge key only appears in 'left' DataFrame or Series, right_only for observations whose merge key only appears in 'right' DataFrame or Series, and both if the observation’s merge key is found in both.\n",
    "\n",
    "* validate : string, default None. If specified, checks if merge is of specified type.\n",
    "\n",
    "  * “one_to_one” or “1:1”: checks if merge keys are unique in both left and right datasets.\n",
    "\n",
    "  * “one_to_many” or “1:m”: checks if merge keys are unique in left dataset.\n",
    "\n",
    "  * “many_to_one” or “m:1”: checks if merge keys are unique in right dataset.\n",
    "\n",
    "  * “many_to_many” or “m:m”: allowed, but does not result in checks.\n",
    "\n",
    ">Note\n",
    ">\n",
    ">Support for specifying index levels as the on, left_on, and right_on parameters was added in version 0.23.0. Support for merging named Series objects was added in version 0.24.0.\n",
    "\n",
    "The return type will be the same as left. If left is a DataFrame or named Series and right is a subclass of DataFrame, the return type will still be DataFrame.\n",
    "\n",
    "merge is a function in the pandas namespace, and it is also available as a DataFrame instance method merge(), with the calling DataFrame being implicitly considered the left object in the join.\n",
    "\n",
    "The related join() method, uses merge internally for the index-on-index (by default) and column(s)-on-index join. If you are joining on index only, you may wish to use DataFrame.join to save yourself some typing.\n",
    "\n",
    "### Brief primer on merge methods (relational algebra)\n",
    "Experienced users of relational databases like SQL will be familiar with the terminology used to describe join operations between two SQL-table like structures (DataFrame objects). There are several cases to consider which are very important to understand:\n",
    "\n",
    "* one-to-one joins: for example when joining two DataFrame objects on their indexes (which must contain unique values).\n",
    "\n",
    "* many-to-one joins: for example when joining an index (unique) to one or more columns in a different DataFrame.\n",
    "\n",
    "* many-to-many joins: joining columns on columns.\n",
    "\n",
    ">Note\n",
    ">\n",
    ">When joining columns on columns (potentially a many-to-many join), any indexes on the passed DataFrame objects will be discarded.\n",
    "\n",
    "It is worth spending some time understanding the result of the many-to-many join case. In SQL / standard relational algebra, if a key combination appears more than once in both tables, the resulting table will have the Cartesian product of the associated data. Here is a very basic example with one unique key combination:"
   ]
  },
  {
   "cell_type": "code",
   "execution_count": 58,
   "id": "c02aa6c2-dce0-414c-9816-05c41e5f65dc",
   "metadata": {},
   "outputs": [],
   "source": [
    "left = pd.DataFrame(\n",
    "    {\n",
    "        \"key\": [\"K0\", \"K1\", \"K2\", \"K3\"],\n",
    "        \"A\": [\"A0\", \"A1\", \"A2\", \"A3\"],\n",
    "        \"B\": [\"B0\", \"B1\", \"B2\", \"B3\"],\n",
    "    }\n",
    ")\n",
    "\n",
    "right = pd.DataFrame(\n",
    "    {\n",
    "        \"key\": [\"K0\", \"K1\", \"K2\", \"K3\"],\n",
    "        \"C\": [\"C0\", \"C1\", \"C2\", \"C3\"],\n",
    "        \"D\": [\"D0\", \"D1\", \"D2\", \"D3\"],\n",
    "    }\n",
    ")\n",
    "\n",
    "result = pd.merge(left, right, on=\"key\")"
   ]
  },
  {
   "cell_type": "markdown",
   "id": "b8c63143-e46a-4a8a-8018-7d1c3aa7ee02",
   "metadata": {},
   "source": [
    "![merging_merge_on_key](img/merging_merge_on_key.png)\n",
    "\n",
    "Here is a more complicated example with multiple join keys. Only the keys appearing in left and right are present (the intersection), since how='inner' by default."
   ]
  },
  {
   "cell_type": "code",
   "execution_count": 60,
   "id": "335f71f0-7630-456c-b3aa-f2f59df8340e",
   "metadata": {},
   "outputs": [],
   "source": [
    "left = pd.DataFrame(\n",
    "    {\n",
    "        \"key1\": [\"K0\", \"K0\", \"K1\", \"K2\"],\n",
    "        \"key2\": [\"K0\", \"K1\", \"K0\", \"K1\"],\n",
    "        \"A\": [\"A0\", \"A1\", \"A2\", \"A3\"],\n",
    "        \"B\": [\"B0\", \"B1\", \"B2\", \"B3\"],\n",
    "        }\n",
    ")\n",
    "\n",
    "right = pd.DataFrame(\n",
    "    {\n",
    "        \"key1\": [\"K0\", \"K1\", \"K1\", \"K2\"],\n",
    "        \"key2\": [\"K0\", \"K0\", \"K0\", \"K0\"],\n",
    "        \"C\": [\"C0\", \"C1\", \"C2\", \"C3\"],\n",
    "        \"D\": [\"D0\", \"D1\", \"D2\", \"D3\"],\n",
    "    }\n",
    ")\n",
    "\n",
    "result = pd.merge(left, right, on=[\"key1\", \"key2\"])"
   ]
  },
  {
   "cell_type": "markdown",
   "id": "1edd97fe-63ee-4520-af35-1d1535543eaa",
   "metadata": {},
   "source": [
    "![merging_merge_on_key_multiple](img/merging_merge_on_key_multiple.png)\n",
    "\n",
    "The how argument to merge specifies how to determine which keys are to be included in the resulting table. If a key combination does not appear in either the left or right tables, the values in the joined table will be NA. Here is a summary of the how options and their SQL equivalent names:\n",
    "\n",
    "| Merge method | SQL Join Name | Description |\n",
    "|--------------|---------------|-------------|\n",
    "| left  | LEFT OUTER JOIN  | Use keys from left frame only |\n",
    "| right | RIGHT OUTER JOIN | Use keys from right frame only |\n",
    "| outer | FULL OUTER JOIN  | Use union of keys from both frames |\n",
    "| inner | INNER JOIN       | Use intersection of keys from both frames |\n"
   ]
  },
  {
   "cell_type": "code",
   "execution_count": 61,
   "id": "4363cacb-f760-4c0c-ab52-5e1ee4fbdf1c",
   "metadata": {},
   "outputs": [],
   "source": [
    "result = pd.merge(left, right, how=\"left\", on=[\"key1\", \"key2\"])"
   ]
  },
  {
   "cell_type": "markdown",
   "id": "6dddbca4-7dde-4063-96b0-a983d8947edb",
   "metadata": {},
   "source": [
    "![merging_merge_on_key_left](img/merging_merge_on_key_left.png)"
   ]
  },
  {
   "cell_type": "code",
   "execution_count": 62,
   "id": "1435c55d-876b-449c-99ec-ae4169d9a24c",
   "metadata": {},
   "outputs": [],
   "source": [
    "result = pd.merge(left, right, how=\"right\", on=[\"key1\", \"key2\"])"
   ]
  },
  {
   "cell_type": "markdown",
   "id": "465136fa-18f3-4410-858d-cf3c87fee87b",
   "metadata": {},
   "source": [
    "![merging_merge_on_key_right](img/merging_merge_on_key_right.png)"
   ]
  },
  {
   "cell_type": "code",
   "execution_count": 63,
   "id": "824a476e-963a-4288-bb31-9d6a043c2791",
   "metadata": {},
   "outputs": [],
   "source": [
    "result = pd.merge(left, right, how=\"outer\", on=[\"key1\", \"key2\"])"
   ]
  },
  {
   "cell_type": "markdown",
   "id": "8995f25b-99c3-4242-9359-bfab85712681",
   "metadata": {},
   "source": [
    "![merging_merge_on_key_outer](img/merging_merge_on_key_outer.png)"
   ]
  },
  {
   "cell_type": "code",
   "execution_count": 64,
   "id": "7d0b5492-b7f5-4cf4-bf83-929ea4773ffd",
   "metadata": {},
   "outputs": [],
   "source": [
    "result = pd.merge(left, right, how=\"inner\", on=[\"key1\", \"key2\"])"
   ]
  },
  {
   "cell_type": "markdown",
   "id": "861667e2-9731-409d-abbc-623db9cb9fad",
   "metadata": {},
   "source": [
    "![merging_merge_on_key_inner](img/merging_merge_on_key_inner.png)\n",
    "\n",
    "You can merge a mult-indexed Series and a DataFrame, if the names of the MultiIndex correspond to the columns from the DataFrame. Transform the Series to a DataFrame using Series.reset_index() before merging, as shown in the following example."
   ]
  },
  {
   "cell_type": "code",
   "execution_count": 65,
   "id": "a0ccb080-9f89-492e-81aa-38b26a54f38c",
   "metadata": {},
   "outputs": [
    {
     "data": {
      "text/html": [
       "<div>\n",
       "<style scoped>\n",
       "    .dataframe tbody tr th:only-of-type {\n",
       "        vertical-align: middle;\n",
       "    }\n",
       "\n",
       "    .dataframe tbody tr th {\n",
       "        vertical-align: top;\n",
       "    }\n",
       "\n",
       "    .dataframe thead th {\n",
       "        text-align: right;\n",
       "    }\n",
       "</style>\n",
       "<table border=\"1\" class=\"dataframe\">\n",
       "  <thead>\n",
       "    <tr style=\"text-align: right;\">\n",
       "      <th></th>\n",
       "      <th>Let</th>\n",
       "      <th>Num</th>\n",
       "    </tr>\n",
       "  </thead>\n",
       "  <tbody>\n",
       "    <tr>\n",
       "      <th>0</th>\n",
       "      <td>A</td>\n",
       "      <td>1</td>\n",
       "    </tr>\n",
       "    <tr>\n",
       "      <th>1</th>\n",
       "      <td>B</td>\n",
       "      <td>2</td>\n",
       "    </tr>\n",
       "    <tr>\n",
       "      <th>2</th>\n",
       "      <td>C</td>\n",
       "      <td>3</td>\n",
       "    </tr>\n",
       "  </tbody>\n",
       "</table>\n",
       "</div>"
      ],
      "text/plain": [
       "  Let  Num\n",
       "0   A    1\n",
       "1   B    2\n",
       "2   C    3"
      ]
     },
     "execution_count": 65,
     "metadata": {},
     "output_type": "execute_result"
    }
   ],
   "source": [
    "df = pd.DataFrame({\"Let\": [\"A\", \"B\", \"C\"], \"Num\": [1, 2, 3]})\n",
    "df"
   ]
  },
  {
   "cell_type": "code",
   "execution_count": 66,
   "id": "792453c0-9a6c-4c8e-be64-5b7369aa3602",
   "metadata": {},
   "outputs": [
    {
     "data": {
      "text/plain": [
       "Let  Num\n",
       "A    1      a\n",
       "B    2      b\n",
       "C    3      c\n",
       "A    4      d\n",
       "B    5      e\n",
       "C    6      f\n",
       "dtype: object"
      ]
     },
     "execution_count": 66,
     "metadata": {},
     "output_type": "execute_result"
    }
   ],
   "source": [
    "ser = pd.Series(\n",
    "    [\"a\", \"b\", \"c\", \"d\", \"e\", \"f\"],\n",
    "    index=pd.MultiIndex.from_arrays(\n",
    "        [[\"A\", \"B\", \"C\"] * 2, [1, 2, 3, 4, 5, 6]], names=[\"Let\", \"Num\"]\n",
    "    ),\n",
    ")\n",
    "\n",
    "ser"
   ]
  },
  {
   "cell_type": "code",
   "execution_count": 67,
   "id": "46d70f5d-4ea6-43e4-b755-cf36dce21a98",
   "metadata": {},
   "outputs": [
    {
     "data": {
      "text/html": [
       "<div>\n",
       "<style scoped>\n",
       "    .dataframe tbody tr th:only-of-type {\n",
       "        vertical-align: middle;\n",
       "    }\n",
       "\n",
       "    .dataframe tbody tr th {\n",
       "        vertical-align: top;\n",
       "    }\n",
       "\n",
       "    .dataframe thead th {\n",
       "        text-align: right;\n",
       "    }\n",
       "</style>\n",
       "<table border=\"1\" class=\"dataframe\">\n",
       "  <thead>\n",
       "    <tr style=\"text-align: right;\">\n",
       "      <th></th>\n",
       "      <th>Let</th>\n",
       "      <th>Num</th>\n",
       "      <th>0</th>\n",
       "    </tr>\n",
       "  </thead>\n",
       "  <tbody>\n",
       "    <tr>\n",
       "      <th>0</th>\n",
       "      <td>A</td>\n",
       "      <td>1</td>\n",
       "      <td>a</td>\n",
       "    </tr>\n",
       "    <tr>\n",
       "      <th>1</th>\n",
       "      <td>B</td>\n",
       "      <td>2</td>\n",
       "      <td>b</td>\n",
       "    </tr>\n",
       "    <tr>\n",
       "      <th>2</th>\n",
       "      <td>C</td>\n",
       "      <td>3</td>\n",
       "      <td>c</td>\n",
       "    </tr>\n",
       "  </tbody>\n",
       "</table>\n",
       "</div>"
      ],
      "text/plain": [
       "  Let  Num  0\n",
       "0   A    1  a\n",
       "1   B    2  b\n",
       "2   C    3  c"
      ]
     },
     "execution_count": 67,
     "metadata": {},
     "output_type": "execute_result"
    }
   ],
   "source": [
    "pd.merge(df, ser.reset_index(), on=[\"Let\", \"Num\"])"
   ]
  },
  {
   "cell_type": "markdown",
   "id": "7e6e065f-f068-4728-8340-7fd5479b57b4",
   "metadata": {},
   "source": [
    "Here is another example with duplicate join keys in DataFrames:"
   ]
  },
  {
   "cell_type": "code",
   "execution_count": 68,
   "id": "6f99c7f3-be51-411c-b82c-04ace37d7e1c",
   "metadata": {},
   "outputs": [],
   "source": [
    "left = pd.DataFrame({\"A\": [1, 2], \"B\": [2, 2]})\n",
    "right = pd.DataFrame({\"A\": [4, 5, 6], \"B\": [2, 2, 2]})\n",
    "result = pd.merge(left, right, on=\"B\", how=\"outer\")"
   ]
  },
  {
   "cell_type": "markdown",
   "id": "2e6da7a2-724e-4a49-843c-736ac62f2d8a",
   "metadata": {},
   "source": [
    "![merging_merge_on_key_dup](img/merging_merge_on_key_dup.png)\n",
    "\n",
    ">Warning\n",
    ">\n",
    ">Joining / merging on duplicate keys can cause a returned frame that is the multiplication of the row dimensions, which may result in memory overflow. It is the user’ s responsibility to manage duplicate values in keys before joining large DataFrames.\n",
    "\n",
    "### Checking for duplicate keys\n",
    "Users can use the validate argument to automatically check whether there are unexpected duplicates in their merge keys. Key uniqueness is checked before merge operations and so should protect against memory overflows. Checking key uniqueness is also a good way to ensure user data structures are as expected.\n",
    "\n",
    "In the following example, there are duplicate values of B in the right DataFrame. As this is not a one-to-one merge – as specified in the validate argument – an exception will be raised.\n",
    "\n"
   ]
  },
  {
   "cell_type": "code",
   "execution_count": null,
   "id": "1cbe4710-1e44-427b-a6ab-c5f1fa819d46",
   "metadata": {},
   "outputs": [],
   "source": [
    "left = pd.DataFrame({\"A\": [1, 2], \"B\": [1, 2]})\n",
    "right = pd.DataFrame({\"A\": [4, 5, 6], \"B\": [2, 2, 2]})\n"
   ]
  },
  {
   "cell_type": "markdown",
   "id": "1882ffae-bbe0-4b72-bf85-4b2b82afa268",
   "metadata": {},
   "source": [
    "```python\n",
    "result = pd.merge(left, right, on=\"B\", how=\"outer\", validate=\"one_to_one\")\n",
    "\n",
    "# ...\n",
    "# MergeError: Merge keys are not unique in right dataset; not a one-to-one merge\n",
    "\n",
    "```\n",
    "\n",
    "If the user is aware of the duplicates in the right DataFrame but wants to ensure there are no duplicates in the left DataFrame, one can use the validate='one_to_many' argument instead, which will not raise an exception."
   ]
  },
  {
   "cell_type": "code",
   "execution_count": 72,
   "id": "f8fdb448-088c-431d-99d3-8ed0d52d585c",
   "metadata": {},
   "outputs": [
    {
     "data": {
      "text/html": [
       "<div>\n",
       "<style scoped>\n",
       "    .dataframe tbody tr th:only-of-type {\n",
       "        vertical-align: middle;\n",
       "    }\n",
       "\n",
       "    .dataframe tbody tr th {\n",
       "        vertical-align: top;\n",
       "    }\n",
       "\n",
       "    .dataframe thead th {\n",
       "        text-align: right;\n",
       "    }\n",
       "</style>\n",
       "<table border=\"1\" class=\"dataframe\">\n",
       "  <thead>\n",
       "    <tr style=\"text-align: right;\">\n",
       "      <th></th>\n",
       "      <th>A_x</th>\n",
       "      <th>B</th>\n",
       "      <th>A_y</th>\n",
       "    </tr>\n",
       "  </thead>\n",
       "  <tbody>\n",
       "    <tr>\n",
       "      <th>0</th>\n",
       "      <td>1</td>\n",
       "      <td>1</td>\n",
       "      <td>NaN</td>\n",
       "    </tr>\n",
       "    <tr>\n",
       "      <th>1</th>\n",
       "      <td>2</td>\n",
       "      <td>2</td>\n",
       "      <td>4.0</td>\n",
       "    </tr>\n",
       "    <tr>\n",
       "      <th>2</th>\n",
       "      <td>2</td>\n",
       "      <td>2</td>\n",
       "      <td>5.0</td>\n",
       "    </tr>\n",
       "    <tr>\n",
       "      <th>3</th>\n",
       "      <td>2</td>\n",
       "      <td>2</td>\n",
       "      <td>6.0</td>\n",
       "    </tr>\n",
       "  </tbody>\n",
       "</table>\n",
       "</div>"
      ],
      "text/plain": [
       "   A_x  B  A_y\n",
       "0    1  1  NaN\n",
       "1    2  2  4.0\n",
       "2    2  2  5.0\n",
       "3    2  2  6.0"
      ]
     },
     "execution_count": 72,
     "metadata": {},
     "output_type": "execute_result"
    }
   ],
   "source": [
    "pd.merge(left, right, on=\"B\", how=\"outer\", validate=\"one_to_many\")"
   ]
  },
  {
   "cell_type": "markdown",
   "id": "c764391d-2d32-4092-a7a6-c30e22232e27",
   "metadata": {},
   "source": [
    "### The merge indicator\n",
    "merge() accepts the argument indicator. If True, a Categorical-type column called _merge will be added to the output object that takes on values:\n",
    "\n",
    "| Observation Origin | _merge value |\n",
    "|--------------------|--------------|\n",
    "| Merge key only in 'left' frame | left_only |\n",
    "| Merge key only in 'right' frame | right_only |\n",
    "| Merge key in both frames | both |"
   ]
  },
  {
   "cell_type": "code",
   "execution_count": 73,
   "id": "840d02cf-05e0-4b64-bc7f-db0e413b575e",
   "metadata": {},
   "outputs": [
    {
     "data": {
      "text/html": [
       "<div>\n",
       "<style scoped>\n",
       "    .dataframe tbody tr th:only-of-type {\n",
       "        vertical-align: middle;\n",
       "    }\n",
       "\n",
       "    .dataframe tbody tr th {\n",
       "        vertical-align: top;\n",
       "    }\n",
       "\n",
       "    .dataframe thead th {\n",
       "        text-align: right;\n",
       "    }\n",
       "</style>\n",
       "<table border=\"1\" class=\"dataframe\">\n",
       "  <thead>\n",
       "    <tr style=\"text-align: right;\">\n",
       "      <th></th>\n",
       "      <th>col1</th>\n",
       "      <th>col_left</th>\n",
       "      <th>col_right</th>\n",
       "      <th>_merge</th>\n",
       "    </tr>\n",
       "  </thead>\n",
       "  <tbody>\n",
       "    <tr>\n",
       "      <th>0</th>\n",
       "      <td>0</td>\n",
       "      <td>a</td>\n",
       "      <td>NaN</td>\n",
       "      <td>left_only</td>\n",
       "    </tr>\n",
       "    <tr>\n",
       "      <th>1</th>\n",
       "      <td>1</td>\n",
       "      <td>b</td>\n",
       "      <td>2.0</td>\n",
       "      <td>both</td>\n",
       "    </tr>\n",
       "    <tr>\n",
       "      <th>2</th>\n",
       "      <td>2</td>\n",
       "      <td>NaN</td>\n",
       "      <td>2.0</td>\n",
       "      <td>right_only</td>\n",
       "    </tr>\n",
       "    <tr>\n",
       "      <th>3</th>\n",
       "      <td>2</td>\n",
       "      <td>NaN</td>\n",
       "      <td>2.0</td>\n",
       "      <td>right_only</td>\n",
       "    </tr>\n",
       "  </tbody>\n",
       "</table>\n",
       "</div>"
      ],
      "text/plain": [
       "   col1 col_left  col_right      _merge\n",
       "0     0        a        NaN   left_only\n",
       "1     1        b        2.0        both\n",
       "2     2      NaN        2.0  right_only\n",
       "3     2      NaN        2.0  right_only"
      ]
     },
     "execution_count": 73,
     "metadata": {},
     "output_type": "execute_result"
    }
   ],
   "source": [
    "df1 = pd.DataFrame({\"col1\": [0, 1], \"col_left\": [\"a\", \"b\"]})\n",
    "df2 = pd.DataFrame({\"col1\": [1, 2, 2], \"col_right\": [2, 2, 2]})\n",
    "pd.merge(df1, df2, on=\"col1\", how=\"outer\", indicator=True)"
   ]
  },
  {
   "cell_type": "markdown",
   "id": "03634647-a377-429d-9e3a-5efcda64e60f",
   "metadata": {},
   "source": [
    "The indicator argument will also accept string arguments, in which case the indicator function will use the value of the passed string as the name for the indicator column.\n",
    "\n"
   ]
  },
  {
   "cell_type": "code",
   "execution_count": 74,
   "id": "60e40415-4831-4d60-ba8b-e4216393fc27",
   "metadata": {},
   "outputs": [
    {
     "data": {
      "text/html": [
       "<div>\n",
       "<style scoped>\n",
       "    .dataframe tbody tr th:only-of-type {\n",
       "        vertical-align: middle;\n",
       "    }\n",
       "\n",
       "    .dataframe tbody tr th {\n",
       "        vertical-align: top;\n",
       "    }\n",
       "\n",
       "    .dataframe thead th {\n",
       "        text-align: right;\n",
       "    }\n",
       "</style>\n",
       "<table border=\"1\" class=\"dataframe\">\n",
       "  <thead>\n",
       "    <tr style=\"text-align: right;\">\n",
       "      <th></th>\n",
       "      <th>col1</th>\n",
       "      <th>col_left</th>\n",
       "      <th>col_right</th>\n",
       "      <th>indicator_column</th>\n",
       "    </tr>\n",
       "  </thead>\n",
       "  <tbody>\n",
       "    <tr>\n",
       "      <th>0</th>\n",
       "      <td>0</td>\n",
       "      <td>a</td>\n",
       "      <td>NaN</td>\n",
       "      <td>left_only</td>\n",
       "    </tr>\n",
       "    <tr>\n",
       "      <th>1</th>\n",
       "      <td>1</td>\n",
       "      <td>b</td>\n",
       "      <td>2.0</td>\n",
       "      <td>both</td>\n",
       "    </tr>\n",
       "    <tr>\n",
       "      <th>2</th>\n",
       "      <td>2</td>\n",
       "      <td>NaN</td>\n",
       "      <td>2.0</td>\n",
       "      <td>right_only</td>\n",
       "    </tr>\n",
       "    <tr>\n",
       "      <th>3</th>\n",
       "      <td>2</td>\n",
       "      <td>NaN</td>\n",
       "      <td>2.0</td>\n",
       "      <td>right_only</td>\n",
       "    </tr>\n",
       "  </tbody>\n",
       "</table>\n",
       "</div>"
      ],
      "text/plain": [
       "   col1 col_left  col_right indicator_column\n",
       "0     0        a        NaN        left_only\n",
       "1     1        b        2.0             both\n",
       "2     2      NaN        2.0       right_only\n",
       "3     2      NaN        2.0       right_only"
      ]
     },
     "execution_count": 74,
     "metadata": {},
     "output_type": "execute_result"
    }
   ],
   "source": [
    "pd.merge(df1, df2, on=\"col1\", how=\"outer\", indicator=\"indicator_column\")"
   ]
  },
  {
   "cell_type": "markdown",
   "id": "0dc601fb-0f17-4b0c-a1d2-c4a3e4abe888",
   "metadata": {},
   "source": [
    "### Merge dtypes\n",
    "Merging will preserve the dtype of the join keys."
   ]
  },
  {
   "cell_type": "code",
   "execution_count": null,
   "id": "ace50961-e716-4c30-8391-4ff860e510ef",
   "metadata": {},
   "outputs": [],
   "source": [
    "left = pd.DataFrame({\"key\": [1], \"v1\": [10]})\n",
    "\n",
    "In [65]: left"
   ]
  },
  {
   "cell_type": "code",
   "execution_count": null,
   "id": "99257bf2-1a2d-41d1-9d39-1b2f21cc35aa",
   "metadata": {},
   "outputs": [],
   "source": [
    "right = pd.DataFrame({\"key\": [1, 2], \"v1\": [20, 30]})\n",
    "\n",
    "In [67]: right"
   ]
  },
  {
   "cell_type": "markdown",
   "id": "672e230a-b9f4-46b5-a564-05f34a2c32c5",
   "metadata": {},
   "source": [
    "We are able to preserve the join keys:\n",
    "\n"
   ]
  },
  {
   "cell_type": "code",
   "execution_count": null,
   "id": "4733cc4d-0070-4766-adc5-46f11dc1fae6",
   "metadata": {},
   "outputs": [],
   "source": [
    "pd.merge(left, right, how=\"outer\")"
   ]
  },
  {
   "cell_type": "code",
   "execution_count": null,
   "id": "6ee2ba7a-206a-4fed-99b4-6c006c87cc13",
   "metadata": {},
   "outputs": [],
   "source": [
    "pd.merge(left, right, how=\"outer\").dtypes"
   ]
  },
  {
   "cell_type": "markdown",
   "id": "c1d9010c-1449-4b2e-8926-a02baabdf33e",
   "metadata": {},
   "source": [
    "Of course if you have missing values that are introduced, then the resulting dtype will be upcast."
   ]
  },
  {
   "cell_type": "code",
   "execution_count": null,
   "id": "3bd54a4a-30d3-4f03-b84b-dce38a02f4aa",
   "metadata": {},
   "outputs": [],
   "source": [
    "pd.merge(left, right, how=\"outer\", on=\"key\")"
   ]
  },
  {
   "cell_type": "code",
   "execution_count": null,
   "id": "029eca42-7b8c-4f6a-b246-f998dcf4b9d7",
   "metadata": {},
   "outputs": [],
   "source": [
    "pd.merge(left, right, how=\"outer\", on=\"key\").dtypes"
   ]
  },
  {
   "cell_type": "markdown",
   "id": "8ba60606-f0ca-45f8-bb2a-7f2c7eca9593",
   "metadata": {},
   "source": [
    "Merging will preserve category dtypes of the mergands. See also the section on categoricals.\n",
    "\n",
    "The left frame."
   ]
  },
  {
   "cell_type": "code",
   "execution_count": null,
   "id": "d454a218-ae30-43de-ad27-9f167d9a36a3",
   "metadata": {},
   "outputs": [],
   "source": [
    "from pandas.api.types import CategoricalDtype\n",
    "\n",
    "In [73]: X = pd.Series(np.random.choice([\"foo\", \"bar\"], size=(10,)))\n",
    "\n",
    "In [74]: X = X.astype(CategoricalDtype(categories=[\"foo\", \"bar\"]))\n",
    "\n",
    "In [75]: left = pd.DataFrame(\n",
    "   ....:     {\"X\": X, \"Y\": np.random.choice([\"one\", \"two\", \"three\"], size=(10,))}\n",
    "   ....: )\n",
    "   ....: \n",
    "\n",
    "In [76]: left"
   ]
  },
  {
   "cell_type": "code",
   "execution_count": null,
   "id": "31a073a4-5f09-4b7e-9c18-ec8daf390760",
   "metadata": {},
   "outputs": [],
   "source": [
    "left.dtypes"
   ]
  },
  {
   "cell_type": "markdown",
   "id": "4274a413-d154-459c-945c-4b62d12b8e6e",
   "metadata": {},
   "source": [
    "The right frame."
   ]
  },
  {
   "cell_type": "code",
   "execution_count": null,
   "id": "3fdeb860-f141-48f8-8c4a-9de3aeca455e",
   "metadata": {},
   "outputs": [],
   "source": [
    "right = pd.DataFrame(\n",
    "   ....:     {\n",
    "   ....:         \"X\": pd.Series([\"foo\", \"bar\"], dtype=CategoricalDtype([\"foo\", \"bar\"])),\n",
    "   ....:         \"Z\": [1, 2],\n",
    "   ....:     }\n",
    "   ....: )\n",
    "   ....: \n",
    "\n",
    "In [79]: right"
   ]
  },
  {
   "cell_type": "code",
   "execution_count": null,
   "id": "986c9ac6-6347-4923-a41a-39768bb5faed",
   "metadata": {},
   "outputs": [],
   "source": [
    "right.dtypes"
   ]
  },
  {
   "cell_type": "markdown",
   "id": "e9f6a6ad-a587-4306-82b3-9498f8679fef",
   "metadata": {},
   "source": [
    "The merged result:"
   ]
  },
  {
   "cell_type": "code",
   "execution_count": null,
   "id": "3efbe8bc-6faf-4d75-b505-4095a2e64f45",
   "metadata": {},
   "outputs": [],
   "source": [
    "result = pd.merge(left, right, how=\"outer\")\n",
    "\n",
    "In [82]: result"
   ]
  },
  {
   "cell_type": "code",
   "execution_count": null,
   "id": "c3d94244-ef0b-4d23-bdf5-d5f72b3a5d9c",
   "metadata": {},
   "outputs": [],
   "source": [
    "result.dtypes"
   ]
  },
  {
   "cell_type": "markdown",
   "id": "1f732461-9a1c-4c6b-8740-e42e7bae9913",
   "metadata": {},
   "source": [
    ">Note\n",
    ">\n",
    ">The category dtypes must be exactly the same, meaning the same categories and the ordered attribute. Otherwise the result will coerce to the categories’ dtype.\n",
    "\n",
    ">Note\n",
    ">\n",
    ">Merging on category dtypes that are the same can be quite performant compared to object dtype merging.\n",
    "\n",
    "### Joining on index\n",
    "DataFrame.join() is a convenient method for combining the columns of two potentially differently-indexed DataFrames into a single result DataFrame. Here is a very basic example:"
   ]
  },
  {
   "cell_type": "code",
   "execution_count": null,
   "id": "e9ce313e-c7ec-4c1c-8565-7d629bccae94",
   "metadata": {},
   "outputs": [],
   "source": [
    "left = pd.DataFrame(\n",
    "   ....:     {\"A\": [\"A0\", \"A1\", \"A2\"], \"B\": [\"B0\", \"B1\", \"B2\"]}, index=[\"K0\", \"K1\", \"K2\"]\n",
    "   ....: )\n",
    "   ....: \n",
    "\n",
    "In [85]: right = pd.DataFrame(\n",
    "   ....:     {\"C\": [\"C0\", \"C2\", \"C3\"], \"D\": [\"D0\", \"D2\", \"D3\"]}, index=[\"K0\", \"K2\", \"K3\"]\n",
    "   ....: )\n",
    "   ....: \n",
    "\n",
    "In [86]: result = left.join(right)"
   ]
  },
  {
   "cell_type": "markdown",
   "id": "ce7873c2-c0a4-4709-9092-59e2685f7613",
   "metadata": {},
   "source": [
    "![merging_join](img/merging_join.png)"
   ]
  },
  {
   "cell_type": "code",
   "execution_count": null,
   "id": "0446e38b-6f5f-46be-8303-13535d14e5f1",
   "metadata": {},
   "outputs": [],
   "source": [
    "result = left.join(right, how=\"outer\")"
   ]
  },
  {
   "cell_type": "markdown",
   "id": "848ecedd-14dd-4548-8eea-125ded12bc91",
   "metadata": {},
   "source": [
    "![merging_join_outer](img/merging_join_outer.png)\n",
    "\n",
    "The same as above, but with how='inner'."
   ]
  },
  {
   "cell_type": "code",
   "execution_count": null,
   "id": "21fa2f8c-daa7-4bcb-b26a-995f1723c812",
   "metadata": {},
   "outputs": [],
   "source": [
    "result = left.join(right, how=\"inner\")"
   ]
  },
  {
   "cell_type": "markdown",
   "id": "7561b1d0-62c0-4945-96fd-658d0aaee390",
   "metadata": {},
   "source": [
    "![merging_join_inner](img/merging_join_inner.png)\n",
    "\n",
    "The data alignment here is on the indexes (row labels). This same behavior can be achieved using merge plus additional arguments instructing it to use the indexes:"
   ]
  },
  {
   "cell_type": "code",
   "execution_count": null,
   "id": "d215b2b4-75af-449d-ac30-dcec897a833d",
   "metadata": {},
   "outputs": [],
   "source": [
    "result = pd.merge(left, right, left_index=True, right_index=True, how=\"outer\")"
   ]
  },
  {
   "cell_type": "markdown",
   "id": "919b03e7-f723-4aba-a63d-637fa04953bd",
   "metadata": {},
   "source": [
    "![merging_merge_index_outer](img/merging_merge_index_outer.png)"
   ]
  },
  {
   "cell_type": "code",
   "execution_count": null,
   "id": "0ea62fd3-253c-400a-825b-d8eb35a00af0",
   "metadata": {},
   "outputs": [],
   "source": [
    "result = pd.merge(left, right, left_index=True, right_index=True, how=\"inner\")"
   ]
  },
  {
   "cell_type": "markdown",
   "id": "561f263b-81ed-4a69-8602-165dee40fdbe",
   "metadata": {},
   "source": [
    "![merging_merge_index_inner](img/merging_merge_index_inner.png)\n",
    "\n",
    "### Joining key columns on an index\n",
    "join() takes an optional on argument which may be a column or multiple column names, which specifies that the passed DataFrame is to be aligned on that column in the DataFrame. These two function calls are completely equivalent:\n",
    "\n",
    "```python\n",
    "left.join(right, on=key_or_keys)\n",
    "pd.merge(\n",
    "    left, right, left_on=key_or_keys, right_index=True, how=\"left\", sort=False\n",
    ")\n",
    "```\n",
    "\n",
    "Obviously you can choose whichever form you find more convenient. For many-to-one joins (where one of the DataFrame’s is already indexed by the join key), using join may be more convenient. Here is a simple example:"
   ]
  },
  {
   "cell_type": "code",
   "execution_count": null,
   "id": "e41eca44-99b5-42a7-8878-26bcc075440a",
   "metadata": {},
   "outputs": [],
   "source": [
    "left = pd.DataFrame(\n",
    "   ....:     {\n",
    "   ....:         \"A\": [\"A0\", \"A1\", \"A2\", \"A3\"],\n",
    "   ....:         \"B\": [\"B0\", \"B1\", \"B2\", \"B3\"],\n",
    "   ....:         \"key\": [\"K0\", \"K1\", \"K0\", \"K1\"],\n",
    "   ....:     }\n",
    "   ....: )\n",
    "   ....: \n",
    "\n",
    "In [92]: right = pd.DataFrame({\"C\": [\"C0\", \"C1\"], \"D\": [\"D0\", \"D1\"]}, index=[\"K0\", \"K1\"])\n",
    "\n",
    "In [93]: result = left.join(right, on=\"key\")"
   ]
  },
  {
   "cell_type": "markdown",
   "id": "6fad9f6c-b000-422f-9c40-dfbba6ef7286",
   "metadata": {},
   "source": [
    "![merging_join_key_columns](img/merging_join_key_columns.png)"
   ]
  },
  {
   "cell_type": "code",
   "execution_count": null,
   "id": "acfdecb9-18b5-470e-a90f-b8c5a6f728c6",
   "metadata": {},
   "outputs": [],
   "source": [
    "result = pd.merge(\n",
    "   ....:     left, right, left_on=\"key\", right_index=True, how=\"left\", sort=False\n",
    "   ....: )"
   ]
  },
  {
   "cell_type": "markdown",
   "id": "5a0fd8ff-813c-46ba-8667-93a79af10605",
   "metadata": {},
   "source": [
    "![merging_merge_key_columns](img/merging_merge_key_columns.png)\n",
    "\n",
    "To join on multiple keys, the passed DataFrame must have a MultiIndex:"
   ]
  },
  {
   "cell_type": "code",
   "execution_count": null,
   "id": "718adbf9-2368-4e6b-887c-aedc2a125e38",
   "metadata": {},
   "outputs": [],
   "source": [
    "left = pd.DataFrame(\n",
    "   ....:     {\n",
    "   ....:         \"A\": [\"A0\", \"A1\", \"A2\", \"A3\"],\n",
    "   ....:         \"B\": [\"B0\", \"B1\", \"B2\", \"B3\"],\n",
    "   ....:         \"key1\": [\"K0\", \"K0\", \"K1\", \"K2\"],\n",
    "   ....:         \"key2\": [\"K0\", \"K1\", \"K0\", \"K1\"],\n",
    "   ....:     }\n",
    "   ....: )\n",
    "   ....: \n",
    "\n",
    "In [96]: index = pd.MultiIndex.from_tuples(\n",
    "   ....:     [(\"K0\", \"K0\"), (\"K1\", \"K0\"), (\"K2\", \"K0\"), (\"K2\", \"K1\")]\n",
    "   ....: )\n",
    "   ....: \n",
    "\n",
    "In [97]: right = pd.DataFrame(\n",
    "   ....:     {\"C\": [\"C0\", \"C1\", \"C2\", \"C3\"], \"D\": [\"D0\", \"D1\", \"D2\", \"D3\"]}, index=index\n",
    "   ....: )"
   ]
  },
  {
   "cell_type": "markdown",
   "id": "7a5bb85e-791c-42d2-a346-6d32bd37086d",
   "metadata": {},
   "source": [
    "Now this can be joined by passing the two key column names:"
   ]
  },
  {
   "cell_type": "code",
   "execution_count": null,
   "id": "89b4eac1-6627-4e78-ae2f-d9ee5ed67c57",
   "metadata": {},
   "outputs": [],
   "source": [
    "result = left.join(right, on=[\"key1\", \"key2\"])"
   ]
  },
  {
   "cell_type": "markdown",
   "id": "4de8b830-3b19-4180-be00-e75683cba6cc",
   "metadata": {},
   "source": [
    "![merging_join_multikeys](img/merging_join_multikeys.png)\n",
    "\n",
    "The default for DataFrame.join is to perform a left join (essentially a “VLOOKUP” operation, for Excel users), which uses only the keys found in the calling DataFrame. Other join types, for example inner join, can be just as easily performed:"
   ]
  },
  {
   "cell_type": "code",
   "execution_count": null,
   "id": "6b79b97c-af22-4ac1-9990-20f992b786f7",
   "metadata": {},
   "outputs": [],
   "source": [
    "result = left.join(right, on=[\"key1\", \"key2\"], how=\"inner\")"
   ]
  },
  {
   "cell_type": "markdown",
   "id": "99151747-7e53-49b6-9859-f4e321be64af",
   "metadata": {},
   "source": [
    "![merging_join_multikeys_inner](img/merging_join_multikeys_inner.png)\n",
    "\n",
    "As you can see, this drops any rows where there was no match.\n",
    "\n",
    "### Joining a single Index to a MultiIndex\n",
    "You can join a singly-indexed DataFrame with a level of a MultiIndexed DataFrame. The level will match on the name of the index of the singly-indexed frame against a level name of the MultiIndexed frame."
   ]
  },
  {
   "cell_type": "code",
   "execution_count": null,
   "id": "7265d929-2978-4060-8dd9-5a69470a3b5d",
   "metadata": {},
   "outputs": [],
   "source": [
    "left = pd.DataFrame(\n",
    "   .....:     {\"A\": [\"A0\", \"A1\", \"A2\"], \"B\": [\"B0\", \"B1\", \"B2\"]},\n",
    "   .....:     index=pd.Index([\"K0\", \"K1\", \"K2\"], name=\"key\"),\n",
    "   .....: )\n",
    "   .....: \n",
    "\n",
    "In [101]: index = pd.MultiIndex.from_tuples(\n",
    "   .....:     [(\"K0\", \"Y0\"), (\"K1\", \"Y1\"), (\"K2\", \"Y2\"), (\"K2\", \"Y3\")],\n",
    "   .....:     names=[\"key\", \"Y\"],\n",
    "   .....: )\n",
    "   .....: \n",
    "\n",
    "In [102]: right = pd.DataFrame(\n",
    "   .....:     {\"C\": [\"C0\", \"C1\", \"C2\", \"C3\"], \"D\": [\"D0\", \"D1\", \"D2\", \"D3\"]},\n",
    "   .....:     index=index,\n",
    "   .....: )\n",
    "   .....: \n",
    "\n",
    "In [103]: result = left.join(right, how=\"inner\")"
   ]
  },
  {
   "cell_type": "markdown",
   "id": "a2a2f143-bbdf-4ae5-9af4-339f242582a5",
   "metadata": {},
   "source": [
    "![merging_join_multiindex_inner](img/merging_join_multiindex_inner.png)\n",
    "\n",
    "This is equivalent but less verbose and more memory efficient / faster than this."
   ]
  },
  {
   "cell_type": "code",
   "execution_count": null,
   "id": "cb7b9a99-d695-45d5-b49d-ec1b57afa4fb",
   "metadata": {},
   "outputs": [],
   "source": [
    "result = pd.merge(\n",
    "   .....:     left.reset_index(), right.reset_index(), on=[\"key\"], how=\"inner\"\n",
    "   .....: ).s"
   ]
  },
  {
   "cell_type": "markdown",
   "id": "a46c174a-c296-4d33-807c-dc114c124039",
   "metadata": {},
   "source": [
    "![merging_merge_multiindex_alternative](img/merging_merge_multiindex_alternative.png)\n",
    "\n",
    "### Joining with two MultiIndexes\n",
    "This is supported in a limited way, provided that the index for the right argument is completely used in the join, and is a subset of the indices in the left argument, as in this example:"
   ]
  },
  {
   "cell_type": "code",
   "execution_count": null,
   "id": "3e1882fa-f83d-47f8-97f3-2563f78021e8",
   "metadata": {},
   "outputs": [],
   "source": [
    "leftindex = pd.MultiIndex.from_product(\n",
    "   .....:     [list(\"abc\"), list(\"xy\"), [1, 2]], names=[\"abc\", \"xy\", \"num\"]\n",
    "   .....: )\n",
    "   .....: \n",
    "\n",
    "In [106]: left = pd.DataFrame({\"v1\": range(12)}, index=leftindex)\n",
    "\n",
    "In [107]: left"
   ]
  },
  {
   "cell_type": "code",
   "execution_count": null,
   "id": "fbaf5480-9627-4670-b7d9-61613be2c519",
   "metadata": {},
   "outputs": [],
   "source": [
    "rightindex = pd.MultiIndex.from_product(\n",
    "   .....:     [list(\"abc\"), list(\"xy\")], names=[\"abc\", \"xy\"]\n",
    "   .....: )\n",
    "   .....: \n",
    "\n",
    "In [109]: right = pd.DataFrame({\"v2\": [100 * i for i in range(1, 7)]}, index=rightindex)\n",
    "    \n",
    "right"
   ]
  },
  {
   "cell_type": "code",
   "execution_count": null,
   "id": "7a802932-53ae-4de4-93a5-390b1a061b01",
   "metadata": {},
   "outputs": [],
   "source": [
    "left.join(right, on=[\"abc\", \"xy\"], how=\"inner\")"
   ]
  },
  {
   "cell_type": "markdown",
   "id": "e9408bb9-712e-409f-b61c-855e4b8393ef",
   "metadata": {},
   "source": [
    "If that condition is not satisfied, a join with two multi-indexes can be done using the following code."
   ]
  },
  {
   "cell_type": "code",
   "execution_count": null,
   "id": "174a8dfd-7c0b-41a9-b644-96fbd868cfce",
   "metadata": {},
   "outputs": [],
   "source": [
    "leftindex = pd.MultiIndex.from_tuples(\n",
    "   .....:     [(\"K0\", \"X0\"), (\"K0\", \"X1\"), (\"K1\", \"X2\")], names=[\"key\", \"X\"]\n",
    "   .....: )\n",
    "   .....: \n",
    "\n",
    "In [113]: left = pd.DataFrame(\n",
    "   .....:     {\"A\": [\"A0\", \"A1\", \"A2\"], \"B\": [\"B0\", \"B1\", \"B2\"]}, index=leftindex\n",
    "   .....: )\n",
    "   .....: \n",
    "\n",
    "In [114]: rightindex = pd.MultiIndex.from_tuples(\n",
    "   .....:     [(\"K0\", \"Y0\"), (\"K1\", \"Y1\"), (\"K2\", \"Y2\"), (\"K2\", \"Y3\")], names=[\"key\", \"Y\"]\n",
    "   .....: )\n",
    "   .....: \n",
    "\n",
    "In [115]: right = pd.DataFrame(\n",
    "   .....:     {\"C\": [\"C0\", \"C1\", \"C2\", \"C3\"], \"D\": [\"D0\", \"D1\", \"D2\", \"D3\"]}, index=rightindex\n",
    "   .....: )\n",
    "   .....: \n",
    "\n",
    "In [116]: result = pd.merge(\n",
    "   .....:     left.reset_index(), right.reset_index(), on=[\"key\"], how=\"inner\"\n",
    "   .....: ).set_index([\"key\", \"X\", \"Y\"])"
   ]
  },
  {
   "cell_type": "markdown",
   "id": "88cf75f7-115b-42c6-9478-2cc181d80619",
   "metadata": {},
   "source": [
    "![merging_merge_two_multiindex](img/merging_merge_two_multiindex.png)\n",
    "\n",
    "### Merging on a combination of columns and index levels\n",
    "Strings passed as the on, left_on, and right_on parameters may refer to either column names or index level names. This enables merging DataFrame instances on a combination of index levels and columns without resetting indexes."
   ]
  },
  {
   "cell_type": "code",
   "execution_count": null,
   "id": "f90f8ecd-befa-402a-ab8a-aebbccef265f",
   "metadata": {},
   "outputs": [],
   "source": [
    "left_index = pd.Index([\"K0\", \"K0\", \"K1\", \"K2\"], name=\"key1\")\n",
    "\n",
    "In [118]: left = pd.DataFrame(\n",
    "   .....:     {\n",
    "   .....:         \"A\": [\"A0\", \"A1\", \"A2\", \"A3\"],\n",
    "   .....:         \"B\": [\"B0\", \"B1\", \"B2\", \"B3\"],\n",
    "   .....:         \"key2\": [\"K0\", \"K1\", \"K0\", \"K1\"],\n",
    "   .....:     },\n",
    "   .....:     index=left_index,\n",
    "   .....: )\n",
    "   .....: \n",
    "\n",
    "In [119]: right_index = pd.Index([\"K0\", \"K1\", \"K2\", \"K2\"], name=\"key1\")\n",
    "\n",
    "In [120]: right = pd.DataFrame(\n",
    "   .....:     {\n",
    "   .....:         \"C\": [\"C0\", \"C1\", \"C2\", \"C3\"],\n",
    "   .....:         \"D\": [\"D0\", \"D1\", \"D2\", \"D3\"],\n",
    "   .....:         \"key2\": [\"K0\", \"K0\", \"K0\", \"K1\"],\n",
    "   .....:     },\n",
    "   .....:     index=right_index,\n",
    "   .....: )\n",
    "   .....: \n",
    "\n",
    "In [121]: result = left.merge(right, on=[\"key1\", \"key2\"])"
   ]
  },
  {
   "cell_type": "markdown",
   "id": "b32f955a-6904-4b44-b137-6ae8ad29bd4f",
   "metadata": {},
   "source": [
    "![merge_on_index_and_column](img/merge_on_index_and_column.png)\n",
    "\n",
    ">Note\n",
    ">\n",
    ">When DataFrames are merged on a string that matches an index level in both frames, the index level is preserved as an index level in the resulting DataFrame.\n",
    "\n",
    ">Note\n",
    ">\n",
    ">When DataFrames are merged using only some of the levels of a MultiIndex, the extra levels will be dropped from the resulting merge. In order to preserve those levels, use reset_index on those level names to move those levels to columns prior to doing the merge.\n",
    "\n",
    ">Note\n",
    ">\n",
    ">If a string matches both a column name and an index level name, then a warning is issued and the column takes precedence. This will result in an ambiguity error in a future version.\n",
    "\n",
    "### Overlapping value columns\n",
    "The merge suffixes argument takes a tuple of list of strings to append to overlapping column names in the input DataFrames to disambiguate the result columns:"
   ]
  },
  {
   "cell_type": "code",
   "execution_count": null,
   "id": "cf43cf17-c2a9-4629-923b-ec644e2f5395",
   "metadata": {},
   "outputs": [],
   "source": [
    "left = pd.DataFrame({\"k\": [\"K0\", \"K1\", \"K2\"], \"v\": [1, 2, 3]})\n",
    "\n",
    "In [123]: right = pd.DataFrame({\"k\": [\"K0\", \"K0\", \"K3\"], \"v\": [4, 5, 6]})\n",
    "\n",
    "In [124]: result = pd.merge(left, right, on=\"k\")"
   ]
  },
  {
   "cell_type": "markdown",
   "id": "ec4febc5-c5c8-4be8-9504-0d760bdcd2e5",
   "metadata": {},
   "source": [
    "![merging_merge_overlapped](img/merging_merge_overlapped.png)"
   ]
  },
  {
   "cell_type": "code",
   "execution_count": null,
   "id": "6f0a877d-8e5f-4bdb-8b78-4fac7439b9eb",
   "metadata": {},
   "outputs": [],
   "source": [
    "result = pd.merge(left, right, on=\"k\", suffixes=(\"_l\", \"_r\"))"
   ]
  },
  {
   "cell_type": "markdown",
   "id": "10221abb-a161-4030-b270-042e26a890d0",
   "metadata": {},
   "source": [
    "![merging_merge_overlapped_suffix](img/merging_merge_overlapped_suffix.png)\n",
    "\n",
    "DataFrame.join() has lsuffix and rsuffix arguments which behave similarly."
   ]
  },
  {
   "cell_type": "code",
   "execution_count": null,
   "id": "836ef132-b27c-4df5-902a-c67e7ff920c9",
   "metadata": {},
   "outputs": [],
   "source": [
    "left = left.set_index(\"k\")\n",
    "\n",
    "In [127]: right = right.set_index(\"k\")\n",
    "\n",
    "In [128]: result = left.join(right, lsuffix=\"_l\", rsuffix=\"_r\")"
   ]
  },
  {
   "cell_type": "markdown",
   "id": "d08b9168-f741-4590-8f75-9154984790a4",
   "metadata": {},
   "source": [
    "![merging_merge_overlapped_multi_suffix](img/merging_merge_overlapped_multi_suffix.png)\n",
    "\n",
    "### Joining multiple DataFrames\n",
    "A list or tuple of DataFrames can also be passed to join() to join them together on their indexes."
   ]
  },
  {
   "cell_type": "code",
   "execution_count": null,
   "id": "31a60cbe-6376-4fa9-a509-9766c3a97928",
   "metadata": {},
   "outputs": [],
   "source": [
    "right2 = pd.DataFrame({\"v\": [7, 8, 9]}, index=[\"K1\", \"K1\", \"K2\"])\n",
    "\n",
    "In [130]: result = left.join([right, right2])"
   ]
  },
  {
   "cell_type": "markdown",
   "id": "44449dde-f810-4b23-bf69-61785af079c5",
   "metadata": {},
   "source": [
    "![merging_join_multi_df](img/merging_join_multi_df.png)\n",
    "\n",
    "### Merging together values within Series or DataFrame columns\n",
    "Another fairly common situation is to have two like-indexed (or similarly indexed) Series or DataFrame objects and wanting to “patch” values in one object from values for matching indices in the other. Here is an example:"
   ]
  },
  {
   "cell_type": "code",
   "execution_count": null,
   "id": "71d3d01b-5a96-47f4-9ed4-b400fe4508b3",
   "metadata": {},
   "outputs": [],
   "source": [
    "df1 = pd.DataFrame(\n",
    "   .....:     [[np.nan, 3.0, 5.0], [-4.6, np.nan, np.nan], [np.nan, 7.0, np.nan]]\n",
    "   .....: )\n",
    "   .....: \n",
    "\n",
    "In [132]: df2 = pd.DataFrame([[-42.6, np.nan, -8.2], [-5.0, 1.6, 4]], index=[1, 2])"
   ]
  },
  {
   "cell_type": "markdown",
   "id": "bbeb6a84-601a-4199-b43e-22ac01a8456b",
   "metadata": {},
   "source": [
    "For this, use the combine_first() method:"
   ]
  },
  {
   "cell_type": "code",
   "execution_count": null,
   "id": "01e0f198-e742-4b57-8adf-abd23852b431",
   "metadata": {},
   "outputs": [],
   "source": [
    "result = df1.combine_first(df2)"
   ]
  },
  {
   "cell_type": "markdown",
   "id": "ae99495c-f772-4136-883a-51d2cc0c0f27",
   "metadata": {},
   "source": [
    "![merging_combine_first](img/merging_combine_first.png)\n",
    "\n",
    "Note that this method only takes values from the right DataFrame if they are missing in the left DataFrame. A related method, update(), alters non-NA values in place:"
   ]
  },
  {
   "cell_type": "code",
   "execution_count": null,
   "id": "e1038e03-243b-4a01-b672-0041e479ea0a",
   "metadata": {},
   "outputs": [],
   "source": [
    "df1.update(df2)"
   ]
  },
  {
   "cell_type": "markdown",
   "id": "42dfa9a2-fedc-4cd6-a2c2-f535a29db0ad",
   "metadata": {},
   "source": [
    "![merging_update](img/merging_update.png)\n",
    "\n",
    "## Timeseries friendly merging\n",
    "### Merging ordered data\n",
    "A merge_ordered() function allows combining time series and other ordered data. In particular it has an optional fill_method keyword to fill/interpolate missing data:"
   ]
  },
  {
   "cell_type": "code",
   "execution_count": null,
   "id": "94558d98-0a9e-4f83-885d-4cc15038394f",
   "metadata": {},
   "outputs": [],
   "source": [
    "left = pd.DataFrame(\n",
    "   .....:     {\"k\": [\"K0\", \"K1\", \"K1\", \"K2\"], \"lv\": [1, 2, 3, 4], \"s\": [\"a\", \"b\", \"c\", \"d\"]}\n",
    "   .....: )\n",
    "   .....: \n",
    "\n",
    "In [136]: right = pd.DataFrame({\"k\": [\"K1\", \"K2\", \"K4\"], \"rv\": [1, 2, 3]})\n",
    "\n",
    "In [137]: pd.merge_ordered(left, right, fill_method=\"ffill\", left_by=\"s\")"
   ]
  },
  {
   "cell_type": "markdown",
   "id": "36ada022-0a1b-42f8-b657-b215f1930786",
   "metadata": {},
   "source": [
    "### Merging asof\n",
    "A merge_asof() is similar to an ordered left-join except that we match on nearest key rather than equal keys. For each row in the left DataFrame, we select the last row in the right DataFrame whose on key is less than the left’s key. Both DataFrames must be sorted by the key.\n",
    "\n",
    "Optionally an asof merge can perform a group-wise merge. This matches the by key equally, in addition to the nearest match on the on key.\n",
    "\n",
    "For example; we might have trades and quotes and we want to asof merge them."
   ]
  },
  {
   "cell_type": "code",
   "execution_count": null,
   "id": "f9cdfa63-7417-46a3-a3e8-d19b42e62aa8",
   "metadata": {},
   "outputs": [],
   "source": [
    "trades = pd.DataFrame(\n",
    "   .....:     {\n",
    "   .....:         \"time\": pd.to_datetime(\n",
    "   .....:             [\n",
    "   .....:                 \"20160525 13:30:00.023\",\n",
    "   .....:                 \"20160525 13:30:00.038\",\n",
    "   .....:                 \"20160525 13:30:00.048\",\n",
    "   .....:                 \"20160525 13:30:00.048\",\n",
    "   .....:                 \"20160525 13:30:00.048\",\n",
    "   .....:             ]\n",
    "   .....:         ),\n",
    "   .....:         \"ticker\": [\"MSFT\", \"MSFT\", \"GOOG\", \"GOOG\", \"AAPL\"],\n",
    "   .....:         \"price\": [51.95, 51.95, 720.77, 720.92, 98.00],\n",
    "   .....:         \"quantity\": [75, 155, 100, 100, 100],\n",
    "   .....:     },\n",
    "   .....:     columns=[\"time\", \"ticker\", \"price\", \"quantity\"],\n",
    "   .....: )\n",
    "   .....: \n",
    "\n",
    "In [139]: quotes = pd.DataFrame(\n",
    "   .....:     {\n",
    "   .....:         \"time\": pd.to_datetime(\n",
    "   .....:             [\n",
    "   .....:                 \"20160525 13:30:00.023\",\n",
    "   .....:                 \"20160525 13:30:00.023\",\n",
    "   .....:                 \"20160525 13:30:00.030\",\n",
    "   .....:                 \"20160525 13:30:00.041\",\n",
    "   .....:                 \"20160525 13:30:00.048\",\n",
    "   .....:                 \"20160525 13:30:00.049\",\n",
    "   .....:                 \"20160525 13:30:00.072\",\n",
    "   .....:                 \"20160525 13:30:00.075\",\n",
    "   .....:             ]\n",
    "   .....:         ),\n",
    "   .....:         \"ticker\": [\"GOOG\", \"MSFT\", \"MSFT\", \"MSFT\", \"GOOG\", \"AAPL\", \"GOOG\", \"MSFT\"],\n",
    "   .....:         \"bid\": [720.50, 51.95, 51.97, 51.99, 720.50, 97.99, 720.50, 52.01],\n",
    "   .....:         \"ask\": [720.93, 51.96, 51.98, 52.00, 720.93, 98.01, 720.88, 52.03],\n",
    "   .....:     },\n",
    "   .....:     columns=[\"time\", \"ticker\", \"bid\", \"ask\"]"
   ]
  },
  {
   "cell_type": "code",
   "execution_count": null,
   "id": "a96b5951-aadd-4bd2-b5db-087a57fee415",
   "metadata": {},
   "outputs": [],
   "source": [
    "trades"
   ]
  },
  {
   "cell_type": "code",
   "execution_count": null,
   "id": "448acf29-83d5-4e53-bbb8-64dc22ba4414",
   "metadata": {},
   "outputs": [],
   "source": [
    "quotes"
   ]
  },
  {
   "cell_type": "markdown",
   "id": "bb99a4bb-49e1-41ac-bdd3-04291537be34",
   "metadata": {},
   "source": [
    "By default we are taking the asof of the quotes."
   ]
  },
  {
   "cell_type": "code",
   "execution_count": null,
   "id": "92f4791a-3226-4ec8-b06e-b2b0a360b438",
   "metadata": {},
   "outputs": [],
   "source": [
    "pd.merge_asof(trades, quotes, on=\"time\", by=\"ticker\")"
   ]
  },
  {
   "cell_type": "markdown",
   "id": "b3799917-9862-4205-90d9-a5f45976f3f4",
   "metadata": {},
   "source": [
    "We only asof within 2ms between the quote time and the trade time."
   ]
  },
  {
   "cell_type": "code",
   "execution_count": null,
   "id": "a3718b31-22ca-40f5-ab7f-f800d81e5f43",
   "metadata": {},
   "outputs": [],
   "source": [
    "pd.merge_asof(trades, quotes, on=\"time\", by=\"ticker\", tolerance=pd.Timedelta(\"2ms\"))"
   ]
  },
  {
   "cell_type": "markdown",
   "id": "fab4f87b-d02f-4202-b23e-784e2d801eb3",
   "metadata": {},
   "source": [
    "We only asof within 10ms between the quote time and the trade time and we exclude exact matches on time. Note that though we exclude the exact matches (of the quotes), prior quotes do propagate to that point in time."
   ]
  },
  {
   "cell_type": "code",
   "execution_count": null,
   "id": "42e1b995-bae8-4da6-bcbc-4f61c735a63d",
   "metadata": {},
   "outputs": [],
   "source": [
    "pd.merge_asof(\n",
    "   .....:     trades,\n",
    "   .....:     quotes,\n",
    "   .....:     on=\"time\",\n",
    "   .....:     by=\"ticker\",\n",
    "   .....:     tolerance=pd.Timedelta(\"10ms\"),\n",
    "   .....:     allow_exact_matches=False,\n",
    "   .....: )"
   ]
  },
  {
   "cell_type": "markdown",
   "id": "1922b1ef-4b75-4dbd-b147-3e2fd4b9845d",
   "metadata": {},
   "source": [
    "## Comparing objects\n",
    "The compare() and compare() methods allow you to compare two DataFrame or Series, respectively, and summarize their differences.\n",
    "\n",
    "This feature was added in V1.1.0.\n",
    "\n",
    "For example, you might want to compare two DataFrame and stack their differences side by side."
   ]
  },
  {
   "cell_type": "code",
   "execution_count": null,
   "id": "dda43288-67ff-48f9-acdf-e11c66e78b33",
   "metadata": {},
   "outputs": [],
   "source": [
    "df = pd.DataFrame(\n",
    "   .....:     {\n",
    "   .....:         \"col1\": [\"a\", \"a\", \"b\", \"b\", \"a\"],\n",
    "   .....:         \"col2\": [1.0, 2.0, 3.0, np.nan, 5.0],\n",
    "   .....:         \"col3\": [1.0, 2.0, 3.0, 4.0, 5.0],\n",
    "   .....:     },\n",
    "   .....:     columns=[\"col1\", \"col2\", \"col3\"],\n",
    "   .....: )\n",
    "   .....: \n",
    "\n",
    "In [146]: df"
   ]
  },
  {
   "cell_type": "code",
   "execution_count": null,
   "id": "53371a64-cba5-4898-9e2e-6a2050d532ca",
   "metadata": {},
   "outputs": [],
   "source": [
    "df2 = df.copy()\n",
    "\n",
    "In [148]: df2.loc[0, \"col1\"] = \"c\"\n",
    "\n",
    "In [149]: df2.loc[2, \"col3\"] = 4.0\n",
    "\n",
    "In [150]: df2"
   ]
  },
  {
   "cell_type": "code",
   "execution_count": null,
   "id": "4ad1dc60-e81b-437a-899e-1a791456c3db",
   "metadata": {},
   "outputs": [],
   "source": [
    "df.compare(df2)"
   ]
  },
  {
   "cell_type": "markdown",
   "id": "3e08579a-6540-491b-901c-35f359bd2251",
   "metadata": {},
   "source": [
    "By default, if two corresponding values are equal, they will be shown as NaN. Furthermore, if all values in an entire row / column, the row / column will be omitted from the result. The remaining differences will be aligned on columns.\n",
    "\n",
    "If you wish, you may choose to stack the differences on rows."
   ]
  },
  {
   "cell_type": "code",
   "execution_count": null,
   "id": "b37e3c24-930d-497b-824e-ee5728902be0",
   "metadata": {},
   "outputs": [],
   "source": [
    "df.compare(df2, align_axis=0)"
   ]
  },
  {
   "cell_type": "markdown",
   "id": "f3cf3b7a-2d41-44fe-bc54-ca4a4e426cb3",
   "metadata": {},
   "source": [
    "If you wish to keep all original rows and columns, set keep_shape argument to True."
   ]
  },
  {
   "cell_type": "code",
   "execution_count": null,
   "id": "ef2feb25-5ccb-4e6c-bbb1-93b3387d6558",
   "metadata": {},
   "outputs": [],
   "source": [
    "df.compare(df2, keep_shape=True)"
   ]
  },
  {
   "cell_type": "markdown",
   "id": "b744839e-ad81-4191-b5f9-f3685ed25f86",
   "metadata": {},
   "source": [
    "You may also keep all the original values even if they are equal."
   ]
  }
 ],
 "metadata": {
  "kernelspec": {
   "display_name": "eda_dev39",
   "language": "python",
   "name": "eda_dev39"
  },
  "language_info": {
   "codemirror_mode": {
    "name": "ipython",
    "version": 3
   },
   "file_extension": ".py",
   "mimetype": "text/x-python",
   "name": "python",
   "nbconvert_exporter": "python",
   "pygments_lexer": "ipython3",
   "version": "3.9.4"
  }
 },
 "nbformat": 4,
 "nbformat_minor": 5
}
