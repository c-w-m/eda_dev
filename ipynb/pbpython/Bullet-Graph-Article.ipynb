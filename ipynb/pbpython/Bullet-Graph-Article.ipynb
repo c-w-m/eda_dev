{
 "cells": [
  {
   "cell_type": "markdown",
   "metadata": {},
   "source": [
    "# Bullet Graph Article\n",
    "\n",
    "Notebook for [Building a Bullet Graph in Python](https://pbpython.com/bullet-graph.html).\n",
    "Full article posted in at [pbpython](https://pbpython.com/)."
   ]
  },
  {
   "cell_type": "code",
   "execution_count": 1,
   "metadata": {},
   "outputs": [],
   "source": [
    "import matplotlib.pyplot as plt\n",
    "import seaborn as sns\n",
    "from matplotlib.ticker import FuncFormatter"
   ]
  },
  {
   "cell_type": "code",
   "execution_count": 2,
   "metadata": {},
   "outputs": [],
   "source": [
    "%matplotlib inline"
   ]
  },
  {
   "cell_type": "markdown",
   "metadata": {},
   "source": [
    "Show examples of using seaborn's palette functionality"
   ]
  },
  {
   "cell_type": "code",
   "execution_count": 3,
   "metadata": {},
   "outputs": [
    {
     "data": {
      "image/png": "[encoded data removed]",
      "text/plain": [
       "<Figure size 360x72 with 1 Axes>"
      ]
     },
     "metadata": {
      "needs_background": "light"
     },
     "output_type": "display_data"
    }
   ],
   "source": [
    "sns.palplot(sns.light_palette(\"green\", 5))"
   ]
  },
  {
   "cell_type": "code",
   "execution_count": 4,
   "metadata": {},
   "outputs": [
    {
     "data": {
      "image/png": "[encoded data removed]",
      "text/plain": [
       "<Figure size 360x72 with 1 Axes>"
      ]
     },
     "metadata": {
      "needs_background": "light"
     },
     "output_type": "display_data"
    }
   ],
   "source": [
    "sns.palplot(sns.light_palette(\"red\", 5))"
   ]
  },
  {
   "cell_type": "code",
   "execution_count": 5,
   "metadata": {},
   "outputs": [
    {
     "data": {
      "image/png": "[encoded data removed]",
      "text/plain": [
       "<Figure size 576x72 with 1 Axes>"
      ]
     },
     "metadata": {
      "needs_background": "light"
     },
     "output_type": "display_data"
    }
   ],
   "source": [
    "sns.palplot(sns.light_palette(\"purple\",8, reverse=True))"
   ]
  },
  {
   "cell_type": "markdown",
   "metadata": {},
   "source": [
    "Set up the data that we want to plot"
   ]
  },
  {
   "cell_type": "code",
   "execution_count": 6,
   "metadata": {},
   "outputs": [],
   "source": [
    "limits = [80, 100, 150]\n",
    "data_to_plot = (\"Example 1\", 105, 120)\n",
    "palette = sns.color_palette(\"Blues_r\", len(limits))"
   ]
  },
  {
   "cell_type": "markdown",
   "metadata": {},
   "source": [
    "Try the first version of building a stacked bar chart"
   ]
  },
  {
   "cell_type": "code",
   "execution_count": 7,
   "metadata": {},
   "outputs": [
    {
     "data": {
      "image/png": "[encoded data removed]",
      "text/plain": [
       "<Figure size 432x288 with 1 Axes>"
      ]
     },
     "metadata": {
      "needs_background": "light"
     },
     "output_type": "display_data"
    }
   ],
   "source": [
    "fig, ax = plt.subplots()\n",
    "ax.set_aspect('equal')\n",
    "ax.set_yticks([1])\n",
    "ax.set_yticklabels([data_to_plot[0]])\n",
    "\n",
    "prev_limit = 0\n",
    "for idx, lim in enumerate(limits):\n",
    "    ax.barh([1], lim-prev_limit, left=prev_limit, height=15, color=palette[idx])\n",
    "    prev_limit = lim"
   ]
  },
  {
   "cell_type": "markdown",
   "metadata": {},
   "source": [
    "Expand on the version to add the value we are measuring"
   ]
  },
  {
   "cell_type": "code",
   "execution_count": 8,
   "metadata": {},
   "outputs": [
    {
     "data": {
      "text/plain": [
       "<BarContainer object of 1 artists>"
      ]
     },
     "execution_count": 8,
     "metadata": {},
     "output_type": "execute_result"
    },
    {
     "data": {
      "image/png": "[encoded data removed]",
      "text/plain": [
       "<Figure size 432x288 with 1 Axes>"
      ]
     },
     "metadata": {
      "needs_background": "light"
     },
     "output_type": "display_data"
    }
   ],
   "source": [
    "fig, ax = plt.subplots()\n",
    "ax.set_aspect('equal')\n",
    "ax.set_yticks([1])\n",
    "ax.set_yticklabels([data_to_plot[0]])\n",
    "\n",
    "prev_limit = 0\n",
    "for idx, lim in enumerate(limits):\n",
    "    ax.barh([1], lim-prev_limit, left=prev_limit, height=15, color=palette[idx])\n",
    "    prev_limit = lim\n",
    "    \n",
    "# Draw the value we're measuring\n",
    "ax.barh([1], data_to_plot[1], color='black', height=5)"
   ]
  },
  {
   "cell_type": "markdown",
   "metadata": {},
   "source": [
    "Now add on the target vertical line"
   ]
  },
  {
   "cell_type": "code",
   "execution_count": 9,
   "metadata": {},
   "outputs": [
    {
     "data": {
      "text/plain": [
       "<matplotlib.lines.Line2D at 0x7f70c3cf5fd0>"
      ]
     },
     "execution_count": 9,
     "metadata": {},
     "output_type": "execute_result"
    },
    {
     "data": {
      "image/png": "[encoded data removed]",
      "text/plain": [
       "<Figure size 432x288 with 1 Axes>"
      ]
     },
     "metadata": {
      "needs_background": "light"
     },
     "output_type": "display_data"
    }
   ],
   "source": [
    "fig, ax = plt.subplots()\n",
    "ax.set_aspect('equal')\n",
    "ax.set_yticks([1])\n",
    "ax.set_yticklabels([data_to_plot[0]])\n",
    "\n",
    "prev_limit = 0\n",
    "for idx, lim in enumerate(limits):\n",
    "    ax.barh([1], lim-prev_limit, left=prev_limit, height=15, color=palette[idx])\n",
    "    prev_limit = lim\n",
    "    \n",
    "# Draw the value we're measuring\n",
    "ax.barh([1], data_to_plot[1], color='black', height=5)\n",
    "ax.axvline(data_to_plot[2], color=\"gray\", ymin=0.10, ymax=0.9)"
   ]
  },
  {
   "cell_type": "markdown",
   "metadata": {},
   "source": [
    "Build out a full function"
   ]
  },
  {
   "cell_type": "code",
   "execution_count": 10,
   "metadata": {},
   "outputs": [],
   "source": [
    "def bulletgraph(data=None, limits=None, labels=None, axis_label=None, title=None,\n",
    "                size=(5, 3), palette=None, formatter=None, target_color=\"gray\",\n",
    "                bar_color=\"black\", label_color=\"gray\"):\n",
    "    \"\"\" Build out a bullet graph image\n",
    "        Args:\n",
    "            data = List of labels, measures and targets\n",
    "            limits = list of range valules\n",
    "            labels = list of descriptions of the limit ranges\n",
    "            axis_label = string describing x axis\n",
    "            title = string title of plot\n",
    "            size = tuple for plot size\n",
    "            palette = a seaborn palette\n",
    "            formatter = matplotlib formatter object for x axis\n",
    "            target_color = color string for the target line\n",
    "            bar_color = color string for the small bar\n",
    "            label_color = color string for the limit label text\n",
    "        Returns:\n",
    "            a matplotlib figure\n",
    "    \"\"\"\n",
    "    # Determine the max value for adjusting the bar height\n",
    "    # Dividing by 10 seems to work pretty well\n",
    "    h = limits[-1] / 10\n",
    "\n",
    "    # Use the green palette as a sensible default\n",
    "    if palette is None:\n",
    "        palette = sns.light_palette(\"green\", len(limits), reverse=False)\n",
    "\n",
    "    # Must be able to handle one or many data sets via multiple subplots\n",
    "    if len(data) == 1:\n",
    "        fig, ax = plt.subplots(figsize=size, sharex=True)\n",
    "    else:\n",
    "        fig, axarr = plt.subplots(len(data), figsize=size, sharex=True)\n",
    "\n",
    "    # Add each bullet graph bar to a subplot\n",
    "    for idx, item in enumerate(data):\n",
    "\n",
    "        # Get the axis from the array of axes returned when the plot is created\n",
    "        if len(data) > 1:\n",
    "            ax = axarr[idx]\n",
    "\n",
    "        # Formatting to get rid of extra marking clutter\n",
    "        ax.set_aspect('equal')\n",
    "        ax.set_yticklabels([item[0]])\n",
    "        ax.set_yticks([1])\n",
    "        ax.spines['bottom'].set_visible(False)\n",
    "        ax.spines['top'].set_visible(False)\n",
    "        ax.spines['right'].set_visible(False)\n",
    "        ax.spines['left'].set_visible(False)\n",
    "\n",
    "        prev_limit = 0\n",
    "        for idx2, lim in enumerate(limits):\n",
    "            # Draw the bar\n",
    "            ax.barh([1], lim - prev_limit, left=prev_limit, height=h,\n",
    "                    color=palette[idx2])\n",
    "            prev_limit = lim\n",
    "        rects = ax.patches\n",
    "        # The last item in the list is the value we're measuring\n",
    "        # Draw the value we're measuring\n",
    "        ax.barh([1], item[1], height=(h / 3), color=bar_color)\n",
    "\n",
    "        # Need the ymin and max in order to make sure the target marker\n",
    "        # fits\n",
    "        ymin, ymax = ax.get_ylim()\n",
    "        ax.vlines(\n",
    "            item[2], ymin * .9, ymax * .9, linewidth=1.5, color=target_color)\n",
    "\n",
    "    # Now make some labels\n",
    "    if labels is not None:\n",
    "        for rect, label in zip(rects, labels):\n",
    "            height = rect.get_height()\n",
    "            ax.text(\n",
    "                rect.get_x() + rect.get_width() / 2,\n",
    "                -height * .4,\n",
    "                label,\n",
    "                ha='center',\n",
    "                va='bottom',\n",
    "                color=label_color)\n",
    "    if formatter:\n",
    "        ax.xaxis.set_major_formatter(formatter)\n",
    "    if axis_label:\n",
    "        ax.set_xlabel(axis_label)\n",
    "    if title:\n",
    "        fig.suptitle(title, fontsize=14)\n",
    "    fig.subplots_adjust(hspace=0)"
   ]
  },
  {
   "cell_type": "code",
   "execution_count": 11,
   "metadata": {},
   "outputs": [
    {
     "name": "stderr",
     "output_type": "stream",
     "text": [
      "<ipython-input-10-8de41ca02352>:43: UserWarning: FixedFormatter should only be used together with FixedLocator\n",
      "  ax.set_yticklabels([item[0]])\n"
     ]
    },
    {
     "data": {
      "image/png": "[encoded data removed]",
      "text/plain": [
       "<Figure size 576x360 with 5 Axes>"
      ]
     },
     "metadata": {
      "needs_background": "light"
     },
     "output_type": "display_data"
    }
   ],
   "source": [
    "data_to_plot2 = [(\"John Smith\", 105, 120),\n",
    "                 (\"Jane Jones\", 99, 110),\n",
    "                 (\"Fred Flintstone\", 109, 125),\n",
    "                 (\"Barney Rubble\", 135, 123),\n",
    "                 (\"Mr T\", 45, 105)]\n",
    "\n",
    "bulletgraph(data_to_plot2, limits=[20, 60, 100, 160], labels=[\"Poor\", \"OK\", \"Good\", \"Excellent\"], size=(8,5), \n",
    "            axis_label=\"Performance Measure\", label_color=\"black\", bar_color=\"#252525\", target_color='#f7f7f7',\n",
    "            title=\"Sales Rep Performance\")"
   ]
  },
  {
   "cell_type": "code",
   "execution_count": 12,
   "metadata": {},
   "outputs": [],
   "source": [
    "def money(x, pos):\n",
    "    'The two args are the value and tick position'\n",
    "    return \"${:,.0f}\".format(x)"
   ]
  },
  {
   "cell_type": "code",
   "execution_count": 13,
   "metadata": {},
   "outputs": [
    {
     "name": "stderr",
     "output_type": "stream",
     "text": [
      "<ipython-input-10-8de41ca02352>:43: UserWarning: FixedFormatter should only be used together with FixedLocator\n",
      "  ax.set_yticklabels([item[0]])\n"
     ]
    },
    {
     "data": {
      "image/png": "[encoded data removed]",
      "text/plain": [
       "<Figure size 720x360 with 4 Axes>"
      ]
     },
     "metadata": {
      "needs_background": "light"
     },
     "output_type": "display_data"
    }
   ],
   "source": [
    "money_fmt = FuncFormatter(money)\n",
    "data_to_plot3 = [(\"Print\", 50000, 60000),\n",
    "                 (\"Billboards\", 75000, 65000),\n",
    "                 (\"Radio\", 125000, 80000),\n",
    "                 (\"Online\", 195000, 115000)]\n",
    "palette = sns.light_palette(\"grey\", 3, reverse=False)\n",
    "bulletgraph(data_to_plot3, limits=[50000, 125000, 200000], labels=[\"Below\", \"On Target\", \"Above\"], size=(10,5), \n",
    "            axis_label=\"Annual Budget\", label_color=\"black\", bar_color=\"#252525\", target_color='#f7f7f7', palette=palette,\n",
    "            title=\"Marketing Channel Budget Performance\", formatter=money_fmt)"
   ]
  },
  {
   "cell_type": "markdown",
   "metadata": {},
   "source": [
    "---\n",
    "*EOF*"
   ]
  }
 ],
 "metadata": {
  "anaconda-cloud": {},
  "kernelspec": {
   "display_name": "eda_dev39",
   "language": "python",
   "name": "eda_dev39"
  },
  "language_info": {
   "codemirror_mode": {
    "name": "ipython",
    "version": 3
   },
   "file_extension": ".py",
   "mimetype": "text/x-python",
   "name": "python",
   "nbconvert_exporter": "python",
   "pygments_lexer": "ipython3",
   "version": "3.9.4"
  }
 },
 "nbformat": 4,
 "nbformat_minor": 4
}
