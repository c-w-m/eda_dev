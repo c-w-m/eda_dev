{
 "cells": [
  {
   "cell_type": "markdown",
   "metadata": {},
   "source": [
    "# Introduction"
   ]
  },
  {
   "cell_type": "markdown",
   "metadata": {},
   "source": [
    "IPython, pandas and matplotlib have a number of useful options you can use to make it easier to view and format your data. This notebook collects a bunch of them in one place. I hope this will be a useful reference.\n",
    "\n",
    "The original blog posting is on http://pbpython.com/ipython-pandas-display-tips.html"
   ]
  },
  {
   "cell_type": "markdown",
   "metadata": {},
   "source": [
    "## Import modules and some sample data"
   ]
  },
  {
   "cell_type": "markdown",
   "metadata": {},
   "source": [
    "First, do our standard pandas, numpy and matplotlib imports as well as configure inline displays of plots."
   ]
  },
  {
   "cell_type": "code",
   "execution_count": 1,
   "metadata": {},
   "outputs": [],
   "source": [
    "import numpy as np\n",
    "import pandas as pd\n",
    "import matplotlib.pyplot as plt\n",
    "%matplotlib inline"
   ]
  },
  {
   "cell_type": "markdown",
   "metadata": {},
   "source": [
    "One of the simple things we can do is override the default CSS to customize our DataFrame output.\n",
    "\n",
    "This specific example is from - [Brandon Rhodes' talk at pycon](https://www.youtube.com/watch?v=5JnMutdy6Fw \"Pandas From The Ground Up\")"
   ]
  },
  {
   "cell_type": "markdown",
   "metadata": {},
   "source": [
    "For the purposes of the notebook, I'm defining CSS as a variable but you could easily read in from a file as well."
   ]
  },
  {
   "cell_type": "code",
   "execution_count": 2,
   "metadata": {},
   "outputs": [],
   "source": [
    "CSS = \"\"\"\n",
    "body {\n",
    "    margin: 0;\n",
    "    font-family: Helvetica;\n",
    "}\n",
    "table.dataframe {\n",
    "    border-collapse: collapse;\n",
    "    border: none;\n",
    "}\n",
    "table.dataframe tr {\n",
    "    border: none;\n",
    "}\n",
    "table.dataframe td, table.dataframe th {\n",
    "    margin: 0;\n",
    "    border: 1px solid white;\n",
    "    padding-left: 0.25em;\n",
    "    padding-right: 0.25em;\n",
    "}\n",
    "table.dataframe th:not(:empty) {\n",
    "    background-color: #fec;\n",
    "    text-align: left;\n",
    "    font-weight: normal;\n",
    "}\n",
    "table.dataframe tr:nth-child(2) th:empty {\n",
    "    border-left: none;\n",
    "    border-right: 1px dashed #888;\n",
    "}\n",
    "table.dataframe td {\n",
    "    border: 2px solid #ccf;\n",
    "    background-color: #f4f4ff;\n",
    "}\n",
    "\"\"\""
   ]
  },
  {
   "cell_type": "markdown",
   "metadata": {},
   "source": [
    "Now add this CSS into the current notebook's HTML."
   ]
  },
  {
   "cell_type": "code",
   "execution_count": 3,
   "metadata": {},
   "outputs": [
    {
     "data": {
      "text/html": [
       "<style>\n",
       "body {\n",
       "    margin: 0;\n",
       "    font-family: Helvetica;\n",
       "}\n",
       "table.dataframe {\n",
       "    border-collapse: collapse;\n",
       "    border: none;\n",
       "}\n",
       "table.dataframe tr {\n",
       "    border: none;\n",
       "}\n",
       "table.dataframe td, table.dataframe th {\n",
       "    margin: 0;\n",
       "    border: 1px solid white;\n",
       "    padding-left: 0.25em;\n",
       "    padding-right: 0.25em;\n",
       "}\n",
       "table.dataframe th:not(:empty) {\n",
       "    background-color: #fec;\n",
       "    text-align: left;\n",
       "    font-weight: normal;\n",
       "}\n",
       "table.dataframe tr:nth-child(2) th:empty {\n",
       "    border-left: none;\n",
       "    border-right: 1px dashed #888;\n",
       "}\n",
       "table.dataframe td {\n",
       "    border: 2px solid #ccf;\n",
       "    background-color: #f4f4ff;\n",
       "}\n",
       "</style>"
      ],
      "text/plain": [
       "<IPython.core.display.HTML object>"
      ]
     },
     "execution_count": 3,
     "metadata": {},
     "output_type": "execute_result"
    }
   ],
   "source": [
    "from IPython.core.display import HTML\n",
    "HTML('<style>{}</style>'.format(CSS))"
   ]
  },
  {
   "cell_type": "code",
   "execution_count": 4,
   "metadata": {},
   "outputs": [
    {
     "data": {
      "text/html": [
       "<div>\n",
       "<style scoped>\n",
       "    .dataframe tbody tr th:only-of-type {\n",
       "        vertical-align: middle;\n",
       "    }\n",
       "\n",
       "    .dataframe tbody tr th {\n",
       "        vertical-align: top;\n",
       "    }\n",
       "\n",
       "    .dataframe thead th {\n",
       "        text-align: right;\n",
       "    }\n",
       "</style>\n",
       "<table border=\"1\" class=\"dataframe\">\n",
       "  <thead>\n",
       "    <tr style=\"text-align: right;\">\n",
       "      <th></th>\n",
       "      <th>account number</th>\n",
       "      <th>name</th>\n",
       "      <th>sku</th>\n",
       "      <th>category</th>\n",
       "      <th>quantity</th>\n",
       "      <th>unit price</th>\n",
       "      <th>ext price</th>\n",
       "      <th>Tax rate</th>\n",
       "      <th>Tax amount</th>\n",
       "      <th>date</th>\n",
       "    </tr>\n",
       "  </thead>\n",
       "  <tbody>\n",
       "    <tr>\n",
       "      <th>0</th>\n",
       "      <td>296809</td>\n",
       "      <td>Carroll PLC</td>\n",
       "      <td>QN-82852</td>\n",
       "      <td>Belt</td>\n",
       "      <td>13</td>\n",
       "      <td>44.48</td>\n",
       "      <td>578.24</td>\n",
       "      <td>0.07</td>\n",
       "      <td>40.4768</td>\n",
       "      <td>2014-09-27 07:13:03</td>\n",
       "    </tr>\n",
       "    <tr>\n",
       "      <th>1</th>\n",
       "      <td>98022</td>\n",
       "      <td>Heidenreich-Bosco</td>\n",
       "      <td>MJ-21460</td>\n",
       "      <td>Shoes</td>\n",
       "      <td>19</td>\n",
       "      <td>53.62</td>\n",
       "      <td>1018.78</td>\n",
       "      <td>0.07</td>\n",
       "      <td>71.3146</td>\n",
       "      <td>2014-07-29 02:10:44</td>\n",
       "    </tr>\n",
       "    <tr>\n",
       "      <th>2</th>\n",
       "      <td>563905</td>\n",
       "      <td>Kerluke, Reilly and Bechtelar</td>\n",
       "      <td>AS-93055</td>\n",
       "      <td>Shirt</td>\n",
       "      <td>12</td>\n",
       "      <td>24.16</td>\n",
       "      <td>289.92</td>\n",
       "      <td>0.07</td>\n",
       "      <td>20.2944</td>\n",
       "      <td>2014-03-01 10:51:24</td>\n",
       "    </tr>\n",
       "    <tr>\n",
       "      <th>3</th>\n",
       "      <td>93356</td>\n",
       "      <td>Waters-Walker</td>\n",
       "      <td>AS-93055</td>\n",
       "      <td>Shirt</td>\n",
       "      <td>5</td>\n",
       "      <td>82.68</td>\n",
       "      <td>413.40</td>\n",
       "      <td>0.07</td>\n",
       "      <td>28.9380</td>\n",
       "      <td>2013-11-17 20:41:11</td>\n",
       "    </tr>\n",
       "    <tr>\n",
       "      <th>4</th>\n",
       "      <td>659366</td>\n",
       "      <td>Waelchi-Fahey</td>\n",
       "      <td>AS-93055</td>\n",
       "      <td>Shirt</td>\n",
       "      <td>18</td>\n",
       "      <td>99.64</td>\n",
       "      <td>1793.52</td>\n",
       "      <td>0.07</td>\n",
       "      <td>125.5464</td>\n",
       "      <td>2014-01-03 08:14:27</td>\n",
       "    </tr>\n",
       "  </tbody>\n",
       "</table>\n",
       "</div>"
      ],
      "text/plain": [
       "   account number                           name       sku category  quantity  \\\n",
       "0          296809                    Carroll PLC  QN-82852     Belt        13   \n",
       "1           98022              Heidenreich-Bosco  MJ-21460    Shoes        19   \n",
       "2          563905  Kerluke, Reilly and Bechtelar  AS-93055    Shirt        12   \n",
       "3           93356                  Waters-Walker  AS-93055    Shirt         5   \n",
       "4          659366                  Waelchi-Fahey  AS-93055    Shirt        18   \n",
       "\n",
       "   unit price  ext price  Tax rate  Tax amount                 date  \n",
       "0       44.48     578.24      0.07     40.4768  2014-09-27 07:13:03  \n",
       "1       53.62    1018.78      0.07     71.3146  2014-07-29 02:10:44  \n",
       "2       24.16     289.92      0.07     20.2944  2014-03-01 10:51:24  \n",
       "3       82.68     413.40      0.07     28.9380  2013-11-17 20:41:11  \n",
       "4       99.64    1793.52      0.07    125.5464  2014-01-03 08:14:27  "
      ]
     },
     "execution_count": 4,
     "metadata": {},
     "output_type": "execute_result"
    }
   ],
   "source": [
    "SALES=pd.read_csv(\"../data/sample-sales-tax.csv\", parse_dates=True)\n",
    "SALES.head()"
   ]
  },
  {
   "cell_type": "markdown",
   "metadata": {},
   "source": [
    "You can see how the CSS is now applied to the DataFrame and how you could easily modify it to customize it to your liking.\n",
    "\n",
    "Jupyter notebooks do a good job of automatically displaying information but sometimes you want to force data to display. Fortunately, ipython provides and option. This is especially useful if you want to display multiple dataframes."
   ]
  },
  {
   "cell_type": "code",
   "execution_count": 5,
   "metadata": {},
   "outputs": [],
   "source": [
    "from IPython.display import display"
   ]
  },
  {
   "cell_type": "code",
   "execution_count": 6,
   "metadata": {},
   "outputs": [
    {
     "data": {
      "text/html": [
       "<div>\n",
       "<style scoped>\n",
       "    .dataframe tbody tr th:only-of-type {\n",
       "        vertical-align: middle;\n",
       "    }\n",
       "\n",
       "    .dataframe tbody tr th {\n",
       "        vertical-align: top;\n",
       "    }\n",
       "\n",
       "    .dataframe thead th {\n",
       "        text-align: right;\n",
       "    }\n",
       "</style>\n",
       "<table border=\"1\" class=\"dataframe\">\n",
       "  <thead>\n",
       "    <tr style=\"text-align: right;\">\n",
       "      <th></th>\n",
       "      <th>account number</th>\n",
       "      <th>name</th>\n",
       "      <th>sku</th>\n",
       "      <th>category</th>\n",
       "      <th>quantity</th>\n",
       "      <th>unit price</th>\n",
       "      <th>ext price</th>\n",
       "      <th>Tax rate</th>\n",
       "      <th>Tax amount</th>\n",
       "      <th>date</th>\n",
       "    </tr>\n",
       "  </thead>\n",
       "  <tbody>\n",
       "    <tr>\n",
       "      <th>0</th>\n",
       "      <td>296809</td>\n",
       "      <td>Carroll PLC</td>\n",
       "      <td>QN-82852</td>\n",
       "      <td>Belt</td>\n",
       "      <td>13</td>\n",
       "      <td>44.48</td>\n",
       "      <td>578.24</td>\n",
       "      <td>0.07</td>\n",
       "      <td>40.4768</td>\n",
       "      <td>2014-09-27 07:13:03</td>\n",
       "    </tr>\n",
       "    <tr>\n",
       "      <th>1</th>\n",
       "      <td>98022</td>\n",
       "      <td>Heidenreich-Bosco</td>\n",
       "      <td>MJ-21460</td>\n",
       "      <td>Shoes</td>\n",
       "      <td>19</td>\n",
       "      <td>53.62</td>\n",
       "      <td>1018.78</td>\n",
       "      <td>0.07</td>\n",
       "      <td>71.3146</td>\n",
       "      <td>2014-07-29 02:10:44</td>\n",
       "    </tr>\n",
       "  </tbody>\n",
       "</table>\n",
       "</div>"
      ],
      "text/plain": [
       "   account number               name       sku category  quantity  unit price  \\\n",
       "0          296809        Carroll PLC  QN-82852     Belt        13       44.48   \n",
       "1           98022  Heidenreich-Bosco  MJ-21460    Shoes        19       53.62   \n",
       "\n",
       "   ext price  Tax rate  Tax amount                 date  \n",
       "0     578.24      0.07     40.4768  2014-09-27 07:13:03  \n",
       "1    1018.78      0.07     71.3146  2014-07-29 02:10:44  "
      ]
     },
     "metadata": {},
     "output_type": "display_data"
    },
    {
     "data": {
      "text/html": [
       "<div>\n",
       "<style scoped>\n",
       "    .dataframe tbody tr th:only-of-type {\n",
       "        vertical-align: middle;\n",
       "    }\n",
       "\n",
       "    .dataframe tbody tr th {\n",
       "        vertical-align: top;\n",
       "    }\n",
       "\n",
       "    .dataframe thead th {\n",
       "        text-align: right;\n",
       "    }\n",
       "</style>\n",
       "<table border=\"1\" class=\"dataframe\">\n",
       "  <thead>\n",
       "    <tr style=\"text-align: right;\">\n",
       "      <th></th>\n",
       "      <th>account number</th>\n",
       "      <th>name</th>\n",
       "      <th>sku</th>\n",
       "      <th>category</th>\n",
       "      <th>quantity</th>\n",
       "      <th>unit price</th>\n",
       "      <th>ext price</th>\n",
       "      <th>Tax rate</th>\n",
       "      <th>Tax amount</th>\n",
       "      <th>date</th>\n",
       "    </tr>\n",
       "  </thead>\n",
       "  <tbody>\n",
       "    <tr>\n",
       "      <th>998</th>\n",
       "      <td>304860</td>\n",
       "      <td>Huel-Haag</td>\n",
       "      <td>LL-46261</td>\n",
       "      <td>Shoes</td>\n",
       "      <td>9</td>\n",
       "      <td>98.22</td>\n",
       "      <td>883.98</td>\n",
       "      <td>0.07</td>\n",
       "      <td>61.8786</td>\n",
       "      <td>2014-07-26 01:10:57</td>\n",
       "    </tr>\n",
       "    <tr>\n",
       "      <th>999</th>\n",
       "      <td>98022</td>\n",
       "      <td>Heidenreich-Bosco</td>\n",
       "      <td>LW-86841</td>\n",
       "      <td>Shoes</td>\n",
       "      <td>14</td>\n",
       "      <td>74.83</td>\n",
       "      <td>1047.62</td>\n",
       "      <td>0.07</td>\n",
       "      <td>73.3334</td>\n",
       "      <td>2014-06-27 05:58:33</td>\n",
       "    </tr>\n",
       "  </tbody>\n",
       "</table>\n",
       "</div>"
      ],
      "text/plain": [
       "     account number               name       sku category  quantity  \\\n",
       "998          304860          Huel-Haag  LL-46261    Shoes         9   \n",
       "999           98022  Heidenreich-Bosco  LW-86841    Shoes        14   \n",
       "\n",
       "     unit price  ext price  Tax rate  Tax amount                 date  \n",
       "998       98.22     883.98      0.07     61.8786  2014-07-26 01:10:57  \n",
       "999       74.83    1047.62      0.07     73.3334  2014-06-27 05:58:33  "
      ]
     },
     "metadata": {},
     "output_type": "display_data"
    },
    {
     "data": {
      "text/html": [
       "<div>\n",
       "<style scoped>\n",
       "    .dataframe tbody tr th:only-of-type {\n",
       "        vertical-align: middle;\n",
       "    }\n",
       "\n",
       "    .dataframe tbody tr th {\n",
       "        vertical-align: top;\n",
       "    }\n",
       "\n",
       "    .dataframe thead th {\n",
       "        text-align: right;\n",
       "    }\n",
       "</style>\n",
       "<table border=\"1\" class=\"dataframe\">\n",
       "  <thead>\n",
       "    <tr style=\"text-align: right;\">\n",
       "      <th></th>\n",
       "      <th>account number</th>\n",
       "      <th>quantity</th>\n",
       "      <th>unit price</th>\n",
       "      <th>ext price</th>\n",
       "      <th>Tax rate</th>\n",
       "      <th>Tax amount</th>\n",
       "    </tr>\n",
       "  </thead>\n",
       "  <tbody>\n",
       "    <tr>\n",
       "      <th>count</th>\n",
       "      <td>1000.000000</td>\n",
       "      <td>1000.000000</td>\n",
       "      <td>1000.000000</td>\n",
       "      <td>1000.00000</td>\n",
       "      <td>1000.000000</td>\n",
       "      <td>1000.000000</td>\n",
       "    </tr>\n",
       "    <tr>\n",
       "      <th>mean</th>\n",
       "      <td>535208.897000</td>\n",
       "      <td>10.328000</td>\n",
       "      <td>56.179630</td>\n",
       "      <td>579.84390</td>\n",
       "      <td>0.035863</td>\n",
       "      <td>20.058881</td>\n",
       "    </tr>\n",
       "    <tr>\n",
       "      <th>std</th>\n",
       "      <td>277589.746014</td>\n",
       "      <td>5.687597</td>\n",
       "      <td>25.331939</td>\n",
       "      <td>435.30381</td>\n",
       "      <td>0.025598</td>\n",
       "      <td>22.463583</td>\n",
       "    </tr>\n",
       "    <tr>\n",
       "      <th>min</th>\n",
       "      <td>93356.000000</td>\n",
       "      <td>1.000000</td>\n",
       "      <td>10.060000</td>\n",
       "      <td>10.38000</td>\n",
       "      <td>0.003000</td>\n",
       "      <td>0.202050</td>\n",
       "    </tr>\n",
       "    <tr>\n",
       "      <th>25%</th>\n",
       "      <td>299771.000000</td>\n",
       "      <td>5.750000</td>\n",
       "      <td>35.995000</td>\n",
       "      <td>232.60500</td>\n",
       "      <td>0.015000</td>\n",
       "      <td>5.327175</td>\n",
       "    </tr>\n",
       "    <tr>\n",
       "      <th>50%</th>\n",
       "      <td>563905.000000</td>\n",
       "      <td>10.000000</td>\n",
       "      <td>56.765000</td>\n",
       "      <td>471.72000</td>\n",
       "      <td>0.030000</td>\n",
       "      <td>13.169800</td>\n",
       "    </tr>\n",
       "    <tr>\n",
       "      <th>75%</th>\n",
       "      <td>750461.000000</td>\n",
       "      <td>15.000000</td>\n",
       "      <td>76.802500</td>\n",
       "      <td>878.13750</td>\n",
       "      <td>0.040000</td>\n",
       "      <td>26.302725</td>\n",
       "    </tr>\n",
       "    <tr>\n",
       "      <th>max</th>\n",
       "      <td>995267.000000</td>\n",
       "      <td>20.000000</td>\n",
       "      <td>99.970000</td>\n",
       "      <td>1994.80000</td>\n",
       "      <td>0.150000</td>\n",
       "      <td>191.250000</td>\n",
       "    </tr>\n",
       "  </tbody>\n",
       "</table>\n",
       "</div>"
      ],
      "text/plain": [
       "       account number     quantity   unit price   ext price     Tax rate  \\\n",
       "count     1000.000000  1000.000000  1000.000000  1000.00000  1000.000000   \n",
       "mean    535208.897000    10.328000    56.179630   579.84390     0.035863   \n",
       "std     277589.746014     5.687597    25.331939   435.30381     0.025598   \n",
       "min      93356.000000     1.000000    10.060000    10.38000     0.003000   \n",
       "25%     299771.000000     5.750000    35.995000   232.60500     0.015000   \n",
       "50%     563905.000000    10.000000    56.765000   471.72000     0.030000   \n",
       "75%     750461.000000    15.000000    76.802500   878.13750     0.040000   \n",
       "max     995267.000000    20.000000    99.970000  1994.80000     0.150000   \n",
       "\n",
       "        Tax amount  \n",
       "count  1000.000000  \n",
       "mean     20.058881  \n",
       "std      22.463583  \n",
       "min       0.202050  \n",
       "25%       5.327175  \n",
       "50%      13.169800  \n",
       "75%      26.302725  \n",
       "max     191.250000  "
      ]
     },
     "metadata": {},
     "output_type": "display_data"
    }
   ],
   "source": [
    "display(SALES.head(2))\n",
    "display(SALES.tail(2))\n",
    "display(SALES.describe())"
   ]
  },
  {
   "cell_type": "markdown",
   "metadata": {},
   "source": [
    "## Using pandas settings to control output"
   ]
  },
  {
   "cell_type": "markdown",
   "metadata": {},
   "source": [
    "Pandas has many different options to control how data is displayed.\n",
    "\n",
    "You can use max_rows to control how many rows are displayed"
   ]
  },
  {
   "cell_type": "code",
   "execution_count": 7,
   "metadata": {},
   "outputs": [],
   "source": [
    "pd.set_option(\"display.max_rows\",4)"
   ]
  },
  {
   "cell_type": "code",
   "execution_count": 8,
   "metadata": {},
   "outputs": [
    {
     "data": {
      "text/html": [
       "<div>\n",
       "<style scoped>\n",
       "    .dataframe tbody tr th:only-of-type {\n",
       "        vertical-align: middle;\n",
       "    }\n",
       "\n",
       "    .dataframe tbody tr th {\n",
       "        vertical-align: top;\n",
       "    }\n",
       "\n",
       "    .dataframe thead th {\n",
       "        text-align: right;\n",
       "    }\n",
       "</style>\n",
       "<table border=\"1\" class=\"dataframe\">\n",
       "  <thead>\n",
       "    <tr style=\"text-align: right;\">\n",
       "      <th></th>\n",
       "      <th>account number</th>\n",
       "      <th>name</th>\n",
       "      <th>sku</th>\n",
       "      <th>category</th>\n",
       "      <th>quantity</th>\n",
       "      <th>unit price</th>\n",
       "      <th>ext price</th>\n",
       "      <th>Tax rate</th>\n",
       "      <th>Tax amount</th>\n",
       "      <th>date</th>\n",
       "    </tr>\n",
       "  </thead>\n",
       "  <tbody>\n",
       "    <tr>\n",
       "      <th>0</th>\n",
       "      <td>296809</td>\n",
       "      <td>Carroll PLC</td>\n",
       "      <td>QN-82852</td>\n",
       "      <td>Belt</td>\n",
       "      <td>13</td>\n",
       "      <td>44.48</td>\n",
       "      <td>578.24</td>\n",
       "      <td>0.07</td>\n",
       "      <td>40.4768</td>\n",
       "      <td>2014-09-27 07:13:03</td>\n",
       "    </tr>\n",
       "    <tr>\n",
       "      <th>1</th>\n",
       "      <td>98022</td>\n",
       "      <td>Heidenreich-Bosco</td>\n",
       "      <td>MJ-21460</td>\n",
       "      <td>Shoes</td>\n",
       "      <td>19</td>\n",
       "      <td>53.62</td>\n",
       "      <td>1018.78</td>\n",
       "      <td>0.07</td>\n",
       "      <td>71.3146</td>\n",
       "      <td>2014-07-29 02:10:44</td>\n",
       "    </tr>\n",
       "    <tr>\n",
       "      <th>...</th>\n",
       "      <td>...</td>\n",
       "      <td>...</td>\n",
       "      <td>...</td>\n",
       "      <td>...</td>\n",
       "      <td>...</td>\n",
       "      <td>...</td>\n",
       "      <td>...</td>\n",
       "      <td>...</td>\n",
       "      <td>...</td>\n",
       "      <td>...</td>\n",
       "    </tr>\n",
       "    <tr>\n",
       "      <th>998</th>\n",
       "      <td>304860</td>\n",
       "      <td>Huel-Haag</td>\n",
       "      <td>LL-46261</td>\n",
       "      <td>Shoes</td>\n",
       "      <td>9</td>\n",
       "      <td>98.22</td>\n",
       "      <td>883.98</td>\n",
       "      <td>0.07</td>\n",
       "      <td>61.8786</td>\n",
       "      <td>2014-07-26 01:10:57</td>\n",
       "    </tr>\n",
       "    <tr>\n",
       "      <th>999</th>\n",
       "      <td>98022</td>\n",
       "      <td>Heidenreich-Bosco</td>\n",
       "      <td>LW-86841</td>\n",
       "      <td>Shoes</td>\n",
       "      <td>14</td>\n",
       "      <td>74.83</td>\n",
       "      <td>1047.62</td>\n",
       "      <td>0.07</td>\n",
       "      <td>73.3334</td>\n",
       "      <td>2014-06-27 05:58:33</td>\n",
       "    </tr>\n",
       "  </tbody>\n",
       "</table>\n",
       "<p>1000 rows × 10 columns</p>\n",
       "</div>"
      ],
      "text/plain": [
       "     account number               name       sku category  quantity  \\\n",
       "0            296809        Carroll PLC  QN-82852     Belt        13   \n",
       "1             98022  Heidenreich-Bosco  MJ-21460    Shoes        19   \n",
       "..              ...                ...       ...      ...       ...   \n",
       "998          304860          Huel-Haag  LL-46261    Shoes         9   \n",
       "999           98022  Heidenreich-Bosco  LW-86841    Shoes        14   \n",
       "\n",
       "     unit price  ext price  Tax rate  Tax amount                 date  \n",
       "0         44.48     578.24      0.07     40.4768  2014-09-27 07:13:03  \n",
       "1         53.62    1018.78      0.07     71.3146  2014-07-29 02:10:44  \n",
       "..          ...        ...       ...         ...                  ...  \n",
       "998       98.22     883.98      0.07     61.8786  2014-07-26 01:10:57  \n",
       "999       74.83    1047.62      0.07     73.3334  2014-06-27 05:58:33  \n",
       "\n",
       "[1000 rows x 10 columns]"
      ]
     },
     "execution_count": 8,
     "metadata": {},
     "output_type": "execute_result"
    }
   ],
   "source": [
    "SALES"
   ]
  },
  {
   "cell_type": "markdown",
   "metadata": {},
   "source": [
    "Depending on the data set, you may only want to display a smaller number of columns."
   ]
  },
  {
   "cell_type": "code",
   "execution_count": 9,
   "metadata": {},
   "outputs": [],
   "source": [
    "pd.set_option(\"display.max_columns\",6)"
   ]
  },
  {
   "cell_type": "code",
   "execution_count": 10,
   "metadata": {},
   "outputs": [
    {
     "data": {
      "text/html": [
       "<div>\n",
       "<style scoped>\n",
       "    .dataframe tbody tr th:only-of-type {\n",
       "        vertical-align: middle;\n",
       "    }\n",
       "\n",
       "    .dataframe tbody tr th {\n",
       "        vertical-align: top;\n",
       "    }\n",
       "\n",
       "    .dataframe thead th {\n",
       "        text-align: right;\n",
       "    }\n",
       "</style>\n",
       "<table border=\"1\" class=\"dataframe\">\n",
       "  <thead>\n",
       "    <tr style=\"text-align: right;\">\n",
       "      <th></th>\n",
       "      <th>account number</th>\n",
       "      <th>name</th>\n",
       "      <th>sku</th>\n",
       "      <th>...</th>\n",
       "      <th>Tax rate</th>\n",
       "      <th>Tax amount</th>\n",
       "      <th>date</th>\n",
       "    </tr>\n",
       "  </thead>\n",
       "  <tbody>\n",
       "    <tr>\n",
       "      <th>0</th>\n",
       "      <td>296809</td>\n",
       "      <td>Carroll PLC</td>\n",
       "      <td>QN-82852</td>\n",
       "      <td>...</td>\n",
       "      <td>0.07</td>\n",
       "      <td>40.4768</td>\n",
       "      <td>2014-09-27 07:13:03</td>\n",
       "    </tr>\n",
       "    <tr>\n",
       "      <th>1</th>\n",
       "      <td>98022</td>\n",
       "      <td>Heidenreich-Bosco</td>\n",
       "      <td>MJ-21460</td>\n",
       "      <td>...</td>\n",
       "      <td>0.07</td>\n",
       "      <td>71.3146</td>\n",
       "      <td>2014-07-29 02:10:44</td>\n",
       "    </tr>\n",
       "    <tr>\n",
       "      <th>...</th>\n",
       "      <td>...</td>\n",
       "      <td>...</td>\n",
       "      <td>...</td>\n",
       "      <td>...</td>\n",
       "      <td>...</td>\n",
       "      <td>...</td>\n",
       "      <td>...</td>\n",
       "    </tr>\n",
       "    <tr>\n",
       "      <th>998</th>\n",
       "      <td>304860</td>\n",
       "      <td>Huel-Haag</td>\n",
       "      <td>LL-46261</td>\n",
       "      <td>...</td>\n",
       "      <td>0.07</td>\n",
       "      <td>61.8786</td>\n",
       "      <td>2014-07-26 01:10:57</td>\n",
       "    </tr>\n",
       "    <tr>\n",
       "      <th>999</th>\n",
       "      <td>98022</td>\n",
       "      <td>Heidenreich-Bosco</td>\n",
       "      <td>LW-86841</td>\n",
       "      <td>...</td>\n",
       "      <td>0.07</td>\n",
       "      <td>73.3334</td>\n",
       "      <td>2014-06-27 05:58:33</td>\n",
       "    </tr>\n",
       "  </tbody>\n",
       "</table>\n",
       "<p>1000 rows × 10 columns</p>\n",
       "</div>"
      ],
      "text/plain": [
       "     account number               name       sku  ... Tax rate  Tax amount  \\\n",
       "0            296809        Carroll PLC  QN-82852  ...     0.07     40.4768   \n",
       "1             98022  Heidenreich-Bosco  MJ-21460  ...     0.07     71.3146   \n",
       "..              ...                ...       ...  ...      ...         ...   \n",
       "998          304860          Huel-Haag  LL-46261  ...     0.07     61.8786   \n",
       "999           98022  Heidenreich-Bosco  LW-86841  ...     0.07     73.3334   \n",
       "\n",
       "                    date  \n",
       "0    2014-09-27 07:13:03  \n",
       "1    2014-07-29 02:10:44  \n",
       "..                   ...  \n",
       "998  2014-07-26 01:10:57  \n",
       "999  2014-06-27 05:58:33  \n",
       "\n",
       "[1000 rows x 10 columns]"
      ]
     },
     "execution_count": 10,
     "metadata": {},
     "output_type": "execute_result"
    }
   ],
   "source": [
    "SALES"
   ]
  },
  {
   "cell_type": "markdown",
   "metadata": {},
   "source": [
    "You can control how many decimal points of precision to display"
   ]
  },
  {
   "cell_type": "code",
   "execution_count": 11,
   "metadata": {},
   "outputs": [],
   "source": [
    "pd.set_option('precision',2)"
   ]
  },
  {
   "cell_type": "code",
   "execution_count": 12,
   "metadata": {},
   "outputs": [
    {
     "data": {
      "text/html": [
       "<div>\n",
       "<style scoped>\n",
       "    .dataframe tbody tr th:only-of-type {\n",
       "        vertical-align: middle;\n",
       "    }\n",
       "\n",
       "    .dataframe tbody tr th {\n",
       "        vertical-align: top;\n",
       "    }\n",
       "\n",
       "    .dataframe thead th {\n",
       "        text-align: right;\n",
       "    }\n",
       "</style>\n",
       "<table border=\"1\" class=\"dataframe\">\n",
       "  <thead>\n",
       "    <tr style=\"text-align: right;\">\n",
       "      <th></th>\n",
       "      <th>account number</th>\n",
       "      <th>name</th>\n",
       "      <th>sku</th>\n",
       "      <th>...</th>\n",
       "      <th>Tax rate</th>\n",
       "      <th>Tax amount</th>\n",
       "      <th>date</th>\n",
       "    </tr>\n",
       "  </thead>\n",
       "  <tbody>\n",
       "    <tr>\n",
       "      <th>0</th>\n",
       "      <td>296809</td>\n",
       "      <td>Carroll PLC</td>\n",
       "      <td>QN-82852</td>\n",
       "      <td>...</td>\n",
       "      <td>0.07</td>\n",
       "      <td>40.48</td>\n",
       "      <td>2014-09-27 07:13:03</td>\n",
       "    </tr>\n",
       "    <tr>\n",
       "      <th>1</th>\n",
       "      <td>98022</td>\n",
       "      <td>Heidenreich-Bosco</td>\n",
       "      <td>MJ-21460</td>\n",
       "      <td>...</td>\n",
       "      <td>0.07</td>\n",
       "      <td>71.31</td>\n",
       "      <td>2014-07-29 02:10:44</td>\n",
       "    </tr>\n",
       "    <tr>\n",
       "      <th>...</th>\n",
       "      <td>...</td>\n",
       "      <td>...</td>\n",
       "      <td>...</td>\n",
       "      <td>...</td>\n",
       "      <td>...</td>\n",
       "      <td>...</td>\n",
       "      <td>...</td>\n",
       "    </tr>\n",
       "    <tr>\n",
       "      <th>998</th>\n",
       "      <td>304860</td>\n",
       "      <td>Huel-Haag</td>\n",
       "      <td>LL-46261</td>\n",
       "      <td>...</td>\n",
       "      <td>0.07</td>\n",
       "      <td>61.88</td>\n",
       "      <td>2014-07-26 01:10:57</td>\n",
       "    </tr>\n",
       "    <tr>\n",
       "      <th>999</th>\n",
       "      <td>98022</td>\n",
       "      <td>Heidenreich-Bosco</td>\n",
       "      <td>LW-86841</td>\n",
       "      <td>...</td>\n",
       "      <td>0.07</td>\n",
       "      <td>73.33</td>\n",
       "      <td>2014-06-27 05:58:33</td>\n",
       "    </tr>\n",
       "  </tbody>\n",
       "</table>\n",
       "<p>1000 rows × 10 columns</p>\n",
       "</div>"
      ],
      "text/plain": [
       "     account number               name       sku  ... Tax rate  Tax amount  \\\n",
       "0            296809        Carroll PLC  QN-82852  ...     0.07       40.48   \n",
       "1             98022  Heidenreich-Bosco  MJ-21460  ...     0.07       71.31   \n",
       "..              ...                ...       ...  ...      ...         ...   \n",
       "998          304860          Huel-Haag  LL-46261  ...     0.07       61.88   \n",
       "999           98022  Heidenreich-Bosco  LW-86841  ...     0.07       73.33   \n",
       "\n",
       "                    date  \n",
       "0    2014-09-27 07:13:03  \n",
       "1    2014-07-29 02:10:44  \n",
       "..                   ...  \n",
       "998  2014-07-26 01:10:57  \n",
       "999  2014-06-27 05:58:33  \n",
       "\n",
       "[1000 rows x 10 columns]"
      ]
     },
     "execution_count": 12,
     "metadata": {},
     "output_type": "execute_result"
    }
   ],
   "source": [
    "SALES"
   ]
  },
  {
   "cell_type": "code",
   "execution_count": 13,
   "metadata": {},
   "outputs": [],
   "source": [
    "pd.set_option('precision',7)"
   ]
  },
  {
   "cell_type": "code",
   "execution_count": 14,
   "metadata": {},
   "outputs": [
    {
     "data": {
      "text/html": [
       "<div>\n",
       "<style scoped>\n",
       "    .dataframe tbody tr th:only-of-type {\n",
       "        vertical-align: middle;\n",
       "    }\n",
       "\n",
       "    .dataframe tbody tr th {\n",
       "        vertical-align: top;\n",
       "    }\n",
       "\n",
       "    .dataframe thead th {\n",
       "        text-align: right;\n",
       "    }\n",
       "</style>\n",
       "<table border=\"1\" class=\"dataframe\">\n",
       "  <thead>\n",
       "    <tr style=\"text-align: right;\">\n",
       "      <th></th>\n",
       "      <th>account number</th>\n",
       "      <th>name</th>\n",
       "      <th>sku</th>\n",
       "      <th>...</th>\n",
       "      <th>Tax rate</th>\n",
       "      <th>Tax amount</th>\n",
       "      <th>date</th>\n",
       "    </tr>\n",
       "  </thead>\n",
       "  <tbody>\n",
       "    <tr>\n",
       "      <th>0</th>\n",
       "      <td>296809</td>\n",
       "      <td>Carroll PLC</td>\n",
       "      <td>QN-82852</td>\n",
       "      <td>...</td>\n",
       "      <td>0.07</td>\n",
       "      <td>40.4768</td>\n",
       "      <td>2014-09-27 07:13:03</td>\n",
       "    </tr>\n",
       "    <tr>\n",
       "      <th>1</th>\n",
       "      <td>98022</td>\n",
       "      <td>Heidenreich-Bosco</td>\n",
       "      <td>MJ-21460</td>\n",
       "      <td>...</td>\n",
       "      <td>0.07</td>\n",
       "      <td>71.3146</td>\n",
       "      <td>2014-07-29 02:10:44</td>\n",
       "    </tr>\n",
       "    <tr>\n",
       "      <th>...</th>\n",
       "      <td>...</td>\n",
       "      <td>...</td>\n",
       "      <td>...</td>\n",
       "      <td>...</td>\n",
       "      <td>...</td>\n",
       "      <td>...</td>\n",
       "      <td>...</td>\n",
       "    </tr>\n",
       "    <tr>\n",
       "      <th>998</th>\n",
       "      <td>304860</td>\n",
       "      <td>Huel-Haag</td>\n",
       "      <td>LL-46261</td>\n",
       "      <td>...</td>\n",
       "      <td>0.07</td>\n",
       "      <td>61.8786</td>\n",
       "      <td>2014-07-26 01:10:57</td>\n",
       "    </tr>\n",
       "    <tr>\n",
       "      <th>999</th>\n",
       "      <td>98022</td>\n",
       "      <td>Heidenreich-Bosco</td>\n",
       "      <td>LW-86841</td>\n",
       "      <td>...</td>\n",
       "      <td>0.07</td>\n",
       "      <td>73.3334</td>\n",
       "      <td>2014-06-27 05:58:33</td>\n",
       "    </tr>\n",
       "  </tbody>\n",
       "</table>\n",
       "<p>1000 rows × 10 columns</p>\n",
       "</div>"
      ],
      "text/plain": [
       "     account number               name       sku  ... Tax rate  Tax amount  \\\n",
       "0            296809        Carroll PLC  QN-82852  ...     0.07     40.4768   \n",
       "1             98022  Heidenreich-Bosco  MJ-21460  ...     0.07     71.3146   \n",
       "..              ...                ...       ...  ...      ...         ...   \n",
       "998          304860          Huel-Haag  LL-46261  ...     0.07     61.8786   \n",
       "999           98022  Heidenreich-Bosco  LW-86841  ...     0.07     73.3334   \n",
       "\n",
       "                    date  \n",
       "0    2014-09-27 07:13:03  \n",
       "1    2014-07-29 02:10:44  \n",
       "..                   ...  \n",
       "998  2014-07-26 01:10:57  \n",
       "999  2014-06-27 05:58:33  \n",
       "\n",
       "[1000 rows x 10 columns]"
      ]
     },
     "execution_count": 14,
     "metadata": {},
     "output_type": "execute_result"
    }
   ],
   "source": [
    "SALES"
   ]
  },
  {
   "cell_type": "markdown",
   "metadata": {},
   "source": [
    "You can also format floating point numbers using float_format"
   ]
  },
  {
   "cell_type": "code",
   "execution_count": 15,
   "metadata": {},
   "outputs": [],
   "source": [
    "pd.set_option('float_format', '{:.2f}'.format)"
   ]
  },
  {
   "cell_type": "code",
   "execution_count": 16,
   "metadata": {},
   "outputs": [
    {
     "data": {
      "text/html": [
       "<div>\n",
       "<style scoped>\n",
       "    .dataframe tbody tr th:only-of-type {\n",
       "        vertical-align: middle;\n",
       "    }\n",
       "\n",
       "    .dataframe tbody tr th {\n",
       "        vertical-align: top;\n",
       "    }\n",
       "\n",
       "    .dataframe thead th {\n",
       "        text-align: right;\n",
       "    }\n",
       "</style>\n",
       "<table border=\"1\" class=\"dataframe\">\n",
       "  <thead>\n",
       "    <tr style=\"text-align: right;\">\n",
       "      <th></th>\n",
       "      <th>account number</th>\n",
       "      <th>name</th>\n",
       "      <th>sku</th>\n",
       "      <th>...</th>\n",
       "      <th>Tax rate</th>\n",
       "      <th>Tax amount</th>\n",
       "      <th>date</th>\n",
       "    </tr>\n",
       "  </thead>\n",
       "  <tbody>\n",
       "    <tr>\n",
       "      <th>0</th>\n",
       "      <td>296809</td>\n",
       "      <td>Carroll PLC</td>\n",
       "      <td>QN-82852</td>\n",
       "      <td>...</td>\n",
       "      <td>0.07</td>\n",
       "      <td>40.48</td>\n",
       "      <td>2014-09-27 07:13:03</td>\n",
       "    </tr>\n",
       "    <tr>\n",
       "      <th>1</th>\n",
       "      <td>98022</td>\n",
       "      <td>Heidenreich-Bosco</td>\n",
       "      <td>MJ-21460</td>\n",
       "      <td>...</td>\n",
       "      <td>0.07</td>\n",
       "      <td>71.31</td>\n",
       "      <td>2014-07-29 02:10:44</td>\n",
       "    </tr>\n",
       "    <tr>\n",
       "      <th>...</th>\n",
       "      <td>...</td>\n",
       "      <td>...</td>\n",
       "      <td>...</td>\n",
       "      <td>...</td>\n",
       "      <td>...</td>\n",
       "      <td>...</td>\n",
       "      <td>...</td>\n",
       "    </tr>\n",
       "    <tr>\n",
       "      <th>998</th>\n",
       "      <td>304860</td>\n",
       "      <td>Huel-Haag</td>\n",
       "      <td>LL-46261</td>\n",
       "      <td>...</td>\n",
       "      <td>0.07</td>\n",
       "      <td>61.88</td>\n",
       "      <td>2014-07-26 01:10:57</td>\n",
       "    </tr>\n",
       "    <tr>\n",
       "      <th>999</th>\n",
       "      <td>98022</td>\n",
       "      <td>Heidenreich-Bosco</td>\n",
       "      <td>LW-86841</td>\n",
       "      <td>...</td>\n",
       "      <td>0.07</td>\n",
       "      <td>73.33</td>\n",
       "      <td>2014-06-27 05:58:33</td>\n",
       "    </tr>\n",
       "  </tbody>\n",
       "</table>\n",
       "<p>1000 rows × 10 columns</p>\n",
       "</div>"
      ],
      "text/plain": [
       "     account number               name       sku  ... Tax rate  Tax amount  \\\n",
       "0            296809        Carroll PLC  QN-82852  ...     0.07       40.48   \n",
       "1             98022  Heidenreich-Bosco  MJ-21460  ...     0.07       71.31   \n",
       "..              ...                ...       ...  ...      ...         ...   \n",
       "998          304860          Huel-Haag  LL-46261  ...     0.07       61.88   \n",
       "999           98022  Heidenreich-Bosco  LW-86841  ...     0.07       73.33   \n",
       "\n",
       "                    date  \n",
       "0    2014-09-27 07:13:03  \n",
       "1    2014-07-29 02:10:44  \n",
       "..                   ...  \n",
       "998  2014-07-26 01:10:57  \n",
       "999  2014-06-27 05:58:33  \n",
       "\n",
       "[1000 rows x 10 columns]"
      ]
     },
     "execution_count": 16,
     "metadata": {},
     "output_type": "execute_result"
    }
   ],
   "source": [
    "SALES"
   ]
  },
  {
   "cell_type": "markdown",
   "metadata": {},
   "source": [
    "This does apply to all the data. In our example, applying dollar signs to everything would not be correct for this example."
   ]
  },
  {
   "cell_type": "code",
   "execution_count": 17,
   "metadata": {},
   "outputs": [],
   "source": [
    "pd.set_option('float_format', '${:.2f}'.format)"
   ]
  },
  {
   "cell_type": "code",
   "execution_count": 18,
   "metadata": {},
   "outputs": [
    {
     "data": {
      "text/html": [
       "<div>\n",
       "<style scoped>\n",
       "    .dataframe tbody tr th:only-of-type {\n",
       "        vertical-align: middle;\n",
       "    }\n",
       "\n",
       "    .dataframe tbody tr th {\n",
       "        vertical-align: top;\n",
       "    }\n",
       "\n",
       "    .dataframe thead th {\n",
       "        text-align: right;\n",
       "    }\n",
       "</style>\n",
       "<table border=\"1\" class=\"dataframe\">\n",
       "  <thead>\n",
       "    <tr style=\"text-align: right;\">\n",
       "      <th></th>\n",
       "      <th>account number</th>\n",
       "      <th>name</th>\n",
       "      <th>sku</th>\n",
       "      <th>...</th>\n",
       "      <th>Tax rate</th>\n",
       "      <th>Tax amount</th>\n",
       "      <th>date</th>\n",
       "    </tr>\n",
       "  </thead>\n",
       "  <tbody>\n",
       "    <tr>\n",
       "      <th>0</th>\n",
       "      <td>296809</td>\n",
       "      <td>Carroll PLC</td>\n",
       "      <td>QN-82852</td>\n",
       "      <td>...</td>\n",
       "      <td>$0.07</td>\n",
       "      <td>$40.48</td>\n",
       "      <td>2014-09-27 07:13:03</td>\n",
       "    </tr>\n",
       "    <tr>\n",
       "      <th>1</th>\n",
       "      <td>98022</td>\n",
       "      <td>Heidenreich-Bosco</td>\n",
       "      <td>MJ-21460</td>\n",
       "      <td>...</td>\n",
       "      <td>$0.07</td>\n",
       "      <td>$71.31</td>\n",
       "      <td>2014-07-29 02:10:44</td>\n",
       "    </tr>\n",
       "    <tr>\n",
       "      <th>...</th>\n",
       "      <td>...</td>\n",
       "      <td>...</td>\n",
       "      <td>...</td>\n",
       "      <td>...</td>\n",
       "      <td>...</td>\n",
       "      <td>...</td>\n",
       "      <td>...</td>\n",
       "    </tr>\n",
       "    <tr>\n",
       "      <th>998</th>\n",
       "      <td>304860</td>\n",
       "      <td>Huel-Haag</td>\n",
       "      <td>LL-46261</td>\n",
       "      <td>...</td>\n",
       "      <td>$0.07</td>\n",
       "      <td>$61.88</td>\n",
       "      <td>2014-07-26 01:10:57</td>\n",
       "    </tr>\n",
       "    <tr>\n",
       "      <th>999</th>\n",
       "      <td>98022</td>\n",
       "      <td>Heidenreich-Bosco</td>\n",
       "      <td>LW-86841</td>\n",
       "      <td>...</td>\n",
       "      <td>$0.07</td>\n",
       "      <td>$73.33</td>\n",
       "      <td>2014-06-27 05:58:33</td>\n",
       "    </tr>\n",
       "  </tbody>\n",
       "</table>\n",
       "<p>1000 rows × 10 columns</p>\n",
       "</div>"
      ],
      "text/plain": [
       "     account number               name       sku  ... Tax rate  Tax amount  \\\n",
       "0            296809        Carroll PLC  QN-82852  ...    $0.07      $40.48   \n",
       "1             98022  Heidenreich-Bosco  MJ-21460  ...    $0.07      $71.31   \n",
       "..              ...                ...       ...  ...      ...         ...   \n",
       "998          304860          Huel-Haag  LL-46261  ...    $0.07      $61.88   \n",
       "999           98022  Heidenreich-Bosco  LW-86841  ...    $0.07      $73.33   \n",
       "\n",
       "                    date  \n",
       "0    2014-09-27 07:13:03  \n",
       "1    2014-07-29 02:10:44  \n",
       "..                   ...  \n",
       "998  2014-07-26 01:10:57  \n",
       "999  2014-06-27 05:58:33  \n",
       "\n",
       "[1000 rows x 10 columns]"
      ]
     },
     "execution_count": 18,
     "metadata": {},
     "output_type": "execute_result"
    }
   ],
   "source": [
    "SALES"
   ]
  },
  {
   "cell_type": "markdown",
   "metadata": {},
   "source": [
    "## Third Party Plugins"
   ]
  },
  {
   "cell_type": "markdown",
   "metadata": {},
   "source": [
    "Qtopian has a useful plugin called qgrid - https://github.com/quantopian/qgrid\n",
    "\n",
    "Import it and install it."
   ]
  },
  {
   "cell_type": "code",
   "execution_count": 19,
   "metadata": {},
   "outputs": [
    {
     "ename": "AttributeError",
     "evalue": "module 'qgrid' has no attribute 'nbinstall'",
     "output_type": "error",
     "traceback": [
      "\u001b[0;31m---------------------------------------------------------------------------\u001b[0m",
      "\u001b[0;31mAttributeError\u001b[0m                            Traceback (most recent call last)",
      "\u001b[0;32m<ipython-input-19-d26fb9e6131e>\u001b[0m in \u001b[0;36m<module>\u001b[0;34m\u001b[0m\n\u001b[1;32m      1\u001b[0m \u001b[0;32mimport\u001b[0m \u001b[0mqgrid\u001b[0m\u001b[0;34m\u001b[0m\u001b[0;34m\u001b[0m\u001b[0m\n\u001b[0;32m----> 2\u001b[0;31m \u001b[0mqgrid\u001b[0m\u001b[0;34m.\u001b[0m\u001b[0mnbinstall\u001b[0m\u001b[0;34m(\u001b[0m\u001b[0moverwrite\u001b[0m\u001b[0;34m=\u001b[0m\u001b[0;32mTrue\u001b[0m\u001b[0;34m)\u001b[0m\u001b[0;34m\u001b[0m\u001b[0;34m\u001b[0m\u001b[0m\n\u001b[0m",
      "\u001b[0;31mAttributeError\u001b[0m: module 'qgrid' has no attribute 'nbinstall'"
     ]
    }
   ],
   "source": [
    "import qgrid\n",
    "qgrid.nbinstall(overwrite=True)"
   ]
  },
  {
   "cell_type": "markdown",
   "metadata": {},
   "source": [
    "Showing the data is straighforward."
   ]
  },
  {
   "cell_type": "code",
   "execution_count": null,
   "metadata": {},
   "outputs": [],
   "source": [
    "qgrid.show_grid(SALES, remote_js=True)"
   ]
  },
  {
   "cell_type": "markdown",
   "metadata": {},
   "source": [
    "The plugin is very similar to the capability of an Excel autofilter. It can be handy to quickly filter and sort your data."
   ]
  },
  {
   "cell_type": "markdown",
   "metadata": {},
   "source": [
    "## Improving your plots"
   ]
  },
  {
   "cell_type": "markdown",
   "metadata": {},
   "source": [
    "I have mentioned before how the default pandas plots don't look so great. Fortunately, there are style sheets in matplotlib which go a long way towards improving the visualization of your data.\n",
    "\n",
    "Here is a simple plot with the default values."
   ]
  },
  {
   "cell_type": "code",
   "execution_count": null,
   "metadata": {},
   "outputs": [],
   "source": [
    "SALES.groupby('name')['quantity'].sum().plot(kind=\"bar\")"
   ]
  },
  {
   "cell_type": "markdown",
   "metadata": {},
   "source": [
    "We can use some of the matplolib styles available to us to make this look better.\n",
    "http://matplotlib.org/users/style_sheets.html"
   ]
  },
  {
   "cell_type": "code",
   "execution_count": null,
   "metadata": {},
   "outputs": [],
   "source": [
    "plt.style.use('ggplot')"
   ]
  },
  {
   "cell_type": "code",
   "execution_count": null,
   "metadata": {},
   "outputs": [],
   "source": [
    "SALES.groupby('name')['quantity'].sum().plot(kind=\"bar\")"
   ]
  },
  {
   "cell_type": "markdown",
   "metadata": {},
   "source": [
    "You can see all the styles available"
   ]
  },
  {
   "cell_type": "code",
   "execution_count": null,
   "metadata": {},
   "outputs": [],
   "source": [
    "plt.style.available"
   ]
  },
  {
   "cell_type": "code",
   "execution_count": null,
   "metadata": {},
   "outputs": [],
   "source": [
    "plt.style.use('bmh')"
   ]
  },
  {
   "cell_type": "code",
   "execution_count": null,
   "metadata": {},
   "outputs": [],
   "source": [
    "SALES.groupby('name')['quantity'].sum().plot(kind=\"bar\")"
   ]
  },
  {
   "cell_type": "code",
   "execution_count": null,
   "metadata": {},
   "outputs": [],
   "source": [
    "plt.style.use('fivethirtyeight')"
   ]
  },
  {
   "cell_type": "code",
   "execution_count": null,
   "metadata": {},
   "outputs": [],
   "source": [
    "SALES.groupby('name')['quantity'].sum().plot(kind=\"bar\")"
   ]
  },
  {
   "cell_type": "markdown",
   "metadata": {},
   "source": [
    "Each of the different styles have subtle (and not so subtle) changes. Fortunately it is easy to experiment with them and your own plots.\n",
    "\n",
    "\n",
    "You can find other articles at [Practical Business Python](http://pbpython.com)\n",
    "\n",
    "This notebook is referenced in the following post - http://pbpython.com/ipython-pandas-display-tips.html\n",
    "\n",
    "---\n",
    "*EOF*"
   ]
  }
 ],
 "metadata": {
  "kernelspec": {
   "display_name": "eda_dev39",
   "language": "python",
   "name": "eda_dev39"
  },
  "language_info": {
   "codemirror_mode": {
    "name": "ipython",
    "version": 3
   },
   "file_extension": ".py",
   "mimetype": "text/x-python",
   "name": "python",
   "nbconvert_exporter": "python",
   "pygments_lexer": "ipython3",
   "version": "3.9.4"
  }
 },
 "nbformat": 4,
 "nbformat_minor": 4
}
