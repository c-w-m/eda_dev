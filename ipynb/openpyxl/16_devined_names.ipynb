{
 "cells": [
  {
   "cell_type": "markdown",
   "id": "7e4bd782-585a-4d42-82c7-5dc8fb2aeb13",
   "metadata": {},
   "source": [
    "# [Defined Names](https://openpyxl.readthedocs.io/en/stable/defined_names.html)\n",
    "The specification has the following to say about defined names:\n",
    "\n",
    "“Defined names are descriptive text that is used to represents a cell, range of cells, formula, or constant value.”\n",
    "This means they are very loosely defined. They might contain a constant, a formula, a single cell reference, a range of cells or multiple ranges of cells across different worksheets. Or all of the above. They are defined globally for a workbook and accessed from the defined_names attribute.\n",
    "\n",
    "## Sample use for ranges\n",
    "Accessing a range called “my_range”:"
   ]
  },
  {
   "cell_type": "code",
   "execution_count": 1,
   "id": "4456ffb1-01c0-49ba-bff4-1201b958cb78",
   "metadata": {},
   "outputs": [
    {
     "data": {
      "text/plain": [
       "['data/logo.png']"
      ]
     },
     "execution_count": 1,
     "metadata": {},
     "output_type": "execute_result"
    }
   ],
   "source": [
    "import openpyxl as xl\n",
    "from distutils.dir_util import copy_tree\n",
    "import pprint as pp\n",
    "copy_tree('archive/','data/')"
   ]
  },
  {
   "cell_type": "code",
   "execution_count": 2,
   "id": "2091b5ab-f0ed-4174-8720-d9a36956171a",
   "metadata": {},
   "outputs": [],
   "source": [
    "WB-1-FILE = \"data/my_range.xlsx\"\n",
    "WS-1-NAME = \"range_test\"\n",
    "WS-1-RANGE = \"newrange\"\n",
    "WS-1-RANGE-CELLS = (WSNAME + \"!$A$1:$A$5\")\n",
    "WS-2-RANGE = \"privaterange\"\n",
    "WS-2-RANGE-CELLS = (WSNAME + \"!$A$6\")"
   ]
  },
  {
   "cell_type": "code",
   "execution_count": 3,
   "id": "993fd24a-97ec-4292-ac9f-70c5192bee10",
   "metadata": {},
   "outputs": [],
   "source": [
    "def create_new_named_ranges():\n",
    "    wb = xl.Workbook()\n",
    "    ws = wb.create_sheet(title=WSNAME)\n",
    "    new_range = xl.workbook.defined_name.DefinedName(WSRANGE1,\n",
    "                                                     attr_text=WSRANGE1CELLS)\n",
    "    wb.defined_names.append(new_range)\n",
    "\n",
    "    # create a local named range (only valid for a specific sheet)\n",
    "    sheetid = wb.sheetnames.index(WSNAME)\n",
    "    private_range = xl.workbook.defined_name.DefinedName(WSRANGE2,\n",
    "                                                         attr_text=WSRANGE2CELLS,\n",
    "                                                         localSheetId=sheetid)\n",
    "    wb.defined_names.append(private_range)\n",
    "    # this local range can't be retrieved from the global defined names\n",
    "    assert(WSRANGE2 not in wb.defined_names)\n",
    "\n",
    "    # the scope has to be supplied to retrieve local ranges:\n",
    "    print(wb.defined_names.localnames(sheetid))\n",
    "    print(wb.defined_names.get(WSRANGE2, sheetid).attr_text)\n",
    "\n",
    "    wb.save(WBFILE1)"
   ]
  },
  {
   "cell_type": "code",
   "execution_count": 4,
   "id": "035964ff-2e83-42a7-becc-093323be2e77",
   "metadata": {},
   "outputs": [],
   "source": [
    "def sample_use_for_ranges():\n",
    "    wb = xl.load_workbook(WBFILE1)\n",
    "    ws_names = wb.sheetnames\n",
    "    ws = wb.get_sheet_by_name(WSNAME)\n",
    "    my_range = wb.defined_names[WSRANGE1]\n",
    "\n",
    "    # if this contains a range of cells then the destinations attribute is not None\n",
    "    dests = my_range.destinations  # returns a generator of (worksheet title, cell range) tuples\n",
    "\n",
    "    cells = []\n",
    "    for title, coord in dests:\n",
    "        ws = wb[title]\n",
    "        cells.append(ws[coord])\n",
    "\n",
    "    print(\"{} = \".format(WSRANGE1))\n",
    "    pp.pprint(cells)"
   ]
  },
  {
   "cell_type": "code",
   "execution_count": 5,
   "id": "e0613cf2-e2ab-4343-b09d-1e7bf883a8d7",
   "metadata": {},
   "outputs": [
    {
     "data": {
      "text/plain": [
       "['data/logo.png']"
      ]
     },
     "execution_count": 5,
     "metadata": {},
     "output_type": "execute_result"
    }
   ],
   "source": [
    "copy_tree('archive/', 'data/')"
   ]
  },
  {
   "cell_type": "code",
   "execution_count": 6,
   "id": "95a4b232-c7b2-462c-975f-97d1abf2634c",
   "metadata": {},
   "outputs": [
    {
     "name": "stdout",
     "output_type": "stream",
     "text": [
      "['privaterange']\n",
      "range_test!$A$6\n"
     ]
    }
   ],
   "source": [
    "create_new_named_ranges()"
   ]
  },
  {
   "cell_type": "code",
   "execution_count": 7,
   "id": "62457bc7-6c7f-4d62-94d9-a4c4a4bb0111",
   "metadata": {},
   "outputs": [
    {
     "name": "stdout",
     "output_type": "stream",
     "text": [
      "newrange = \n",
      "[((<Cell 'range_test'.A1>,),\n",
      "  (<Cell 'range_test'.A2>,),\n",
      "  (<Cell 'range_test'.A3>,),\n",
      "  (<Cell 'range_test'.A4>,),\n",
      "  (<Cell 'range_test'.A5>,))]\n"
     ]
    },
    {
     "name": "stderr",
     "output_type": "stream",
     "text": [
      "<ipython-input-4-5fc453684cf8>:4: DeprecationWarning: Call to deprecated function get_sheet_by_name (Use wb[sheetname]).\n",
      "  ws = wb.get_sheet_by_name(WSNAME)\n"
     ]
    }
   ],
   "source": [
    "sample_use_for_ranges()"
   ]
  },
  {
   "cell_type": "markdown",
   "id": "a00cf50f-d19a-4bc8-a996-d6875b8beec3",
   "metadata": {},
   "source": [
    "---\n",
    "*EOF*"
   ]
  }
 ],
 "metadata": {
  "kernelspec": {
   "display_name": "eda_dev39",
   "language": "python",
   "name": "eda_dev39"
  },
  "language_info": {
   "codemirror_mode": {
    "name": "ipython",
    "version": 3
   },
   "file_extension": ".py",
   "mimetype": "text/x-python",
   "name": "python",
   "nbconvert_exporter": "python",
   "pygments_lexer": "ipython3",
   "version": "3.9.4"
  }
 },
 "nbformat": 4,
 "nbformat_minor": 5
}
