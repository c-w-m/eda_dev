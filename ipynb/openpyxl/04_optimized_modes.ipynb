{
 "cells": [
  {
   "cell_type": "markdown",
   "id": "fed72e9d-3c11-4a15-8a94-4ae0414f1503",
   "metadata": {},
   "source": [
    "# [Optimised Modes](https://openpyxl.readthedocs.io/en/stable/optimized.html)\n",
    "\n",
    "## Create Target Data"
   ]
  },
  {
   "cell_type": "code",
   "execution_count": 1,
   "id": "cd427ea5-fb5d-4fd6-9181-672766342841",
   "metadata": {
    "tags": []
   },
   "outputs": [
    {
     "data": {
      "text/plain": [
       "['data/logo.png']"
      ]
     },
     "execution_count": 1,
     "metadata": {},
     "output_type": "execute_result"
    }
   ],
   "source": [
    "\"\"\"\n",
    "# Simple Usage of openpyxl\n",
    "\"\"\"\n",
    "import openpyxl as xl\n",
    "from distutils.dir_util import copy_tree\n",
    "import pprint as pp\n",
    "\n",
    "copy_tree('archive/', 'data/')"
   ]
  },
  {
   "cell_type": "code",
   "execution_count": 2,
   "id": "3ee5b81d-feee-4986-9abf-7a0dda987b2c",
   "metadata": {
    "tags": []
   },
   "outputs": [],
   "source": [
    "WB_1_FILE = \"data/large_file.xlsx\"\n",
    "WB_2_FILE = \"data/new_big_file.xlsx\"\n",
    "WB_3_FILE = \"data/write_only_file.xlsx\"\n",
    "WS_1_NAME = \"big_data\"\n",
    "WS_2_NAME = \"Pi\"\n",
    "WS_3_NAME = \"Data\""
   ]
  },
  {
   "cell_type": "code",
   "execution_count": 7,
   "id": "29cc03e4-f3bc-432d-8f77-3a2c933766b8",
   "metadata": {
    "tags": []
   },
   "outputs": [],
   "source": [
    "def write_workbook():\n",
    "    print(80 * '-')\n",
    "    print(\"Write Workbook\")\n",
    "    print(40 * '-')\n",
    "\n",
    "    wb = xl.Workbook()\n",
    "\n",
    "    dest_filename = WB_1_FILE\n",
    "\n",
    "    ws1 = wb.active\n",
    "    ws1.title = WS_1_NAME\n",
    "\n",
    "    for row in range(1, 40):\n",
    "        ws1.append(range(10))\n",
    "\n",
    "    ws2 = wb.create_sheet(title=WS_2_NAME)\n",
    "    ws2['A3'] = 3.14\n",
    "\n",
    "    ws3 = wb.create_sheet(title=WS_3_NAME)\n",
    "    for row in range(1, 10):\n",
    "        for col in range(1, 10):\n",
    "            key = \"{0}\".format(str(xl.utils.get_column_letter(col)) + str(row))\n",
    "            _ = ws3.cell(column=col, row=row, value=key)\n",
    "            print(ws3[key].value)\n",
    "\n",
    "    wb.save(filename=dest_filename)"
   ]
  },
  {
   "cell_type": "code",
   "execution_count": 8,
   "id": "7c0d9f50-47ce-4c64-84c5-23d734cf27f6",
   "metadata": {
    "collapsed": true,
    "jupyter": {
     "outputs_hidden": true
    },
    "tags": []
   },
   "outputs": [
    {
     "name": "stdout",
     "output_type": "stream",
     "text": [
      "--------------------------------------------------------------------------------\n",
      "Write Workbook\n",
      "----------------------------------------\n",
      "A1\n",
      "B1\n",
      "C1\n",
      "D1\n",
      "E1\n",
      "F1\n",
      "G1\n",
      "H1\n",
      "I1\n",
      "A2\n",
      "B2\n",
      "C2\n",
      "D2\n",
      "E2\n",
      "F2\n",
      "G2\n",
      "H2\n",
      "I2\n",
      "A3\n",
      "B3\n",
      "C3\n",
      "D3\n",
      "E3\n",
      "F3\n",
      "G3\n",
      "H3\n",
      "I3\n",
      "A4\n",
      "B4\n",
      "C4\n",
      "D4\n",
      "E4\n",
      "F4\n",
      "G4\n",
      "H4\n",
      "I4\n",
      "A5\n",
      "B5\n",
      "C5\n",
      "D5\n",
      "E5\n",
      "F5\n",
      "G5\n",
      "H5\n",
      "I5\n",
      "A6\n",
      "B6\n",
      "C6\n",
      "D6\n",
      "E6\n",
      "F6\n",
      "G6\n",
      "H6\n",
      "I6\n",
      "A7\n",
      "B7\n",
      "C7\n",
      "D7\n",
      "E7\n",
      "F7\n",
      "G7\n",
      "H7\n",
      "I7\n",
      "A8\n",
      "B8\n",
      "C8\n",
      "D8\n",
      "E8\n",
      "F8\n",
      "G8\n",
      "H8\n",
      "I8\n",
      "A9\n",
      "B9\n",
      "C9\n",
      "D9\n",
      "E9\n",
      "F9\n",
      "G9\n",
      "H9\n",
      "I9\n"
     ]
    }
   ],
   "source": [
    "write_workbook()"
   ]
  },
  {
   "cell_type": "markdown",
   "id": "18aef262-593d-47e1-8330-68c1e4fcd693",
   "metadata": {},
   "source": [
    "## Read-only mode\n",
    "\n",
    "Sometimes, you will need to open or write **extremely large XLSX files**, and the common routines in openpyxl won’t be able to handle that load. Fortunately, there are two modes that enable you to read and write unlimited amounts of data with (near) constant memory consumption.\n",
    "\n",
    "Introducing `openpyxl.worksheet._read_only.ReadOnlyWorksheet:`"
   ]
  },
  {
   "cell_type": "code",
   "execution_count": null,
   "id": "c09d4c05-f844-4763-a139-e5f31227a8f1",
   "metadata": {
    "tags": []
   },
   "outputs": [],
   "source": [
    "wb = xl.load_workbook(filename=WB_1_FILE, read_only=True)\n",
    "ws = wb[WS_3_NAME]\n",
    "\n",
    "for row in ws.rows:\n",
    "    for cell in row:\n",
    "        print(cell.value)\n",
    "\n",
    "# Close the workbook after reading\n",
    "wb.close()"
   ]
  },
  {
   "cell_type": "markdown",
   "id": "4551e5e1-e83f-4b88-8438-eb8705c9ec7f",
   "metadata": {},
   "source": [
    ">Warning\n",
    ">\n",
    ">* `openpyxl.worksheet._read_only.ReadOnlyWorksheet` is read-only\n",
    ">* Unlike a normal workbook, a read-only workbook will use lazy loading. The workbook must be explicitly closed with the `close()` method.\n",
    "\n",
    "Cells returned are not regular `openpyxl.cell.cell.Cell` but `openpyxl.cell._read_only.ReadOnlyCell`.\n",
    "\n",
    "### Worksheet dimensions\n",
    "\n",
    "Read-only mode relies on applications and libraries that created the file providing correct information about the worksheets, specifically the used part of it, known as the dimensions. Some applications set this incorrectly. You can check the apparent dimensions of a worksheet using `ws.calculate_dimension()`. If this returns a range that you know is incorrect, say `A1:A1` then simply resetting the `max_row` and `max_column` attributes should allow you to work with the file:"
   ]
  },
  {
   "cell_type": "code",
   "execution_count": null,
   "id": "062cbe09-b59b-47cb-9275-535d878db04e",
   "metadata": {},
   "outputs": [],
   "source": [
    "ws.reset_dimensions()"
   ]
  },
  {
   "cell_type": "markdown",
   "id": "368d44e8-6703-4be7-aeb7-6c391702b11b",
   "metadata": {},
   "source": [
    "## Write-only mode\n",
    "Here again, the regular `openpyxl.worksheet.worksheet.Worksheet` has been replaced by a faster alternative, the `openpyxl.worksheet._write_only.WriteOnlyWorksheet`. When you want to dump large amounts of data make sure you have lxml installed."
   ]
  },
  {
   "cell_type": "code",
   "execution_count": null,
   "id": "3f4094a2-dfb4-48e0-bb2a-ff1dc6bb3ae1",
   "metadata": {},
   "outputs": [],
   "source": [
    "wb = xl.Workbook(write_only=True)\n",
    "ws = wb.create_sheet()\n",
    "\n",
    "# now we'll fill it with 100 rows x 200 columns\n",
    "\n",
    "for irow in range(100):\n",
    "    ws.append(['%d' % i for i in range(200)])\n",
    "# save the file\n",
    "wb.save(WB_2_FILE) # doctest: +SKIP"
   ]
  },
  {
   "cell_type": "markdown",
   "id": "3f35b16c-b4db-4c1c-b910-c0e4d220fcee",
   "metadata": {},
   "source": [
    "If you want to have cells with styles or comments then use a `openpyxl.cell.WriteOnlyCell()`"
   ]
  },
  {
   "cell_type": "code",
   "execution_count": null,
   "id": "05c479d4-2303-4751-94e7-b84d058a4fbc",
   "metadata": {},
   "outputs": [],
   "source": [
    "wb = xl.Workbook(write_only = True)\n",
    "ws = wb.create_sheet()\n",
    "#from openpyxl.cell import WriteOnlyCell\n",
    "#from openpyxl.comments import Comment\n",
    "#from openpyxl.styles import Font\n",
    "cell = xl.cell.WriteOnlyCell(ws, value=\"hello world\")\n",
    "cell.font = xl.styles.Font(name='Courier', size=36)\n",
    "cell.comment = xl.comments.Comment(text=\"A comment\", author=\"Author's Name\")\n",
    "ws.append([cell, 3.14, None])\n",
    "wb.save(WB_3_FILE)"
   ]
  },
  {
   "cell_type": "markdown",
   "id": "a12c58a8-895c-46a9-ac0c-40783d177be3",
   "metadata": {},
   "source": [
    "This will create a write-only workbook with a single sheet, and append a row of 3 cells: one text cell with a custom font and a comment, a floating-point number, and an empty cell (which will be discarded anyway).\n",
    "\n",
    ">Warning\n",
    ">\n",
    ">* Unlike a normal workbook, a newly-created write-only workbook does not contain any worksheets; a worksheet must be specifically created with the create_sheet() method.\n",
    ">* In a write-only workbook, rows can only be added with append(). It is not possible to write (or read) cells at arbitrary locations with cell() or iter_rows().\n",
    ">* It is able to export unlimited amount of data (even more than Excel can handle actually), while keeping memory usage under 10Mb.\n",
    ">* A write-only workbook can only be saved once. After that, every attempt to save the workbook or append() to an existing worksheet will raise an openpyxl.utils.exceptions.WorkbookAlreadySaved exception.\n",
    ">* Everything that appears in the file before the actual cell data must be created before cells are added because it must written to the file before then. For example, freeze_panes should be set before cells are added."
   ]
  },
  {
   "cell_type": "markdown",
   "id": "efb22b19-eec9-4a4b-a2bf-b5d72f89a519",
   "metadata": {},
   "source": [
    "---\n",
    "*EOF*"
   ]
  }
 ],
 "metadata": {
  "kernelspec": {
   "display_name": "eda_dev39",
   "language": "python",
   "name": "eda_dev39"
  },
  "language_info": {
   "codemirror_mode": {
    "name": "ipython",
    "version": 3
   },
   "file_extension": ".py",
   "mimetype": "text/x-python",
   "name": "python",
   "nbconvert_exporter": "python",
   "pygments_lexer": "ipython3",
   "version": "3.9.4"
  }
 },
 "nbformat": 4,
 "nbformat_minor": 5
}
