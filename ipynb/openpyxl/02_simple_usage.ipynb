{
 "cells": [
  {
   "cell_type": "markdown",
   "id": "20e689c8-30bd-4dd3-ba6c-487cdf9827e1",
   "metadata": {},
   "source": [
    "# [Simple usage](https://openpyxl.readthedocs.io/en/stable/usage.html)\n",
    "\n",
    "## Write a workbook"
   ]
  },
  {
   "cell_type": "code",
   "execution_count": 1,
   "id": "162e4212-e3fb-4020-8eab-937f6d82720a",
   "metadata": {},
   "outputs": [
    {
     "name": "stdout",
     "output_type": "stream",
     "text": [
      "AA\n",
      "AA\n",
      "AA\n",
      "AA\n",
      "AA\n",
      "AA\n",
      "AA\n",
      "AA\n",
      "AA\n",
      "AA\n"
     ]
    }
   ],
   "source": [
    "from openpyxl import Workbook\n",
    "from openpyxl.utils import get_column_letter\n",
    "\n",
    "wb = Workbook()\n",
    "\n",
    "dest_filename = 'empty_book.xlsx'\n",
    "\n",
    "ws1 = wb.active\n",
    "ws1.title = \"range names\"\n",
    "\n",
    "for row in range(1, 40):\n",
    "    ws1.append(range(600))\n",
    "\n",
    "ws2 = wb.create_sheet(title=\"Pi\")\n",
    "\n",
    "ws2['F5'] = 3.14\n",
    "\n",
    "ws3 = wb.create_sheet(title=\"Data\")\n",
    "for row in range(10, 20):\n",
    "    for col in range(27, 54):\n",
    "        _ = ws3.cell(column=col, row=row, value=\"{0}\".format(get_column_letter(col)))\n",
    "    print(ws3['AA10'].value)\n",
    "\n",
    "wb.save(filename = dest_filename)"
   ]
  },
  {
   "cell_type": "markdown",
   "id": "47f95336-02b9-486d-913f-e5996f83134b",
   "metadata": {},
   "source": [
    "## Read an existing workbook"
   ]
  },
  {
   "cell_type": "code",
   "execution_count": 2,
   "id": "1eb178c0-3188-44ff-93d0-f93684e6d2b4",
   "metadata": {},
   "outputs": [
    {
     "name": "stdout",
     "output_type": "stream",
     "text": [
      "3\n"
     ]
    }
   ],
   "source": [
    "from openpyxl import load_workbook\n",
    "wb = load_workbook(filename = 'data/empty_book.xlsx')\n",
    "sheet_ranges = wb['range names']\n",
    "print(sheet_ranges['D18'].value)"
   ]
  },
  {
   "cell_type": "markdown",
   "id": "ed7a8dc2-8f6a-457a-af2d-3fc8b015bec3",
   "metadata": {},
   "source": [
    ">Note\n",
    ">\n",
    ">There are several flags that can be used in load_workbook.\n",
    ">\n",
    ">* data_only controls whether cells with formulae have either the formula (default) or the value stored the last time Excel read the sheet.\n",
    ">* keep_vba controls whether any Visual Basic elements are preserved or not (default). If they are preserved they are still not editable.\n",
    "\n",
    ">Warning\n",
    ">\n",
    ">openpyxl does currently not read all possible items in an Excel file so images and charts will be lost from existing files if they are opened and saved with the same name.\n",
    "\n",
    "## Using number formats"
   ]
  },
  {
   "cell_type": "code",
   "execution_count": 3,
   "id": "f10d885e-81c5-488b-a0ff-c02ce73c20a4",
   "metadata": {},
   "outputs": [
    {
     "data": {
      "text/plain": [
       "'yyyy-mm-dd h:mm:ss'"
      ]
     },
     "execution_count": 3,
     "metadata": {},
     "output_type": "execute_result"
    }
   ],
   "source": [
    "import datetime\n",
    "from openpyxl import Workbook\n",
    "wb = Workbook()\n",
    "ws = wb.active\n",
    "# set date using a Python datetime\n",
    "ws['A1'] = datetime.datetime(2010, 7, 21)\n",
    "\n",
    "ws['A1'].number_format"
   ]
  },
  {
   "cell_type": "markdown",
   "id": "fcbf3cd3-4f88-483b-b7b8-940d3956ecf3",
   "metadata": {},
   "source": [
    "## Using formulae"
   ]
  },
  {
   "cell_type": "code",
   "execution_count": 4,
   "id": "381185cf-04f7-43f4-8fd5-9f0378d816c8",
   "metadata": {},
   "outputs": [],
   "source": [
    "from openpyxl import Workbook\n",
    "wb = Workbook()\n",
    "ws = wb.active\n",
    "# add a simple formula\n",
    "ws[\"A1\"] = \"=SUM(1, 1)\"\n",
    "wb.save(\"data/formula.xlsx\")"
   ]
  },
  {
   "cell_type": "markdown",
   "id": "518a21be-3c46-42a9-854a-3d19f50c43e2",
   "metadata": {},
   "source": [
    ">Warning\n",
    ">\n",
    ">NB you must use the English name for a function and function arguments must be separated by commas and not other punctuation such as semi-colons.\n",
    "\n",
    "openpyxl never evaluates formula but it is possible to check the name of a formula:"
   ]
  },
  {
   "cell_type": "code",
   "execution_count": 5,
   "id": "6c617a94-f53d-4126-8acc-9aa51449548a",
   "metadata": {},
   "outputs": [
    {
     "data": {
      "text/plain": [
       "True"
      ]
     },
     "execution_count": 5,
     "metadata": {},
     "output_type": "execute_result"
    }
   ],
   "source": [
    "from openpyxl.utils import FORMULAE\n",
    "\"HEX2DEC\" in FORMULAE"
   ]
  },
  {
   "cell_type": "markdown",
   "id": "2dbc405d-a0b8-4f80-94ca-7fc774ae4dc1",
   "metadata": {},
   "source": [
    "If you’re trying to use a formula that isn’t known this could be because you’re using a formula that was not included in the initial specification. Such formulae must be prefixed with _xlfn. to work.\n",
    "\n",
    "## Merge / Unmerge cells\n",
    "When you merge cells all cells but the top-left one are removed from the worksheet. To carry the border-information of the merged cell, the boundary cells of the merged cell are created as MergeCells which always have the value None. See Styling Merged Cells for information on formatting merged cells."
   ]
  },
  {
   "cell_type": "code",
   "execution_count": 6,
   "id": "4f8c4417-14e3-49ca-8674-7ef7a61986ec",
   "metadata": {},
   "outputs": [],
   "source": [
    "from openpyxl.workbook import Workbook\n",
    "\n",
    "wb = Workbook()\n",
    "ws = wb.active\n",
    "\n",
    "ws.merge_cells('A2:D2')\n",
    "ws.unmerge_cells('A2:D2')\n",
    "\n",
    "# or equivalently\n",
    "ws.merge_cells(start_row=2, start_column=1, end_row=4, end_column=4)\n",
    "ws.unmerge_cells(start_row=2, start_column=1, end_row=4, end_column=4)"
   ]
  },
  {
   "cell_type": "markdown",
   "id": "1deffc07-2034-47af-83cb-d4cb75fbfe5f",
   "metadata": {},
   "source": [
    "## Inserting an image"
   ]
  },
  {
   "cell_type": "code",
   "execution_count": 8,
   "id": "3584dcc6-4f81-457b-ba15-794e6bac7bc9",
   "metadata": {},
   "outputs": [],
   "source": [
    "from openpyxl import Workbook\n",
    "from openpyxl.drawing.image import Image\n",
    "\n",
    "wb = Workbook()\n",
    "ws = wb.active\n",
    "ws['A1'] = 'You should see three logos below'"
   ]
  },
  {
   "cell_type": "code",
   "execution_count": 9,
   "id": "d38c6c3c-0958-47f3-aa26-00a1c55a5b6f",
   "metadata": {},
   "outputs": [],
   "source": [
    "# create an image\n",
    "img = Image('logo.png')"
   ]
  },
  {
   "cell_type": "code",
   "execution_count": 10,
   "id": "3c0395fe-c6fc-4752-b729-460c491184ac",
   "metadata": {},
   "outputs": [],
   "source": [
    "# add to worksheet and anchor next to cells\n",
    "ws.add_image(img, 'A1')\n",
    "wb.save('logo.xlsx')"
   ]
  },
  {
   "cell_type": "markdown",
   "id": "f9d50138-aea7-459e-b760-046b861c1e63",
   "metadata": {},
   "source": [
    "## Fold (outline)"
   ]
  },
  {
   "cell_type": "code",
   "execution_count": 11,
   "id": "d3ec4a9b-2e71-4636-b25a-f753313b1bea",
   "metadata": {},
   "outputs": [],
   "source": [
    "import openpyxl\n",
    "wb = openpyxl.Workbook()\n",
    "ws = wb.create_sheet()\n",
    "ws.column_dimensions.group('A','D', hidden=True)\n",
    "ws.row_dimensions.group(1,10, hidden=True)\n",
    "wb.save('group.xlsx')"
   ]
  },
  {
   "cell_type": "markdown",
   "id": "f4b1f1f6-2d6c-4124-bc13-0c5fbc235a26",
   "metadata": {},
   "source": [
    "---\n",
    "*EOF*"
   ]
  }
 ],
 "metadata": {
  "kernelspec": {
   "display_name": "eda_dev39",
   "language": "python",
   "name": "eda_dev39"
  },
  "language_info": {
   "codemirror_mode": {
    "name": "ipython",
    "version": 3
   },
   "file_extension": ".py",
   "mimetype": "text/x-python",
   "name": "python",
   "nbconvert_exporter": "python",
   "pygments_lexer": "ipython3",
   "version": "3.9.4"
  }
 },
 "nbformat": 4,
 "nbformat_minor": 5
}
