{
 "cells": [
  {
   "cell_type": "markdown",
   "id": "1dc36b77-691e-4726-97a3-0511f2558013",
   "metadata": {},
   "source": [
    "# [Working with Pandas and NumPy](https://openpyxl.readthedocs.io/en/stable/pandas.html)\n",
    "openpyxl is able to work with the popular libraries Pandas and NumPy\n",
    "\n",
    "## NumPy Support\n",
    "openpyxl has builtin support for the NumPy types float, integer and boolean. DateTimes are supported using the Pandas’ Timestamp type.\n",
    "\n",
    "## Working with Pandas Dataframes\n",
    "The openpyxl.utils.dataframe.dataframe_to_rows() function provides a simple way to work with Pandas Dataframes:"
   ]
  },
  {
   "cell_type": "code",
   "execution_count": 1,
   "id": "0ccf6d69-c943-4220-82b4-9f3235b936a6",
   "metadata": {},
   "outputs": [],
   "source": [
    "import pandas as pd\n",
    "import numpy as np\n",
    "from openpyxl import Workbook"
   ]
  },
  {
   "cell_type": "code",
   "execution_count": 2,
   "id": "d91a3ce2-f09d-406c-9ab8-b7aed87d7dfa",
   "metadata": {
    "tags": []
   },
   "outputs": [
    {
     "data": {
      "text/html": [
       "<div>\n",
       "<style scoped>\n",
       "    .dataframe tbody tr th:only-of-type {\n",
       "        vertical-align: middle;\n",
       "    }\n",
       "\n",
       "    .dataframe tbody tr th {\n",
       "        vertical-align: top;\n",
       "    }\n",
       "\n",
       "    .dataframe thead th {\n",
       "        text-align: right;\n",
       "    }\n",
       "</style>\n",
       "<table border=\"1\" class=\"dataframe\">\n",
       "  <thead>\n",
       "    <tr style=\"text-align: right;\">\n",
       "      <th></th>\n",
       "      <th>0</th>\n",
       "      <th>1</th>\n",
       "      <th>2</th>\n",
       "    </tr>\n",
       "  </thead>\n",
       "  <tbody>\n",
       "    <tr>\n",
       "      <th>0</th>\n",
       "      <td>1</td>\n",
       "      <td>2</td>\n",
       "      <td>3</td>\n",
       "    </tr>\n",
       "    <tr>\n",
       "      <th>1</th>\n",
       "      <td>4</td>\n",
       "      <td>5</td>\n",
       "      <td>6</td>\n",
       "    </tr>\n",
       "  </tbody>\n",
       "</table>\n",
       "</div>"
      ],
      "text/plain": [
       "   0  1  2\n",
       "0  1  2  3\n",
       "1  4  5  6"
      ]
     },
     "execution_count": 2,
     "metadata": {},
     "output_type": "execute_result"
    }
   ],
   "source": [
    "data = np.array([[1, 2, 3], [4, 5, 6]])\n",
    "df = pd.DataFrame(data)\n",
    "df"
   ]
  },
  {
   "cell_type": "code",
   "execution_count": 3,
   "id": "4eb63abb-b76a-4e45-9a79-04d90ede9cbd",
   "metadata": {
    "tags": []
   },
   "outputs": [],
   "source": [
    "from openpyxl.utils.dataframe import dataframe_to_rows\n",
    "wb = Workbook()\n",
    "ws = wb.active\n",
    "\n",
    "for r in dataframe_to_rows(df, index=True, header=True):\n",
    "    ws.append(r)"
   ]
  },
  {
   "cell_type": "markdown",
   "id": "af12b241-2d23-41a6-94ce-d3ca6122f4fe",
   "metadata": {},
   "source": [
    "While Pandas itself supports conversion to Excel, this gives client code additional flexibility including the ability to stream dataframes straight to files.\n",
    "\n",
    "To convert a dataframe into a worksheet highlighting the header and index:"
   ]
  },
  {
   "cell_type": "code",
   "execution_count": 4,
   "id": "6b8463fb-cf04-4927-a342-33e671c63388",
   "metadata": {},
   "outputs": [],
   "source": [
    "wb = Workbook()\n",
    "ws = wb.active\n",
    "\n",
    "for r in dataframe_to_rows(df, index=True, header=True):\n",
    "    ws.append(r)\n",
    "\n",
    "for cell in ws['A'] + ws[1]:\n",
    "    cell.style = 'Pandas'\n",
    "\n",
    "wb.save(\"data/pandas_openpyxl.xlsx\")"
   ]
  },
  {
   "cell_type": "markdown",
   "id": "d965a21f-115e-482c-882c-bceae7b95a5f",
   "metadata": {},
   "source": [
    "Alternatively, if you just want to convert the data you can use write-only mode:"
   ]
  },
  {
   "cell_type": "code",
   "execution_count": 5,
   "id": "cc76b83e-b90b-41ec-9604-580391f5687f",
   "metadata": {},
   "outputs": [],
   "source": [
    "from openpyxl.cell.cell import WriteOnlyCell\n",
    "wb = Workbook(write_only=True)\n",
    "ws = wb.create_sheet()\n",
    "\n",
    "cell = WriteOnlyCell(ws)\n",
    "cell.style = 'Pandas'\n",
    "\n",
    "def format_first_row(row, cell):\n",
    "    \n",
    "    for c in row:\n",
    "        cell.value = c\n",
    "        yield cell\n",
    "\n",
    "rows = dataframe_to_rows(df)\n",
    "first_row = format_first_row(next(rows), cell)\n",
    "ws.append(first_row)\n",
    "\n",
    "for row in rows:\n",
    "    row = list(row)\n",
    "    cell.value = row[0]\n",
    "    row[0] = cell\n",
    "    ws.append(row)\n",
    "\n",
    "wb.save(\"data/openpyxl_stream.xlsx\")"
   ]
  },
  {
   "cell_type": "markdown",
   "id": "7ee02ddc-61a1-4aa6-8b7b-e89c560510cf",
   "metadata": {},
   "source": [
    "This code will work just as well with a standard workbook.\n",
    "\n",
    "## Converting a worksheet to a Dataframe\n",
    "To convert a worksheet to a Dataframe you can use the values property. This is very easy if the worksheet has no headers or indices:"
   ]
  },
  {
   "cell_type": "code",
   "execution_count": 6,
   "id": "478e51db-eaa9-44eb-8651-e5801735c1c2",
   "metadata": {},
   "outputs": [],
   "source": [
    "wb = Workbook()\n",
    "ws = wb.active\n",
    "\n",
    "for r in dataframe_to_rows(df, index=True, header=True):\n",
    "    ws.append(r)\n",
    "\n",
    "for cell in ws['A'] + ws[1]:\n",
    "    cell.style = 'Pandas'\n",
    "\n",
    "wb.save(\"data/pandas_openpyxl.xlsx\")"
   ]
  },
  {
   "cell_type": "code",
   "execution_count": 7,
   "id": "04bd3b9d-9ddb-4b5c-a105-b4587785ec3c",
   "metadata": {},
   "outputs": [
    {
     "data": {
      "text/html": [
       "<div>\n",
       "<style scoped>\n",
       "    .dataframe tbody tr th:only-of-type {\n",
       "        vertical-align: middle;\n",
       "    }\n",
       "\n",
       "    .dataframe tbody tr th {\n",
       "        vertical-align: top;\n",
       "    }\n",
       "\n",
       "    .dataframe thead th {\n",
       "        text-align: right;\n",
       "    }\n",
       "</style>\n",
       "<table border=\"1\" class=\"dataframe\">\n",
       "  <thead>\n",
       "    <tr style=\"text-align: right;\">\n",
       "      <th></th>\n",
       "      <th>0</th>\n",
       "      <th>1</th>\n",
       "      <th>2</th>\n",
       "      <th>3</th>\n",
       "    </tr>\n",
       "  </thead>\n",
       "  <tbody>\n",
       "    <tr>\n",
       "      <th>0</th>\n",
       "      <td>NaN</td>\n",
       "      <td>0.0</td>\n",
       "      <td>1.0</td>\n",
       "      <td>2.0</td>\n",
       "    </tr>\n",
       "    <tr>\n",
       "      <th>1</th>\n",
       "      <td>NaN</td>\n",
       "      <td>NaN</td>\n",
       "      <td>NaN</td>\n",
       "      <td>NaN</td>\n",
       "    </tr>\n",
       "    <tr>\n",
       "      <th>2</th>\n",
       "      <td>0.0</td>\n",
       "      <td>1.0</td>\n",
       "      <td>2.0</td>\n",
       "      <td>3.0</td>\n",
       "    </tr>\n",
       "    <tr>\n",
       "      <th>3</th>\n",
       "      <td>1.0</td>\n",
       "      <td>4.0</td>\n",
       "      <td>5.0</td>\n",
       "      <td>6.0</td>\n",
       "    </tr>\n",
       "  </tbody>\n",
       "</table>\n",
       "</div>"
      ],
      "text/plain": [
       "     0    1    2    3\n",
       "0  NaN  0.0  1.0  2.0\n",
       "1  NaN  NaN  NaN  NaN\n",
       "2  0.0  1.0  2.0  3.0\n",
       "3  1.0  4.0  5.0  6.0"
      ]
     },
     "execution_count": 7,
     "metadata": {},
     "output_type": "execute_result"
    }
   ],
   "source": [
    "df = pd.DataFrame(ws.values)\n",
    "df"
   ]
  },
  {
   "cell_type": "markdown",
   "id": "32e31e0c-6360-40da-bcf2-2fee47740020",
   "metadata": {},
   "source": [
    "If the worksheet does have headers or indices, such as one created by Pandas, then a little more work is required:"
   ]
  },
  {
   "cell_type": "code",
   "execution_count": 8,
   "id": "ea624f8b-0b0d-45d6-8ed2-231c010c8831",
   "metadata": {},
   "outputs": [
    {
     "data": {
      "text/html": [
       "<div>\n",
       "<style scoped>\n",
       "    .dataframe tbody tr th:only-of-type {\n",
       "        vertical-align: middle;\n",
       "    }\n",
       "\n",
       "    .dataframe tbody tr th {\n",
       "        vertical-align: top;\n",
       "    }\n",
       "\n",
       "    .dataframe thead th {\n",
       "        text-align: right;\n",
       "    }\n",
       "</style>\n",
       "<table border=\"1\" class=\"dataframe\">\n",
       "  <thead>\n",
       "    <tr style=\"text-align: right;\">\n",
       "      <th></th>\n",
       "      <th>0</th>\n",
       "      <th>1</th>\n",
       "      <th>2</th>\n",
       "    </tr>\n",
       "  </thead>\n",
       "  <tbody>\n",
       "    <tr>\n",
       "      <th>NaN</th>\n",
       "      <td>NaN</td>\n",
       "      <td>NaN</td>\n",
       "      <td>NaN</td>\n",
       "    </tr>\n",
       "    <tr>\n",
       "      <th>0</th>\n",
       "      <td>1.0</td>\n",
       "      <td>2.0</td>\n",
       "      <td>3.0</td>\n",
       "    </tr>\n",
       "    <tr>\n",
       "      <th>1</th>\n",
       "      <td>4.0</td>\n",
       "      <td>5.0</td>\n",
       "      <td>6.0</td>\n",
       "    </tr>\n",
       "  </tbody>\n",
       "</table>\n",
       "</div>"
      ],
      "text/plain": [
       "       0    1    2\n",
       "NaN  NaN  NaN  NaN\n",
       "0    1.0  2.0  3.0\n",
       "1    4.0  5.0  6.0"
      ]
     },
     "execution_count": 8,
     "metadata": {},
     "output_type": "execute_result"
    }
   ],
   "source": [
    "from itertools import islice\n",
    "data = ws.values\n",
    "cols = next(data)[1:]\n",
    "data = list(data)\n",
    "idx = [r[0] for r in data]\n",
    "data = (islice(r, 1, None) for r in data)\n",
    "df = pd.DataFrame(data, index=idx, columns=cols)\n",
    "df"
   ]
  },
  {
   "cell_type": "markdown",
   "id": "0e7de817-3537-40fd-8325-4fba78e8da56",
   "metadata": {},
   "source": [
    "---\n",
    "*EOF*"
   ]
  }
 ],
 "metadata": {
  "kernelspec": {
   "display_name": "eda_dev39",
   "language": "python",
   "name": "eda_dev39"
  },
  "language_info": {
   "codemirror_mode": {
    "name": "ipython",
    "version": 3
   },
   "file_extension": ".py",
   "mimetype": "text/x-python",
   "name": "python",
   "nbconvert_exporter": "python",
   "pygments_lexer": "ipython3",
   "version": "3.9.4"
  }
 },
 "nbformat": 4,
 "nbformat_minor": 5
}
