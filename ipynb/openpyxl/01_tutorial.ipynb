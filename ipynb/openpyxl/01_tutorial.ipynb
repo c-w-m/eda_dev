{
 "cells": [
  {
   "cell_type": "markdown",
   "id": "e4048c34-9002-4eff-9d45-b839f7f8f702",
   "metadata": {},
   "source": [
    "# [Tutorial](https://openpyxl.readthedocs.io/en/stable/tutorial.html)\n",
    "## Create a workbook\n",
    "There is no need to create a file on the filesystem to get started with openpyxl. Just import the Workbook class and start work:"
   ]
  },
  {
   "cell_type": "code",
   "execution_count": 1,
   "id": "1ec4eea2-cf1f-4eac-87e6-58dceb895589",
   "metadata": {},
   "outputs": [
    {
     "data": {
      "text/plain": [
       "['data/.~lock.my_range.xlsx#', 'data/logo.png', 'data/my_range.xlsx']"
      ]
     },
     "execution_count": 1,
     "metadata": {},
     "output_type": "execute_result"
    }
   ],
   "source": [
    "from distutils.dir_util import copy_tree\n",
    "copy_tree('archive/','data/')"
   ]
  },
  {
   "cell_type": "code",
   "execution_count": 2,
   "id": "5cc5db5a-0cff-46b6-96a2-cd6fb85e4fd2",
   "metadata": {},
   "outputs": [],
   "source": [
    "from openpyxl import Workbook\n",
    "wb = Workbook()"
   ]
  },
  {
   "cell_type": "markdown",
   "id": "1334964a-44ac-47f3-8c1e-2ad66c3dc7a9",
   "metadata": {},
   "source": [
    "A workbook is always created with at least one worksheet. You can get it by using the Workbook.active property:"
   ]
  },
  {
   "cell_type": "code",
   "execution_count": 3,
   "id": "dee565fc-0d0e-4677-a6cf-41641825329d",
   "metadata": {},
   "outputs": [],
   "source": [
    "ws = wb.active"
   ]
  },
  {
   "cell_type": "markdown",
   "id": "9e977a5d-b9df-4579-9e54-5ded1cf30a14",
   "metadata": {},
   "source": [
    ">Note\n",
    ">\n",
    ">This is set to 0 by default. Unless you modify its value, you will always get the first worksheet by using this method.\n",
    "\n",
    "You can create new worksheets using the Workbook.create_sheet() method:"
   ]
  },
  {
   "cell_type": "code",
   "execution_count": 4,
   "id": "3f4542ac-7b63-482a-a519-319c300241ef",
   "metadata": {},
   "outputs": [],
   "source": [
    "ws1 = wb.create_sheet(\"Mysheet1\") # insert at the end (default)\n",
    "# or\n",
    "ws2 = wb.create_sheet(\"Mysheet2\", 0) # insert at first position\n",
    "# or\n",
    "ws3 = wb.create_sheet(\"Mysheet3\", -1) # insert at the penultimate position"
   ]
  },
  {
   "cell_type": "markdown",
   "id": "506d5c20-8319-46e0-83d2-5157559286db",
   "metadata": {},
   "source": [
    "Sheets are given a name automatically when they are created. They are numbered in sequence (Sheet, Sheet1, Sheet2, …). You can change this name at any time with the Worksheet.title property:"
   ]
  },
  {
   "cell_type": "code",
   "execution_count": 5,
   "id": "08fcc438-8eff-4d23-9375-c4b9ee921b3c",
   "metadata": {},
   "outputs": [],
   "source": [
    "ws.title = \"New Title\""
   ]
  },
  {
   "cell_type": "markdown",
   "id": "909c6935-57c8-4df1-9ade-84257a9f32b0",
   "metadata": {},
   "source": [
    "The background color of the tab holding this title is white by default. You can change this providing an RRGGBB color code to the Worksheet.sheet_properties.tabColor attribute:"
   ]
  },
  {
   "cell_type": "code",
   "execution_count": 6,
   "id": "01865ef9-23d2-4071-9a91-590e88f7e5cb",
   "metadata": {},
   "outputs": [],
   "source": [
    "ws.sheet_properties.tabColor = \"1072BA\""
   ]
  },
  {
   "cell_type": "markdown",
   "id": "bbc1699e-3881-49e7-b50e-0eb2a284a9c2",
   "metadata": {},
   "source": [
    "Once you gave a worksheet a name, you can get it as a key of the workbook:"
   ]
  },
  {
   "cell_type": "code",
   "execution_count": 7,
   "id": "cb885c43-3124-4cbf-8fae-4d79c5bf123a",
   "metadata": {},
   "outputs": [],
   "source": [
    "ws3 = wb[\"New Title\"]"
   ]
  },
  {
   "cell_type": "markdown",
   "id": "8bac9355-036a-44f4-a3ae-c7eafc26fd1f",
   "metadata": {},
   "source": [
    "You can review the names of all worksheets of the workbook with the Workbook.sheetname attribute"
   ]
  },
  {
   "cell_type": "code",
   "execution_count": 8,
   "id": "886d6fa4-a047-4c87-a82a-d01382e21dde",
   "metadata": {},
   "outputs": [
    {
     "name": "stdout",
     "output_type": "stream",
     "text": [
      "['Mysheet2', 'New Title', 'Mysheet3', 'Mysheet1']\n"
     ]
    }
   ],
   "source": [
    "print(wb.sheetnames)"
   ]
  },
  {
   "cell_type": "markdown",
   "id": "fd23cb6b-989d-47fb-8e12-e78afe2fe4df",
   "metadata": {},
   "source": [
    "You can loop through worksheets"
   ]
  },
  {
   "cell_type": "code",
   "execution_count": 9,
   "id": "83571002-2f53-45e3-a5cb-e5c1014f6285",
   "metadata": {},
   "outputs": [
    {
     "name": "stdout",
     "output_type": "stream",
     "text": [
      "Mysheet2\n",
      "New Title\n",
      "Mysheet3\n",
      "Mysheet1\n"
     ]
    }
   ],
   "source": [
    "for sheet in wb:\n",
    "    print(sheet.title)"
   ]
  },
  {
   "cell_type": "markdown",
   "id": "feedce12-14f6-4d0c-9689-74222e7cf110",
   "metadata": {},
   "source": [
    "You can create copies of worksheets within a single workbook:\n",
    "\n",
    "Workbook.copy_worksheet() method:"
   ]
  },
  {
   "cell_type": "code",
   "execution_count": 10,
   "id": "94e27161-a9f5-4218-aa13-d7670fba201d",
   "metadata": {},
   "outputs": [],
   "source": [
    "source = wb.active\n",
    "target = wb.copy_worksheet(source)"
   ]
  },
  {
   "cell_type": "markdown",
   "id": "40b664bd-ac4f-4a19-8a46-b2d1ee7a620c",
   "metadata": {},
   "source": [
    ">Note\n",
    ">\n",
    ">Only cells (including values, styles, hyperlinks and comments) and certain worksheet attribues (including dimensions, format and properties) are copied. All other workbook / worksheet attributes are not copied - e.g. Images, Charts.\n",
    "\n",
    "You also cannot copy worksheets between workbooks. You cannot copy a worksheet if the workbook is open in read-only or write-only mode.\n",
    "\n",
    "## Playing with data\n",
    "### Accessing one cell\n",
    "Now we know how to get a worksheet, we can start modifying cells content. Cells can be accessed directly as keys of the worksheet:"
   ]
  },
  {
   "cell_type": "code",
   "execution_count": 11,
   "id": "4f8d7f87-eecf-49b6-b525-15f3e9fba9c7",
   "metadata": {},
   "outputs": [],
   "source": [
    "c = ws['A4']"
   ]
  },
  {
   "cell_type": "markdown",
   "id": "b8330693-268f-4908-97cb-16ab89306d3b",
   "metadata": {},
   "source": [
    "This will return the cell at A4, or create one if it does not exist yet. Values can be directly assigned:"
   ]
  },
  {
   "cell_type": "code",
   "execution_count": 12,
   "id": "a1d7daed-7f9d-4548-bf5a-df7d4c10f5bc",
   "metadata": {},
   "outputs": [],
   "source": [
    "ws['A4'] = 4"
   ]
  },
  {
   "cell_type": "markdown",
   "id": "d0c288f4-54c5-4b43-bb8f-9b035fa9d5f0",
   "metadata": {},
   "source": [
    "There is also the Worksheet.cell() method.\n",
    "\n",
    "This provides access to cells using row and column notation:"
   ]
  },
  {
   "cell_type": "code",
   "execution_count": 13,
   "id": "7cd0c8a4-9039-47ed-b80d-ba67bcd77d7a",
   "metadata": {},
   "outputs": [],
   "source": [
    "d = ws.cell(row=4, column=2, value=10)"
   ]
  },
  {
   "cell_type": "markdown",
   "id": "ccee2a1a-5696-40fa-86aa-f73811f45088",
   "metadata": {},
   "source": [
    ">Note\n",
    ">\n",
    ">When a worksheet is created in memory, it contains no cells. They are created when first accessed.\n",
    "\n",
    ">Warning\n",
    ">\n",
    ">Because of this feature, scrolling through cells instead of accessing them directly will create them all in memory, even if you don’t assign them a value.\n",
    ">\n",
    ">Something like\n",
    ">\n",
    "```python\n",
    ">>> for x in range(1,101):\n",
    "...        for y in range(1,101):\n",
    "...            ws.cell(row=x, column=y)\n",
    "```\n",
    ">will create 100x100 cells in memory, for nothing.\n",
    "\n",
    "### Accessing many cells\n",
    "Ranges of cells can be accessed using slicing:"
   ]
  },
  {
   "cell_type": "code",
   "execution_count": 14,
   "id": "e2d77145-f01e-417b-b84e-b8369b19a3f0",
   "metadata": {},
   "outputs": [],
   "source": [
    "cell_range = ws['A1':'C2']"
   ]
  },
  {
   "cell_type": "markdown",
   "id": "39d9fc98-e38d-4a00-a2d9-83af2aabcf7e",
   "metadata": {},
   "source": [
    "Ranges of rows or columns can be obtained similarly:"
   ]
  },
  {
   "cell_type": "code",
   "execution_count": 15,
   "id": "99e6abcd-237d-4eb0-8648-ee71236cf3f3",
   "metadata": {},
   "outputs": [],
   "source": [
    "colC = ws['C']\n",
    "col_range = ws['C:D']\n",
    "row10 = ws[10]\n",
    "row_range = ws[5:10]"
   ]
  },
  {
   "cell_type": "markdown",
   "id": "d63163e1-b20c-4549-af08-62a86525aa0d",
   "metadata": {},
   "source": [
    "You can also use the Worksheet.iter_rows() method:"
   ]
  },
  {
   "cell_type": "code",
   "execution_count": 16,
   "id": "46a7b166-7189-4083-8b55-cadcf0c2d316",
   "metadata": {},
   "outputs": [
    {
     "name": "stdout",
     "output_type": "stream",
     "text": [
      "<Cell 'New Title'.A1>\n",
      "<Cell 'New Title'.B1>\n",
      "<Cell 'New Title'.C1>\n",
      "<Cell 'New Title'.A2>\n",
      "<Cell 'New Title'.B2>\n",
      "<Cell 'New Title'.C2>\n"
     ]
    }
   ],
   "source": [
    "for row in ws.iter_rows(min_row=1, max_col=3, max_row=2):\n",
    "    for cell in row:\n",
    "        print(cell)"
   ]
  },
  {
   "cell_type": "markdown",
   "id": "10ca39bf-a733-4458-85e5-4e39052f20e5",
   "metadata": {},
   "source": [
    "Likewise the Worksheet.iter_cols() method will return columns:"
   ]
  },
  {
   "cell_type": "code",
   "execution_count": 17,
   "id": "f2999307-f4ea-47e1-adff-65f2f2b78e5d",
   "metadata": {},
   "outputs": [
    {
     "name": "stdout",
     "output_type": "stream",
     "text": [
      "<Cell 'New Title'.A1>\n",
      "<Cell 'New Title'.A2>\n",
      "<Cell 'New Title'.B1>\n",
      "<Cell 'New Title'.B2>\n",
      "<Cell 'New Title'.C1>\n",
      "<Cell 'New Title'.C2>\n"
     ]
    }
   ],
   "source": [
    "for col in ws.iter_cols(min_row=1, max_col=3, max_row=2):\n",
    "    for cell in col:\n",
    "        print(cell)"
   ]
  },
  {
   "cell_type": "markdown",
   "id": "5d2f3a75-d1dc-45f5-9093-3ca4cd2ac0d8",
   "metadata": {},
   "source": [
    ">Note\n",
    ">\n",
    ">For performance reasons the Worksheet.iter_cols() method is not available in read-only mode.\n",
    "\n",
    "If you need to iterate through all the rows or columns of a file, you can instead use the Worksheet.rows property:"
   ]
  },
  {
   "cell_type": "code",
   "execution_count": 18,
   "id": "c3fdf6e2-9697-4f63-9064-4e412fa0cbbb",
   "metadata": {},
   "outputs": [
    {
     "data": {
      "text/plain": [
       "((<Cell 'Mysheet2'.A1>, <Cell 'Mysheet2'.B1>, <Cell 'Mysheet2'.C1>),\n",
       " (<Cell 'Mysheet2'.A2>, <Cell 'Mysheet2'.B2>, <Cell 'Mysheet2'.C2>),\n",
       " (<Cell 'Mysheet2'.A3>, <Cell 'Mysheet2'.B3>, <Cell 'Mysheet2'.C3>),\n",
       " (<Cell 'Mysheet2'.A4>, <Cell 'Mysheet2'.B4>, <Cell 'Mysheet2'.C4>),\n",
       " (<Cell 'Mysheet2'.A5>, <Cell 'Mysheet2'.B5>, <Cell 'Mysheet2'.C5>),\n",
       " (<Cell 'Mysheet2'.A6>, <Cell 'Mysheet2'.B6>, <Cell 'Mysheet2'.C6>),\n",
       " (<Cell 'Mysheet2'.A7>, <Cell 'Mysheet2'.B7>, <Cell 'Mysheet2'.C7>),\n",
       " (<Cell 'Mysheet2'.A8>, <Cell 'Mysheet2'.B8>, <Cell 'Mysheet2'.C8>),\n",
       " (<Cell 'Mysheet2'.A9>, <Cell 'Mysheet2'.B9>, <Cell 'Mysheet2'.C9>))"
      ]
     },
     "execution_count": 18,
     "metadata": {},
     "output_type": "execute_result"
    }
   ],
   "source": [
    "ws = wb.active\n",
    "ws['C9'] = 'hello world'\n",
    "tuple(ws.rows)"
   ]
  },
  {
   "cell_type": "markdown",
   "id": "19afd4f8-bdc4-4d34-b0cb-c6b8bf46e80a",
   "metadata": {},
   "source": [
    "or the Worksheet.columns property:"
   ]
  },
  {
   "cell_type": "code",
   "execution_count": 19,
   "id": "e93a8129-eb48-444b-997d-2d5410ecd189",
   "metadata": {},
   "outputs": [
    {
     "data": {
      "text/plain": [
       "((<Cell 'Mysheet2'.A1>,\n",
       "  <Cell 'Mysheet2'.A2>,\n",
       "  <Cell 'Mysheet2'.A3>,\n",
       "  <Cell 'Mysheet2'.A4>,\n",
       "  <Cell 'Mysheet2'.A5>,\n",
       "  <Cell 'Mysheet2'.A6>,\n",
       "  <Cell 'Mysheet2'.A7>,\n",
       "  <Cell 'Mysheet2'.A8>,\n",
       "  <Cell 'Mysheet2'.A9>),\n",
       " (<Cell 'Mysheet2'.B1>,\n",
       "  <Cell 'Mysheet2'.B2>,\n",
       "  <Cell 'Mysheet2'.B3>,\n",
       "  <Cell 'Mysheet2'.B4>,\n",
       "  <Cell 'Mysheet2'.B5>,\n",
       "  <Cell 'Mysheet2'.B6>,\n",
       "  <Cell 'Mysheet2'.B7>,\n",
       "  <Cell 'Mysheet2'.B8>,\n",
       "  <Cell 'Mysheet2'.B9>),\n",
       " (<Cell 'Mysheet2'.C1>,\n",
       "  <Cell 'Mysheet2'.C2>,\n",
       "  <Cell 'Mysheet2'.C3>,\n",
       "  <Cell 'Mysheet2'.C4>,\n",
       "  <Cell 'Mysheet2'.C5>,\n",
       "  <Cell 'Mysheet2'.C6>,\n",
       "  <Cell 'Mysheet2'.C7>,\n",
       "  <Cell 'Mysheet2'.C8>,\n",
       "  <Cell 'Mysheet2'.C9>))"
      ]
     },
     "execution_count": 19,
     "metadata": {},
     "output_type": "execute_result"
    }
   ],
   "source": [
    "tuple(ws.columns)"
   ]
  },
  {
   "cell_type": "markdown",
   "id": "6e348622-d70d-4e04-b985-c3382886f4d0",
   "metadata": {},
   "source": [
    ">Note\n",
    ">\n",
    ">For performance reasons the Worksheet.columns property is not available in read-only mode.\n",
    "\n",
    "### Values only\n",
    "If you just want the values from a worksheet you can use the Worksheet.values property. This iterates over all the rows in a worksheet but returns just the cell values:"
   ]
  },
  {
   "cell_type": "code",
   "execution_count": 20,
   "id": "dec37c68-f874-4ba8-abc9-7737a0d941ac",
   "metadata": {
    "tags": []
   },
   "outputs": [
    {
     "name": "stdout",
     "output_type": "stream",
     "text": [
      "None\n",
      "None\n",
      "None\n",
      "None\n",
      "None\n",
      "None\n",
      "None\n",
      "None\n",
      "None\n",
      "None\n",
      "None\n",
      "None\n",
      "None\n",
      "None\n",
      "None\n",
      "None\n",
      "None\n",
      "None\n",
      "None\n",
      "None\n",
      "None\n",
      "None\n",
      "None\n",
      "None\n",
      "None\n",
      "None\n",
      "hello world\n"
     ]
    }
   ],
   "source": [
    "for row in ws.values:\n",
    "   for value in row:\n",
    "     print(value)"
   ]
  },
  {
   "cell_type": "markdown",
   "id": "9dd05c30-0a4e-45f3-961f-3102146a52a0",
   "metadata": {},
   "source": [
    "Both Worksheet.iter_rows() and Worksheet.iter_cols() can take the values_only parameter to return just the cell’s value:"
   ]
  },
  {
   "cell_type": "code",
   "execution_count": 21,
   "id": "40ef4c4f-66e9-4cf1-8232-0743bd44ae6f",
   "metadata": {},
   "outputs": [
    {
     "name": "stdout",
     "output_type": "stream",
     "text": [
      "(None, None, None)\n",
      "(None, None, None)\n"
     ]
    }
   ],
   "source": [
    "for row in ws.iter_rows(min_row=1, max_col=3, max_row=2, values_only=True):\n",
    "    print(row)"
   ]
  },
  {
   "cell_type": "markdown",
   "id": "ef8f4f27-0260-4471-8d89-d8fa6a61ce71",
   "metadata": {},
   "source": [
    "### Data storage\n",
    "Once we have a Cell, we can assign it a value:"
   ]
  },
  {
   "cell_type": "code",
   "execution_count": 22,
   "id": "2b6774d5-64f0-4a9e-b4ad-f71c87aaffc4",
   "metadata": {},
   "outputs": [
    {
     "name": "stdout",
     "output_type": "stream",
     "text": [
      "hello, world\n"
     ]
    }
   ],
   "source": [
    "c.value = 'hello, world'\n",
    "print(c.value)"
   ]
  },
  {
   "cell_type": "code",
   "execution_count": 23,
   "id": "38281bd8-b92f-4e59-9169-c4e75b1556ae",
   "metadata": {},
   "outputs": [
    {
     "name": "stdout",
     "output_type": "stream",
     "text": [
      "3.14\n"
     ]
    }
   ],
   "source": [
    "d.value = 3.14\n",
    "print(d.value)"
   ]
  },
  {
   "cell_type": "markdown",
   "id": "57680346-9307-4ac1-9b81-1ddddfddbc65",
   "metadata": {},
   "source": [
    "### Saving to a file\n",
    "The simplest and safest way to save a workbook is by using the Workbook.save() method of the Workbook object:"
   ]
  },
  {
   "cell_type": "code",
   "execution_count": 24,
   "id": "3ca85efd-e25a-4e95-ade0-e5313782b332",
   "metadata": {},
   "outputs": [],
   "source": [
    "wb = Workbook()\n",
    "wb.save('data/balances.xlsx')"
   ]
  },
  {
   "cell_type": "markdown",
   "id": "a9cfb2dc-fbc2-4708-ac7e-80b2c882c820",
   "metadata": {},
   "source": [
    ">Warning\n",
    ">\n",
    ">This operation will overwrite existing files without warning.\n",
    "\n",
    ">Note\n",
    ">\n",
    ">The filename extension is not forced to be xlsx or xlsm, although you might have some trouble opening it directly with another application if you don’t use an official extension.\n",
    ">\n",
    ">As OOXML files are basically ZIP files, you can also open it with your favourite ZIP archive manager.\n",
    "\n",
    "### Saving as a stream\n",
    "If you want to save the file to a stream, e.g. when using a web application such as Pyramid, Flask or Django then you can simply provide a NamedTemporaryFile():"
   ]
  },
  {
   "cell_type": "code",
   "execution_count": 25,
   "id": "e2b747fb-0f11-451d-905b-54c7331957ff",
   "metadata": {},
   "outputs": [],
   "source": [
    "from tempfile import NamedTemporaryFile\n",
    "from openpyxl import Workbook, load_workbook\n",
    "wb = Workbook()\n",
    "with NamedTemporaryFile() as tmp:\n",
    "    wb.save(tmp.name)\n",
    "    tmp.seek(0)\n",
    "    stream = tmp.read()"
   ]
  },
  {
   "cell_type": "markdown",
   "id": "8d84287a-fccc-4915-9c6d-d4661856408e",
   "metadata": {},
   "source": [
    "You can specify the attribute template=True, to save a workbook as a template:"
   ]
  },
  {
   "cell_type": "code",
   "execution_count": 26,
   "id": "3dbe46e3-068b-46c5-831b-31d7e7520527",
   "metadata": {},
   "outputs": [],
   "source": [
    "wb = load_workbook('data/balances.xlsx')\n",
    "wb.template = True\n",
    "wb.save('data/document_template.xltx')"
   ]
  },
  {
   "cell_type": "markdown",
   "id": "ee085e14-d237-4b75-9317-ff961b0e7c50",
   "metadata": {},
   "source": [
    "or set this attribute to False (default), to save as a document:"
   ]
  },
  {
   "cell_type": "code",
   "execution_count": 27,
   "id": "e738298f-4bce-4dbd-aaaa-4af594de9b2e",
   "metadata": {},
   "outputs": [
    {
     "ename": "TypeError",
     "evalue": "save() got an unexpected keyword argument 'as_template'",
     "output_type": "error",
     "traceback": [
      "\u001b[0;31m---------------------------------------------------------------------------\u001b[0m",
      "\u001b[0;31mTypeError\u001b[0m                                 Traceback (most recent call last)",
      "\u001b[0;32m<ipython-input-27-606a1a5bdf2e>\u001b[0m in \u001b[0;36m<module>\u001b[0;34m\u001b[0m\n\u001b[1;32m      1\u001b[0m \u001b[0mwb\u001b[0m \u001b[0;34m=\u001b[0m \u001b[0mload_workbook\u001b[0m\u001b[0;34m(\u001b[0m\u001b[0;34m'data/document_template.xltx'\u001b[0m\u001b[0;34m)\u001b[0m\u001b[0;34m\u001b[0m\u001b[0;34m\u001b[0m\u001b[0m\n\u001b[1;32m      2\u001b[0m \u001b[0mwb\u001b[0m\u001b[0;34m.\u001b[0m\u001b[0mtemplate\u001b[0m \u001b[0;34m=\u001b[0m \u001b[0;32mFalse\u001b[0m\u001b[0;34m\u001b[0m\u001b[0;34m\u001b[0m\u001b[0m\n\u001b[0;32m----> 3\u001b[0;31m \u001b[0mwb\u001b[0m\u001b[0;34m.\u001b[0m\u001b[0msave\u001b[0m\u001b[0;34m(\u001b[0m\u001b[0;34m'data/document.xlsx'\u001b[0m\u001b[0;34m,\u001b[0m \u001b[0mas_template\u001b[0m\u001b[0;34m=\u001b[0m\u001b[0;32mFalse\u001b[0m\u001b[0;34m)\u001b[0m\u001b[0;34m\u001b[0m\u001b[0;34m\u001b[0m\u001b[0m\n\u001b[0m",
      "\u001b[0;31mTypeError\u001b[0m: save() got an unexpected keyword argument 'as_template'"
     ]
    }
   ],
   "source": [
    "wb = load_workbook('data/document_template.xltx')\n",
    "wb.template = False\n",
    "wb.save('data/document.xlsx', as_template=False)"
   ]
  },
  {
   "cell_type": "markdown",
   "id": "4005c6fb-d483-4b10-a756-fb418accd360",
   "metadata": {},
   "source": [
    ">Warning\n",
    ">\n",
    ">You should monitor the data attributes and document extensions for saving documents in the document templates and vice versa, otherwise the result table engine can not open the document.\n",
    "\n",
    ">Note\n",
    ">\n",
    ">The following will fail:\n",
    "```python\n",
    ">>> wb = load_workbook('document.xlsx')\n",
    ">>> # Need to save with the extension *.xlsx\n",
    ">>> wb.save('new_document.xlsm')\n",
    ">>> # MS Excel can't open the document\n",
    ">>>\n",
    ">>> # or\n",
    ">>>\n",
    ">>> # Need specify attribute keep_vba=True\n",
    ">>> wb = load_workbook('document.xlsm')\n",
    ">>> wb.save('new_document.xlsm')\n",
    ">>> # MS Excel will not open the document\n",
    ">>>\n",
    ">>> # or\n",
    ">>>\n",
    ">>> wb = load_workbook('document.xltm', keep_vba=True)\n",
    ">>> # If we need a template document, then we must specify extension as *.xltm.\n",
    ">>> wb.save('new_document.xlsm')\n",
    ">>> # MS Excel will not open the document\n",
    "```\n",
    "\n",
    "## Loading from a file\n",
    "The same way as writing, you can use the openpyxl.load_workbook() to open an existing workbook:"
   ]
  },
  {
   "cell_type": "code",
   "execution_count": 28,
   "id": "b08576e1-3e27-483b-92c9-31763ae0c06a",
   "metadata": {},
   "outputs": [
    {
     "name": "stdout",
     "output_type": "stream",
     "text": [
      "['Sheet']\n"
     ]
    }
   ],
   "source": [
    "from openpyxl import load_workbook\n",
    "wb2 = load_workbook('data/balances.xlsx')\n",
    "print(wb2.sheetnames)"
   ]
  },
  {
   "cell_type": "markdown",
   "id": "12b0138e-7241-436a-8fe9-4c5eeaaa883a",
   "metadata": {},
   "source": [
    "This ends the tutorial for now, you can proceed to the Simple usage section"
   ]
  }
 ],
 "metadata": {
  "kernelspec": {
   "display_name": "eda_dev39",
   "language": "python",
   "name": "eda_dev39"
  },
  "language_info": {
   "codemirror_mode": {
    "name": "ipython",
    "version": 3
   },
   "file_extension": ".py",
   "mimetype": "text/x-python",
   "name": "python",
   "nbconvert_exporter": "python",
   "pygments_lexer": "ipython3",
   "version": "3.9.4"
  }
 },
 "nbformat": 4,
 "nbformat_minor": 5
}
